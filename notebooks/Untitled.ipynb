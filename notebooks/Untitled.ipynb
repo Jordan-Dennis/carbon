{
 "cells": [
  {
   "cell_type": "code",
   "execution_count": 7,
   "id": "fb510254",
   "metadata": {},
   "outputs": [],
   "source": [
    "import jax \n",
    "import diffrax"
   ]
  },
  {
   "cell_type": "code",
   "execution_count": 6,
   "id": "327285a8",
   "metadata": {},
   "outputs": [],
   "source": [
    "evolution_operator = jax.numpy.array(\n",
    "    [[-1.16705844,  0.20593003,  0.        ,  0.        ],\n",
    "     [ 1.16693683, -0.51969474,  0.15028732,  0.04043056],\n",
    "     [ 0.        ,  0.21217033, -0.15040892,  0.        ],\n",
    "     [ 0.        ,  0.10147277,  0.        , -0.04055216]],            \n",
    "    dtype=jax.numpy.float64)\n",
    "\n",
    "initial_position = jax.numpy.array(\n",
    "    [[ 112.5,  637.5,  900. , 1600. ]], \n",
    "    dtype=jax.numpy.float64)"
   ]
  },
  {
   "cell_type": "code",
   "execution_count": null,
   "id": "c32028c0",
   "metadata": {},
   "outputs": [],
   "source": [
    "@jax.jit\n",
    "def production(t, *args):\n",
    "    start_time, duration, phase, area = jax.numpy.array(args)\n",
    "    middle = start_time + duration / 2.\n",
    "    height = area / duration\n",
    "\n",
    "    gauss = height * \\\n",
    "        jax.numpy.exp(- ((t - middle) / (1. / 1.93516 * duration)) ** 16.)\n",
    "    sine = 1.8803862513018528 + 0.18 * 1.8803862513018528 *\\\n",
    "        jax.numpy.sin(2 * jax.numpy.pi / 11 * t +\n",
    "                      phase * 2 * jax.numpy.pi / 11)\n",
    "\n",
    "    return (sine + gauss) * 3.747273140033743"
   ]
  }
 ],
 "metadata": {
  "kernelspec": {
   "display_name": "Python 3.9.0 64-bit ('kitkat': conda)",
   "language": "python",
   "name": "python390jvsc74a57bd0ab79d763119790aea00e8eaeb5d3be48434571919ae202ec38e1b7aefb77c6d3"
  },
  "language_info": {
   "codemirror_mode": {
    "name": "ipython",
    "version": 3
   },
   "file_extension": ".py",
   "mimetype": "text/x-python",
   "name": "python",
   "nbconvert_exporter": "python",
   "pygments_lexer": "ipython3",
   "version": "3.9.7"
  }
 },
 "nbformat": 4,
 "nbformat_minor": 5
}
