{
 "cells": [
  {
   "cell_type": "code",
   "execution_count": 2,
   "id": "798002f5",
   "metadata": {},
   "outputs": [],
   "source": [
    "import functools\n",
    "import jax"
   ]
  },
  {
   "cell_type": "code",
   "execution_count": 28,
   "id": "deb06232",
   "metadata": {},
   "outputs": [],
   "source": [
    "@functools.partial(jax.jit, static_argnums=(1))\n",
    "def create_array(zeros_or_ones, size):\n",
    "    zeros_or_ones = zeros_or_ones.reshape(size, -1)\n",
    "    zeros_or_ones = jax.numpy.sum(zeros_or_ones, axis=0)\n",
    "    return zeros_or_ones"
   ]
  },
  {
   "cell_type": "code",
   "execution_count": 29,
   "id": "2dee9e42",
   "metadata": {},
   "outputs": [],
   "source": [
    "zeros_or_ones = jax.numpy.array([0, 0, 1, 1, 0, 0])"
   ]
  },
  {
   "cell_type": "code",
   "execution_count": 30,
   "id": "0823273e",
   "metadata": {},
   "outputs": [
    {
     "data": {
      "text/plain": [
       "DeviceArray([1, 0, 1], dtype=int64)"
      ]
     },
     "execution_count": 30,
     "metadata": {},
     "output_type": "execute_result"
    }
   ],
   "source": [
    "create_array(zeros_or_ones, 2)"
   ]
  },
  {
   "cell_type": "code",
   "execution_count": 31,
   "id": "245985eb",
   "metadata": {},
   "outputs": [
    {
     "data": {
      "text/plain": [
       "DeviceArray([1, 1], dtype=int64)"
      ]
     },
     "execution_count": 31,
     "metadata": {},
     "output_type": "execute_result"
    }
   ],
   "source": [
    "create_array(zeros_or_ones, 3)"
   ]
  },
  {
   "cell_type": "code",
   "execution_count": 20,
   "id": "7e7de76f",
   "metadata": {},
   "outputs": [],
   "source": [
    "import ticktack\n",
    "from ticktack import fitting"
   ]
  },
  {
   "cell_type": "code",
   "execution_count": 23,
   "id": "23c66950",
   "metadata": {},
   "outputs": [],
   "source": [
    "model = ticktack.load_presaved_model(\"Guttler15\", production_rate_units=\"atoms/cm^2/s\")\n",
    "model = fitting.SingleFitter(model, \"Guttler15\")\n",
    "model.load_data(\"miyake12.csv\")\n",
    "model.compile_production_model(\"simple_sinusoid\")"
   ]
  },
  {
   "cell_type": "code",
   "execution_count": null,
   "id": "3ef376ce",
   "metadata": {},
   "outputs": [],
   "source": [
    "model."
   ]
  }
 ],
 "metadata": {
  "kernelspec": {
   "display_name": "Python 3.9.0 64-bit ('kitkat': conda)",
   "language": "python",
   "name": "python390jvsc74a57bd0ab79d763119790aea00e8eaeb5d3be48434571919ae202ec38e1b7aefb77c6d3"
  },
  "language_info": {
   "codemirror_mode": {
    "name": "ipython",
    "version": 3
   },
   "file_extension": ".py",
   "mimetype": "text/x-python",
   "name": "python",
   "nbconvert_exporter": "python",
   "pygments_lexer": "ipython3",
   "version": "3.9.7"
  }
 },
 "nbformat": 4,
 "nbformat_minor": 5
}
