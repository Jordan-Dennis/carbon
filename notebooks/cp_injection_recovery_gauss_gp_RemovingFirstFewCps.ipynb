{
 "cells": [
  {
   "cell_type": "code",
   "execution_count": 1,
   "id": "7dbb1037",
   "metadata": {},
   "outputs": [],
   "source": [
    "import numpy as np\n",
    "import matplotlib.pyplot as plt\n",
    "from matplotlib.pyplot import rcParams\n",
    "import warnings\n",
    "warnings.filterwarnings('ignore')\n",
    "\n",
    "import re\n",
    "import jax.numpy as jnp\n",
    "from jax import grad, jit, partial\n",
    "import ticktack\n",
    "from ticktack import fitting2 as fitting\n",
    "from tqdm import tqdm\n",
    "import scipy\n",
    "\n",
    "rcParams['figure.figsize'] = (8.0, 4.0)"
   ]
  },
  {
   "cell_type": "code",
   "execution_count": 2,
   "id": "65fafbfa",
   "metadata": {},
   "outputs": [],
   "source": [
    "cbm = ticktack.load_presaved_model('Guttler14', production_rate_units = 'atoms/cm^2/s')\n",
    "cf = fitting.CarbonFitter(cbm)\n",
    "cf.load_data('inject_recovery_gp.csv')\n",
    "cf.prepare_function(use_control_points=True, interp='gp')"
   ]
  },
  {
   "cell_type": "code",
   "execution_count": 3,
   "id": "e7963302",
   "metadata": {},
   "outputs": [
    {
     "data": {
      "text/plain": [
       "DeviceArray([210, 211, 212, 213, 214, 215, 216, 217, 218, 219, 220, 221,\n",
       "             222, 223, 224, 225, 226, 227, 228, 229, 230, 231, 232, 233,\n",
       "             234, 235, 236, 237, 238, 239, 240, 241, 242, 243, 244, 245,\n",
       "             246, 247, 248, 249, 250, 251, 252, 253, 254, 255, 256, 257,\n",
       "             258, 259, 260, 261, 262, 263, 264, 265, 266, 267, 268, 269,\n",
       "             270, 271, 272, 273, 274, 275, 276, 277, 278, 279, 280, 281,\n",
       "             282, 283, 284, 285, 286, 287, 288, 289, 290, 291, 292, 293,\n",
       "             294, 295, 296, 297], dtype=int64)"
      ]
     },
     "execution_count": 3,
     "metadata": {},
     "output_type": "execute_result"
    }
   ],
   "source": [
    "cf.control_points_time"
   ]
  },
  {
   "cell_type": "code",
   "execution_count": 4,
   "id": "594ceb91",
   "metadata": {},
   "outputs": [
    {
     "name": "stdout",
     "output_type": "stream",
     "text": [
      "    @partial(jit, static_argnums=(0,))\n",
      "    def loss_chi2(self, params=()):\n",
      "        d_14_c = self.dc14(params=params)\n",
      "        chi2 = jnp.sum(((self.d14c_data[:-1] - d_14_c) / self.d14c_data_error[:-1]) ** 2)\n",
      "        return 0.5*chi2\n",
      "\n"
     ]
    }
   ],
   "source": [
    "import inspect\n",
    "print(inspect.getsource(cf.loss_chi2))"
   ]
  },
  {
   "cell_type": "code",
   "execution_count": 5,
   "id": "a4ef150d",
   "metadata": {},
   "outputs": [],
   "source": [
    "@jit\n",
    "def gauss(t):\n",
    "    prod =  1.87 + 0.2 * 1.87 * jnp.exp(-1/2*((t-250)/10)**2.)\n",
    "    return prod"
   ]
  },
  {
   "cell_type": "code",
   "execution_count": 6,
   "id": "ecffb842",
   "metadata": {},
   "outputs": [
    {
     "data": {
      "text/plain": [
       "DeviceArray(-0.44436304, dtype=float64)"
      ]
     },
     "execution_count": 6,
     "metadata": {},
     "output_type": "execute_result"
    }
   ],
   "source": [
    "cf.offset"
   ]
  },
  {
   "cell_type": "code",
   "execution_count": 7,
   "id": "7825f249",
   "metadata": {},
   "outputs": [
    {
     "data": {
      "text/plain": [
       "0"
      ]
     },
     "execution_count": 7,
     "metadata": {},
     "output_type": "execute_result"
    }
   ],
   "source": [
    "cf.offset = 0\n",
    "cf.offset"
   ]
  },
  {
   "cell_type": "code",
   "execution_count": 8,
   "id": "3b0cf5c1",
   "metadata": {},
   "outputs": [
    {
     "name": "stdout",
     "output_type": "stream",
     "text": [
      "CPU times: user 4min 47s, sys: 2.27 s, total: 4min 50s\n",
      "Wall time: 4min 27s\n"
     ]
    }
   ],
   "source": [
    "%%time\n",
    "soln = cf.fit_cp(low_bound=0.)"
   ]
  },
  {
   "cell_type": "code",
   "execution_count": 9,
   "id": "27e1b7ab",
   "metadata": {},
   "outputs": [
    {
     "data": {
      "text/plain": [
       "'CONVERGENCE: REL_REDUCTION_OF_F_<=_FACTR*EPSMCH'"
      ]
     },
     "execution_count": 9,
     "metadata": {},
     "output_type": "execute_result"
    }
   ],
   "source": [
    "soln.message"
   ]
  },
  {
   "cell_type": "code",
   "execution_count": 10,
   "id": "cb79529e",
   "metadata": {},
   "outputs": [
    {
     "name": "stdout",
     "output_type": "stream",
     "text": [
      "total likelihood:  94.5048556092349\n",
      "gp likelihood:  94.50472569152423\n",
      "chi2:  0.0001299177106681797\n"
     ]
    }
   ],
   "source": [
    "print(\"total likelihood: \", cf.gp_likelihood(soln.x))\n",
    "print(\"gp likelihood: \", cf.gp_neg_log_likelihood(soln.x))\n",
    "print(\"chi2: \", cf.loss_chi2(soln.x))"
   ]
  },
  {
   "cell_type": "code",
   "execution_count": 19,
   "id": "6e9aace0",
   "metadata": {},
   "outputs": [
    {
     "data": {
      "text/plain": [
       "Text(0.5, 1.0, 'gauss production rate')"
      ]
     },
     "execution_count": 19,
     "metadata": {},
     "output_type": "execute_result"
    },
    {
     "data": {
      "image/png": "[encoded data removed]",
      "text/plain": [
       "<Figure size 576x288 with 1 Axes>"
      ]
     },
     "metadata": {
      "needs_background": "light"
     },
     "output_type": "display_data"
    }
   ],
   "source": [
    "t = cf.annual\n",
    "true_cp = gauss(t)\n",
    "plt.plot(t, gauss(t), \".\")\n",
    "plt.title('gauss production rate')"
   ]
  },
  {
   "cell_type": "code",
   "execution_count": 22,
   "id": "50ca4c85",
   "metadata": {},
   "outputs": [
    {
     "data": {
      "text/plain": [
       "<matplotlib.legend.Legend at 0x7fcce04b23d0>"
      ]
     },
     "execution_count": 22,
     "metadata": {},
     "output_type": "execute_result"
    },
    {
     "data": {
      "image/png": "[encoded data removed]",
      "text/plain": [
       "<Figure size 576x288 with 1 Axes>"
      ]
     },
     "metadata": {
      "needs_background": "light"
     },
     "output_type": "display_data"
    }
   ],
   "source": [
    "plt.plot(t, cf.production(t, (soln.x,)), \".\", label=\"recovered\")\n",
    "plt.plot(t, true_cp, label='true')\n",
    "plt.title(\"control points\");\n",
    "plt.legend(loc='upper center', bbox_to_anchor=(0.5, -0.05),\n",
    "          fancybox=True)"
   ]
  },
  {
   "cell_type": "code",
   "execution_count": 29,
   "id": "e424169d",
   "metadata": {},
   "outputs": [
    {
     "data": {
      "text/plain": [
       "<matplotlib.legend.Legend at 0x7fccc03ca490>"
      ]
     },
     "execution_count": 29,
     "metadata": {},
     "output_type": "execute_result"
    },
    {
     "data": {
      "image/png": "[encoded data removed]",
      "text/plain": [
       "<Figure size 576x288 with 1 Axes>"
      ]
     },
     "metadata": {
      "needs_background": "light"
     },
     "output_type": "display_data"
    }
   ],
   "source": [
    "plt.plot(cf.time_data[:-1], cf.dc14(soln.x), \"or\", fillstyle=\"none\", label=\"recovered\")\n",
    "# plt.plot(cf.time_data, cf.d14c_data, '--r')\n",
    "plt.errorbar(cf.time_data, cf.d14c_data, yerr=cf.d14c_data_error, fmt='.k', fillstyle=\"none\", capsize=2, \n",
    "             label=\"true\", alpha=0.5)\n",
    "plt.title(\"d14c\");\n",
    "plt.legend(loc='upper center', bbox_to_anchor=(0.5, -0.05),\n",
    "          fancybox=True)"
   ]
  },
  {
   "cell_type": "code",
   "execution_count": 28,
   "id": "9f5173f4",
   "metadata": {},
   "outputs": [
    {
     "data": {
      "text/plain": [
       "DeviceArray([ 6.38162132e-03,  6.34037456e-03,  6.25041011e-03,\n",
       "              6.06508144e-03,  5.69281161e-03,  4.96469350e-03,\n",
       "              3.59510320e-03,  1.17833307e-03, -2.60487635e-03,\n",
       "             -6.98696428e-03, -7.00783229e-03,  3.03458782e-03,\n",
       "              1.31801386e-02,  1.41252790e-02,  1.09715266e-02,\n",
       "              6.67321498e-03,  2.26916195e-03, -1.20417894e-03,\n",
       "             -3.46542359e-03, -4.55530736e-03, -4.68232978e-03,\n",
       "             -4.15496014e-03, -3.25101532e-03, -2.17623850e-03,\n",
       "             -1.07428086e-03, -4.84999169e-05,  8.17394132e-04,\n",
       "              1.51749264e-03,  2.06701189e-03,  2.48071500e-03,\n",
       "              2.76053640e-03,  2.93585863e-03,  3.03219498e-03,\n",
       "              3.05925370e-03,  3.03363134e-03,  2.98169332e-03,\n",
       "              2.89667876e-03,  2.76827870e-03,  2.61109725e-03,\n",
       "              2.41803479e-03,  2.18552345e-03,  1.92704387e-03,\n",
       "              1.65536348e-03,  1.35889506e-03,  1.00744503e-03,\n",
       "              6.09584663e-04,  1.96158519e-04, -2.44294784e-04,\n",
       "             -7.11640265e-04, -1.20760626e-03, -1.71414211e-03,\n",
       "             -2.23815241e-03, -2.78181785e-03, -3.32031953e-03,\n",
       "             -3.84045665e-03, -4.33266659e-03, -4.79060669e-03,\n",
       "             -5.21523875e-03, -5.57389972e-03, -5.86386849e-03,\n",
       "             -6.07982424e-03, -6.20843458e-03, -6.22142834e-03,\n",
       "             -6.13283983e-03, -5.95638633e-03, -5.69714355e-03,\n",
       "             -5.34636965e-03, -4.90293352e-03, -4.38481506e-03,\n",
       "             -3.81669291e-03, -3.20855043e-03, -2.58703374e-03,\n",
       "             -2.00008319e-03, -1.45691904e-03, -9.57169646e-04,\n",
       "             -5.17739244e-04, -1.71009586e-04,  7.85647074e-05,\n",
       "              2.60699125e-04,  3.82061969e-04,  4.37565892e-04,\n",
       "              4.42649711e-04,  4.24909518e-04,  4.09007018e-04,\n",
       "              4.06454780e-04,  4.08367412e-04,  4.16335823e-04,\n",
       "              4.34010192e-04,  4.22354049e-04,  3.08326931e-04,\n",
       "              2.66813150e-05, -4.27882691e-04, -1.02984770e-03,\n",
       "             -1.66237183e-03, -2.02458971e-03, -1.59055527e-03,\n",
       "              4.69608522e-04,  4.25469814e-03], dtype=float64)"
      ]
     },
     "execution_count": 28,
     "metadata": {},
     "output_type": "execute_result"
    }
   ],
   "source": [
    "cf.dc14(soln.x) - cf.d14c_data[:-1]"
   ]
  },
  {
   "cell_type": "code",
   "execution_count": 23,
   "id": "cc5f69ed",
   "metadata": {},
   "outputs": [],
   "source": [
    "t = np.arange(cf.start-10, cf.start+20, 0.1)"
   ]
  },
  {
   "cell_type": "code",
   "execution_count": 24,
   "id": "ff4da742",
   "metadata": {},
   "outputs": [
    {
     "data": {
      "text/plain": [
       "[<matplotlib.lines.Line2D at 0x7fccc058ca60>]"
      ]
     },
     "execution_count": 24,
     "metadata": {},
     "output_type": "execute_result"
    },
    {
     "data": {
      "image/png": "[encoded data removed]",
      "text/plain": [
       "<Figure size 576x288 with 1 Axes>"
      ]
     },
     "metadata": {
      "needs_background": "light"
     },
     "output_type": "display_data"
    }
   ],
   "source": [
    "mu = cf.production(t, (soln.x,))\n",
    "plt.plot(t, mu, \".\", markersize=2)\n",
    "plt.plot(t, gauss(t), \".\", markersize=2)"
   ]
  },
  {
   "cell_type": "code",
   "execution_count": 25,
   "id": "51a1cf82",
   "metadata": {},
   "outputs": [
    {
     "data": {
      "text/plain": [
       "array([1.87010557, 1.87561389, 1.87410361, 1.86908268, 1.86919508,\n",
       "       1.86924075, 1.86969006, 1.8705274 , 1.87151317, 1.87267531,\n",
       "       1.8740373 , 1.87563661, 1.87758355, 1.87999359, 1.88298623,\n",
       "       1.88668749, 1.89121703, 1.89675756, 1.90343672, 1.9113952 ,\n",
       "       1.92074758, 1.93163097, 1.94412116, 1.95826445, 1.97407481,\n",
       "       1.99151606, 2.01045971, 2.03074015, 2.05213647, 2.07431916,\n",
       "       2.09692609, 2.11953629, 2.14167473, 2.16282599, 2.18246675,\n",
       "       2.20011839, 2.21531495, 2.22759778, 2.23663858, 2.24215905,\n",
       "       2.24401652, 2.24212958, 2.23656474, 2.22750141, 2.21519068,\n",
       "       2.19998758, 2.18231559, 2.16264018, 2.14149685, 2.11936611,\n",
       "       2.09676684, 2.07416817, 2.05201518, 2.03064401, 2.01037762,\n",
       "       1.99145362, 1.97405269, 1.95827113, 1.94414563, 1.9316658 ,\n",
       "       1.92079171, 1.91142384, 1.90343688, 1.89673224, 1.89116644,\n",
       "       1.88659125, 1.88286123, 1.87986565, 1.87750221, 1.87564207,\n",
       "       1.87419035, 1.87307975, 1.87224452, 1.87162459, 1.87116839,\n",
       "       1.87082688, 1.87058163, 1.87040991, 1.87026775, 1.87013078,\n",
       "       1.86999265, 1.869881  , 1.86978784, 1.86975124, 1.86985867,\n",
       "       1.87018358, 1.8709113 , 1.87168744, 1.8700445 ])"
      ]
     },
     "execution_count": 25,
     "metadata": {},
     "output_type": "execute_result"
    }
   ],
   "source": [
    "soln.x"
   ]
  },
  {
   "cell_type": "code",
   "execution_count": null,
   "id": "c4c66a46",
   "metadata": {},
   "outputs": [],
   "source": []
  }
 ],
 "metadata": {
  "kernelspec": {
   "display_name": "Python 3 (ipykernel)",
   "language": "python",
   "name": "python3"
  },
  "language_info": {
   "codemirror_mode": {
    "name": "ipython",
    "version": 3
   },
   "file_extension": ".py",
   "mimetype": "text/x-python",
   "name": "python",
   "nbconvert_exporter": "python",
   "pygments_lexer": "ipython3",
   "version": "3.8.10"
  }
 },
 "nbformat": 4,
 "nbformat_minor": 5
}
