{
 "cells": [
  {
   "cell_type": "code",
   "execution_count": 40,
   "id": "7dbb1037",
   "metadata": {},
   "outputs": [],
   "source": [
    "import numpy as np\n",
    "import matplotlib.pyplot as plt\n",
    "from matplotlib.pyplot import rcParams\n",
    "import warnings\n",
    "warnings.filterwarnings('ignore')\n",
    "\n",
    "import re\n",
    "import jax.numpy as jnp\n",
    "from jax import grad, jit, partial\n",
    "import ticktack\n",
    "from ticktack import fitting\n",
    "from tqdm import tqdm\n",
    "import scipy\n",
    "import emcee\n",
    "\n",
    "rcParams['figure.figsize'] = (8.0, 4.0)"
   ]
  },
  {
   "cell_type": "code",
   "execution_count": 41,
   "id": "65fafbfa",
   "metadata": {},
   "outputs": [],
   "source": [
    "cbm = ticktack.load_presaved_model('Guttler14', production_rate_units = 'atoms/cm^2/s')\n",
    "cf = fitting.CarbonFitter(cbm)\n",
    "cf.load_data('example2.csv')\n",
    "cf.prepare_function(use_control_points=True, interp='gp')"
   ]
  },
  {
   "cell_type": "code",
   "execution_count": 42,
   "id": "99667697",
   "metadata": {},
   "outputs": [
    {
     "data": {
      "text/plain": [
       "DeviceArray([200, 201, 202, 203, 204, 205, 206, 207, 208, 209, 210, 211,\n",
       "             212, 213, 214, 215, 216, 217, 218, 219, 220, 221, 222, 223,\n",
       "             224, 225, 226, 227, 228, 229], dtype=int64)"
      ]
     },
     "execution_count": 42,
     "metadata": {},
     "output_type": "execute_result"
    }
   ],
   "source": [
    "cf.control_points_time"
   ]
  },
  {
   "cell_type": "code",
   "execution_count": 43,
   "id": "fd78d259",
   "metadata": {},
   "outputs": [],
   "source": [
    "# cf.control_points_time = jnp.arange(cf.start, cf.end, 2)\n",
    "# cf.control_points_time"
   ]
  },
  {
   "cell_type": "code",
   "execution_count": 44,
   "id": "505dac94",
   "metadata": {},
   "outputs": [
    {
     "name": "stdout",
     "output_type": "stream",
     "text": [
      "    @partial(jit, static_argnums=(0,))\n",
      "    def loss_chi2(self, params=()):\n",
      "        d_14_c = self.dc14(params=params)\n",
      "        chi2 = jnp.sum(((self.d14c_data[:-1] - d_14_c) / self.d14c_data_error[:-1]) ** 2)\n",
      "        # chi2 += 10 * jnp.sum(((self.d14c_data[:4] - d_14_c[:4]) / self.d14c_data_error[:4]) ** 2)\n",
      "        return 0.5*chi2\n",
      "\n"
     ]
    }
   ],
   "source": [
    "import inspect\n",
    "print(inspect.getsource(cf.loss_chi2))"
   ]
  },
  {
   "cell_type": "code",
   "execution_count": 45,
   "id": "269712a4",
   "metadata": {},
   "outputs": [
    {
     "data": {
      "text/plain": [
       "[<matplotlib.lines.Line2D at 0x7fc8862b3430>]"
      ]
     },
     "execution_count": 45,
     "metadata": {},
     "output_type": "execute_result"
    },
    {
     "data": {
      "image/png": "[encoded data removed]",
      "text/plain": [
       "<Figure size 576x288 with 1 Axes>"
      ]
     },
     "metadata": {
      "needs_background": "light"
     },
     "output_type": "display_data"
    }
   ],
   "source": [
    "plt.plot(cf.time_data[:-1], cf.d14c_data[:-1])"
   ]
  },
  {
   "cell_type": "code",
   "execution_count": 46,
   "id": "a4ef150d",
   "metadata": {},
   "outputs": [],
   "source": [
    "@jit\n",
    "def gauss(t):\n",
    "    prod =  1.87 + 0.7 * 1.87 * jnp.exp(-1/2*((t-215)/3)**2.)\n",
    "    return prod"
   ]
  },
  {
   "cell_type": "code",
   "execution_count": 47,
   "id": "ecffb842",
   "metadata": {},
   "outputs": [
    {
     "data": {
      "text/plain": [
       "DeviceArray(0.90202857, dtype=float64)"
      ]
     },
     "execution_count": 47,
     "metadata": {},
     "output_type": "execute_result"
    }
   ],
   "source": [
    "cf.offset"
   ]
  },
  {
   "cell_type": "code",
   "execution_count": 48,
   "id": "7825f249",
   "metadata": {},
   "outputs": [
    {
     "data": {
      "text/plain": [
       "0"
      ]
     },
     "execution_count": 48,
     "metadata": {},
     "output_type": "execute_result"
    }
   ],
   "source": [
    "cf.offset = 0\n",
    "cf.offset"
   ]
  },
  {
   "cell_type": "code",
   "execution_count": 49,
   "id": "3b0cf5c1",
   "metadata": {},
   "outputs": [
    {
     "name": "stdout",
     "output_type": "stream",
     "text": [
      "CPU times: user 1min 40s, sys: 835 ms, total: 1min 41s\n",
      "Wall time: 1min 39s\n"
     ]
    }
   ],
   "source": [
    "%%time\n",
    "soln = cf.fit_cp(low_bound=0.)"
   ]
  },
  {
   "cell_type": "code",
   "execution_count": 50,
   "id": "27e1b7ab",
   "metadata": {},
   "outputs": [
    {
     "data": {
      "text/plain": [
       "'CONVERGENCE: REL_REDUCTION_OF_F_<=_FACTR*EPSMCH'"
      ]
     },
     "execution_count": 50,
     "metadata": {},
     "output_type": "execute_result"
    }
   ],
   "source": [
    "soln.message"
   ]
  },
  {
   "cell_type": "code",
   "execution_count": 51,
   "id": "cb79529e",
   "metadata": {},
   "outputs": [
    {
     "name": "stdout",
     "output_type": "stream",
     "text": [
      "total likelihood:  41.112530908287155\n",
      "gp likelihood:  34.107732255165644\n",
      "chi2:  7.004798653121509\n"
     ]
    }
   ],
   "source": [
    "print(\"total likelihood: \", cf.gp_likelihood(soln.x))\n",
    "print(\"gp likelihood: \", cf.gp_neg_log_likelihood(soln.x))\n",
    "print(\"chi2: \", cf.loss_chi2(soln.x))"
   ]
  },
  {
   "cell_type": "code",
   "execution_count": 52,
   "id": "6e9aace0",
   "metadata": {},
   "outputs": [
    {
     "data": {
      "text/plain": [
       "Text(0.5, 1.0, 'gauss production rate')"
      ]
     },
     "execution_count": 52,
     "metadata": {},
     "output_type": "execute_result"
    },
    {
     "data": {
      "image/png": "[encoded data removed]",
      "text/plain": [
       "<Figure size 576x288 with 1 Axes>"
      ]
     },
     "metadata": {
      "needs_background": "light"
     },
     "output_type": "display_data"
    }
   ],
   "source": [
    "t = cf.control_points_time\n",
    "t1 = cf.annual\n",
    "true_cp = gauss(t1)\n",
    "plt.plot(t1, gauss(t1), \".\")\n",
    "plt.title('gauss production rate')"
   ]
  },
  {
   "cell_type": "code",
   "execution_count": 53,
   "id": "50ca4c85",
   "metadata": {},
   "outputs": [
    {
     "data": {
      "text/plain": [
       "<matplotlib.legend.Legend at 0x7fc8891c1790>"
      ]
     },
     "execution_count": 53,
     "metadata": {},
     "output_type": "execute_result"
    },
    {
     "data": {
      "image/png": "[encoded data removed]",
      "text/plain": [
       "<Figure size 576x288 with 1 Axes>"
      ]
     },
     "metadata": {
      "needs_background": "light"
     },
     "output_type": "display_data"
    }
   ],
   "source": [
    "plt.plot(t, soln.x, \".\", label=\"recovered\")\n",
    "plt.plot(t1, true_cp, label='true')\n",
    "plt.title(\"control points\");\n",
    "plt.legend(loc='upper center', bbox_to_anchor=(0.5, -0.05),\n",
    "          fancybox=True)"
   ]
  },
  {
   "cell_type": "code",
   "execution_count": 54,
   "id": "e424169d",
   "metadata": {},
   "outputs": [
    {
     "data": {
      "text/plain": [
       "<matplotlib.legend.Legend at 0x7fc88abcb9d0>"
      ]
     },
     "execution_count": 54,
     "metadata": {},
     "output_type": "execute_result"
    },
    {
     "data": {
      "image/png": "[encoded data removed]",
      "text/plain": [
       "<Figure size 576x288 with 1 Axes>"
      ]
     },
     "metadata": {
      "needs_background": "light"
     },
     "output_type": "display_data"
    }
   ],
   "source": [
    "plt.plot(cf.time_data[:-1], cf.dc14(soln.x), \".k\", label=\"recovered\", markersize=10)\n",
    "plt.plot(cf.time_data, cf.d14c_data, '--r')\n",
    "plt.plot(cf.time_data, cf.d14c_data, 'or', fillstyle=\"none\", label=\"true\", alpha=0.5)\n",
    "plt.title(\"d14c\");\n",
    "plt.legend(loc='upper center', bbox_to_anchor=(0.5, -0.05),\n",
    "          fancybox=True)"
   ]
  },
  {
   "cell_type": "code",
   "execution_count": 55,
   "id": "cc5f69ed",
   "metadata": {},
   "outputs": [
    {
     "data": {
      "text/plain": [
       "array([1.8803133 , 1.57506058, 2.13847299, 2.25250451, 1.44181069,\n",
       "       1.32460411, 2.04503877, 1.89965015, 1.86699486, 2.10716094,\n",
       "       2.37287691, 2.59930837, 2.45898141, 2.6647954 , 3.16225731,\n",
       "       3.38999697, 3.17412957, 2.670331  , 2.40480584, 1.90157778,\n",
       "       2.16129731, 2.76345852, 2.0823472 , 1.79093458, 1.91947241,\n",
       "       1.36834433, 1.86255467, 2.26695183, 2.28574251, 1.92812096])"
      ]
     },
     "execution_count": 55,
     "metadata": {},
     "output_type": "execute_result"
    }
   ],
   "source": [
    "soln.x"
   ]
  },
  {
   "cell_type": "code",
   "execution_count": 17,
   "id": "a65fac3a",
   "metadata": {},
   "outputs": [
    {
     "name": "stdout",
     "output_type": "stream",
     "text": [
      "    @partial(jit, static_argnums=(0,))\n",
      "    def gp_sampling_likelihood(self, params=()):\n",
      "        chi2 = self.loss_chi2(params=params)\n",
      "        return -chi2 + self.gp_log_likelihood(params)\n",
      "\n"
     ]
    }
   ],
   "source": [
    "print(inspect.getsource(cf.gp_sampling_likelihood))"
   ]
  },
  {
   "cell_type": "code",
   "execution_count": 18,
   "id": "baf45aa4",
   "metadata": {},
   "outputs": [
    {
     "name": "stdout",
     "output_type": "stream",
     "text": [
      "Running burn-in...\n"
     ]
    },
    {
     "name": "stderr",
     "output_type": "stream",
     "text": [
      "100%|█████████████████████████████████████████| 500/500 [03:43<00:00,  2.24it/s]\n"
     ]
    }
   ],
   "source": [
    "initial = soln.x\n",
    "burnin, production = 500, 1000\n",
    "ndim, nwalkers = len(initial), 2*len(initial)\n",
    "sampler = emcee.EnsembleSampler(nwalkers, ndim, cf.gp_sampling_likelihood)\n",
    "\n",
    "print(\"Running burn-in...\")\n",
    "p0 = initial + 1e-5 * np.random.rand(nwalkers, ndim)\n",
    "p0, lp, _ = sampler.run_mcmc(p0, burnin, progress=True);"
   ]
  },
  {
   "cell_type": "code",
   "execution_count": null,
   "id": "42eb45f2",
   "metadata": {},
   "outputs": [
    {
     "name": "stdout",
     "output_type": "stream",
     "text": [
      "Running production...\n"
     ]
    },
    {
     "name": "stderr",
     "output_type": "stream",
     "text": [
      " 17%|██████▉                                 | 172/1000 [01:19<06:49,  2.02it/s]"
     ]
    }
   ],
   "source": [
    "print(\"Running production...\")\n",
    "sampler.reset()\n",
    "sampler.run_mcmc(p0, production, skip_initial_state_check=True, progress=True);"
   ]
  },
  {
   "cell_type": "code",
   "execution_count": null,
   "id": "68b74a6d",
   "metadata": {},
   "outputs": [],
   "source": []
  },
  {
   "cell_type": "code",
   "execution_count": null,
   "id": "c1ab73a4",
   "metadata": {},
   "outputs": [],
   "source": []
  }
 ],
 "metadata": {
  "kernelspec": {
   "display_name": "Python 3 (ipykernel)",
   "language": "python",
   "name": "python3"
  },
  "language_info": {
   "codemirror_mode": {
    "name": "ipython",
    "version": 3
   },
   "file_extension": ".py",
   "mimetype": "text/x-python",
   "name": "python",
   "nbconvert_exporter": "python",
   "pygments_lexer": "ipython3",
   "version": "3.8.6"
  }
 },
 "nbformat": 4,
 "nbformat_minor": 5
}
