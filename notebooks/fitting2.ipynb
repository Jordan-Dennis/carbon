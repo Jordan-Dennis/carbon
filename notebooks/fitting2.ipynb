{
 "cells": [
  {
   "cell_type": "code",
   "execution_count": 1,
   "id": "7dbb1037",
   "metadata": {},
   "outputs": [],
   "source": [
    "import numpy as np\n",
    "import matplotlib.pyplot as plt\n",
    "import pandas as pd\n",
    "from matplotlib.pyplot import rcParams\n",
    "import celerite\n",
    "from celerite import terms\n",
    "from celerite.modeling import Model\n",
    "import warnings\n",
    "warnings.filterwarnings('ignore')\n",
    "\n",
    "import re\n",
    "import jax.numpy as jnp\n",
    "from jax import grad, jit, partial\n",
    "import ticktack\n",
    "from ticktack import fitting\n",
    "from astropy.table import Table\n",
    "\n",
    "rcParams['figure.figsize'] = (16.0, 8.0)"
   ]
  },
  {
   "cell_type": "code",
   "execution_count": 2,
   "id": "9d5e2d8e",
   "metadata": {},
   "outputs": [
    {
     "name": "stderr",
     "output_type": "stream",
     "text": [
      "WARNING:absl:No GPU/TPU found, falling back to CPU. (Set TF_CPP_MIN_LOG_LEVEL=0 and rerun for more info.)\n"
     ]
    }
   ],
   "source": [
    "cbm = ticktack.load_presaved_model('Guttler14', production_rate_units = 'atoms/cm^2/s')\n",
    "cf = fitting.CarbonFitter(cbm)\n",
    "cf.load_data('miyake12.csv')"
   ]
  },
  {
   "cell_type": "code",
   "execution_count": 3,
   "id": "a4ef150d",
   "metadata": {},
   "outputs": [],
   "source": [
    "@jit\n",
    "def super_gaussian(t, start_time, duration, area):\n",
    "    middle = start_time+duration/2.\n",
    "    height = area/duration\n",
    "    return height*jnp.exp(- ((t-middle)/(1./1.93516*duration))**16.)\n",
    "\n",
    "@jit\n",
    "def miyake_event_fixed_solar(t, start_time, duration, phase, area):\n",
    "    height = super_gaussian(t, start_time, duration, area)\n",
    "    prod =  cf.steady_state_production + 0.18 * cf.steady_state_production * jnp.sin(2 * np.pi / 11 * t + phase) + height\n",
    "    return prod"
   ]
  },
  {
   "cell_type": "code",
   "execution_count": 4,
   "id": "0ba770bd",
   "metadata": {},
   "outputs": [],
   "source": [
    "start_time, duration, phase, area = [775., 1./12, np.pi/2., 81./12]\n",
    "t = np.arange(760, 788)\n",
    "# control_points = miyake_event_fixed_solar(t, start_time, duration, phase, area)\n",
    "control_points = jnp.array(np.random.rand(len(cf.d14c_data)))\n",
    "cf.prepare_function(use_control_points=True, years=t, control_points=control_points)"
   ]
  },
  {
   "cell_type": "code",
   "execution_count": 5,
   "id": "d584ef3f",
   "metadata": {},
   "outputs": [
    {
     "name": "stdout",
     "output_type": "stream",
     "text": [
      "Running burn-in...\n"
     ]
    },
    {
     "name": "stderr",
     "output_type": "stream",
     "text": [
      "100%|█████████████████████████████████████████████████████████████████████████████████| 200/200 [01:48<00:00,  1.85it/s]\n"
     ]
    },
    {
     "name": "stdout",
     "output_type": "stream",
     "text": [
      "Running production...\n"
     ]
    },
    {
     "name": "stderr",
     "output_type": "stream",
     "text": [
      "100%|█████████████████████████████████████████████████████████████████████████████████| 300/300 [02:43<00:00,  1.83it/s]\n"
     ]
    }
   ],
   "source": [
    "sampler = cf.sampling(control_points, burnin=200, production=300, log_like=True)"
   ]
  },
  {
   "cell_type": "code",
   "execution_count": 8,
   "id": "36b3dc4f",
   "metadata": {},
   "outputs": [
    {
     "data": {
      "text/plain": [
       "Text(0.5, 1.0, 'Recovered Production Rate')"
      ]
     },
     "execution_count": 8,
     "metadata": {},
     "output_type": "execute_result"
    },
    {
     "data": {
      "image/png": "[encoded data removed]",
      "text/plain": [
       "<Figure size 1152x576 with 1 Axes>"
      ]
     },
     "metadata": {
      "needs_background": "light"
     },
     "output_type": "display_data"
    }
   ],
   "source": [
    "recover_prod = np.mean(sampler.flatchain, axis=0)\n",
    "recover_error = np.std(sampler.flatchain, axis=0)\n",
    "plt.errorbar(np.arange(len(recover_prod)), recover_prod, yerr=recover_error, fmt=\".k\")\n",
    "plt.title(\"Recovered Production Rate\")"
   ]
  },
  {
   "cell_type": "code",
   "execution_count": 11,
   "id": "5db380cd",
   "metadata": {},
   "outputs": [
    {
     "name": "stdout",
     "output_type": "stream",
     "text": [
      "Running burn-in...\n"
     ]
    },
    {
     "name": "stderr",
     "output_type": "stream",
     "text": [
      "100%|█████████████████████████████████████████████████████████████████████████████████| 200/200 [01:51<00:00,  1.80it/s]\n"
     ]
    },
    {
     "name": "stdout",
     "output_type": "stream",
     "text": [
      "Running production...\n"
     ]
    },
    {
     "name": "stderr",
     "output_type": "stream",
     "text": [
      "100%|█████████████████████████████████████████████████████████████████████████████████| 300/300 [02:45<00:00,  1.82it/s]\n"
     ]
    }
   ],
   "source": [
    "control_points2 = miyake_event_fixed_solar(t, start_time, duration, phase, area)\n",
    "cf.prepare_function(use_control_points=True, years=t, control_points=control_points2)\n",
    "sampler = cf.sampling(control_points, burnin=200, production=300, log_like=True)"
   ]
  },
  {
   "cell_type": "code",
   "execution_count": 12,
   "id": "6b004afa",
   "metadata": {},
   "outputs": [
    {
     "data": {
      "text/plain": [
       "Text(0.5, 1.0, 'Recovered Production Rate')"
      ]
     },
     "execution_count": 12,
     "metadata": {},
     "output_type": "execute_result"
    },
    {
     "data": {
      "image/png": "[encoded data removed]",
      "text/plain": [
       "<Figure size 1152x576 with 1 Axes>"
      ]
     },
     "metadata": {
      "needs_background": "light"
     },
     "output_type": "display_data"
    }
   ],
   "source": [
    "recover_prod = np.mean(sampler.flatchain, axis=0)\n",
    "recover_error = np.std(sampler.flatchain, axis=0)\n",
    "plt.errorbar(np.arange(len(recover_prod)), recover_prod, yerr=recover_error, fmt=\".k\")\n",
    "plt.title(\"Recovered Production Rate\")"
   ]
  },
  {
   "cell_type": "code",
   "execution_count": null,
   "id": "a1ed5ac1",
   "metadata": {},
   "outputs": [],
   "source": []
  }
 ],
 "metadata": {
  "kernelspec": {
   "display_name": "Python 3 (ipykernel)",
   "language": "python",
   "name": "python3"
  },
  "language_info": {
   "codemirror_mode": {
    "name": "ipython",
    "version": 3
   },
   "file_extension": ".py",
   "mimetype": "text/x-python",
   "name": "python",
   "nbconvert_exporter": "python",
   "pygments_lexer": "ipython3",
   "version": "3.8.10"
  }
 },
 "nbformat": 4,
 "nbformat_minor": 5
}
