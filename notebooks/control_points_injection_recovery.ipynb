{
 "cells": [
  {
   "cell_type": "code",
   "execution_count": 1,
   "id": "7dbb1037",
   "metadata": {},
   "outputs": [],
   "source": [
    "import numpy as np\n",
    "import matplotlib.pyplot as plt\n",
    "import pandas as pd\n",
    "from matplotlib.pyplot import rcParams\n",
    "import celerite\n",
    "from celerite import terms\n",
    "from celerite.modeling import Model\n",
    "import warnings\n",
    "warnings.filterwarnings('ignore')\n",
    "\n",
    "import re\n",
    "import jax.numpy as jnp\n",
    "from jax import grad, jit, partial\n",
    "import ticktack\n",
    "from ticktack import fitting\n",
    "from astropy.table import Table\n",
    "\n",
    "rcParams['figure.figsize'] = (16.0, 8.0)"
   ]
  },
  {
   "cell_type": "code",
   "execution_count": 2,
   "id": "a4ef150d",
   "metadata": {},
   "outputs": [],
   "source": [
    "@jit\n",
    "def sine(t, param):\n",
    "    prod =  cf.steady_state_production + 0.18 * cf.steady_state_production * jnp.sin(2 * np.pi / 11 * t)\n",
    "    return prod"
   ]
  },
  {
   "cell_type": "code",
   "execution_count": 3,
   "id": "c55233e7",
   "metadata": {},
   "outputs": [
    {
     "name": "stderr",
     "output_type": "stream",
     "text": [
      "WARNING:absl:No GPU/TPU found, falling back to CPU. (Set TF_CPP_MIN_LOG_LEVEL=0 and rerun for more info.)\n"
     ]
    }
   ],
   "source": [
    "cbm = ticktack.load_presaved_model('Guttler14', production_rate_units = 'atoms/cm^2/s')\n",
    "cf = fitting.CarbonFitter(cbm)"
   ]
  },
  {
   "cell_type": "code",
   "execution_count": null,
   "id": "3979e52f",
   "metadata": {
    "scrolled": true
   },
   "outputs": [],
   "source": [
    "cf.load_data('inject-recovery.csv')\n",
    "initial = jnp.array(np.random.rand(len(cf.d14c_data)))\n",
    "cf.prepare_function(use_control_points=True, control_points=initial)\n",
    "soln = cf.optimise(initial)"
   ]
  },
  {
   "cell_type": "code",
   "execution_count": null,
   "id": "4e90ee5d",
   "metadata": {},
   "outputs": [],
   "source": [
    "# recover_prod = np.mean(sampler.flatchain, axis=0)\n",
    "# true_prod = sine(np.arange(760, 788), 1)\n",
    "# plt.plot(recover_prod, \".\")\n",
    "# plt.plot(true_prod, \".\")\n",
    "# plt.title(\"Production Rate\")"
   ]
  },
  {
   "cell_type": "code",
   "execution_count": null,
   "id": "e142ae7b",
   "metadata": {},
   "outputs": [],
   "source": [
    "# recover_d14c = cf.dc14(recover_prod)\n",
    "# true_d14c = cf.d14c_data\n",
    "# plt.plot(true_d14c, \".\")\n",
    "# plt.plot(recover_d14c, \".\")\n",
    "# plt.title(\"d14c data\")"
   ]
  },
  {
   "cell_type": "code",
   "execution_count": null,
   "id": "4da7854a",
   "metadata": {},
   "outputs": [],
   "source": []
  }
 ],
 "metadata": {
  "kernelspec": {
   "display_name": "Python 3 (ipykernel)",
   "language": "python",
   "name": "python3"
  },
  "language_info": {
   "codemirror_mode": {
    "name": "ipython",
    "version": 3
   },
   "file_extension": ".py",
   "mimetype": "text/x-python",
   "name": "python",
   "nbconvert_exporter": "python",
   "pygments_lexer": "ipython3",
   "version": "3.8.10"
  }
 },
 "nbformat": 4,
 "nbformat_minor": 5
}
