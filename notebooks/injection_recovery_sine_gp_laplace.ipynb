{
 "cells": [
  {
   "cell_type": "code",
   "execution_count": 1,
   "id": "7dbb1037",
   "metadata": {},
   "outputs": [],
   "source": [
    "import numpy as np\n",
    "import matplotlib.pyplot as plt\n",
    "from matplotlib.pyplot import rcParams\n",
    "import warnings\n",
    "warnings.filterwarnings('ignore')\n",
    "\n",
    "import re\n",
    "import jax.numpy as jnp\n",
    "from jax import grad, jit, partial, jacrev\n",
    "import ticktack\n",
    "from ticktack import fitting_tinygp as fitting\n",
    "from tqdm import tqdm\n",
    "import scipy\n",
    "\n",
    "rcParams['figure.figsize'] = (8.0, 4.0)"
   ]
  },
  {
   "cell_type": "code",
   "execution_count": 2,
   "id": "65fafbfa",
   "metadata": {},
   "outputs": [],
   "source": [
    "cbm = ticktack.load_presaved_model('Guttler14', production_rate_units = 'atoms/cm^2/s')\n",
    "cf = fitting.CarbonFitter(cbm)\n",
    "cf.load_data('inject_recovery_sine.csv')\n",
    "cf.prepare_function(use_control_points=True, interp='gp')"
   ]
  },
  {
   "cell_type": "code",
   "execution_count": 3,
   "id": "a4ef150d",
   "metadata": {},
   "outputs": [],
   "source": [
    "@jit\n",
    "def sine(t):\n",
    "    prod =  1.87 + 0.18 * 1.87 * jnp.sin(2 * jnp.pi / 11 * t + jnp.pi/2)\n",
    "    prod = prod * (t>=cf.start) + (1.87 + 0.18 * 1.87 * jnp.sin(2 * jnp.pi / 11 * cf.start + jnp.pi/2)) * (1-(t>=cf.start))\n",
    "    return prod"
   ]
  },
  {
   "cell_type": "code",
   "execution_count": 4,
   "id": "c5940f69",
   "metadata": {},
   "outputs": [],
   "source": [
    "params = jnp.array([2.00967368, 1.83722005, 1.64131659, 1.53621338, 1.54956525,\n",
    "       1.66283525, 1.82696321, 2.00391815, 2.14344128, 2.19709936,\n",
    "       2.14684926, 2.00827427, 1.82531541, 1.65642762, 1.55562115,\n",
    "       1.55525348, 1.65562488, 1.82481902, 2.00895719, 2.14935574,\n",
    "       2.20119142, 2.14776001, 2.00581124, 1.82028481, 1.65001027,\n",
    "       1.54909134, 1.54961388, 1.65149079, 1.82251794, 2.00851632,\n",
    "       2.15057973, 2.20372406, 2.15117623, 2.00966834, 1.82418043,\n",
    "       1.6536497 , 1.55222482, 1.55207972, 1.65320969, 1.82348198,\n",
    "       2.00878203, 2.15020536, 2.20280941, 2.14981545, 2.00801343,\n",
    "       1.82240925, 1.65185187, 1.55046371, 1.5504303 , 1.65178338,\n",
    "       1.82232604, 2.00791393, 2.14964303, 2.20254582, 2.14988553,\n",
    "       2.00837896, 1.82298691, 1.65263095, 1.55141962, 1.55149937,\n",
    "       1.65286832, 1.82335548, 2.00883447, 2.15039692, 2.20306118,\n",
    "       2.15007592, 2.00821152, 1.82244066, 1.65167066, 1.55005743,\n",
    "       1.54980055, 1.65094448, 1.82131178, 2.00682247, 2.14862099,\n",
    "       2.20176739, 2.1494566 , 2.00843379, 1.82361733, 1.65381228,\n",
    "       1.55300543, 1.55320536, 1.65424806, 1.82381264, 2.00770239,\n",
    "       2.147114  , 2.19746144, 2.14260138, 2.00020468, 1.81641772,\n",
    "       1.65117851, 1.55888841, 1.57012058, 1.68018942, 1.84881622,\n",
    "       2.00447377, 2.07130876, 2.05570146])"
   ]
  },
  {
   "cell_type": "code",
   "execution_count": 5,
   "id": "ecffb842",
   "metadata": {},
   "outputs": [
    {
     "data": {
      "text/plain": [
       "DeviceArray(18.66458541, dtype=float64)"
      ]
     },
     "execution_count": 5,
     "metadata": {},
     "output_type": "execute_result"
    }
   ],
   "source": [
    "cf.offset"
   ]
  },
  {
   "cell_type": "code",
   "execution_count": 6,
   "id": "7825f249",
   "metadata": {},
   "outputs": [
    {
     "data": {
      "text/plain": [
       "0"
      ]
     },
     "execution_count": 6,
     "metadata": {},
     "output_type": "execute_result"
    }
   ],
   "source": [
    "cf.offset = 0\n",
    "cf.offset"
   ]
  },
  {
   "cell_type": "code",
   "execution_count": 7,
   "id": "cb79529e",
   "metadata": {},
   "outputs": [
    {
     "name": "stdout",
     "output_type": "stream",
     "text": [
      "total likelihood:  58.70041500024627\n",
      "gp likelihood:  58.68090153408154\n",
      "chi2:  0.019513466164721688\n"
     ]
    }
   ],
   "source": [
    "print(\"total likelihood: \", cf.gp_likelihood(params))\n",
    "print(\"gp likelihood: \", cf.gp_neg_log_likelihood(params))\n",
    "print(\"chi2: \", cf.loss_chi2(params))"
   ]
  },
  {
   "cell_type": "code",
   "execution_count": 8,
   "id": "6e9aace0",
   "metadata": {},
   "outputs": [
    {
     "name": "stdout",
     "output_type": "stream",
     "text": [
      "CPU times: user 2min 42s, sys: 5min 24s, total: 8min 7s\n",
      "Wall time: 1min 10s\n"
     ]
    },
    {
     "data": {
      "text/plain": [
       "DeviceArray([-0.86029809, -0.10922936, -0.22054723, -0.29326931,\n",
       "             -0.27633415, -0.20715559, -0.15855908, -0.08260692,\n",
       "             -0.02556043,  0.00207064, -0.00817252, -0.05209339,\n",
       "             -0.11467799, -0.17374297, -0.20879373, -0.20671075,\n",
       "             -0.16714601, -0.10261586, -0.03443842,  0.01417858,\n",
       "              0.02572187, -0.00554549, -0.07182303, -0.15335132,\n",
       "             -0.22533212, -0.26479236, -0.25872197, -0.20787171,\n",
       "             -0.12648843, -0.0385261 ,  0.03055298,  0.06090601,\n",
       "              0.04517063, -0.00995191, -0.08538025, -0.1560441 ,\n",
       "             -0.19884434, -0.19988519, -0.15905385, -0.08970396,\n",
       "             -0.01459562,  0.0413668 ,  0.05945354,  0.03265323,\n",
       "             -0.03170948, -0.11413205, -0.18973704, -0.23517436,\n",
       "             -0.23692243, -0.19474167, -0.12253916, -0.04336755,\n",
       "              0.01764172,  0.0411054 ,  0.01997701, -0.03900043,\n",
       "             -0.11676348, -0.18840537, -0.23107636, -0.23126269,\n",
       "             -0.18905052, -0.11822088, -0.04182827,  0.01510604,\n",
       "              0.03346225,  0.00634231, -0.05898692, -0.14303141,\n",
       "             -0.22053287, -0.26792188, -0.27137332, -0.23024379,\n",
       "             -0.15833101, -0.07818801, -0.01517676,  0.01165142,\n",
       "             -0.00562154, -0.06030722, -0.13429561, -0.2033876 ,\n",
       "             -0.24554258, -0.24773745, -0.21016   , -0.14604853,\n",
       "             -0.0770066 , -0.02585379, -0.00864899, -0.02919259,\n",
       "             -0.07839141, -0.13600786, -0.1809687 , -0.19586607,\n",
       "             -0.1805619 , -0.14277953, -0.11205434, -0.08485744,\n",
       "             -0.09392758, -0.10259369], dtype=float64)"
      ]
     },
     "execution_count": 8,
     "metadata": {},
     "output_type": "execute_result"
    }
   ],
   "source": [
    "%%time\n",
    "jacrev(cf.gp_likelihood)(params)"
   ]
  },
  {
   "cell_type": "code",
   "execution_count": null,
   "id": "e3110582",
   "metadata": {},
   "outputs": [],
   "source": []
  }
 ],
 "metadata": {
  "kernelspec": {
   "display_name": "Python 3 (ipykernel)",
   "language": "python",
   "name": "python3"
  },
  "language_info": {
   "codemirror_mode": {
    "name": "ipython",
    "version": 3
   },
   "file_extension": ".py",
   "mimetype": "text/x-python",
   "name": "python",
   "nbconvert_exporter": "python",
   "pygments_lexer": "ipython3",
   "version": "3.8.10"
  }
 },
 "nbformat": 4,
 "nbformat_minor": 5
}
