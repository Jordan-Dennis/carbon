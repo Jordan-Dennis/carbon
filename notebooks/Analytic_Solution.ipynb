{
 "cells": [
  {
   "cell_type": "code",
   "execution_count": 109,
   "metadata": {},
   "outputs": [],
   "source": [
    "# Numerical\n",
    "from jax.numpy import exp, newaxis, mean   # Arithematic\n",
    "from jax.numpy import array, zeros, arange, where # Array creation routines\n",
    "from jax.numpy import float64\n",
    "from jax.numpy import sum as vsum\n",
    "from jax.numpy.linalg import solve, eig, norm\n",
    "from jax.random import PRNGKey\n",
    "from jax import jit, jacrev, jacfwd, vmap, grad, jvp, vjp\n",
    "\n",
    "# Miscellaneous\n",
    "from functools import partial \n",
    "\n",
    "# Hamiltonian monte-carlo\n",
    "from numpyro.infer import NUTS, MCMC\n",
    "\n",
    "# Visualisation\n",
    "import matplotlib.pyplot as plt"
   ]
  },
  {
   "cell_type": "code",
   "execution_count": 110,
   "metadata": {},
   "outputs": [],
   "source": [
    "def construct_analytic_solution():\n",
    "    \"\"\"\n",
    "    This creates a closure environment that pre-calculates the eigenvalues of the transfer matrix and the coefficients that produce the approriate initial state.\n",
    "    \"\"\"\n",
    "    cbm = load_presaved_model(\"Guttler14\", production_rate_units=\"atoms/cm^2/s\")\n",
    "    cbm.compile()\n",
    "\n",
    "    eigenvalues, eigenvectors = eig(cbm._matrix)    # Constructing the linear eigenfunctions\n",
    "    eigenvalues = eigenvalues.real  # Making sure that values are real\n",
    "    eigenvectors = eigenvectors.real    # Making sure that the eigenvectors are real \n",
    "\n",
    "    soln = solve(eigenvectors, cbm._production_coefficients)\n",
    "    soln = 1 / norm(soln) * soln    # Normalising the impulse \n",
    "    soln = soln.real\n",
    "\n",
    "    @partial(jit, static_argnums=(3, 4, 5))\n",
    "    def analytic_solution(time, start, area, coeffs=soln, eigenvals=eigenvalues, eigenvecs=eigenvectors):\n",
    "        \"\"\"\n",
    "        This is the analytic solution itself.\n",
    "        \n",
    "        Parameters: \n",
    "            time: Array -> The time values that the solution is to be evaluated at \n",
    "            coeffs: Array -> The coefficients associated with a particular initial condition. \n",
    "          \n",
    "            eigenvals: Array -> The eigenvalues of the transfer matrix used to construct the linear superposition of the eigenfunctions\n",
    "            eigenvecs: Array[Array] -> The eigenvectors of the transfer matrix used to construct the linear superposition of the eigenfunctions.\n",
    "        \n",
    "        Returns:\n",
    "            Array -> The analytic solution evaluated at times\n",
    "        \"\"\"\n",
    "        @jit\n",
    "        def sum_util(coeff, eigenval, eigenvec, /, time=time, start=start, area=area):\n",
    "            return area * coeff * exp(eigenval * (time - start))[:, newaxis] * eigenvec\n",
    "\n",
    "        impulse = vsum(vmap(sum_util)(coeffs, eigenvals, eigenvecs.T), axis=0)\n",
    "        return where(time.reshape(time.shape[0], 1) > start, impulse, zeros(impulse.shape))\n",
    "\n",
    "    return analytic_solution"
   ]
  },
  {
   "cell_type": "code",
   "execution_count": 111,
   "metadata": {},
   "outputs": [],
   "source": [
    "@partial(jit, static_argnums=(0))\n",
    "def load(filename: str):\n",
    "    \"\"\"\n",
    "    A custom `JAX` file loading protocol designed to be very quick and return a value that is `JAX` transformable. \n",
    "    \n",
    "    Parameters:\n",
    "        filename: String -> The file address of the data\n",
    "    Returns:\n",
    "        DeviceArray -> The data in column major order\n",
    "    \"\"\"\n",
    "    with open(filename) as data:    # Opening the data file\n",
    "        header = next(data)\n",
    "        data = array([row.strip().split(\" \") for row in data], dtype=float64)\n",
    "        return data.T\n"
   ]
  },
  {
   "cell_type": "code",
   "execution_count": 112,
   "metadata": {},
   "outputs": [],
   "source": [
    "analytic_solution = construct_analytic_solution()\n",
    "data = load(\"miyake12.csv\")\n",
    "data = data.at[1].add(-mean(data[1, 1:4]))"
   ]
  },
  {
   "cell_type": "code",
   "execution_count": 113,
   "metadata": {},
   "outputs": [],
   "source": [
    "def construct_loss(analytic_solution=analytic_solution, data=data):\n",
    "    @jit\n",
    "    def loss(parameters):\n",
    "        start, area = parameters\n",
    "        analytic_data = analytic_solution(data[0], start, area)\n",
    "        return vsum((data[1] - analytic_data[:, 1]) ** 2 / data[2] ** 2)\n",
    "    \n",
    "    return loss"
   ]
  },
  {
   "cell_type": "code",
   "execution_count": 114,
   "metadata": {},
   "outputs": [],
   "source": [
    "# Autodiff declarations for the model\n",
    "loss = construct_loss()\n",
    "gradient = jit(grad(loss))\n",
    "hessian = jit(jacfwd(grad(loss)))"
   ]
  },
  {
   "cell_type": "code",
   "execution_count": 115,
   "metadata": {},
   "outputs": [
    {
     "name": "stderr",
     "output_type": "stream",
     "text": [
      "sample: 100%|██████████| 600/600 [00:03<00:00, 180.72it/s, 3 steps of size 4.15e-01. acc. prob=0.87] \n"
     ]
    }
   ],
   "source": [
    "# Running the No U Turn sampling\n",
    "nuts_kernel = NUTS(potential_fn=loss)\n",
    "mcmc = MCMC(nuts_kernel, num_warmup=100, num_samples=500)\n",
    "mcmc.run(random.PRNGKey(11), init_params=(774.86, 80.0))"
   ]
  },
  {
   "cell_type": "code",
   "execution_count": 117,
   "metadata": {},
   "outputs": [],
   "source": [
    "test = mcmc.get_samples()"
   ]
  },
  {
   "cell_type": "code",
   "execution_count": 119,
   "metadata": {},
   "outputs": [],
   "source": [
    "import seaborn as sns"
   ]
  },
  {
   "cell_type": "code",
   "execution_count": 120,
   "metadata": {},
   "outputs": [
    {
     "ename": "AttributeError",
     "evalue": "module 'seaborn' has no attribute 'plothist'",
     "output_type": "error",
     "traceback": [
      "\u001b[0;31m---------------------------------------------------------------------------\u001b[0m",
      "\u001b[0;31mAttributeError\u001b[0m                            Traceback (most recent call last)",
      "\u001b[0;32m/tmp/ipykernel_11561/1577187048.py\u001b[0m in \u001b[0;36m<module>\u001b[0;34m\u001b[0m\n\u001b[0;32m----> 1\u001b[0;31m \u001b[0msns\u001b[0m\u001b[0;34m.\u001b[0m\u001b[0mplothist\u001b[0m\u001b[0;34m(\u001b[0m\u001b[0mtest\u001b[0m\u001b[0;34m[\u001b[0m\u001b[0;36m1\u001b[0m\u001b[0;34m]\u001b[0m\u001b[0;34m)\u001b[0m\u001b[0;34m\u001b[0m\u001b[0;34m\u001b[0m\u001b[0m\n\u001b[0m",
      "\u001b[0;31mAttributeError\u001b[0m: module 'seaborn' has no attribute 'plothist'"
     ]
    }
   ],
   "source": [
    "sns.histplot(test[1])"
   ]
  },
  {
   "cell_type": "code",
   "execution_count": null,
   "metadata": {},
   "outputs": [],
   "source": []
  }
 ],
 "metadata": {
  "interpreter": {
   "hash": "ab79d763119790aea00e8eaeb5d3be48434571919ae202ec38e1b7aefb77c6d3"
  },
  "kernelspec": {
   "display_name": "Python 3.9.0 ('kitkat')",
   "language": "python",
   "name": "python3"
  },
  "language_info": {
   "codemirror_mode": {
    "name": "ipython",
    "version": 3
   },
   "file_extension": ".py",
   "mimetype": "text/x-python",
   "name": "python",
   "nbconvert_exporter": "python",
   "pygments_lexer": "ipython3",
   "version": "3.9.0"
  },
  "orig_nbformat": 4
 },
 "nbformat": 4,
 "nbformat_minor": 2
}
