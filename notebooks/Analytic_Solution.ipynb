{
 "cells": [
  {
   "cell_type": "code",
   "execution_count": 77,
   "metadata": {},
   "outputs": [],
   "source": [
    "# Miscellaneous\n",
    "from functools import partial \n",
    "from ticktack import load_presaved_model\n",
    "\n",
    "# Hamiltonian monte-carlo\n",
    "from numpyro.infer import NUTS, MCMC\n",
    "\n",
    "import jax.numpy as np\n",
    "import jax.scipy as sc\n",
    "import jax.random as random\n",
    "import jax.experimental.loops as loops\n",
    "import jax.lax as lax\n",
    "import matplotlib.pyplot as plt\n",
    "from jax import jit, jacrev, jacfwd, vmap, grad"
   ]
  },
  {
   "cell_type": "code",
   "execution_count": 78,
   "metadata": {},
   "outputs": [],
   "source": [
    "cbm = load_presaved_model(\"Miyake17\", production_rate_units=\"atoms/cm^2/s\", flow_rate_units=\"1/yr\" )\n",
    "cbm.compile()"
   ]
  },
  {
   "cell_type": "code",
   "execution_count": 88,
   "metadata": {},
   "outputs": [],
   "source": [
    "def construct_model(cbm=cbm):\n",
    "    indexes = np.where(cbm._fluxes != 0)\n",
    "    indexes = np.array(indexes).T\n",
    "\n",
    "    @jit\n",
    "    def parse_parameters(parameters, indexes=indexes):\n",
    "        dimensions = parameters.shape[0]\n",
    "        with loops.Scope() as scope:\n",
    "            scope.template = np.zeros((4, 4), dtype=np.float64)\n",
    "            for parameter in scope.range(dimensions):\n",
    "                i, j = indexes[parameter]\n",
    "                scope.template = scope.template.at[i, j].set(parameters[parameter])\n",
    "        return scope.template\n",
    "\n",
    "    return parse_parameters"
   ]
  },
  {
   "cell_type": "code",
   "execution_count": 89,
   "metadata": {},
   "outputs": [],
   "source": [
    "@partial(jit, static_argnums=(0))\n",
    "def load(filename: str):\n",
    "    \"\"\"\n",
    "    A custom `JAX` file loading protocol designed to be very quick and return a value that is `JAX` transformable. \n",
    "    \n",
    "    Parameters:\n",
    "        filename: String -> The file address of the data\n",
    "    Returns:\n",
    "        DeviceArray -> The data in column major order\n",
    "    \"\"\"\n",
    "    with open(filename) as data:    # Opening the data file\n",
    "        header = next(data)\n",
    "        data = np.array([row.strip().split(\" \") for row in data], dtype=np.float64)\n",
    "        return data.T\n"
   ]
  },
  {
   "cell_type": "code",
   "execution_count": 90,
   "metadata": {},
   "outputs": [],
   "source": [
    "parse_parameters = construct_model(cbm)\n",
    "parameters = random.uniform(random.PRNGKey(1), (10, 1))"
   ]
  },
  {
   "cell_type": "code",
   "execution_count": 228,
   "metadata": {},
   "outputs": [],
   "source": [
    "@jit\n",
    "def analytic_solution(parameters, time_out, /, decay=cbm._decay_matrix, parser=parse_parameters):\n",
    "    \"\"\"\n",
    "    This is the analytic solution itself.\n",
    "    Parameters: \n",
    "        \n",
    "    Returns:\n",
    "    \"\"\"\n",
    "    # So I need to work here on reducing to the Miyake17 model and also fixing the event area and the production.\n",
    "    # I also need to work on the equilibrium position. So at the moment I have the problem that the equilibrium has something to do with the inverse of the transfer matrix \n",
    "    dimensions = decay.shape[0]\n",
    "\n",
    "    #! I want to fix these and infer the other parameters \n",
    "    # start_date = parameters[0]\n",
    "    # event_area = parameters[1]\n",
    "    # production = parameters[2]\n",
    "    # production = np.array([1 - production, production, *np.zeros(dimensions - 2)], dtype=np.float64)\n",
    "    flow_sizes = parameters[dimensions:]\n",
    "    reservoirs = parameters[:dimensions]\n",
    "\n",
    "    # initial_position = event_area * production\n",
    "\n",
    "    # Consider moving this into less lines and profiling\n",
    "    transfer_matrix = parser(flow_sizes)\n",
    "    transfer_matrix /= reservoirs.reshape(-1, 1)\n",
    "    transfer_matrix = transfer_matrix.T - np.diag(np.sum(transfer_matrix, axis=1))\n",
    "    transfer_matrix -= decay\n",
    "\n",
    "    # So basically I will have many more parameters at this point. I might try a conditional statement but jit could have other plans. \n",
    "    # I still need to look into vmap(expm)\n",
    "    initial_position = np.zeros(dimensions, dtype=np.float64)\n",
    "    initial_position = initial_position.at[:2].set([28.0, 12.0])\n",
    "\n",
    "    @vmap\n",
    "    def vmap_util(t, /, transfer_matrix=transfer_matrix, y0=initial_position, start=774.86):\n",
    "        return sc.linalg.expm((t - start) * transfer_matrix) @ y0\n",
    "\n",
    "    impulse_solution = vmap_util(time_out)\n",
    "    steady_solution = np.zeros((impulse_solution.shape))\n",
    "    condition = (time_out > 774.86).reshape(-1, 1)\n",
    "    \n",
    "    return np.where(condition, impulse_solution, steady_solution)\n"
   ]
  },
  {
   "cell_type": "code",
   "execution_count": 219,
   "metadata": {},
   "outputs": [],
   "source": [
    "data = load(\"miyake12.csv\")\n",
    "data = data.at[1].add(-np.mean(data[1, 1:4]))"
   ]
  },
  {
   "cell_type": "code",
   "execution_count": 231,
   "metadata": {},
   "outputs": [],
   "source": [
    "@partial(jit, static_argnums=(1, 2))\n",
    "def loss(parameters, /, analytic_solution=analytic_solution, data=data):\n",
    "    \"\"\"\n",
    "    Computes the log likelihood of a set of parameters in the parameter space\n",
    "    \"\"\"\n",
    "    # in_bounds = 0.0\n",
    "    # in_bounds = np.any((parameters[2:] < 0.0) | (parameters[2:] > 1.0)) * np.inf\n",
    "    analytic_data = analytic_solution(parameters, data[0])\n",
    "    chi_sq = np.sum((data[1] - analytic_data[:, 1]) ** 2 / data[2] ** 2)\n",
    "    return chi_sq"
   ]
  },
  {
   "cell_type": "code",
   "execution_count": 221,
   "metadata": {},
   "outputs": [],
   "source": [
    "flat_transfer = cbm._corrected_fluxes.reshape(-1)    # Flattens into a 1d array\n",
    "transf_params = np.take(flat_transfer, np.array(np.nonzero(flat_transfer)))\n",
    "parameters = np.concatenate([cbm._reservoir_content.T, transf_params.T]).reshape(-1)"
   ]
  },
  {
   "cell_type": "code",
   "execution_count": 236,
   "metadata": {},
   "outputs": [],
   "source": [
    "gradient = jit(grad(loss))\n",
    "hessian = jit(jacfwd(jacrev(loss)))"
   ]
  },
  {
   "cell_type": "code",
   "execution_count": 234,
   "metadata": {},
   "outputs": [
    {
     "name": "stdout",
     "output_type": "stream",
     "text": [
      "166 µs ± 6.03 µs per loop (mean ± std. dev. of 7 runs, 10000 loops each)\n"
     ]
    }
   ],
   "source": [
    "%%timeit\n",
    "loss(parameters)"
   ]
  },
  {
   "cell_type": "code",
   "execution_count": 237,
   "metadata": {},
   "outputs": [
    {
     "name": "stdout",
     "output_type": "stream",
     "text": [
      "599 µs ± 218 µs per loop (mean ± std. dev. of 7 runs, 1 loop each)\n"
     ]
    }
   ],
   "source": [
    "%%timeit\n",
    "gradient(parameters)"
   ]
  },
  {
   "cell_type": "code",
   "execution_count": 238,
   "metadata": {},
   "outputs": [
    {
     "name": "stdout",
     "output_type": "stream",
     "text": [
      "4.55 ms ± 703 µs per loop (mean ± std. dev. of 7 runs, 1 loop each)\n"
     ]
    }
   ],
   "source": [
    "%%timeit\n",
    "hessian(parameters)"
   ]
  },
  {
   "cell_type": "code",
   "execution_count": 239,
   "metadata": {},
   "outputs": [
    {
     "name": "stderr",
     "output_type": "stream",
     "text": [
      "sample: 100%|██████████| 600/600 [06:53<00:00,  1.45it/s, 1023 steps of size 1.04e-03. acc. prob=0.95]\n"
     ]
    }
   ],
   "source": [
    "# Running the No U Turn sampling\n",
    "nuts_kernel = NUTS(potential_fn=loss)\n",
    "mcmc = MCMC(nuts_kernel, num_warmup=100, num_samples=500, progress_bar=True)\n",
    "mcmc.run(random.PRNGKey(11), init_params=parameters)"
   ]
  },
  {
   "cell_type": "code",
   "execution_count": 240,
   "metadata": {},
   "outputs": [],
   "source": [
    "test = mcmc.get_samples()"
   ]
  },
  {
   "cell_type": "code",
   "execution_count": 241,
   "metadata": {},
   "outputs": [],
   "source": [
    "import seaborn as sns\n",
    "sns.set()"
   ]
  },
  {
   "cell_type": "code",
   "execution_count": null,
   "metadata": {},
   "outputs": [],
   "source": [
    "fig, axes = plt.subplots(5, 2, figsize=(20, 30))\n",
    "for index, variable in enumerate(test.T):\n",
    "    axis = axes[index % 5][index % 2]\n",
    "    sns.kdeplot(test.T[index], ax=axis)"
   ]
  },
  {
   "cell_type": "code",
   "execution_count": 248,
   "metadata": {},
   "outputs": [],
   "source": [
    "omg = np.mean(test, axis=0)"
   ]
  },
  {
   "cell_type": "code",
   "execution_count": 252,
   "metadata": {},
   "outputs": [
    {
     "data": {
      "text/plain": [
       "DeviceArray([ 368.47215442,  724.28785024,  808.48876622, 1376.72497749],            dtype=float64)"
      ]
     },
     "execution_count": 252,
     "metadata": {},
     "output_type": "execute_result"
    }
   ],
   "source": [
    "inferred_reservoirs = omg[:4]\n",
    "inferred_reservoirs"
   ]
  },
  {
   "cell_type": "code",
   "execution_count": 253,
   "metadata": {},
   "outputs": [
    {
     "data": {
      "text/plain": [
       "DeviceArray([[ 112.5,  637.5,  900. , 1600. ]], dtype=float64)"
      ]
     },
     "execution_count": 253,
     "metadata": {},
     "output_type": "execute_result"
    }
   ],
   "source": [
    "cbm._reservoir_content"
   ]
  },
  {
   "cell_type": "code",
   "execution_count": 257,
   "metadata": {},
   "outputs": [
    {
     "data": {
      "text/plain": [
       "DeviceArray([[  0.        , 299.06371198,   0.        ,   0.        ],\n",
       "             [409.63226118,   0.        , 296.5538299 ,  42.48636089],\n",
       "             [  0.        , 215.80378902,   0.        ,   0.        ],\n",
       "             [  0.        , 302.98383243,   0.        ,   0.        ]],            dtype=float64)"
      ]
     },
     "execution_count": 257,
     "metadata": {},
     "output_type": "execute_result"
    }
   ],
   "source": [
    "inferred_fluxes = omg[4:]\n",
    "parse_parameters(inferred_fluxes)"
   ]
  },
  {
   "cell_type": "code",
   "execution_count": 256,
   "metadata": {},
   "outputs": [
    {
     "data": {
      "text/plain": [
       "DeviceArray([[  0.        , 131.28039375,   0.        ,   0.        ],\n",
       "             [131.28039375,   0.        , 135.2585875 ,  64.68888967],\n",
       "             [  0.        , 135.2585875 ,   0.        ,   0.        ],\n",
       "             [  0.        ,  64.68888967,   0.        ,   0.        ]],            dtype=float64)"
      ]
     },
     "execution_count": 256,
     "metadata": {},
     "output_type": "execute_result"
    }
   ],
   "source": [
    "cbm._corrected_fluxes"
   ]
  },
  {
   "cell_type": "code",
   "execution_count": 258,
   "metadata": {},
   "outputs": [],
   "source": [
    "ana = analytic_solution(omg, data[0])"
   ]
  },
  {
   "cell_type": "code",
   "execution_count": 259,
   "metadata": {},
   "outputs": [
    {
     "data": {
      "text/plain": [
       "[<matplotlib.lines.Line2D at 0x7f4be3543e80>]"
      ]
     },
     "execution_count": 259,
     "metadata": {},
     "output_type": "execute_result"
    },
    {
     "data": {
      "image/png": "[encoded data removed]",
      "text/plain": [
       "<Figure size 432x288 with 1 Axes>"
      ]
     },
     "metadata": {},
     "output_type": "display_data"
    }
   ],
   "source": [
    "plt.plot(ana[:, 1])\n",
    "plt.plot(data[1])"
   ]
  },
  {
   "cell_type": "code",
   "execution_count": 547,
   "metadata": {},
   "outputs": [
    {
     "data": {
      "text/plain": [
       "DeviceArray(757.90314494, dtype=float64)"
      ]
     },
     "execution_count": 547,
     "metadata": {},
     "output_type": "execute_result"
    }
   ],
   "source": [
    "loss(omg)"
   ]
  },
  {
   "cell_type": "markdown",
   "metadata": {},
   "source": [
    "So I need to think about how I want to do the inference from here. Removing the single parameter and changing the equilibrium position. I will start with the equilibrium position. Then I will remove the parameter then I will repeat the `NUTS` sampling. I also need to work on pushing my changes to `origin/main` which means setting `ticktack` back up to work without the fucking `solver` bullshit"
   ]
  }
 ],
 "metadata": {
  "interpreter": {
   "hash": "ab79d763119790aea00e8eaeb5d3be48434571919ae202ec38e1b7aefb77c6d3"
  },
  "kernelspec": {
   "display_name": "Python 3.9.0 ('kitkat')",
   "language": "python",
   "name": "python3"
  },
  "language_info": {
   "codemirror_mode": {
    "name": "ipython",
    "version": 3
   },
   "file_extension": ".py",
   "mimetype": "text/x-python",
   "name": "python",
   "nbconvert_exporter": "python",
   "pygments_lexer": "ipython3",
   "version": "3.9.0"
  },
  "orig_nbformat": 4
 },
 "nbformat": 4,
 "nbformat_minor": 2
}
