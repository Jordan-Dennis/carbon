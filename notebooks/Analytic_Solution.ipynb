{
 "cells": [
  {
   "cell_type": "code",
   "execution_count": 1,
   "metadata": {},
   "outputs": [],
   "source": [
    "# Numerical\n",
    "from jax.numpy import exp, newaxis, mean   # Arithematic\n",
    "from jax.numpy import array, zeros, arange, where # Array creation routines\n",
    "from jax.numpy import float64\n",
    "from jax.numpy import sum as vsum\n",
    "from jax.numpy.linalg import solve, eig, norm\n",
    "from jax.lax import scan \n",
    "from jax import jit, jacrev, jacfwd, vmap, grad, jvp, vjp\n",
    "\n",
    "# Miscellaneous\n",
    "from functools import partial \n",
    "from time import process_time\n",
    "from ticktack import load_presaved_model\n",
    "from ticktack.fitting import SingleFitter\n",
    "from ticktack.dormand_prince import odeint as DP5\n",
    "\n",
    "# Visualisation\n",
    "import matplotlib.pyplot as plt"
   ]
  },
  {
   "cell_type": "code",
   "execution_count": 2,
   "metadata": {},
   "outputs": [],
   "source": [
    "def construct_analytic_solution():\n",
    "    \"\"\"\n",
    "    This creates a closure environment that pre-calculates the eigenvalues of the transfer matrix and the coefficients that produce the approriate initial state.\n",
    "    \"\"\"\n",
    "    cbm = load_presaved_model(\"Guttler14\", production_rate_units=\"atoms/cm^2/s\")\n",
    "    cbm.compile()\n",
    "\n",
    "    eigenvalues, eigenvectors = eig(cbm._matrix)    # Constructing the linear eigenfunctions\n",
    "    eigenvalues = eigenvalues.real  # Making sure that values are real\n",
    "    eigenvectors = eigenvectors.real    # Making sure that the eigenvectors are real \n",
    "\n",
    "    soln = solve(eigenvectors, cbm._production_coefficients)\n",
    "    soln = 1 / norm(soln) * soln    # Normalising the impulse \n",
    "    soln = soln.real\n",
    "\n",
    "    @partial(jit, static_argnums=(3, 4, 5))\n",
    "    def analytic_solution(time, start, area, coeffs=soln, eigenvals=eigenvalues, eigenvecs=eigenvectors):\n",
    "        \"\"\"\n",
    "        This is the analytic solution itself.\n",
    "        \n",
    "        Parameters: \n",
    "            time: Array -> The time values that the solution is to be evaluated at \n",
    "            coeffs: Array -> The coefficients associated with a particular initial condition. \n",
    "          \n",
    "            eigenvals: Array -> The eigenvalues of the transfer matrix used to construct the linear superposition of the eigenfunctions\n",
    "            eigenvecs: Array[Array] -> The eigenvectors of the transfer matrix used to construct the linear superposition of the eigenfunctions.\n",
    "        \n",
    "        Returns:\n",
    "            Array -> The analytic solution evaluated at times\n",
    "        \"\"\"\n",
    "        @jit\n",
    "        def sum_util(coeff, eigenval, eigenvec, /, time=time, start=start, area=area):\n",
    "            return area * coeff * exp(eigenval * (time - start))[:, newaxis] * eigenvec\n",
    "\n",
    "        impulse = vsum(vmap(sum_util)(coeffs, eigenvals, eigenvecs.T), axis=0)\n",
    "        return where(time.reshape(time.shape[0], 1) > start, impulse, zeros(impulse.shape))\n",
    "\n",
    "    return analytic_solution"
   ]
  },
  {
   "cell_type": "code",
   "execution_count": 3,
   "metadata": {},
   "outputs": [],
   "source": [
    "@partial(jit, static_argnums=(0))\n",
    "def load(filename: str):\n",
    "    with open(filename) as data:\n",
    "        header = next(data)\n",
    "        data = array([row.strip().split(\" \") for row in data], dtype=float64)\n",
    "        return data.T\n"
   ]
  },
  {
   "cell_type": "code",
   "execution_count": 6,
   "metadata": {},
   "outputs": [],
   "source": [
    "analytic_solution = construct_analytic_solution()\n",
    "data = load(\"miyake12.csv\")\n",
    "data = data.at[1].add(-mean(data[1, 1:4]))"
   ]
  },
  {
   "cell_type": "code",
   "execution_count": 5,
   "metadata": {},
   "outputs": [],
   "source": [
    "@partial(jit, static_argnums=(2, 3))\n",
    "def loss(start, area, analytic_solution=analytic_solution, data=data):\n",
    "    analytic_data = analytic_solution(data[0], start, area)\n",
    "    return vsum((data[1] - analytic_data[:, 1]) ** 2 / data[2] ** 2)"
   ]
  },
  {
   "cell_type": "code",
   "execution_count": 77,
   "metadata": {},
   "outputs": [
    {
     "name": "stdout",
     "output_type": "stream",
     "text": [
      "11.9 µs ± 524 ns per loop (mean ± std. dev. of 7 runs, 100000 loops each)\n"
     ]
    }
   ],
   "source": [
    "%%timeit\n",
    "loss(774.86, 80)"
   ]
  },
  {
   "cell_type": "code",
   "execution_count": 138,
   "metadata": {},
   "outputs": [
    {
     "name": "stdout",
     "output_type": "stream",
     "text": [
      "4.55 ms ± 428 µs per loop (mean ± std. dev. of 7 runs, 100 loops each)\n"
     ]
    }
   ],
   "source": [
    "%%timeit\n",
    "jacrev(loss, argnums=(0, 1))(774.86, 80.0)"
   ]
  },
  {
   "cell_type": "code",
   "execution_count": 139,
   "metadata": {},
   "outputs": [
    {
     "name": "stdout",
     "output_type": "stream",
     "text": [
      "2.88 ms ± 226 µs per loop (mean ± std. dev. of 7 runs, 100 loops each)\n"
     ]
    }
   ],
   "source": [
    "%%timeit\n",
    "jacfwd(loss, argnums=(0, 1))(774.86, 80.0)"
   ]
  },
  {
   "cell_type": "code",
   "execution_count": 7,
   "metadata": {},
   "outputs": [],
   "source": [
    "gradient = jit(grad(loss, argnums=(0, 1)))"
   ]
  },
  {
   "cell_type": "code",
   "execution_count": 15,
   "metadata": {},
   "outputs": [],
   "source": [
    "hessian = jit(jacfwd(grad(loss, argnums=(0, 1)), argnums=(0, 1)))"
   ]
  },
  {
   "cell_type": "code",
   "execution_count": 64,
   "metadata": {},
   "outputs": [],
   "source": [
    "test = SingleFitter(load_presaved_model(\"Guttler14\", production_rate_units=\"atoms/cm^2/s\"), \"Guttler14\")\n",
    "test.load_data(\"miyake12.csv\")\n",
    "test.set_solver(DP5)\n",
    "test.compile_production_model(model=\"simple_sinusoid\")"
   ]
  },
  {
   "cell_type": "code",
   "execution_count": 68,
   "metadata": {},
   "outputs": [
    {
     "name": "stdout",
     "output_type": "stream",
     "text": [
      "13.7 ms ± 1.3 ms per loop (mean ± std. dev. of 7 runs, 10 loops each)\n"
     ]
    }
   ],
   "source": [
    "%%timeit\n",
    "test.log_likelihood((774.86, 0.25, 0.8, 6.44))"
   ]
  },
  {
   "cell_type": "code",
   "execution_count": 86,
   "metadata": {},
   "outputs": [
    {
     "name": "stdout",
     "output_type": "stream",
     "text": [
      "210 ms ± 11 ms per loop (mean ± std. dev. of 7 runs, 1 loop each)\n"
     ]
    }
   ],
   "source": [
    "%%timeit\n",
    "jacrev(test.log_likelihood)((774.86, 0.25, 0.8, 6.44))"
   ]
  },
  {
   "cell_type": "code",
   "execution_count": null,
   "metadata": {},
   "outputs": [],
   "source": []
  }
 ],
 "metadata": {
  "interpreter": {
   "hash": "ab79d763119790aea00e8eaeb5d3be48434571919ae202ec38e1b7aefb77c6d3"
  },
  "kernelspec": {
   "display_name": "Python 3.9.0 ('kitkat')",
   "language": "python",
   "name": "python3"
  },
  "language_info": {
   "codemirror_mode": {
    "name": "ipython",
    "version": 3
   },
   "file_extension": ".py",
   "mimetype": "text/x-python",
   "name": "python",
   "nbconvert_exporter": "python",
   "pygments_lexer": "ipython3",
   "version": "3.9.0"
  },
  "orig_nbformat": 4
 },
 "nbformat": 4,
 "nbformat_minor": 2
}
