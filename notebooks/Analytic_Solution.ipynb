{
 "cells": [
  {
   "cell_type": "code",
   "execution_count": 1,
   "metadata": {},
   "outputs": [],
   "source": [
    "# Numerical\n",
    "from jax.numpy import exp, newaxis, mean   # Arithematic\n",
    "from jax.numpy import array, zeros, arange, where # Array creation routines\n",
    "from jax.numpy import float64\n",
    "from jax.numpy import sum as vsum\n",
    "from jax.numpy.linalg import solve, eig, norm\n",
    "from jax.lax import scan \n",
    "from jax import jit, jacrev, jacfwd, vmap, grad, jvp, vjp\n",
    "\n",
    "# Miscellaneous\n",
    "from functools import partial \n",
    "from time import process_time\n",
    "from ticktack import load_presaved_model\n",
    "from ticktack.fitting import SingleFitter\n",
    "from ticktack.dormand_prince import odeint as DP5\n",
    "\n",
    "# Visualisation\n",
    "import matplotlib.pyplot as plt"
   ]
  },
  {
   "cell_type": "code",
   "execution_count": 2,
   "metadata": {},
   "outputs": [],
   "source": [
    "def construct_analytic_solution():\n",
    "    \"\"\"\n",
    "    This creates a closure environment that pre-calculates the eigenvalues of the transfer matrix and the coefficients that produce the approriate initial state.\n",
    "    \"\"\"\n",
    "    cbm = load_presaved_model(\"Guttler14\", production_rate_units=\"atoms/cm^2/s\")\n",
    "    cbm.compile()\n",
    "\n",
    "    eigenvalues, eigenvectors = eig(cbm._matrix)    # Constructing the linear eigenfunctions\n",
    "    eigenvalues = eigenvalues.real  # Making sure that values are real\n",
    "    eigenvectors = eigenvectors.real    # Making sure that the eigenvectors are real \n",
    "\n",
    "    soln = solve(eigenvectors, cbm._production_coefficients)\n",
    "    soln = 1 / norm(soln) * soln    # Normalising the impulse \n",
    "    soln = soln.real\n",
    "\n",
    "    @partial(jit, static_argnums=(3, 4, 5))\n",
    "    def analytic_solution(time, start, area, coeffs=soln, eigenvals=eigenvalues, eigenvecs=eigenvectors):\n",
    "        \"\"\"\n",
    "        This is the analytic solution itself.\n",
    "        \n",
    "        Parameters: \n",
    "            time: Array -> The time values that the solution is to be evaluated at \n",
    "            coeffs: Array -> The coefficients associated with a particular initial condition. \n",
    "          \n",
    "            eigenvals: Array -> The eigenvalues of the transfer matrix used to construct the linear superposition of the eigenfunctions\n",
    "            eigenvecs: Array[Array] -> The eigenvectors of the transfer matrix used to construct the linear superposition of the eigenfunctions.\n",
    "        \n",
    "        Returns:\n",
    "            Array -> The analytic solution evaluated at times\n",
    "        \"\"\"\n",
    "        @jit\n",
    "        def sum_util(coeff, eigenval, eigenvec, /, time=time, start=start, area=area):\n",
    "            return area * coeff * exp(eigenval * (time - start))[:, newaxis] * eigenvec\n",
    "\n",
    "        impulse = vsum(vmap(sum_util)(coeffs, eigenvals, eigenvecs.T), axis=0)\n",
    "        return where(time.reshape(time.shape[0], 1) > start, impulse, zeros(impulse.shape))\n",
    "\n",
    "    return analytic_solution"
   ]
  },
  {
   "cell_type": "code",
   "execution_count": 3,
   "metadata": {},
   "outputs": [],
   "source": [
    "@partial(jit, static_argnums=(0))\n",
    "def load(filename: str):\n",
    "    \"\"\"\n",
    "    A custom `JAX` file loading protocol designed to be very quick and return a value that is `JAX` transformable. \n",
    "    \n",
    "    Parameters:\n",
    "        filename: String -> The file address of the data\n",
    "    Returns:\n",
    "        DeviceArray -> The data in column major order\n",
    "    \"\"\"\n",
    "    with open(filename) as data:    # Opening the data file\n",
    "        header = next(data)\n",
    "        data = array([row.strip().split(\" \") for row in data], dtype=float64)\n",
    "        return data.T\n"
   ]
  },
  {
   "cell_type": "code",
   "execution_count": 4,
   "metadata": {},
   "outputs": [
    {
     "name": "stderr",
     "output_type": "stream",
     "text": [
      "INFO[2022-02-09 08:37:02,261]: Unable to initialize backend 'tpu_driver': Not found: Unable to find driver in registry given worker: \n",
      "INFO[2022-02-09 08:37:02,264]: Unable to initialize backend 'gpu': Not found: Could not find registered platform with name: \"cuda\". Available platform names are: Interpreter Host\n",
      "INFO[2022-02-09 08:37:02,266]: Unable to initialize backend 'tpu': Invalid argument: TpuPlatform is not available.\n"
     ]
    }
   ],
   "source": [
    "analytic_solution = construct_analytic_solution()\n",
    "data = load(\"miyake12.csv\")\n",
    "data = data.at[1].add(-mean(data[1, 1:4]))"
   ]
  },
  {
   "cell_type": "code",
   "execution_count": 5,
   "metadata": {},
   "outputs": [],
   "source": [
    "@partial(jit, static_argnums=(2, 3))\n",
    "def loss(start, area, analytic_solution=analytic_solution, data=data):\n",
    "    analytic_data = analytic_solution(data[0], start, area)\n",
    "    return vsum((data[1] - analytic_data[:, 1]) ** 2 / data[2] ** 2)"
   ]
  },
  {
   "cell_type": "code",
   "execution_count": 6,
   "metadata": {},
   "outputs": [],
   "source": [
    "# Autodiff declarations for the model\n",
    "gradient = jit(grad(loss, argnums=(0, 1)))\n",
    "hessian = jit(jacfwd(grad(loss, argnums=(0, 1)), argnums=(0, 1)))"
   ]
  },
  {
   "cell_type": "code",
   "execution_count": 20,
   "metadata": {},
   "outputs": [],
   "source": [
    "from numpyro.infer import MCMC, NUTS\n",
    "from jax.random import PRNGKey"
   ]
  },
  {
   "cell_type": "code",
   "execution_count": 21,
   "metadata": {},
   "outputs": [
    {
     "data": {
      "text/plain": [
       "{}"
      ]
     },
     "execution_count": 21,
     "metadata": {},
     "output_type": "execute_result"
    }
   ],
   "source": [
    "mcmc = MCMC(\n",
    "    NUTS(loss),\n",
    "    num_warmup=500,\n",
    "    num_samples=1000,\n",
    "    num_chains=4,\n",
    "    progress_bar=False\n",
    ")\n",
    "mcmc.run(PRNGKey(0), 774.86, 80.0)\n",
    "mcmc.get_samples()"
   ]
  }
 ],
 "metadata": {
  "interpreter": {
   "hash": "ab79d763119790aea00e8eaeb5d3be48434571919ae202ec38e1b7aefb77c6d3"
  },
  "kernelspec": {
   "display_name": "Python 3.9.0 ('kitkat')",
   "language": "python",
   "name": "python3"
  },
  "language_info": {
   "codemirror_mode": {
    "name": "ipython",
    "version": 3
   },
   "file_extension": ".py",
   "mimetype": "text/x-python",
   "name": "python",
   "nbconvert_exporter": "python",
   "pygments_lexer": "ipython3",
   "version": "3.9.0"
  },
  "orig_nbformat": 4
 },
 "nbformat": 4,
 "nbformat_minor": 2
}
