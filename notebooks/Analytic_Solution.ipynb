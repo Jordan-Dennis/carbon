{
 "cells": [
  {
   "cell_type": "code",
   "execution_count": 1,
   "metadata": {},
   "outputs": [],
   "source": [
    "# Numerical\n",
    "from jax.numpy import exp, newaxis, mean   # Arithematic\n",
    "from jax.numpy import array, zeros, arange, where # Array creation routines\n",
    "from jax.numpy import float64\n",
    "from jax.numpy import sum as vsum\n",
    "from jax.numpy.linalg import solve, eig, norm\n",
    "from jax.lax import scan \n",
    "from jax import jit, jacrev, jacfwd, vmap, grad, jvp, vjp\n",
    "\n",
    "# Miscellaneous\n",
    "from functools import partial \n",
    "from time import process_time\n",
    "from ticktack import load_presaved_model\n",
    "from ticktack.fitting import SingleFitter\n",
    "from ticktack.dormand_prince import odeint as DP5\n",
    "\n",
    "# Visualisation\n",
    "import matplotlib.pyplot as plt"
   ]
  },
  {
   "cell_type": "code",
   "execution_count": 2,
   "metadata": {},
   "outputs": [],
   "source": [
    "def construct_analytic_solution():\n",
    "    \"\"\"\n",
    "    This creates a closure environment that pre-calculates the eigenvalues of the transfer matrix and the coefficients that produce the approriate initial state.\n",
    "    \"\"\"\n",
    "    cbm = load_presaved_model(\"Guttler14\", production_rate_units=\"atoms/cm^2/s\")\n",
    "    cbm.compile()\n",
    "\n",
    "    eigenvalues, eigenvectors = eig(cbm._matrix)    # Constructing the linear eigenfunctions\n",
    "    eigenvalues = eigenvalues.real  # Making sure that values are real\n",
    "    eigenvectors = eigenvectors.real    # Making sure that the eigenvectors are real \n",
    "\n",
    "    soln = solve(eigenvectors, cbm._production_coefficients)\n",
    "    soln = 1 / norm(soln) * soln    # Normalising the impulse \n",
    "    soln = soln.real\n",
    "\n",
    "    @partial(jit, static_argnums=(3, 4, 5))\n",
    "    def analytic_solution(time, start, area, coeffs=soln, eigenvals=eigenvalues, eigenvecs=eigenvectors):\n",
    "        \"\"\"\n",
    "        This is the analytic solution itself.\n",
    "        \n",
    "        Parameters: \n",
    "            time: Array -> The time values that the solution is to be evaluated at \n",
    "            coeffs: Array -> The coefficients associated with a particular initial condition. \n",
    "          \n",
    "            eigenvals: Array -> The eigenvalues of the transfer matrix used to construct the linear superposition of the eigenfunctions\n",
    "            eigenvecs: Array[Array] -> The eigenvectors of the transfer matrix used to construct the linear superposition of the eigenfunctions.\n",
    "        \n",
    "        Returns:\n",
    "            Array -> The analytic solution evaluated at times\n",
    "        \"\"\"\n",
    "        @jit\n",
    "        def sum_util(coeff, eigenval, eigenvec, /, time=time, start=start, area=area):\n",
    "            return area * coeff * exp(eigenval * (time - start))[:, newaxis] * eigenvec\n",
    "\n",
    "        impulse = vsum(vmap(sum_util)(coeffs, eigenvals, eigenvecs.T), axis=0)\n",
    "        return where(time.reshape(time.shape[0], 1) > start, impulse, zeros(impulse.shape))\n",
    "\n",
    "    return analytic_solution"
   ]
  },
  {
   "cell_type": "code",
   "execution_count": 3,
   "metadata": {},
   "outputs": [],
   "source": [
    "@partial(jit, static_argnums=(0))\n",
    "def load(filename: str):\n",
    "    \"\"\"\n",
    "    A custom `JAX` file loading protocol designed to be very quick and return a value that is `JAX` transformable. \n",
    "    \n",
    "    Parameters:\n",
    "        filename: String -> The file address of the data\n",
    "    Returns:\n",
    "        DeviceArray -> The data in column major order\n",
    "    \"\"\"\n",
    "    with open(filename) as data:    # Opening the data file\n",
    "        header = next(data)\n",
    "        data = array([row.strip().split(\" \") for row in data], dtype=float64)\n",
    "        return data.T\n"
   ]
  },
  {
   "cell_type": "code",
   "execution_count": 4,
   "metadata": {},
   "outputs": [
    {
     "name": "stderr",
     "output_type": "stream",
     "text": [
      "INFO[2022-02-09 08:37:02,261]: Unable to initialize backend 'tpu_driver': Not found: Unable to find driver in registry given worker: \n",
      "INFO[2022-02-09 08:37:02,264]: Unable to initialize backend 'gpu': Not found: Could not find registered platform with name: \"cuda\". Available platform names are: Interpreter Host\n",
      "INFO[2022-02-09 08:37:02,266]: Unable to initialize backend 'tpu': Invalid argument: TpuPlatform is not available.\n"
     ]
    }
   ],
   "source": [
    "analytic_solution = construct_analytic_solution()\n",
    "data = load(\"miyake12.csv\")\n",
    "data = data.at[1].add(-mean(data[1, 1:4]))"
   ]
  },
  {
   "cell_type": "code",
   "execution_count": 38,
   "metadata": {},
   "outputs": [],
   "source": [
    "def construct_loss(analytic_solution=analytic_solution, data=data):\n",
    "    @jit\n",
    "    def loss(parameters):\n",
    "        analytic_data = analytic_solution(data[0], start, area)\n",
    "        return vsum((data[1] - analytic_data[:, 1]) ** 2 / data[2] ** 2)"
   ]
  },
  {
   "cell_type": "code",
   "execution_count": 39,
   "metadata": {},
   "outputs": [],
   "source": [
    "# Autodiff declarations for the model\n",
    "gradient = jit(grad(loss, argnums=(0, 1)))\n",
    "hessian = jit(jacfwd(grad(loss, argnums=(0, 1)), argnums=(0, 1)))"
   ]
  },
  {
   "cell_type": "code",
   "execution_count": 42,
   "metadata": {},
   "outputs": [],
   "source": [
    "import jax.numpy as jnp\n",
    "import numpyro\n",
    "import numpyro.distributions as dist \n",
    "import jax.random as random"
   ]
  },
  {
   "cell_type": "code",
   "execution_count": 82,
   "metadata": {},
   "outputs": [
    {
     "ename": "IndexError",
     "evalue": "tuple index out of range",
     "output_type": "error",
     "traceback": [
      "\u001b[0;31m---------------------------------------------------------------------------\u001b[0m",
      "\u001b[0;31mIndexError\u001b[0m                                Traceback (most recent call last)",
      "\u001b[0;32m/tmp/ipykernel_11561/3589226515.py\u001b[0m in \u001b[0;36m<module>\u001b[0;34m\u001b[0m\n\u001b[1;32m      1\u001b[0m \u001b[0mnuts_kernel\u001b[0m \u001b[0;34m=\u001b[0m \u001b[0mNUTS\u001b[0m\u001b[0;34m(\u001b[0m\u001b[0mpotential_fn\u001b[0m\u001b[0;34m=\u001b[0m\u001b[0mloss\u001b[0m\u001b[0;34m)\u001b[0m\u001b[0;34m\u001b[0m\u001b[0;34m\u001b[0m\u001b[0m\n\u001b[1;32m      2\u001b[0m \u001b[0mmcmc\u001b[0m \u001b[0;34m=\u001b[0m \u001b[0mMCMC\u001b[0m\u001b[0;34m(\u001b[0m\u001b[0mnuts_kernel\u001b[0m\u001b[0;34m,\u001b[0m \u001b[0mnum_warmup\u001b[0m\u001b[0;34m=\u001b[0m\u001b[0;36m500\u001b[0m\u001b[0;34m,\u001b[0m \u001b[0mnum_samples\u001b[0m\u001b[0;34m=\u001b[0m\u001b[0;36m500\u001b[0m\u001b[0;34m,\u001b[0m \u001b[0mnum_chains\u001b[0m\u001b[0;34m=\u001b[0m\u001b[0;36m3\u001b[0m\u001b[0;34m)\u001b[0m\u001b[0;34m\u001b[0m\u001b[0;34m\u001b[0m\u001b[0m\n\u001b[0;32m----> 3\u001b[0;31m \u001b[0mmcmc\u001b[0m\u001b[0;34m.\u001b[0m\u001b[0mrun\u001b[0m\u001b[0;34m(\u001b[0m\u001b[0mrandom\u001b[0m\u001b[0;34m.\u001b[0m\u001b[0mPRNGKey\u001b[0m\u001b[0;34m(\u001b[0m\u001b[0;36m11\u001b[0m\u001b[0;34m)\u001b[0m\u001b[0;34m,\u001b[0m \u001b[0minit_params\u001b[0m\u001b[0;34m=\u001b[0m\u001b[0;34m(\u001b[0m\u001b[0;36m774.86\u001b[0m\u001b[0;34m,\u001b[0m \u001b[0;36m80.0\u001b[0m\u001b[0;34m)\u001b[0m\u001b[0;34m)\u001b[0m\u001b[0;34m\u001b[0m\u001b[0;34m\u001b[0m\u001b[0m\n\u001b[0m",
      "\u001b[0;32m~/anaconda3/envs/kitkat/lib/python3.9/site-packages/numpyro/infer/mcmc.py\u001b[0m in \u001b[0;36mrun\u001b[0;34m(self, rng_key, extra_fields, init_params, *args, **kwargs)\u001b[0m\n\u001b[1;32m    576\u001b[0m         \u001b[0;32mif\u001b[0m \u001b[0minit_params\u001b[0m \u001b[0;32mis\u001b[0m \u001b[0;32mnot\u001b[0m \u001b[0;32mNone\u001b[0m \u001b[0;32mand\u001b[0m \u001b[0mself\u001b[0m\u001b[0;34m.\u001b[0m\u001b[0mnum_chains\u001b[0m \u001b[0;34m>\u001b[0m \u001b[0;36m1\u001b[0m\u001b[0;34m:\u001b[0m\u001b[0;34m\u001b[0m\u001b[0;34m\u001b[0m\u001b[0m\n\u001b[1;32m    577\u001b[0m             \u001b[0mprototype_init_val\u001b[0m \u001b[0;34m=\u001b[0m \u001b[0mtree_flatten\u001b[0m\u001b[0;34m(\u001b[0m\u001b[0minit_params\u001b[0m\u001b[0;34m)\u001b[0m\u001b[0;34m[\u001b[0m\u001b[0;36m0\u001b[0m\u001b[0;34m]\u001b[0m\u001b[0;34m[\u001b[0m\u001b[0;36m0\u001b[0m\u001b[0;34m]\u001b[0m\u001b[0;34m\u001b[0m\u001b[0;34m\u001b[0m\u001b[0m\n\u001b[0;32m--> 578\u001b[0;31m             \u001b[0;32mif\u001b[0m \u001b[0mjnp\u001b[0m\u001b[0;34m.\u001b[0m\u001b[0mshape\u001b[0m\u001b[0;34m(\u001b[0m\u001b[0mprototype_init_val\u001b[0m\u001b[0;34m)\u001b[0m\u001b[0;34m[\u001b[0m\u001b[0;36m0\u001b[0m\u001b[0;34m]\u001b[0m \u001b[0;34m!=\u001b[0m \u001b[0mself\u001b[0m\u001b[0;34m.\u001b[0m\u001b[0mnum_chains\u001b[0m\u001b[0;34m:\u001b[0m\u001b[0;34m\u001b[0m\u001b[0;34m\u001b[0m\u001b[0m\n\u001b[0m\u001b[1;32m    579\u001b[0m                 raise ValueError(\n\u001b[1;32m    580\u001b[0m                     \u001b[0;34m\"`init_params` must have the same leading dimension\"\u001b[0m\u001b[0;34m\u001b[0m\u001b[0;34m\u001b[0m\u001b[0m\n",
      "\u001b[0;31mIndexError\u001b[0m: tuple index out of range"
     ]
    }
   ],
   "source": [
    "nuts_kernel = NUTS(potential_fn=loss)\n",
    "mcmc = MCMC(nuts_kernel, num_warmup=500, num_samples=500, num_chains=3)\n",
    "mcmc.run(random.PRNGKey(11), init_params=(774.86, 80.0))"
   ]
  },
  {
   "cell_type": "code",
   "execution_count": 75,
   "metadata": {},
   "outputs": [],
   "source": [
    "import jax"
   ]
  },
  {
   "cell_type": "code",
   "execution_count": 81,
   "metadata": {},
   "outputs": [
    {
     "data": {
      "text/plain": [
       "80.0"
      ]
     },
     "execution_count": 81,
     "metadata": {},
     "output_type": "execute_result"
    }
   ],
   "source": [
    "jax.tree_flatten({\"start\": 774.86, \"area\": 80.0})[0][0]"
   ]
  },
  {
   "cell_type": "code",
   "execution_count": 60,
   "metadata": {},
   "outputs": [],
   "source": [
    "test = m9_2.get_samples()"
   ]
  },
  {
   "cell_type": "code",
   "execution_count": 64,
   "metadata": {},
   "outputs": [
    {
     "data": {
      "text/plain": [
       "(array([  2.,  16.,  91., 241., 392., 408., 240.,  84.,  23.,   3.]),\n",
       " array([1.70529159, 2.42538175, 3.14547191, 3.86556207, 4.58565223,\n",
       "        5.3057424 , 6.02583256, 6.74592272, 7.46601288, 8.18610304,\n",
       "        8.9061932 ]),\n",
       " <BarContainer object of 10 artists>)"
      ]
     },
     "execution_count": 64,
     "metadata": {},
     "output_type": "execute_result"
    },
    {
     "data": {
      "image/png": "[encoded data removed]",
      "text/plain": [
       "<Figure size 432x288 with 1 Axes>"
      ]
     },
     "metadata": {},
     "output_type": "display_data"
    }
   ],
   "source": [
    "plt.hist(test[\"start\"])"
   ]
  },
  {
   "cell_type": "code",
   "execution_count": null,
   "metadata": {},
   "outputs": [],
   "source": []
  }
 ],
 "metadata": {
  "interpreter": {
   "hash": "ab79d763119790aea00e8eaeb5d3be48434571919ae202ec38e1b7aefb77c6d3"
  },
  "kernelspec": {
   "display_name": "Python 3.9.0 ('kitkat')",
   "language": "python",
   "name": "python3"
  },
  "language_info": {
   "codemirror_mode": {
    "name": "ipython",
    "version": 3
   },
   "file_extension": ".py",
   "mimetype": "text/x-python",
   "name": "python",
   "nbconvert_exporter": "python",
   "pygments_lexer": "ipython3",
   "version": "3.9.0"
  },
  "orig_nbformat": 4
 },
 "nbformat": 4,
 "nbformat_minor": 2
}
