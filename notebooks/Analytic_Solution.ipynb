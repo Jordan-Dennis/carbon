{
 "cells": [
  {
   "cell_type": "code",
   "execution_count": 84,
   "metadata": {},
   "outputs": [],
   "source": [
    "# Miscellaneous\n",
    "from functools import partial \n",
    "from ticktack import load_presaved_model\n",
    "\n",
    "# Hamiltonian monte-carlo\n",
    "from numpyro.infer import NUTS, MCMC\n",
    "\n",
    "import jax.numpy as np\n",
    "import jax.scipy as sc\n",
    "import jax.random as random\n",
    "import matplotlib.pyplot as plt\n",
    "from jax import jit, jacrev, jacfwd, vmap, grad"
   ]
  },
  {
   "cell_type": "code",
   "execution_count": 85,
   "metadata": {},
   "outputs": [],
   "source": [
    "cbm = load_presaved_model(\"Guttler14\", production_rate_units=\"atoms/cm^2/s\")\n",
    "cbm.compile()"
   ]
  },
  {
   "cell_type": "code",
   "execution_count": 86,
   "metadata": {},
   "outputs": [],
   "source": [
    "def construct_model(cbm=cbm):\n",
    "    template = np.where(cbm._matrix != 0, np.ones(cbm._matrix.shape), np.zeros(cbm._matrix.shape))\n",
    "\n",
    "    def parse_parameters(parameters, transfer_matrix=template):\n",
    "        index = 0\n",
    "        for i, row in enumerate(transfer_matrix):\n",
    "            for j, col in enumerate(row):\n",
    "                if col != 0:\n",
    "                    parameter = parameters[index]\n",
    "                    transfer_matrix = transfer_matrix.at[i, j].set(*parameter)\n",
    "                    index += 1\n",
    "        return transfer_matrix\n",
    "    \n",
    "    return parse_parameters"
   ]
  },
  {
   "cell_type": "code",
   "execution_count": 112,
   "metadata": {},
   "outputs": [],
   "source": [
    "parse_parameters = construct_model(cbm)\n",
    "parameters = random.uniform(random.PRNGKey(0), (35,))"
   ]
  },
  {
   "cell_type": "code",
   "execution_count": 113,
   "metadata": {},
   "outputs": [],
   "source": [
    "@jit\n",
    "def analytic_solution(parameters, time_out, /, decay=cbm._decay_matrix, parser=parse_parameters):\n",
    "    \"\"\"\n",
    "    This is the analytic solution itself.\n",
    "    Parameters: \n",
    "        \n",
    "    Returns:\n",
    "    \"\"\"\n",
    "    start_date = parameters[0]\n",
    "    event_area = parameters[1]\n",
    "    production = parameters[2]\n",
    "    production = np.array([1 - production, production, *np.zeros(9)], dtype=np.float64)\n",
    "    flow_sizes = parameters[3:]\n",
    "\n",
    "    initial_position = event_area * production\n",
    "    transfer_matrix = parse_parameters(flow_sizes)\n",
    "\n",
    "    @vmap\n",
    "    def vmap_util(t, /, transfer_matrix=transfer_matrix, y0=initial_position, start=start_date):\n",
    "        return sc.linalg.expm((t - start) * transfer_matrix) @ y0\n",
    "\n",
    "    impulse_solution = vmap_util(time_out)\n",
    "    steady_solution = np.zeros((impulse_solution.shape))\n",
    "    condition = (time_out > start_date).reshape(-1, 1)\n",
    "    \n",
    "    return np.where(condition, impulse_solution, steady_solution)"
   ]
  },
  {
   "cell_type": "code",
   "execution_count": 114,
   "metadata": {},
   "outputs": [],
   "source": [
    "@partial(jit, static_argnums=(0))\n",
    "def load(filename: str):\n",
    "    \"\"\"\n",
    "    A custom `JAX` file loading protocol designed to be very quick and return a value that is `JAX` transformable. \n",
    "    \n",
    "    Parameters:\n",
    "        filename: String -> The file address of the data\n",
    "    Returns:\n",
    "        DeviceArray -> The data in column major order\n",
    "    \"\"\"\n",
    "    with open(filename) as data:    # Opening the data file\n",
    "        header = next(data)\n",
    "        data = np.array([row.strip().split(\" \") for row in data], dtype=np.float64)\n",
    "        return data.T\n"
   ]
  },
  {
   "cell_type": "code",
   "execution_count": 115,
   "metadata": {},
   "outputs": [],
   "source": [
    "data = load(\"miyake12.csv\")\n",
    "data = data.at[1].add(-np.mean(data[1, 1:4]))"
   ]
  },
  {
   "cell_type": "code",
   "execution_count": 116,
   "metadata": {},
   "outputs": [],
   "source": [
    "@partial(jit, static_argnums=(1, 2))\n",
    "def loss(parameters, /, analytic_solution=analytic_solution, data=data):\n",
    "    \"\"\"\n",
    "    Computes the log likelihood of a set of parameters in the parameter space\n",
    "    \"\"\"\n",
    "    in_bounds = 0.0\n",
    "    in_bounds = np.any((parameters[2:] < 0.0) | (parameters[2:] > 1.0)) * np.inf\n",
    "    analytic_data = analytic_solution(parameters, data[0])\n",
    "    chi_sq = np.sum((data[1] - analytic_data[:, 1]) ** 2 / data[2] ** 2)\n",
    "    return in_bounds + chi_sq"
   ]
  },
  {
   "cell_type": "code",
   "execution_count": 118,
   "metadata": {},
   "outputs": [],
   "source": [
    "parameters = np.concatenate([np.array([774.8, 40.0, 0.3], dtype=np.float64), parameters])"
   ]
  },
  {
   "cell_type": "code",
   "execution_count": 120,
   "metadata": {},
   "outputs": [
    {
     "ename": "ConcretizationTypeError",
     "evalue": "Abstract tracer value encountered where concrete value is expected: Traced<ShapedArray(bool[])>with<DynamicJaxprTrace(level=0/2)>\nThe problem arose with the `bool` function. \nWhile tracing the function loss at /tmp/ipykernel_4072/1474160984.py:1 for jit, this value became a tracer due to JAX operations on these lines:\n\n  operation a:bool[] = lt b c\n    from line /tmp/ipykernel_4072/4259135557.py:9 (analytic_solution)\n\n  operation a:i64[] = add b c\n    from line /tmp/ipykernel_4072/4259135557.py:9 (analytic_solution)\n\n  operation a:i64[] = select_n b c d\n    from line /tmp/ipykernel_4072/4259135557.py:9 (analytic_solution)\n\n  operation a:f64[11] b:f64[11] c:f64[11] d:f64[11] e:f64[11] f:f64[11] g:f64[11] h:f64[11] i:f64[11]\n  j:f64[11] k:f64[11] = xla_call[\n  call_jaxpr={ lambda ; l:f64[11,11]. let\n      m:f64[1,11] = slice[\n        limit_indices=(1, 11)\n        start_indices=(0, 0)\n        strides=(1, 1)\n      ] l\n      n:f64[11] = squeeze[dimensions=(0,)] m\n      o:f64[1,11] = slice[\n        limit_indices=(2, 11)\n        start_indices=(1, 0)\n        strides=(1, 1)\n      ] l\n      p:f64[11] = squeeze[dimensions=(0,)] o\n      q:f64[1,11] = slice[\n        limit_indices=(3, 11)\n        start_indices=(2, 0)\n        strides=(1, 1)\n      ] l\n      r:f64[11] = squeeze[dimensions=(0,)] q\n      s:f64[1,11] = slice[\n        limit_indices=(4, 11)\n        start_indices=(3, 0)\n        strides=(1, 1)\n      ] l\n      t:f64[11] = squeeze[dimensions=(0,)] s\n      u:f64[1,11] = slice[\n        limit_indices=(5, 11)\n        start_indices=(4, 0)\n        strides=(1, 1)\n      ] l\n      v:f64[11] = squeeze[dimensions=(0,)] u\n      w:f64[1,11] = slice[\n        limit_indices=(6, 11)\n        start_indices=(5, 0)\n        strides=(1, 1)\n      ] l\n      x:f64[11] = squeeze[dimensions=(0,)] w\n      y:f64[1,11] = slice[\n        limit_indices=(7, 11)\n        start_indices=(6, 0)\n        strides=(1, 1)\n      ] l\n      z:f64[11] = squeeze[dimensions=(0,)] y\n      ba:f64[1,11] = slice[\n        limit_indices=(8, 11)\n        start_indices=(7, 0)\n        strides=(1, 1)\n      ] l\n      bb:f64[11] = squeeze[dimensions=(0,)] ba\n      bc:f64[1,11] = slice[\n        limit_indices=(9, 11)\n        start_indices=(8, 0)\n        strides=(1, 1)\n      ] l\n      bd:f64[11] = squeeze[dimensions=(0,)] bc\n      be:f64[1,11] = slice[\n        limit_indices=(10, 11)\n        start_indices=(9, 0)\n        strides=(1, 1)\n      ] l\n      bf:f64[11] = squeeze[dimensions=(0,)] be\n      bg:f64[1,11] = slice[\n        limit_indices=(11, 11)\n        start_indices=(10, 0)\n        strides=(1, 1)\n      ] l\n      bh:f64[11] = squeeze[dimensions=(0,)] bg\n    in (n, p, r, t, v, x, z, bb, bd, bf, bh) }\n  name=_unstack\n] bi\n    from line /tmp/ipykernel_4072/929770895.py:6 (parse_parameters)\n\n  operation a:f64[] = convert_element_type[new_dtype=float64 weak_type=False] b\n    from line /tmp/ipykernel_4072/929770895.py:8 (parse_parameters)\n\nSee https://jax.readthedocs.io/en/latest/errors.html#jax.errors.ConcretizationTypeError",
     "output_type": "error",
     "traceback": [
      "\u001b[0;31m---------------------------------------------------------------------------\u001b[0m",
      "\u001b[0;31mConcretizationTypeError\u001b[0m                   Traceback (most recent call last)",
      "\u001b[0;32m/tmp/ipykernel_4072/3042928057.py\u001b[0m in \u001b[0;36m<module>\u001b[0;34m\u001b[0m\n\u001b[0;32m----> 1\u001b[0;31m \u001b[0mloss\u001b[0m\u001b[0;34m(\u001b[0m\u001b[0mparameters\u001b[0m\u001b[0;34m)\u001b[0m\u001b[0;34m\u001b[0m\u001b[0;34m\u001b[0m\u001b[0m\n\u001b[0m",
      "    \u001b[0;31m[... skipping hidden 14 frame]\u001b[0m\n",
      "\u001b[0;32m/tmp/ipykernel_4072/1474160984.py\u001b[0m in \u001b[0;36mloss\u001b[0;34m(parameters, analytic_solution, data)\u001b[0m\n\u001b[1;32m      6\u001b[0m     \u001b[0min_bounds\u001b[0m \u001b[0;34m=\u001b[0m \u001b[0;36m0.0\u001b[0m\u001b[0;34m\u001b[0m\u001b[0;34m\u001b[0m\u001b[0m\n\u001b[1;32m      7\u001b[0m     \u001b[0min_bounds\u001b[0m \u001b[0;34m=\u001b[0m \u001b[0mnp\u001b[0m\u001b[0;34m.\u001b[0m\u001b[0many\u001b[0m\u001b[0;34m(\u001b[0m\u001b[0;34m(\u001b[0m\u001b[0mparameters\u001b[0m\u001b[0;34m[\u001b[0m\u001b[0;36m2\u001b[0m\u001b[0;34m:\u001b[0m\u001b[0;34m]\u001b[0m \u001b[0;34m<\u001b[0m \u001b[0;36m0.0\u001b[0m\u001b[0;34m)\u001b[0m \u001b[0;34m|\u001b[0m \u001b[0;34m(\u001b[0m\u001b[0mparameters\u001b[0m\u001b[0;34m[\u001b[0m\u001b[0;36m2\u001b[0m\u001b[0;34m:\u001b[0m\u001b[0;34m]\u001b[0m \u001b[0;34m>\u001b[0m \u001b[0;36m1.0\u001b[0m\u001b[0;34m)\u001b[0m\u001b[0;34m)\u001b[0m \u001b[0;34m*\u001b[0m \u001b[0mnp\u001b[0m\u001b[0;34m.\u001b[0m\u001b[0minf\u001b[0m\u001b[0;34m\u001b[0m\u001b[0;34m\u001b[0m\u001b[0m\n\u001b[0;32m----> 8\u001b[0;31m     \u001b[0manalytic_data\u001b[0m \u001b[0;34m=\u001b[0m \u001b[0manalytic_solution\u001b[0m\u001b[0;34m(\u001b[0m\u001b[0mparameters\u001b[0m\u001b[0;34m,\u001b[0m \u001b[0mdata\u001b[0m\u001b[0;34m[\u001b[0m\u001b[0;36m0\u001b[0m\u001b[0;34m]\u001b[0m\u001b[0;34m)\u001b[0m\u001b[0;34m\u001b[0m\u001b[0;34m\u001b[0m\u001b[0m\n\u001b[0m\u001b[1;32m      9\u001b[0m     \u001b[0mchi_sq\u001b[0m \u001b[0;34m=\u001b[0m \u001b[0mnp\u001b[0m\u001b[0;34m.\u001b[0m\u001b[0msum\u001b[0m\u001b[0;34m(\u001b[0m\u001b[0;34m(\u001b[0m\u001b[0mdata\u001b[0m\u001b[0;34m[\u001b[0m\u001b[0;36m1\u001b[0m\u001b[0;34m]\u001b[0m \u001b[0;34m-\u001b[0m \u001b[0manalytic_data\u001b[0m\u001b[0;34m[\u001b[0m\u001b[0;34m:\u001b[0m\u001b[0;34m,\u001b[0m \u001b[0;36m1\u001b[0m\u001b[0;34m]\u001b[0m\u001b[0;34m)\u001b[0m \u001b[0;34m**\u001b[0m \u001b[0;36m2\u001b[0m \u001b[0;34m/\u001b[0m \u001b[0mdata\u001b[0m\u001b[0;34m[\u001b[0m\u001b[0;36m2\u001b[0m\u001b[0;34m]\u001b[0m \u001b[0;34m**\u001b[0m \u001b[0;36m2\u001b[0m\u001b[0;34m)\u001b[0m\u001b[0;34m\u001b[0m\u001b[0;34m\u001b[0m\u001b[0m\n\u001b[1;32m     10\u001b[0m     \u001b[0;32mreturn\u001b[0m \u001b[0min_bounds\u001b[0m \u001b[0;34m+\u001b[0m \u001b[0mchi_sq\u001b[0m\u001b[0;34m\u001b[0m\u001b[0;34m\u001b[0m\u001b[0m\n",
      "    \u001b[0;31m[... skipping hidden 7 frame]\u001b[0m\n",
      "\u001b[0;32m/tmp/ipykernel_4072/4259135557.py\u001b[0m in \u001b[0;36manalytic_solution\u001b[0;34m(parameters, time_out, decay, parser)\u001b[0m\n\u001b[1;32m     14\u001b[0m \u001b[0;34m\u001b[0m\u001b[0m\n\u001b[1;32m     15\u001b[0m     \u001b[0minitial_position\u001b[0m \u001b[0;34m=\u001b[0m \u001b[0mevent_area\u001b[0m \u001b[0;34m*\u001b[0m \u001b[0mproduction\u001b[0m\u001b[0;34m\u001b[0m\u001b[0;34m\u001b[0m\u001b[0m\n\u001b[0;32m---> 16\u001b[0;31m     \u001b[0mtransfer_matrix\u001b[0m \u001b[0;34m=\u001b[0m \u001b[0mparse_parameters\u001b[0m\u001b[0;34m(\u001b[0m\u001b[0mflow_sizes\u001b[0m\u001b[0;34m)\u001b[0m\u001b[0;34m\u001b[0m\u001b[0;34m\u001b[0m\u001b[0m\n\u001b[0m\u001b[1;32m     17\u001b[0m \u001b[0;34m\u001b[0m\u001b[0m\n\u001b[1;32m     18\u001b[0m     \u001b[0;34m@\u001b[0m\u001b[0mvmap\u001b[0m\u001b[0;34m\u001b[0m\u001b[0;34m\u001b[0m\u001b[0m\n",
      "\u001b[0;32m/tmp/ipykernel_4072/929770895.py\u001b[0m in \u001b[0;36mparse_parameters\u001b[0;34m(parameters, transfer_matrix)\u001b[0m\n\u001b[1;32m      6\u001b[0m         \u001b[0;32mfor\u001b[0m \u001b[0mi\u001b[0m\u001b[0;34m,\u001b[0m \u001b[0mrow\u001b[0m \u001b[0;32min\u001b[0m \u001b[0menumerate\u001b[0m\u001b[0;34m(\u001b[0m\u001b[0mtransfer_matrix\u001b[0m\u001b[0;34m)\u001b[0m\u001b[0;34m:\u001b[0m\u001b[0;34m\u001b[0m\u001b[0;34m\u001b[0m\u001b[0m\n\u001b[1;32m      7\u001b[0m             \u001b[0;32mfor\u001b[0m \u001b[0mj\u001b[0m\u001b[0;34m,\u001b[0m \u001b[0mcol\u001b[0m \u001b[0;32min\u001b[0m \u001b[0menumerate\u001b[0m\u001b[0;34m(\u001b[0m\u001b[0mrow\u001b[0m\u001b[0;34m)\u001b[0m\u001b[0;34m:\u001b[0m\u001b[0;34m\u001b[0m\u001b[0;34m\u001b[0m\u001b[0m\n\u001b[0;32m----> 8\u001b[0;31m                 \u001b[0;32mif\u001b[0m \u001b[0mcol\u001b[0m \u001b[0;34m!=\u001b[0m \u001b[0;36m0\u001b[0m\u001b[0;34m:\u001b[0m\u001b[0;34m\u001b[0m\u001b[0;34m\u001b[0m\u001b[0m\n\u001b[0m\u001b[1;32m      9\u001b[0m                     \u001b[0mparameter\u001b[0m \u001b[0;34m=\u001b[0m \u001b[0mparameters\u001b[0m\u001b[0;34m[\u001b[0m\u001b[0mindex\u001b[0m\u001b[0;34m]\u001b[0m\u001b[0;34m\u001b[0m\u001b[0;34m\u001b[0m\u001b[0m\n\u001b[1;32m     10\u001b[0m                     \u001b[0mtransfer_matrix\u001b[0m \u001b[0;34m=\u001b[0m \u001b[0mtransfer_matrix\u001b[0m\u001b[0;34m.\u001b[0m\u001b[0mat\u001b[0m\u001b[0;34m[\u001b[0m\u001b[0mi\u001b[0m\u001b[0;34m,\u001b[0m \u001b[0mj\u001b[0m\u001b[0;34m]\u001b[0m\u001b[0;34m.\u001b[0m\u001b[0mset\u001b[0m\u001b[0;34m(\u001b[0m\u001b[0;34m*\u001b[0m\u001b[0mparameter\u001b[0m\u001b[0;34m)\u001b[0m\u001b[0;34m\u001b[0m\u001b[0;34m\u001b[0m\u001b[0m\n",
      "    \u001b[0;31m[... skipping hidden 1 frame]\u001b[0m\n",
      "\u001b[0;32m~/anaconda3/envs/kitkat/lib/python3.9/site-packages/jax/core.py\u001b[0m in \u001b[0;36merror\u001b[0;34m(self, arg)\u001b[0m\n\u001b[1;32m   1037\u001b[0m                       f\"or `jnp.array(x, {fun.__name__})` instead.\")\n\u001b[1;32m   1038\u001b[0m   \u001b[0;32mdef\u001b[0m \u001b[0merror\u001b[0m\u001b[0;34m(\u001b[0m\u001b[0mself\u001b[0m\u001b[0;34m,\u001b[0m \u001b[0marg\u001b[0m\u001b[0;34m)\u001b[0m\u001b[0;34m:\u001b[0m\u001b[0;34m\u001b[0m\u001b[0;34m\u001b[0m\u001b[0m\n\u001b[0;32m-> 1039\u001b[0;31m     \u001b[0;32mraise\u001b[0m \u001b[0mConcretizationTypeError\u001b[0m\u001b[0;34m(\u001b[0m\u001b[0marg\u001b[0m\u001b[0;34m,\u001b[0m \u001b[0mfname_context\u001b[0m\u001b[0;34m)\u001b[0m\u001b[0;34m\u001b[0m\u001b[0;34m\u001b[0m\u001b[0m\n\u001b[0m\u001b[1;32m   1040\u001b[0m   \u001b[0;32mreturn\u001b[0m \u001b[0merror\u001b[0m\u001b[0;34m\u001b[0m\u001b[0;34m\u001b[0m\u001b[0m\n\u001b[1;32m   1041\u001b[0m \u001b[0;34m\u001b[0m\u001b[0m\n",
      "\u001b[0;31mConcretizationTypeError\u001b[0m: Abstract tracer value encountered where concrete value is expected: Traced<ShapedArray(bool[])>with<DynamicJaxprTrace(level=0/2)>\nThe problem arose with the `bool` function. \nWhile tracing the function loss at /tmp/ipykernel_4072/1474160984.py:1 for jit, this value became a tracer due to JAX operations on these lines:\n\n  operation a:bool[] = lt b c\n    from line /tmp/ipykernel_4072/4259135557.py:9 (analytic_solution)\n\n  operation a:i64[] = add b c\n    from line /tmp/ipykernel_4072/4259135557.py:9 (analytic_solution)\n\n  operation a:i64[] = select_n b c d\n    from line /tmp/ipykernel_4072/4259135557.py:9 (analytic_solution)\n\n  operation a:f64[11] b:f64[11] c:f64[11] d:f64[11] e:f64[11] f:f64[11] g:f64[11] h:f64[11] i:f64[11]\n  j:f64[11] k:f64[11] = xla_call[\n  call_jaxpr={ lambda ; l:f64[11,11]. let\n      m:f64[1,11] = slice[\n        limit_indices=(1, 11)\n        start_indices=(0, 0)\n        strides=(1, 1)\n      ] l\n      n:f64[11] = squeeze[dimensions=(0,)] m\n      o:f64[1,11] = slice[\n        limit_indices=(2, 11)\n        start_indices=(1, 0)\n        strides=(1, 1)\n      ] l\n      p:f64[11] = squeeze[dimensions=(0,)] o\n      q:f64[1,11] = slice[\n        limit_indices=(3, 11)\n        start_indices=(2, 0)\n        strides=(1, 1)\n      ] l\n      r:f64[11] = squeeze[dimensions=(0,)] q\n      s:f64[1,11] = slice[\n        limit_indices=(4, 11)\n        start_indices=(3, 0)\n        strides=(1, 1)\n      ] l\n      t:f64[11] = squeeze[dimensions=(0,)] s\n      u:f64[1,11] = slice[\n        limit_indices=(5, 11)\n        start_indices=(4, 0)\n        strides=(1, 1)\n      ] l\n      v:f64[11] = squeeze[dimensions=(0,)] u\n      w:f64[1,11] = slice[\n        limit_indices=(6, 11)\n        start_indices=(5, 0)\n        strides=(1, 1)\n      ] l\n      x:f64[11] = squeeze[dimensions=(0,)] w\n      y:f64[1,11] = slice[\n        limit_indices=(7, 11)\n        start_indices=(6, 0)\n        strides=(1, 1)\n      ] l\n      z:f64[11] = squeeze[dimensions=(0,)] y\n      ba:f64[1,11] = slice[\n        limit_indices=(8, 11)\n        start_indices=(7, 0)\n        strides=(1, 1)\n      ] l\n      bb:f64[11] = squeeze[dimensions=(0,)] ba\n      bc:f64[1,11] = slice[\n        limit_indices=(9, 11)\n        start_indices=(8, 0)\n        strides=(1, 1)\n      ] l\n      bd:f64[11] = squeeze[dimensions=(0,)] bc\n      be:f64[1,11] = slice[\n        limit_indices=(10, 11)\n        start_indices=(9, 0)\n        strides=(1, 1)\n      ] l\n      bf:f64[11] = squeeze[dimensions=(0,)] be\n      bg:f64[1,11] = slice[\n        limit_indices=(11, 11)\n        start_indices=(10, 0)\n        strides=(1, 1)\n      ] l\n      bh:f64[11] = squeeze[dimensions=(0,)] bg\n    in (n, p, r, t, v, x, z, bb, bd, bf, bh) }\n  name=_unstack\n] bi\n    from line /tmp/ipykernel_4072/929770895.py:6 (parse_parameters)\n\n  operation a:f64[] = convert_element_type[new_dtype=float64 weak_type=False] b\n    from line /tmp/ipykernel_4072/929770895.py:8 (parse_parameters)\n\nSee https://jax.readthedocs.io/en/latest/errors.html#jax.errors.ConcretizationTypeError"
     ]
    }
   ],
   "source": [
    "loss(parameters)"
   ]
  },
  {
   "cell_type": "code",
   "execution_count": 58,
   "metadata": {},
   "outputs": [],
   "source": [
    "gradient = jit(grad(loss))\n",
    "hessian = jit(jacfwd(jacrev(loss)))"
   ]
  },
  {
   "cell_type": "code",
   "execution_count": 59,
   "metadata": {},
   "outputs": [
    {
     "name": "stderr",
     "output_type": "stream",
     "text": [
      "sample: 100%|██████████| 600/600 [16:43<00:00,  1.67s/it, 982 steps of size 2.95e-13. acc. prob=1.00] \n"
     ]
    }
   ],
   "source": [
    "# Running the No U Turn sampling\n",
    "nuts_kernel = NUTS(potential_fn=loss)\n",
    "mcmc = MCMC(nuts_kernel, num_warmup=100, num_samples=500, progress_bar=True)\n",
    "mcmc.run(random.PRNGKey(11), init_params=parameters)"
   ]
  },
  {
   "cell_type": "code",
   "execution_count": 60,
   "metadata": {},
   "outputs": [],
   "source": [
    "test = mcmc.get_samples()"
   ]
  },
  {
   "cell_type": "code",
   "execution_count": 61,
   "metadata": {},
   "outputs": [],
   "source": [
    "import seaborn as sns\n",
    "sns.set()"
   ]
  },
  {
   "cell_type": "code",
   "execution_count": null,
   "metadata": {},
   "outputs": [],
   "source": [
    "fig, axes = plt.subplots(4, 4, figsize=(20, 20))\n",
    "for index, variable in enumerate(test.T):\n",
    "    axis = axes[index // 4][index % 4]\n",
    "    sns.kdeplot(test.T[index], ax=axis)"
   ]
  }
 ],
 "metadata": {
  "interpreter": {
   "hash": "ab79d763119790aea00e8eaeb5d3be48434571919ae202ec38e1b7aefb77c6d3"
  },
  "kernelspec": {
   "display_name": "Python 3.9.0 ('kitkat')",
   "language": "python",
   "name": "python3"
  },
  "language_info": {
   "codemirror_mode": {
    "name": "ipython",
    "version": 3
   },
   "file_extension": ".py",
   "mimetype": "text/x-python",
   "name": "python",
   "nbconvert_exporter": "python",
   "pygments_lexer": "ipython3",
   "version": "3.9.0"
  },
  "orig_nbformat": 4
 },
 "nbformat": 4,
 "nbformat_minor": 2
}
