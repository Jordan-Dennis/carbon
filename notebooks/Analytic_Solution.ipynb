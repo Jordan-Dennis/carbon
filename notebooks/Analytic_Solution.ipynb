{
 "cells": [
  {
   "cell_type": "code",
   "execution_count": 165,
   "metadata": {},
   "outputs": [],
   "source": [
    "# Miscellaneous\n",
    "from functools import partial \n",
    "from ticktack import load_presaved_model\n",
    "\n",
    "# Hamiltonian monte-carlo\n",
    "from numpyro.infer import NUTS, MCMC\n",
    "\n",
    "import jax.numpy as np\n",
    "import jax.scipy as sc\n",
    "import jax.random as random\n",
    "import matplotlib.pyplot as plt\n",
    "from jax import jit, jacrev, jacfwd, vmap, grad"
   ]
  },
  {
   "cell_type": "code",
   "execution_count": 166,
   "metadata": {},
   "outputs": [],
   "source": [
    "cbm = load_presaved_model(\"Guttler14\", production_rate_units=\"atoms/cm^2/s\")\n",
    "cbm.compile()"
   ]
  },
  {
   "cell_type": "code",
   "execution_count": 178,
   "metadata": {},
   "outputs": [],
   "source": [
    "def construct_model(cbm=cbm):\n",
    "    template = np.where(cbm._matrix != 0, np.ones(cbm._matrix.shape), np.zeros(cbm._matrix.shape))\n",
    "    indexes = np.where(cbm._matrix != 0)\n",
    "    indexes = np.array(indexes).T\n",
    "\n",
    "    @jit\n",
    "    def parse_parameters(parameters, template=template, indexes=indexes):\n",
    "        index = 0\n",
    "        for i, j in indexes:\n",
    "            template = template.at[i, j].set(parameters[index])\n",
    "            index += 1\n",
    "        return template\n",
    "    \n",
    "    return parse_parameters"
   ]
  },
  {
   "cell_type": "code",
   "execution_count": 185,
   "metadata": {},
   "outputs": [],
   "source": [
    "parse_parameters = construct_model(cbm)\n",
    "parameters = random.uniform(random.PRNGKey(1), (35,))"
   ]
  },
  {
   "cell_type": "code",
   "execution_count": 186,
   "metadata": {},
   "outputs": [
    {
     "data": {
      "text/plain": [
       "DeviceArray([[0.85644567, 0.47139387, 0.        , 0.        , 0.        ,\n",
       "              0.        , 0.        , 0.        , 0.        , 0.        ,\n",
       "              0.        ],\n",
       "             [0.91312016, 0.22212906, 0.08435855, 0.        , 0.        ,\n",
       "              0.00102618, 0.        , 0.61726359, 0.98502445, 0.78420864,\n",
       "              0.58387788],\n",
       "             [0.        , 0.14211087, 0.51747562, 0.18148646, 0.07293947,\n",
       "              0.        , 0.        , 0.11105859, 0.        , 0.        ,\n",
       "              0.        ],\n",
       "             [0.        , 0.        , 0.81487791, 0.59780625, 0.        ,\n",
       "              0.        , 0.        , 0.        , 0.        , 0.        ,\n",
       "              0.        ],\n",
       "             [0.        , 0.        , 0.42537515, 0.00488481, 0.01466132,\n",
       "              0.        , 0.        , 0.        , 0.        , 0.        ,\n",
       "              0.        ],\n",
       "             [0.        , 0.08158744, 0.        , 0.        , 0.        ,\n",
       "              0.74505568, 0.        , 0.        , 0.        , 0.        ,\n",
       "              0.        ],\n",
       "             [0.        , 0.        , 0.        , 0.        , 0.        ,\n",
       "              0.76327664, 0.12536111, 0.        , 0.        , 0.        ,\n",
       "              0.        ],\n",
       "             [0.        , 0.        , 0.        , 0.        , 0.        ,\n",
       "              0.86410195, 0.40596178, 0.90590384, 0.        , 0.        ,\n",
       "              0.        ],\n",
       "             [0.        , 0.        , 0.        , 0.        , 0.        ,\n",
       "              0.        , 0.        , 0.56956093, 0.83117547, 0.        ,\n",
       "              0.        ],\n",
       "             [0.        , 0.        , 0.        , 0.        , 0.        ,\n",
       "              0.        , 0.        , 0.07698673, 0.        , 0.05834911,\n",
       "              0.        ],\n",
       "             [0.        , 0.        , 0.75534054, 0.        , 0.43706874,\n",
       "              0.        , 0.        , 0.        , 0.        , 0.03467612,\n",
       "              0.54844688]], dtype=float64)"
      ]
     },
     "execution_count": 186,
     "metadata": {},
     "output_type": "execute_result"
    }
   ],
   "source": [
    "parse_parameters(parameters)"
   ]
  },
  {
   "cell_type": "code",
   "execution_count": 170,
   "metadata": {},
   "outputs": [],
   "source": [
    "@partial(jit, static_argnums=(0))\n",
    "def load(filename: str):\n",
    "    \"\"\"\n",
    "    A custom `JAX` file loading protocol designed to be very quick and return a value that is `JAX` transformable. \n",
    "    \n",
    "    Parameters:\n",
    "        filename: String -> The file address of the data\n",
    "    Returns:\n",
    "        DeviceArray -> The data in column major order\n",
    "    \"\"\"\n",
    "    with open(filename) as data:    # Opening the data file\n",
    "        header = next(data)\n",
    "        data = np.array([row.strip().split(\" \") for row in data], dtype=np.float64)\n",
    "        return data.T\n"
   ]
  },
  {
   "cell_type": "code",
   "execution_count": 171,
   "metadata": {},
   "outputs": [],
   "source": [
    "data = load(\"miyake12.csv\")\n",
    "data = data.at[1].add(-np.mean(data[1, 1:4]))"
   ]
  },
  {
   "cell_type": "code",
   "execution_count": 172,
   "metadata": {},
   "outputs": [],
   "source": [
    "@partial(jit, static_argnums=(1, 2))\n",
    "def loss(parameters, /, analytic_solution=analytic_solution, data=data):\n",
    "    \"\"\"\n",
    "    Computes the log likelihood of a set of parameters in the parameter space\n",
    "    \"\"\"\n",
    "    in_bounds = 0.0\n",
    "    in_bounds = np.any((parameters[2:] < 0.0) | (parameters[2:] > 1.0)) * np.inf\n",
    "    analytic_data = analytic_solution(parameters, data[0])\n",
    "    chi_sq = np.sum((data[1] - analytic_data[:, 1]) ** 2 / data[2] ** 2)\n",
    "    return in_bounds + chi_sq"
   ]
  },
  {
   "cell_type": "code",
   "execution_count": 173,
   "metadata": {},
   "outputs": [],
   "source": [
    "parameters = np.concatenate([np.array([774.8, 40.0, 0.3], dtype=np.float64), parameters])"
   ]
  },
  {
   "cell_type": "code",
   "execution_count": 177,
   "metadata": {},
   "outputs": [
    {
     "name": "stdout",
     "output_type": "stream",
     "text": [
      "862 µs ± 108 µs per loop (mean ± std. dev. of 7 runs, 1000 loops each)\n"
     ]
    }
   ],
   "source": [
    "%%timeit\n",
    "loss(parameters)"
   ]
  },
  {
   "cell_type": "code",
   "execution_count": 58,
   "metadata": {},
   "outputs": [],
   "source": [
    "gradient = jit(grad(loss))\n",
    "hessian = jit(jacfwd(jacrev(loss)))"
   ]
  },
  {
   "cell_type": "code",
   "execution_count": 59,
   "metadata": {},
   "outputs": [
    {
     "name": "stderr",
     "output_type": "stream",
     "text": [
      "sample: 100%|██████████| 600/600 [16:43<00:00,  1.67s/it, 982 steps of size 2.95e-13. acc. prob=1.00] \n"
     ]
    }
   ],
   "source": [
    "# Running the No U Turn sampling\n",
    "nuts_kernel = NUTS(potential_fn=loss)\n",
    "mcmc = MCMC(nuts_kernel, num_warmup=100, num_samples=500, progress_bar=True)\n",
    "mcmc.run(random.PRNGKey(11), init_params=parameters)"
   ]
  },
  {
   "cell_type": "code",
   "execution_count": 60,
   "metadata": {},
   "outputs": [],
   "source": [
    "test = mcmc.get_samples()"
   ]
  },
  {
   "cell_type": "code",
   "execution_count": 61,
   "metadata": {},
   "outputs": [],
   "source": [
    "import seaborn as sns\n",
    "sns.set()"
   ]
  },
  {
   "cell_type": "code",
   "execution_count": null,
   "metadata": {},
   "outputs": [],
   "source": [
    "fig, axes = plt.subplots(4, 4, figsize=(20, 20))\n",
    "for index, variable in enumerate(test.T):\n",
    "    axis = axes[index // 4][index % 4]\n",
    "    sns.kdeplot(test.T[index], ax=axis)"
   ]
  }
 ],
 "metadata": {
  "interpreter": {
   "hash": "ab79d763119790aea00e8eaeb5d3be48434571919ae202ec38e1b7aefb77c6d3"
  },
  "kernelspec": {
   "display_name": "Python 3.9.0 ('kitkat')",
   "language": "python",
   "name": "python3"
  },
  "language_info": {
   "codemirror_mode": {
    "name": "ipython",
    "version": 3
   },
   "file_extension": ".py",
   "mimetype": "text/x-python",
   "name": "python",
   "nbconvert_exporter": "python",
   "pygments_lexer": "ipython3",
   "version": "3.9.0"
  },
  "orig_nbformat": 4
 },
 "nbformat": 4,
 "nbformat_minor": 2
}
