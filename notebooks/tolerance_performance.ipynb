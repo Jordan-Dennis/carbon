{
 "cells": [
  {
   "cell_type": "code",
   "execution_count": 6,
   "metadata": {},
   "outputs": [],
   "source": [
    "import ticktack\n",
    "from ticktack import fitting\n",
    "\n",
    "from time import process_time\n",
    "from os import getcwd\n",
    "from plotnine import *\n",
    "from pandas import DataFrame\n",
    "\n",
    "from jax.numpy import arange, array\n",
    "\n",
    "from ticktack.ode import odeint as BS3\n",
    "from jax.experimental.ode import odeint as DP5"
   ]
  },
  {
   "cell_type": "code",
   "execution_count": null,
   "metadata": {},
   "outputs": [],
   "source": [
    "MODELS = { # This dictionary contains the units for the fluxes and production function\n",
    "    \"Guttler14\": {  # Units of the Guttler 2014 paper\n",
    "        \"production_rate_units\": \"atoms/cm^2/s\",    # Units of the production rate \n",
    "        \"flow_rate_units\": \"Gt/yr\"                  # Units of the fluxes\n",
    "    },\n",
    "    \"Brehm21\": {    # Units used by the Brehm, et. al. paper\n",
    "        \"production_rate_units\": \"kg/yr\",    # Units of the production rate\n",
    "        \"flow_rate_units\": \"Gt/yr\"           # Units of the fluxes\n",
    "    },\n",
    "    \"Buntgen18\": {  # The units used by the Buntgen 2018 paper\n",
    "        \"production_rate_units\": \"atoms/cm^2/s\",    # Units of the production function\n",
    "        \"flow_rate_units\": \"Gt/yr\"                  # Units of the fluxes \n",
    "    },\n",
    "    \"Miyake17\": {   # The units used by the Miyake 2017 et. al. paper\n",
    "        \"production_rate_units\": \"atoms/cm^2/s\",    # Units of the production function \n",
    "        \"flow_rate_units\": \"1/yr\"                   # Units of the fluxes.\n",
    "    }\n",
    "}"
   ]
  },
  {
   "cell_type": "code",
   "execution_count": null,
   "metadata": {},
   "outputs": [],
   "source": [
    "model_fitting_objects = {\n",
    "    \"Guttler14\": None, \"Brehm21\": None,\n",
    "    \"Buntgen18\": None, \"Miyake17\": None\n",
    "}"
   ]
  },
  {
   "cell_type": "code",
   "execution_count": null,
   "metadata": {},
   "outputs": [],
   "source": [
    "solvers = {\n",
    "    \"BS3\": BS3,\n",
    "    \"DP5\": DP5\n",
    "}"
   ]
  },
  {
   "cell_type": "code",
   "execution_count": null,
   "metadata": {},
   "outputs": [],
   "source": [
    "for model in MODELS:\n",
    "    carbon_box_model = ticktack.load_presaved_model(model, \n",
    "    production_rate_units=MODELS[model][\"production_rate_units\"], \n",
    "    flow_rate_units=MODELS[model][\"flow_rate_units\"])\n",
    "\n",
    "    fitting_object = fitting.SingleFitter(carbon_box_model, cbm_model=model)\n",
    "    fitting_object.load_data(f\"{getcwd()}/datasets/775AD/NH/Miyake12_Cedar.csv\")\n",
    "    fitting_object.prepare_function(model=\"simple_sinusoid\")\n",
    "\n",
    "    model_fitting_objects[model] = fitting_object"
   ]
  },
  {
   "cell_type": "code",
   "execution_count": null,
   "metadata": {},
   "outputs": [],
   "source": [
    "tolerance_frame = {\n",
    "    \"solver\": [], \n",
    "    \"type\": [], \n",
    "    \"tolerance\": [], \n",
    "    \"year\": [], \n",
    "    \"dc14\": []\n",
    "}\n",
    "\n",
    "time_frame = {\n",
    "    \"solver\": [], \n",
    "    \"type\": [], \n",
    "    \"time\": [],\n",
    "    \"tolerance\": []\n",
    "}\n",
    "\n",
    "tolerance_range = [1e-3, 1e-4, 1e-5, 1e-6, 1e-7, 1e-8]"
   ]
  },
  {
   "cell_type": "code",
   "execution_count": null,
   "metadata": {},
   "outputs": [],
   "source": [
    "for solver in solvers:\n",
    "    for model in model_fitting_objects:\n",
    "        for tol in tolerance_range:\n",
    "            timer = process_time()\n",
    "            fit_array = model_fitting_objects[model].dc14(\n",
    "                params=(774.86, 0.25, 0.8, 6.44), rtol=tol, atol=tol)\n",
    "            timer = process_time() - timer\n",
    "            fit_shape = len(fit_array)\n",
    "\n",
    "            tolerance_frame[\"solver\"].extend([solver for _ in range(fit_shape)])\n",
    "            tolerance_frame[\"type\"].extend([model for _ in range(fit_shape)])\n",
    "            tolerance_frame[\"tolerance\"].extend([tol for _ in range(fit_shape)])\n",
    "            tolerance_frame[\"year\"].extend([year for year in range(fit_shape)])\n",
    "            tolerance_frame[\"dc14\"].extend(fit_array)\n",
    "            \n",
    "            time_frame[\"solver\"].append(solver)\n",
    "            time_frame[\"type\"].append(model)\n",
    "            time_frame[\"time\"].append(timer)\n",
    "            time_frame[\"tolerance\"].append(tol)"
   ]
  },
  {
   "cell_type": "code",
   "execution_count": null,
   "metadata": {},
   "outputs": [],
   "source": [
    "tolerance_frame = DataFrame(tolerance_frame)\n",
    "(ggplot(tolerance_frame, aes(x=\"year\", y=\"dc14\", color=\"type\"))\n",
    "    + geom_line()\n",
    "    + theme_bw()\n",
    "    + facet_wrap(facets=\"~ tolerance + module\"))"
   ]
  },
  {
   "cell_type": "code",
   "execution_count": null,
   "metadata": {},
   "outputs": [],
   "source": [
    "time_frame = DataFrame(time_frame)\n",
    "(ggplot(time_frame, aes(x=\"tolerance\", y=\"time\", color=\"type\", linetype=\"factor(module)\"))\n",
    "    + geom_line()\n",
    "    + geom_point() \n",
    "    + scale_x_log10()\n",
    "    + scale_y_log10()\n",
    "    + theme_bw())"
   ]
  },
  {
   "cell_type": "markdown",
   "metadata": {},
   "source": [
    "This compares the final results"
   ]
  },
  {
   "cell_type": "code",
   "execution_count": null,
   "metadata": {},
   "outputs": [],
   "source": [
    "MODULES = {\n",
    "    \"ticktack\": {\n",
    "        \"pointer\": ticktack,\n",
    "        \"tolerance\": 1e-15\n",
    "    }, \n",
    "    \"ticktacktoe\": {\n",
    "        \"pointer\": ticktacktoe,\n",
    "        \"tolerance\": 1e-5\n",
    "    }\n",
    "}"
   ]
  },
  {
   "cell_type": "code",
   "execution_count": null,
   "metadata": {},
   "outputs": [],
   "source": [
    "module_times = {\"module\": [], \"time\": [], \"run\": []}"
   ]
  },
  {
   "cell_type": "code",
   "execution_count": null,
   "metadata": {},
   "outputs": [],
   "source": [
    "for module in MODULES:\n",
    "    carbon_box_model = MODULES[module][\"pointer\"].load_presaved_model(\n",
    "        \"Guttler14\", production_rate_units=\"atoms/cm^2/s\")\n",
    "    carbon_box_model.compile()\n",
    "\n",
    "    production_function = ticktacktoefit.SingleFitter(carbon_box_model, \\\n",
    "        \"Guttler14\").simple_sinusoid\n",
    "\n",
    "    for run in range(10):\n",
    "        timer = process_time()\n",
    "        carbon_box_model.run(\n",
    "            time_out=arange(0, 800), \n",
    "            oversample=108, \n",
    "            production=production_function,\n",
    "            args=array([774.86, 0.25, 0.8, 6.44]),\n",
    "            steady_state_production=1.76,\n",
    "            rtol=MODULES[module][\"tolerance\"],\n",
    "            atol=MODULES[module][\"tolerance\"]\n",
    "        )\n",
    "        timer = process_time() - timer\n",
    "\n",
    "        module_times[\"module\"].append(module)\n",
    "        module_times[\"time\"].append(timer)\n",
    "        module_times[\"run\"].append(run)"
   ]
  },
  {
   "cell_type": "code",
   "execution_count": null,
   "metadata": {},
   "outputs": [],
   "source": [
    "module_times = DataFrame(module_times)\n",
    "(ggplot(module_times, aes(x=\"run\", y=\"time\", fill=\"module\"))\n",
    "    + geom_col(position=\"dodge\"))"
   ]
  }
 ],
 "metadata": {
  "interpreter": {
   "hash": "1d489e25830f53b6f889a54709355290897709fcf1a8ece815ede8be939a3fac"
  },
  "kernelspec": {
   "display_name": "Python 3.9.7 64-bit ('beyondticktack': conda)",
   "language": "python",
   "name": "python3"
  },
  "language_info": {
   "codemirror_mode": {
    "name": "ipython",
    "version": 3
   },
   "file_extension": ".py",
   "mimetype": "text/x-python",
   "name": "python",
   "nbconvert_exporter": "python",
   "pygments_lexer": "ipython3",
   "version": "3.9.0"
  },
  "orig_nbformat": 4
 },
 "nbformat": 4,
 "nbformat_minor": 2
}
