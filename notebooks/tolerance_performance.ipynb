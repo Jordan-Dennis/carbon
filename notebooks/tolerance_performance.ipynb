{
 "cells": [
  {
   "cell_type": "code",
   "execution_count": 22,
   "metadata": {},
   "outputs": [],
   "source": [
    "import ticktack\n",
    "from ticktack import fitting\n",
    "\n",
    "from time import process_time\n",
    "from plotnine import *\n",
    "from pandas import DataFrame\n",
    "\n",
    "from jax.numpy import arange\n",
    "\n",
    "from ticktack.ode import odeint as BS3\n",
    "from jax.experimental.ode import odeint as DP5"
   ]
  },
  {
   "cell_type": "code",
   "execution_count": 23,
   "metadata": {},
   "outputs": [],
   "source": [
    "MODELS = { # This dictionary contains the units for the fluxes and production function\n",
    "    \"Guttler14\": {  # Units of the Guttler 2014 paper\n",
    "        \"production_rate_units\": \"atoms/cm^2/s\",    # Units of the production rate \n",
    "        \"flow_rate_units\": \"Gt/yr\"                  # Units of the fluxes\n",
    "    },\n",
    "    \"Brehm21\": {    # Units used by the Brehm, et. al. paper\n",
    "        \"production_rate_units\": \"kg/yr\",    # Units of the production rate\n",
    "        \"flow_rate_units\": \"Gt/yr\"           # Units of the fluxes\n",
    "    },\n",
    "    \"Buntgen18\": {  # The units used by the Buntgen 2018 paper\n",
    "        \"production_rate_units\": \"atoms/cm^2/s\",    # Units of the production function\n",
    "        \"flow_rate_units\": \"Gt/yr\"                  # Units of the fluxes \n",
    "    },\n",
    "    \"Miyake17\": {   # The units used by the Miyake 2017 et. al. paper\n",
    "        \"production_rate_units\": \"atoms/cm^2/s\",    # Units of the production function \n",
    "        \"flow_rate_units\": \"1/yr\"                   # Units of the fluxes.\n",
    "    }\n",
    "}"
   ]
  },
  {
   "cell_type": "code",
   "execution_count": 24,
   "metadata": {},
   "outputs": [],
   "source": [
    "model_fitting_objects = {\n",
    "    \"Guttler14\": None, \"Brehm21\": None,\n",
    "    \"Buntgen18\": None, \"Miyake17\": None\n",
    "}"
   ]
  },
  {
   "cell_type": "code",
   "execution_count": 25,
   "metadata": {},
   "outputs": [],
   "source": [
    "SOLVERS = {\n",
    "    \"BS3\": BS3,\n",
    "    \"DP5\": DP5\n",
    "}"
   ]
  },
  {
   "cell_type": "code",
   "execution_count": 26,
   "metadata": {},
   "outputs": [],
   "source": [
    "for model in MODELS:\n",
    "    carbon_box_model = ticktack.load_presaved_model(model, \n",
    "    production_rate_units=MODELS[model][\"production_rate_units\"], \n",
    "    flow_rate_units=MODELS[model][\"flow_rate_units\"])\n",
    "\n",
    "    fitting_object = fitting.SingleFitter(carbon_box_model, cbm_model=model)\n",
    "    fitting_object.load_data(\"/home/jordan/Documents/ticktack/src/data/\" + \\\n",
    "        \"datasets/7176BCE/Brehm21_AlpineLarch.csv\")\n",
    "    fitting_object.compile_production_model(\"simple_sinusoid\")\n",
    "\n",
    "    model_fitting_objects[model] = fitting_object"
   ]
  },
  {
   "cell_type": "code",
   "execution_count": 27,
   "metadata": {},
   "outputs": [],
   "source": [
    "tolerance_frame = {\n",
    "    \"solver\": [], \n",
    "    \"type\": [], \n",
    "    \"tolerance\": [], \n",
    "    \"year\": [], \n",
    "    \"dc14\": []\n",
    "}\n",
    "\n",
    "time_frame = {\n",
    "    \"solver\": [], \n",
    "    \"type\": [], \n",
    "    \"time\": [],\n",
    "    \"tolerance\": []\n",
    "}\n",
    "\n",
    "tolerance_range = [1e-3, 1e-4, 1e-5, 1e-6, 1e-7, 1e-8]"
   ]
  },
  {
   "cell_type": "code",
   "execution_count": 28,
   "metadata": {},
   "outputs": [
    {
     "ename": "TypeError",
     "evalue": "set_solver() got an unexpected keyword argument 'rtol'",
     "output_type": "error",
     "traceback": [
      "\u001b[0;31m---------------------------------------------------------------------------\u001b[0m",
      "\u001b[0;31mTypeError\u001b[0m                                 Traceback (most recent call last)",
      "\u001b[0;32m/tmp/ipykernel_23997/2989181368.py\u001b[0m in \u001b[0;36m<module>\u001b[0;34m\u001b[0m\n\u001b[1;32m      2\u001b[0m     \u001b[0;32mfor\u001b[0m \u001b[0mmodel\u001b[0m \u001b[0;32min\u001b[0m \u001b[0mmodel_fitting_objects\u001b[0m\u001b[0;34m:\u001b[0m\u001b[0;34m\u001b[0m\u001b[0;34m\u001b[0m\u001b[0m\n\u001b[1;32m      3\u001b[0m         \u001b[0;32mfor\u001b[0m \u001b[0mtol\u001b[0m \u001b[0;32min\u001b[0m \u001b[0mtolerance_range\u001b[0m\u001b[0;34m:\u001b[0m\u001b[0;34m\u001b[0m\u001b[0;34m\u001b[0m\u001b[0m\n\u001b[0;32m----> 4\u001b[0;31m             \u001b[0mmodel_fitting_objects\u001b[0m\u001b[0;34m[\u001b[0m\u001b[0mmodel\u001b[0m\u001b[0;34m]\u001b[0m\u001b[0;34m.\u001b[0m\u001b[0mset_solver\u001b[0m\u001b[0;34m(\u001b[0m\u001b[0msolver\u001b[0m\u001b[0;34m,\u001b[0m \u001b[0mrtol\u001b[0m\u001b[0;34m=\u001b[0m\u001b[0mtol\u001b[0m\u001b[0;34m,\u001b[0m \u001b[0matol\u001b[0m\u001b[0;34m=\u001b[0m\u001b[0mtol\u001b[0m\u001b[0;34m)\u001b[0m\u001b[0;34m\u001b[0m\u001b[0;34m\u001b[0m\u001b[0m\n\u001b[0m\u001b[1;32m      5\u001b[0m \u001b[0;34m\u001b[0m\u001b[0m\n\u001b[1;32m      6\u001b[0m             \u001b[0mtimer\u001b[0m \u001b[0;34m=\u001b[0m \u001b[0mprocess_time\u001b[0m\u001b[0;34m(\u001b[0m\u001b[0;34m)\u001b[0m\u001b[0;34m\u001b[0m\u001b[0;34m\u001b[0m\u001b[0m\n",
      "\u001b[0;31mTypeError\u001b[0m: set_solver() got an unexpected keyword argument 'rtol'"
     ]
    }
   ],
   "source": [
    "for solver in SOLVERS:\n",
    "    for model in model_fitting_objects:\n",
    "        for tol in tolerance_range:\n",
    "            model_fitting_objects[model].set_solver(solver, rtol=tol, atol=tol)\n",
    "            \n",
    "            timer = process_time()\n",
    "            fit_array = model_fitting_objects[model].dc14(\n",
    "                params=(774.86, 0.25, 0.8, 6.44))\n",
    "            timer = process_time() - timer\n",
    "            fit_shape = len(fit_array)\n",
    "\n",
    "            tolerance_frame[\"solver\"].extend([solver for _ in range(fit_shape)])\n",
    "            tolerance_frame[\"type\"].extend([model for _ in range(fit_shape)])\n",
    "            tolerance_frame[\"tolerance\"].extend([tol for _ in range(fit_shape)])\n",
    "            tolerance_frame[\"year\"].extend([year for year in range(fit_shape)])\n",
    "            tolerance_frame[\"dc14\"].extend(fit_array)\n",
    "            \n",
    "            time_frame[\"solver\"].append(solver)\n",
    "            time_frame[\"type\"].append(model)\n",
    "            time_frame[\"time\"].append(timer)\n",
    "            time_frame[\"tolerance\"].append(tol)"
   ]
  },
  {
   "cell_type": "code",
   "execution_count": null,
   "metadata": {},
   "outputs": [],
   "source": [
    "tolerance_frame = DataFrame(tolerance_frame)\n",
    "(ggplot(tolerance_frame, aes(x=\"year\", y=\"dc14\", color=\"type\"))\n",
    "    + geom_line()\n",
    "    + theme_bw()\n",
    "    + facet_wrap(facets=\"~ tolerance + module\"))"
   ]
  },
  {
   "cell_type": "code",
   "execution_count": null,
   "metadata": {},
   "outputs": [],
   "source": [
    "time_frame = DataFrame(time_frame)\n",
    "(ggplot(time_frame, aes(x=\"tolerance\", y=\"time\", color=\"type\", linetype=\"factor(module)\"))\n",
    "    + geom_line()\n",
    "    + geom_point() \n",
    "    + scale_x_log10()\n",
    "    + scale_y_log10()\n",
    "    + theme_bw())"
   ]
  },
  {
   "cell_type": "markdown",
   "metadata": {},
   "source": [
    "This compares the final results"
   ]
  },
  {
   "cell_type": "code",
   "execution_count": null,
   "metadata": {},
   "outputs": [],
   "source": [
    "SOLVER_TOLS = {\n",
    "    \"BS3\": 1e-5, \n",
    "    \"DP5\": 1e-15\n",
    "}"
   ]
  },
  {
   "cell_type": "code",
   "execution_count": null,
   "metadata": {},
   "outputs": [],
   "source": [
    "module_times = {\"solver\": [], \"time\": [], \"run\": []}"
   ]
  },
  {
   "cell_type": "code",
   "execution_count": null,
   "metadata": {},
   "outputs": [],
   "source": [
    "for solver in SOLVER_TOLS:\n",
    "    carbon_box_model = ticktack.load_presaved_model(\n",
    "        \"Guttler14\", production_rate_units=\"atoms/cm^2/s\")\n",
    "    carbon_box_model.compile()\n",
    "\n",
    "    production_function = fitting.SingleFitter(carbon_box_model, \\\n",
    "        \"Guttler14\").simple_sinusoid\n",
    "\n",
    "    for run in range(10):\n",
    "        timer = process_time()\n",
    "        carbon_box_model.run(\n",
    "            time_out=arange(0, 800), \n",
    "            oversample=108, \n",
    "            production=production_function,\n",
    "            solver=SOLVERS[solver]\n",
    "            args=array([774.86, 0.25, 0.8, 6.44]),\n",
    "            steady_state_production=1.76,\n",
    "            rtol=SOLVER_TOLS[solver],\n",
    "            atol=SOLVER_TOLS[solver]\n",
    "        )\n",
    "        timer = process_time() - timer\n",
    "\n",
    "        module_times[\"solver\"].append(solver)\n",
    "        module_times[\"time\"].append(timer)\n",
    "        module_times[\"run\"].append(run)"
   ]
  },
  {
   "cell_type": "code",
   "execution_count": null,
   "metadata": {},
   "outputs": [],
   "source": [
    "module_times = DataFrame(module_times)\n",
    "(ggplot(module_times, aes(x=\"run\", y=\"time\", fill=\"module\"))\n",
    "    + geom_col(position=\"dodge\"))"
   ]
  }
 ],
 "metadata": {
  "interpreter": {
   "hash": "1d489e25830f53b6f889a54709355290897709fcf1a8ece815ede8be939a3fac"
  },
  "kernelspec": {
   "display_name": "Python 3.9.7 64-bit ('beyondticktack': conda)",
   "language": "python",
   "name": "python3"
  },
  "language_info": {
   "codemirror_mode": {
    "name": "ipython",
    "version": 3
   },
   "file_extension": ".py",
   "mimetype": "text/x-python",
   "name": "python",
   "nbconvert_exporter": "python",
   "pygments_lexer": "ipython3",
   "version": "3.9.0"
  },
  "orig_nbformat": 4
 },
 "nbformat": 4,
 "nbformat_minor": 2
}
