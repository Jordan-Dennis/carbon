{
 "cells": [
  {
   "cell_type": "code",
   "execution_count": 2,
   "id": "6aca4578",
   "metadata": {},
   "outputs": [],
   "source": [
    "import diffrax\n",
    "import jax\n",
    "import ticktack"
   ]
  },
  {
   "cell_type": "code",
   "execution_count": 19,
   "id": "530bea8e",
   "metadata": {},
   "outputs": [],
   "source": [
    "parameters = (774.86, 0.25, 0.8, 6.44)\n",
    "\n",
    "STEADY_PROD = 1.8803862513018528\n",
    "\n",
    "STEADY_STATE = jax.numpy.array(\n",
    "    [1.34432991e+02, 7.07000000e+02, 1.18701144e+03,\n",
    "    3.95666872e+00, 4.49574232e+04, 1.55056740e+02,\n",
    "    6.32017337e+02, 4.22182768e+02, 1.80125397e+03,\n",
    "    6.63307283e+02, 7.28080320e+03], \n",
    "    dtype=jax.numpy.float64)\n",
    "\n",
    "PROD_COEFFS = jax.numpy.array(\n",
    "    [0.7, 0.3, 0.0, 0.0, 0.0, 0.0, 0.0, 0.0, 0.0, 0.0, 0.0], \n",
    "    dtype=jax.numpy.float64)\n",
    "\n",
    "MATRIX = jax.numpy.array([\n",
    "    [-0.509, 0.009, 0.0, 0.0, 0.0, 0.0, 0.0, 0.0, 0.0, 0.0, 0.0],\n",
    "    [0.508, -0.44, 0.068, 0.0, 0.0, 0.545, 0.0, 0.167, 0.002, 0.002, 0.0],\n",
    "    [0.0, 0.121, -0.155, 12.0, 0.001, 0.0, 0.0, 0.003, 0.0, 0.0, 0.0],\n",
    "    [0.0, 0.0, 4.4000e-02, -1.3333e+01, 0.0, 0.0, 0.0, 0.0, 0.0, 0.0, 0.0],\n",
    "    [0.0, 0.0, 0.042, 1.333, -0.001, 0.0, 0.0, 0.0, 0.0, 0.0, 0.0],\n",
    "    [0.0, 0.229, 0.0, 0.0, 0.0, -1.046, 0.0, 0.0, 0.0, 0.0, 0.0],\n",
    "    [0.0, 0.0, 0.0, 0.0, 0.0, 0.136, -0.033, 0.0, 0.0, 0.0, 0.0],\n",
    "    [0.0, 0.0, 0.0, 0.0, 0.0, 0.364, 0.033, -0.183, 0.0, 0.0, 0.0],\n",
    "    [0.0, 0.0, 0.0, 0.0, 0.0, 0.0, 0.0, 0.01, -0.002, 0.0, 0.0],\n",
    "    [0.0, 0.0, 0.0, 0.0, 0.0, 0.0, 0.0, 0.003, 0.0, -0.002, 0.0],\n",
    "    [0.0, 0.0, 3.333e-04, 0.0, 5.291e-06, 0.0, 0.0, 0.0, 0.0, 4.0e-04, -1.2340e-04]], \n",
    "    dtype=jax.numpy.float64)"
   ]
  },
  {
   "cell_type": "code",
   "execution_count": null,
   "id": "a5167809",
   "metadata": {},
   "outputs": [],
   "source": [
    "@jax.jit \n",
    "def driving_term(t, *args):\n",
    "    "
   ]
  },
  {
   "cell_type": "code",
   "execution_count": null,
   "id": "ca3ee308",
   "metadata": {},
   "outputs": [],
   "source": [
    "@jax.jit\n",
    "def dydt(t, y):"
   ]
  },
  {
   "cell_type": "code",
   "execution_count": null,
   "id": "a2825abe",
   "metadata": {},
   "outputs": [],
   "source": [
    "sol = diffrax.diffeqsolve(args=args, terms=diffrax.ODETerm(dydx), solver=solver,\n",
    "                          t0=time.min(), t1=time.max(), dt0=0.001, y0=y_initial, \n",
    "                          saveat=diffrax.SaveAt(ts=time),\n",
    "                          stepsize_controller=step_size, \n",
    "                          max_steps=100000)"
   ]
  },
  {
   "cell_type": "code",
   "execution_count": null,
   "id": "409302d5",
   "metadata": {},
   "outputs": [],
   "source": []
  }
 ],
 "metadata": {
  "kernelspec": {
   "display_name": "Python 3.9.0 64-bit ('kitkat': conda)",
   "language": "python",
   "name": "python390jvsc74a57bd0ab79d763119790aea00e8eaeb5d3be48434571919ae202ec38e1b7aefb77c6d3"
  },
  "language_info": {
   "codemirror_mode": {
    "name": "ipython",
    "version": 3
   },
   "file_extension": ".py",
   "mimetype": "text/x-python",
   "name": "python",
   "nbconvert_exporter": "python",
   "pygments_lexer": "ipython3",
   "version": "3.9.7"
  }
 },
 "nbformat": 4,
 "nbformat_minor": 5
}
