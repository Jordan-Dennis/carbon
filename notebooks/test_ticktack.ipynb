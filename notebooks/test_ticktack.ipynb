{
 "cells": [
  {
   "cell_type": "code",
   "execution_count": null,
   "id": "8ecf79c5",
   "metadata": {},
   "outputs": [],
   "source": []
  },
  {
   "cell_type": "code",
   "execution_count": 1,
   "id": "81819645",
   "metadata": {},
   "outputs": [
    {
     "name": "stderr",
     "output_type": "stream",
     "text": [
      "WARNING:absl:No GPU/TPU found, falling back to CPU. (Set TF_CPP_MIN_LOG_LEVEL=0 and rerun for more info.)\n"
     ]
    },
    {
     "ename": "NameError",
     "evalue": "name 'prod' is not defined",
     "output_type": "error",
     "traceback": [
      "\u001b[0;31m---------------------------------------------------------------------------\u001b[0m",
      "\u001b[0;31mNameError\u001b[0m                                 Traceback (most recent call last)",
      "\u001b[0;32m<ipython-input-1-e0bf289b7df0>\u001b[0m in \u001b[0;36m<module>\u001b[0;34m\u001b[0m\n\u001b[1;32m     41\u001b[0m         \u001b[0mplt\u001b[0m\u001b[0;34m.\u001b[0m\u001b[0mplot\u001b[0m\u001b[0;34m(\u001b[0m\u001b[0md_14_time_series_fine\u001b[0m\u001b[0;34m,\u001b[0m \u001b[0mevent\u001b[0m\u001b[0;34m[\u001b[0m\u001b[0;34m:\u001b[0m\u001b[0;34m,\u001b[0m \u001b[0;36m1\u001b[0m\u001b[0;34m]\u001b[0m\u001b[0;34m)\u001b[0m\u001b[0;34m\u001b[0m\u001b[0;34m\u001b[0m\u001b[0m\n\u001b[1;32m     42\u001b[0m     \u001b[0;32mif\u001b[0m \u001b[0mi\u001b[0m \u001b[0;34m==\u001b[0m \u001b[0;36m1\u001b[0m\u001b[0;34m:\u001b[0m\u001b[0;34m\u001b[0m\u001b[0;34m\u001b[0m\u001b[0m\n\u001b[0;32m---> 43\u001b[0;31m         \u001b[0mprint\u001b[0m\u001b[0;34m(\u001b[0m\u001b[0mnp\u001b[0m\u001b[0;34m.\u001b[0m\u001b[0marray\u001b[0m\u001b[0;34m(\u001b[0m\u001b[0mprod\u001b[0m\u001b[0;34m)\u001b[0m\u001b[0;34m)\u001b[0m\u001b[0;34m\u001b[0m\u001b[0;34m\u001b[0m\u001b[0m\n\u001b[0m\u001b[1;32m     44\u001b[0m         \u001b[0mplt\u001b[0m\u001b[0;34m.\u001b[0m\u001b[0mplot\u001b[0m\u001b[0;34m(\u001b[0m\u001b[0mprod\u001b[0m\u001b[0;34m)\u001b[0m\u001b[0;34m\u001b[0m\u001b[0;34m\u001b[0m\u001b[0m\n\u001b[1;32m     45\u001b[0m         \u001b[0;31m# plt.plot(d_14_time_series_coarse[0:-1], d_14_c, 'o')\u001b[0m\u001b[0;34m\u001b[0m\u001b[0;34m\u001b[0m\u001b[0;34m\u001b[0m\u001b[0m\n",
      "\u001b[0;31mNameError\u001b[0m: name 'prod' is not defined"
     ]
    },
    {
     "data": {
      "image/png": "[encoded data removed]",
      "text/plain": [
       "<Figure size 432x288 with 2 Axes>"
      ]
     },
     "metadata": {
      "needs_background": "light"
     },
     "output_type": "display_data"
    }
   ],
   "source": [
    "import matplotlib.pyplot as plt\n",
    "import ticktack\n",
    "import numpy as np\n",
    "import jax.numpy as jnp\n",
    "\n",
    "cbm = ticktack.load_presaved_model('Guttler14', production_rate_units='atoms/cm^2/s')\n",
    "cbm.compile()\n",
    "\n",
    "\n",
    "\n",
    "# ignore error of Warning:absl:No GPU/TPU found\n",
    "start = 760\n",
    "resolution = 1000\n",
    "burn_in_time = np.linspace(760 - 1000, 760, resolution)\n",
    "steady_state_burn_in = cbm.equilibrate(target_C_14=707)\n",
    "burn_in_solutions = cbm.equilibrate(production_rate=steady_state_burn_in)\n",
    "d_14_time_series_fine = np.linspace(760, 788, 2700)\n",
    "d_14_time_series_coarse = np.arange(760, 788)\n",
    "\n",
    "\n",
    "def miyake_event(t, start_time, duration, phase, area):\n",
    "    height = jnp.where(((t > start_time) * (t < (start_time + duration))), area / duration, steady_state_burn_in)\n",
    "    prod = 0.18 * steady_state_burn_in * jnp.sin(2 * np.pi / 11 * t + phase) + height\n",
    "    return prod\n",
    "\n",
    "\n",
    "burn_in, _ = cbm.run(burn_in_time, production=miyake_event, args=(775, 1 / 12, np.pi / 2, 81 / 12),\n",
    "                     y0=burn_in_solutions)\n",
    "event, _ = cbm.run(d_14_time_series_fine, production=miyake_event, args=(775, 1 / 12, np.pi / 2, 81 / 12),\n",
    "                   y0=burn_in[-1, :])\n",
    "d_14_c = cbm.run_D_14_C_values(d_14_time_series_coarse, 1000, production=miyake_event,\n",
    "                               args=(775, 1 / 12, np.pi / 2, 81 / 12),\n",
    "                               y0=burn_in[-1, :], steady_state_solutions=burn_in_solutions)\n",
    "\n",
    "rows = 2\n",
    "columns = 2\n",
    "grid = plt.GridSpec(rows, columns, wspace=0.5, hspace=0.5)\n",
    "for i in range(rows * columns - 2):\n",
    "    exec(f\"plt.subplot(grid{[i]})\")\n",
    "    if i == 0:\n",
    "        plt.plot(d_14_time_series_fine, event[:, 1])\n",
    "    if i == 1:\n",
    "        print(np.array(prod))\n",
    "        plt.plot(prod)\n",
    "        # plt.plot(d_14_time_series_coarse[0:-1], d_14_c, 'o')\n",
    "    plt.ticklabel_format(useOffset=False)\n",
    "\n",
    "plt.show()\n"
   ]
  }
 ],
 "metadata": {
  "kernelspec": {
   "display_name": "Python 3",
   "language": "python",
   "name": "python3"
  },
  "language_info": {
   "codemirror_mode": {
    "name": "ipython",
    "version": 3
   },
   "file_extension": ".py",
   "mimetype": "text/x-python",
   "name": "python",
   "nbconvert_exporter": "python",
   "pygments_lexer": "ipython3",
   "version": "3.8.1"
  }
 },
 "nbformat": 4,
 "nbformat_minor": 5
}
