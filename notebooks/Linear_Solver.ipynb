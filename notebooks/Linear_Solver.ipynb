{
 "cells": [
  {
   "cell_type": "markdown",
   "metadata": {},
   "source": [
    "God there is so much to do with this notebook. I need to get the new assignment of run working and I need to fix the imports. I need to transition from using `plotnine` to using `seaborne`. I need to look into the new stuff that @BenjaminPope just dropped and then I need to push this onto `origin/main`"
   ]
  },
  {
   "cell_type": "code",
   "execution_count": 1,
   "metadata": {},
   "outputs": [],
   "source": [
    "# Numerical\n",
    "import jax.numpy as numpy\n",
    "import jax.lax as lax\n",
    "import jax\n",
    "import ticktack\n",
    "import ticktack.fitting as fitting\n",
    "import pandas\n",
    "import diffrax\n",
    "import matplotlib.pyplot as pyplot\n",
    "\n",
    "# Miscellaneous\n",
    "from functools import partial \n",
    "from time import process_time\n",
    "from jax.experimental.ode import odeint as DP5\n",
    "\n",
    "# Visualisation \n",
    "from plotnine import *"
   ]
  },
  {
   "cell_type": "code",
   "execution_count": 2,
   "metadata": {},
   "outputs": [],
   "source": [
    "parameters = (774.86, 0.25, 0.8, 6.44)"
   ]
  },
  {
   "cell_type": "code",
   "execution_count": 3,
   "metadata": {},
   "outputs": [],
   "source": [
    "def profile(func, *args, **kwargs) -> tuple:\n",
    "    \"\"\"\n",
    "    Profiles the function, func, with the arguments, args, returning the speed and the variance of the speed.\n",
    "\n",
    "    Parameters:\n",
    "        func: Function -> The function that will be repeatedly run and profiled \n",
    "        *args: Any -> The positional arguments of function\n",
    "        **kwargs: Any -> The keyword arguments of the functioin \n",
    "    \n",
    "    Returns:\n",
    "        dict -> Assuming compilation the mean and variance of the 9 runs following the compilation. The output of the final call to function is also returned.\n",
    "    \"\"\"\n",
    "    time_sample = numpy.zeros(10)  # Storing the trials\n",
    "    \n",
    "    for i in range(10):\n",
    "        timer = process_time()             # Starting a timer \n",
    "        solution = func(*args, **kwargs)   # Running the model \n",
    "        numpy.array(solution).block_until_ready()\n",
    "        timer = process_time() - timer     # Stopping the timer\n",
    "\n",
    "        time_sample = time_sample.at[i].set(timer)  # Storing the timer \n",
    "\n",
    "    return {\n",
    "        \"average\": numpy.mean(time_sample.at[1:].get()), \n",
    "        \"variance\": numpy.var(time_sample.at[1:].get()),\n",
    "        \"solution\": solution\n",
    "        }"
   ]
  },
  {
   "cell_type": "code",
   "execution_count": 4,
   "metadata": {},
   "outputs": [],
   "source": [
    "def odeint_linear(derivative, y0, timesteps, *args, **kwargs):\n",
    "    \"\"\"\n",
    "    A linear ode solver that is designed to be compatible with the `ticktack` architecture. \n",
    "\n",
    "    Parameters:\n",
    "        derivative: Function -> The ode that is to be solved using finite differences.\n",
    "        y0: Array -> The initial condition of the ode\n",
    "        timesteps: Array -> The gird that the solver is to be evaluated on\n",
    "\n",
    "    Returns:\n",
    "        Array -> The evaluation of the ode solver at timesteps.\n",
    "    \"\"\"\n",
    "    step_size = timesteps[1] - timesteps[0]\n",
    "\n",
    "    @partial(jax.jit, static_argnums=(2, 3))\n",
    "    def step(y, time_value, step_size=step_size, derivative=derivative):\n",
    "        \"\"\"\n",
    "        A utility function that is passed through scan(map) to produce the final result.\n",
    "        \"\"\"\n",
    "        next_time_value = y + derivative(y, time_value, *args) * step_size\n",
    "        return next_time_value, next_time_value\n",
    "\n",
    "    _, y_values = lax.scan(f=step, init=y0, xs=timesteps) \n",
    "    return y_values"
   ]
  },
  {
   "cell_type": "markdown",
   "metadata": {},
   "source": [
    "This is very unreadable and needs to be improved. I could do some work on the run function and look at defining the derivative function outside. I also need to fix the naming and use smaller names to avoid the big length penalties"
   ]
  },
  {
   "cell_type": "code",
   "execution_count": 5,
   "metadata": {},
   "outputs": [],
   "source": [
    "def generate_model(solver, oversample, /, production=None):\n",
    "    \"\"\"\n",
    "    A utility function to reduce the number of times that the following code has to be repeated. This function is nessecary since the `ticktack.fitting` code is static after compilation. \n",
    "    \"\"\"\n",
    "    box_model = ticktack.load_presaved_model(\"Guttler15\", production_rate_units=\"atoms/cm^2/s\")\n",
    "    function_object = fitting.SingleFitter(box_model, \"Guttler15\")\n",
    "    function_object.load_data(\"miyake12.csv\", burnin_oversample=10)\n",
    "\n",
    "    if not production:\n",
    "        @jax.jit\n",
    "        def production(t):\n",
    "            return function_object.steady_state_production\n",
    "\n",
    "    function_object.compile_production_model(model=production) \n",
    "\n",
    "    @partial(jax.jit, static_argnums=(1, 5, 6, 7)) \n",
    "    def run(time, production, y0=None, args=(), target_C_14=None, steady_state_production=None, solution=None):\n",
    "        time_values = numpy.array(time) \n",
    "        if solution is None: \n",
    "            if steady_state_production is not None: \n",
    "                solution = box_model.equilibrate(production_rate=steady_state_production) \n",
    "    \n",
    "            elif target_C_14 is not None: \n",
    "                steady_state_production = box_model.equilibrate(target_C_14=target_C_14) \n",
    "                solution = box_model.equilibrate(production_rate=steady_state_production) \n",
    "            else: \n",
    "                raise ValueError(\"Must give either target C-14 or production rate or steady state values of system.\") \n",
    "    \n",
    "        if not callable(production): \n",
    "            raise ValueError(\"incorrect object type for production\") \n",
    "            \n",
    "        if y0 is not None: \n",
    "            y_initial = numpy.array(y0) \n",
    "        else: \n",
    "            y_initial = numpy.array(solution) \n",
    "\n",
    "        if str(type(solver)).find(\"diffrax\") != -1:\n",
    "            @jax.jit \n",
    "            def derivative(t, y, args): \n",
    "                ans = numpy.matmul(box_model._matrix, y) \n",
    "                production_rate_constant = function_object.production(t, *args) - steady_state_production \n",
    "                production_rate_constant = box_model._convert_production_rate(production_rate_constant) \n",
    "                production_term = box_model._production_coefficients * production_rate_constant \n",
    "                return ans + production_term  \n",
    "\n",
    "            states = diffrax.diffeqsolve(terms=diffrax.ODETerm(vector_field=derivative),\\\n",
    "                stepsize_controller=diffrax.PIDController(rtol=1e-8, atol=1e-8),\\\n",
    "                solver=solver(), y0=y_initial - solution, t0=numpy.min(time_values),\\\n",
    "                    t1=numpy.max(time_values), saveat=diffrax.SaveAt(ts=time_values),\\\n",
    "                        args=args, dt0=None, max_steps=int(1e12))\n",
    "            \n",
    "            return states.ys + solution, solution\n",
    "        else:\n",
    "            @jax.jit \n",
    "            def derivative(y, t, *args): \n",
    "                ans = numpy.matmul(box_model._matrix, y) \n",
    "                production_rate_constant = function_object.production(t, *args) - steady_state_production \n",
    "                production_rate_constant = box_model._convert_production_rate(production_rate_constant) \n",
    "                production_term = box_model._production_coefficients * production_rate_constant \n",
    "                return ans + production_term \n",
    "                 \n",
    "            states = solver(derivative, y_initial-solution, time_values,\\\n",
    "                *args, atol=1e-8, rtol=1e-10) + solution \n",
    "            return states, solution\n",
    "    \n",
    "    function_object.cbm.run = run\n",
    "    function_object.oversample = oversample\n",
    "    return function_object"
   ]
  },
  {
   "cell_type": "code",
   "execution_count": 6,
   "metadata": {},
   "outputs": [
    {
     "name": "stderr",
     "output_type": "stream",
     "text": [
      "INFO[2022-02-16 19:32:00,710]: Unable to initialize backend 'tpu_driver': NOT_FOUND: Unable to find driver in registry given worker: \n",
      "INFO[2022-02-16 19:32:00,711]: Unable to initialize backend 'gpu': NOT_FOUND: Could not find registered platform with name: \"cuda\". Available platform names are: Host Interpreter\n",
      "INFO[2022-02-16 19:32:00,713]: Unable to initialize backend 'tpu': INVALID_ARGUMENT: TpuPlatform is not available.\n"
     ]
    }
   ],
   "source": [
    "cbm = ticktack.load_presaved_model(\"Guttler15\", production_rate_units=\"atoms/cm^2/s\")"
   ]
  },
  {
   "cell_type": "code",
   "execution_count": 7,
   "metadata": {},
   "outputs": [],
   "source": [
    "def ring_down(model):\n",
    "    \"\"\"\n",
    "    This function numerically generates an impulse response. \n",
    "\n",
    "    Parameters:\n",
    "        model: SingleFitter -> This is used to simulate the impulse response and encloses the passing of **kwargs and *args to the `model.cbm.run`\n",
    "    \"\"\"\n",
    "    soln = model.cbm._production_coefficients\n",
    "\n",
    "    states, _ = model.cbm.run(\n",
    "        numpy.arange(0, 100, 1 / model.oversample), \n",
    "        model.production,\n",
    "        y0=(model.steady_state_y0 + soln), \n",
    "        steady_state_production=model.steady_state_production\n",
    "    )\n",
    "\n",
    "    return states - model.steady_state_y0"
   ]
  },
  {
   "cell_type": "markdown",
   "metadata": {},
   "source": [
    "The analytic solution that I show below needs to be updated to the newer one in the `Analytic_Solution.ipynb` file"
   ]
  },
  {
   "cell_type": "code",
   "execution_count": 8,
   "metadata": {},
   "outputs": [],
   "source": [
    "def construct_analytic_solution():\n",
    "    \"\"\"\n",
    "    This creates a closure environment that pre-calculates the eigenvalues of the transfer matrix and the coefficients that produce the approriate initial state.\n",
    "    \"\"\"\n",
    "    cbm = ticktack.load_presaved_model(\"Guttler15\", production_rate_units=\"atoms/cm^2/s\")\n",
    "    cbm.compile()\n",
    "\n",
    "    eigenvalues, eigenvectors = numpy.linalg.eig(cbm._matrix)\n",
    "    soln = numpy.linalg.solve(eigenvectors, cbm._production_coefficients)\n",
    "    # soln = 1 / norm(soln) * soln    # Normalising the impulse \n",
    "\n",
    "    @jax.jit\n",
    "    def analytic_solution(time, coeffs=soln, eigenvals=eigenvalues, eigenvecs=eigenvectors):\n",
    "        \"\"\"\n",
    "        This is the analytic solution itself.\n",
    "        \n",
    "        Parameters: \n",
    "            time: Array -> The time values that the solution is to be evaluated at \n",
    "            coeffs: Array -> The coefficients associated with a particular initial condition. \n",
    "            eigenvals: Array -> The eigenvalues of the transfer matrix used to construct the linear superposition of the eigenfunctions\n",
    "            eigenvecs: Array[Array] -> The eigenvectors of the transfer matrix used to construct the linear superposition of the eigenfunctions.\n",
    "        \n",
    "        Returns:\n",
    "            Array -> The analytic solution evaluated at times\n",
    "        \"\"\"\n",
    "        @jax.jit\n",
    "        def sum_util(coeff, eigenval, eigenvec, time=time):\n",
    "            return coeff * numpy.exp(eigenval * (time - time.min()))[:, numpy.newaxis] * eigenvec\n",
    "        return numpy.sum(jax.vmap(sum_util)(coeffs, eigenvals, eigenvecs.T), axis=0)\n",
    "\n",
    "    return analytic_solution"
   ]
  },
  {
   "cell_type": "code",
   "execution_count": 9,
   "metadata": {},
   "outputs": [],
   "source": [
    "impulse_response = construct_analytic_solution()\n",
    "\n",
    "odeint = {\"Linear\": odeint_linear, \"DP5\": DP5, \"Diffrax_DP5\": diffrax.Dopri5}\n",
    "\n",
    "profiles = {\n",
    "    \"Solver\": [],\n",
    "    \"Oversample\": [],\n",
    "    \"Time\": [],\n",
    "    \"Accuracy\": []\n",
    "}"
   ]
  },
  {
   "cell_type": "markdown",
   "metadata": {},
   "source": [
    "Now I need to decide what to do. I can define a closure that puts the solver in the global scope or alternatively I can summon some demons and use `jax.tree_util.Partial` I like the idea of using a closure as this could go into generate model. I can also prune down `cbm.run` to simplify the length of the code. "
   ]
  },
  {
   "cell_type": "code",
   "execution_count": 10,
   "metadata": {},
   "outputs": [],
   "source": [
    "for col, solver in enumerate(odeint):\n",
    "    for row, oversample in enumerate(range(10, 1000, 200)):\n",
    "        model = generate_model(odeint[solver], oversample)\n",
    "\n",
    "        o_profile = profile(ring_down, model)\n",
    "\n",
    "        # Comparing to the analytic solution\n",
    "        true_values = impulse_response(numpy.arange(0, 100, 1 / oversample))\n",
    "        residuals = o_profile[\"solution\"] - true_values  \n",
    "        accuracy = float(numpy.mean(abs(residuals.real)))\n",
    "\n",
    "        # Added everything to the data frame\n",
    "        profiles[\"Solver\"].append(solver)\n",
    "        profiles[\"Oversample\"].append(oversample)\n",
    "        profiles[\"Time\"].append(float(o_profile[\"average\"]))\n",
    "        profiles[\"Accuracy\"].append(abs(accuracy))\n",
    "\n",
    "profiles = pandas.DataFrame(profiles)"
   ]
  },
  {
   "cell_type": "code",
   "execution_count": 11,
   "metadata": {},
   "outputs": [
    {
     "data": {
      "image/png": "[encoded data removed]",
      "text/plain": [
       "<Figure size 640x480 with 1 Axes>"
      ]
     },
     "metadata": {},
     "output_type": "display_data"
    },
    {
     "data": {
      "text/plain": [
       "<ggplot: (8734663347691)>"
      ]
     },
     "execution_count": 11,
     "metadata": {},
     "output_type": "execute_result"
    }
   ],
   "source": [
    "(ggplot(profiles, aes(x=\"Oversample\", y=\"Time\", color=\"Solver\"))\n",
    "    + geom_point()\n",
    "    + geom_line()\n",
    "    + theme_bw())"
   ]
  },
  {
   "cell_type": "code",
   "execution_count": 12,
   "metadata": {},
   "outputs": [
    {
     "data": {
      "image/png": "[encoded data removed]",
      "text/plain": [
       "<Figure size 640x480 with 1 Axes>"
      ]
     },
     "metadata": {},
     "output_type": "display_data"
    },
    {
     "data": {
      "text/plain": [
       "<ggplot: (8734630059852)>"
      ]
     },
     "execution_count": 12,
     "metadata": {},
     "output_type": "execute_result"
    }
   ],
   "source": [
    "(ggplot(profiles, aes(x=\"Oversample\", y=\"Accuracy\", color=\"Solver\"))\n",
    "    + geom_point()\n",
    "    + geom_line()\n",
    "    + scale_y_log10()\n",
    "    + theme_bw())"
   ]
  },
  {
   "cell_type": "markdown",
   "metadata": {},
   "source": [
    "Here I need to compare the gradients of the analytic and the linear solution"
   ]
  },
  {
   "cell_type": "code",
   "execution_count": 13,
   "metadata": {},
   "outputs": [],
   "source": [
    "results = {\n",
    "    \"module\": [],\n",
    "    \"time\": [],\n",
    "    \"type\": []\n",
    "}"
   ]
  },
  {
   "cell_type": "code",
   "execution_count": 14,
   "metadata": {},
   "outputs": [],
   "source": [
    "hi = generate_model(odeint[\"Diffrax_DP5\"], 100, production=\"simple_sinusoid\")"
   ]
  },
  {
   "cell_type": "code",
   "execution_count": 15,
   "metadata": {},
   "outputs": [
    {
     "name": "stdout",
     "output_type": "stream",
     "text": [
      "15.1 ms ± 1.89 ms per loop (mean ± std. dev. of 7 runs, 1 loop each)\n"
     ]
    }
   ],
   "source": [
    "%%timeit\n",
    "hi.dc14(parameters)"
   ]
  },
  {
   "cell_type": "code",
   "execution_count": 16,
   "metadata": {},
   "outputs": [],
   "source": [
    "jax.jacobian(hi.dc14)(parameters)"
   ]
  },
  {
   "cell_type": "code",
   "execution_count": 18,
   "metadata": {},
   "outputs": [],
   "source": [
    "hi2 = generate_model(odeint[\"DP5\"], 100, production=\"simple_sinusoid\")"
   ]
  },
  {
   "cell_type": "code",
   "execution_count": 19,
   "metadata": {},
   "outputs": [
    {
     "name": "stdout",
     "output_type": "stream",
     "text": [
      "12.7 ms ± 1.52 ms per loop (mean ± std. dev. of 7 runs, 1 loop each)\n"
     ]
    }
   ],
   "source": [
    "%%timeit\n",
    "hi2.dc14(parameters)"
   ]
  },
  {
   "cell_type": "code",
   "execution_count": 30,
   "metadata": {},
   "outputs": [],
   "source": [
    "jac = jax.jit(jax.jacobian(hi2.log_likelihood))"
   ]
  },
  {
   "cell_type": "code",
   "execution_count": 34,
   "metadata": {},
   "outputs": [
    {
     "name": "stdout",
     "output_type": "stream",
     "text": [
      "144 ms ± 3.61 ms per loop (mean ± std. dev. of 7 runs, 10 loops each)\n"
     ]
    }
   ],
   "source": [
    "%%timeit\n",
    "jac(parameters)"
   ]
  },
  {
   "cell_type": "code",
   "execution_count": 35,
   "metadata": {},
   "outputs": [],
   "source": [
    "hes = jax.jit(jax.jacobian(jax.jacobian(hi2.log_likelihood)))"
   ]
  },
  {
   "cell_type": "code",
   "execution_count": 38,
   "metadata": {},
   "outputs": [
    {
     "data": {
      "text/plain": [
       "((DeviceArray(-4.27219141, dtype=float64, weak_type=True),\n",
       "  DeviceArray(-2.21220323, dtype=float64, weak_type=True),\n",
       "  DeviceArray(-0.86443262, dtype=float64, weak_type=True),\n",
       "  DeviceArray(-1.72660376, dtype=float64, weak_type=True)),\n",
       " (DeviceArray(-2.21220216, dtype=float64, weak_type=True),\n",
       "  DeviceArray(-0.79725291, dtype=float64, weak_type=True),\n",
       "  DeviceArray(-0.47175467, dtype=float64, weak_type=True),\n",
       "  DeviceArray(-0.71595233, dtype=float64, weak_type=True)),\n",
       " (DeviceArray(-0.86443268, dtype=float64, weak_type=True),\n",
       "  DeviceArray(-0.47175437, dtype=float64, weak_type=True),\n",
       "  DeviceArray(-3.9132917, dtype=float64, weak_type=True),\n",
       "  DeviceArray(1.8888097, dtype=float64, weak_type=True)),\n",
       " (DeviceArray(-1.72660409, dtype=float64, weak_type=True),\n",
       "  DeviceArray(-0.71595294, dtype=float64, weak_type=True),\n",
       "  DeviceArray(1.88880978, dtype=float64, weak_type=True),\n",
       "  DeviceArray(-19.36503393, dtype=float64, weak_type=True)))"
      ]
     },
     "execution_count": 38,
     "metadata": {},
     "output_type": "execute_result"
    }
   ],
   "source": [
    "hes(parameters)"
   ]
  },
  {
   "cell_type": "code",
   "execution_count": 21,
   "metadata": {},
   "outputs": [],
   "source": [
    "# for solver in odeint:# Iterating through the namespaces of odeint function \n",
    "#     function_obj = generate_model(odeint[solver], 100, production=\"simple_sinusoid\")\n",
    "\n",
    "#     # Running the base function \n",
    "#     r_profile = profile(function_obj.log_likelihood, parameters)\n",
    "#     results[\"module\"].append(solver)\n",
    "#     results[\"time\"].append(float(r_profile[\"average\"]) * 1000)\n",
    "#     results[\"type\"].append(\"odeint\")\n",
    "\n",
    "#     # Calculating the gradient \n",
    "#     gradient = jax.jit(jax.jacobian(function_obj.log_likelihood))\n",
    "#     g_profile = profile(gradient, parameters)\n",
    "#     results[\"module\"].append(solver)\n",
    "#     results[\"time\"].append(float(g_profile[\"average\"]) * 1000)\n",
    "#     results[\"type\"].append(\"gradient\")\n",
    "\n",
    "#     # Calculating the hessian. This is only done once for computational time\n",
    "#     hessian = jax.jit(jax.jacobian(jax.jacobian(function_obj.log_likelihood)))\n",
    "#     h_profile = profile(hessian, parameters)\n",
    "#     results[\"module\"].append(solver)\n",
    "#     results[\"time\"].append(float(h_profile[\"average\"]) * 1000)\n",
    "#     results[\"type\"].append(\"hessian\")\n",
    "\n",
    "# results = pandas.DataFrame(results)"
   ]
  },
  {
   "cell_type": "code",
   "execution_count": 22,
   "metadata": {},
   "outputs": [],
   "source": [
    "# (ggplot(results, aes(x=\"module\", y=\"time\", fill=\"type\"))\n",
    "#     + geom_col(position=\"dodge\")\n",
    "#     + geom_label(aes(label=\"round(time)\"), position=position_dodge(width=0.9))\n",
    "#     + scale_y_log10()\n",
    "#     + theme_bw())"
   ]
  },
  {
   "cell_type": "code",
   "execution_count": null,
   "metadata": {},
   "outputs": [],
   "source": []
  }
 ],
 "metadata": {
  "interpreter": {
   "hash": "1d489e25830f53b6f889a54709355290897709fcf1a8ece815ede8be939a3fac"
  },
  "kernelspec": {
   "display_name": "Python 3.9.7 64-bit ('beyondticktack': conda)",
   "language": "python",
   "name": "python3"
  },
  "language_info": {
   "codemirror_mode": {
    "name": "ipython",
    "version": 3
   },
   "file_extension": ".py",
   "mimetype": "text/x-python",
   "name": "python",
   "nbconvert_exporter": "python",
   "pygments_lexer": "ipython3",
   "version": "3.9.0"
  },
  "orig_nbformat": 4
 },
 "nbformat": 4,
 "nbformat_minor": 2
}
