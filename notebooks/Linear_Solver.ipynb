{
 "cells": [
  {
   "cell_type": "markdown",
   "metadata": {},
   "source": [
    "God there is so much to do with this notebook. I need to get the new assignment of run working and I need to fix the imports. I need to transition from using `plotnine` to using `seaborne`. I need to look into the new stuff that @BenjaminPope just dropped and then I need to push this onto `origin/main`"
   ]
  },
  {
   "cell_type": "code",
   "execution_count": 53,
   "metadata": {},
   "outputs": [],
   "source": [
    "# Numerical\n",
    "import jax.numpy as numpy\n",
    "import jax.lax as lax\n",
    "import jax\n",
    "import ticktack\n",
    "import ticktack.fitting as fitting\n",
    "import pandas\n",
    "import seaborn\n",
    "\n",
    "# Miscellaneous\n",
    "from functools import partial \n",
    "from time import process_time\n",
    "from jax.experimental.ode import odeint as DP5"
   ]
  },
  {
   "cell_type": "code",
   "execution_count": 54,
   "metadata": {},
   "outputs": [],
   "source": [
    "parameters = (774.86, 0.25, 0.8, 6.44)"
   ]
  },
  {
   "cell_type": "code",
   "execution_count": 55,
   "metadata": {},
   "outputs": [],
   "source": [
    "def profile(func, *args, **kwargs) -> tuple:\n",
    "    \"\"\"\n",
    "    Profiles the function, func, with the arguments, args, returning the speed and the variance of the speed.\n",
    "\n",
    "    Parameters:\n",
    "        func: Function -> The function that will be repeatedly run and profiled \n",
    "        *args: Any -> The positional arguments of function\n",
    "        **kwargs: Any -> The keyword arguments of the functioin \n",
    "    \n",
    "    Returns:\n",
    "        dict -> Assuming compilation the mean and variance of the 9 runs following the compilation. The output of the final call to function is also returned.\n",
    "    \"\"\"\n",
    "    time_sample = numpy.zeros(10)  # Storing the trials\n",
    "    \n",
    "    for i in range(10):\n",
    "        timer = process_time()             # Starting a timer \n",
    "        solution = func(*args, **kwargs)   # Running the model \n",
    "        numpy.array(solution).block_until_ready()\n",
    "        timer = process_time() - timer     # Stopping the timer\n",
    "\n",
    "        time_sample = time_sample.at[i].set(timer)  # Storing the timer \n",
    "\n",
    "    return {\n",
    "        \"average\": numpy.mean(time_sample.at[1:].get()), \n",
    "        \"variance\": numpy.var(time_sample.at[1:].get()),\n",
    "        \"solution\": solution\n",
    "        }"
   ]
  },
  {
   "cell_type": "code",
   "execution_count": 56,
   "metadata": {},
   "outputs": [],
   "source": [
    "def odeint_linear(derivative, y0, timesteps, *args, **kwargs):\n",
    "    \"\"\"\n",
    "    A linear ode solver that is designed to be compatible with the `ticktack` architecture. \n",
    "\n",
    "    Parameters:\n",
    "        derivative: Function -> The ode that is to be solved using finite differences.\n",
    "        y0: Array -> The initial condition of the ode\n",
    "        timesteps: Array -> The gird that the solver is to be evaluated on\n",
    "\n",
    "    Returns:\n",
    "        Array -> The evaluation of the ode solver at timesteps.\n",
    "    \"\"\"\n",
    "    step_size = timesteps[1] - timesteps[0]\n",
    "\n",
    "    @partial(jax.jit, static_argnums=(2, 3))\n",
    "    def step(y, time_value, step_size=step_size, derivative=derivative):\n",
    "        \"\"\"\n",
    "        A utility function that is passed through scan(map) to produce the final result.\n",
    "        \"\"\"\n",
    "        next_time_value = y + derivative(y, time_value) * step_size\n",
    "        return next_time_value, next_time_value\n",
    "\n",
    "    _, y_values = lax.scan(f=step, init=y0, xs=timesteps) \n",
    "    return y_values"
   ]
  },
  {
   "cell_type": "markdown",
   "metadata": {},
   "source": [
    "This is very unreadable and needs to be improved. I could do some work on the run function and look at defining the derivative function outside."
   ]
  },
  {
   "cell_type": "code",
   "execution_count": 66,
   "metadata": {},
   "outputs": [],
   "source": [
    "def generate_model(solver, oversample, /, production=None):\n",
    "    \"\"\"\n",
    "    A utility function to reduce the number of times that the following code has to be repeated. This function is nessecary since the `ticktack.fitting` code is static after compilation. \n",
    "    \"\"\"\n",
    "    carbon_box_model = ticktack.load_presaved_model(\"Guttler15\", production_rate_units=\"atoms/cm^2/s\")\n",
    "    function_object = fitting.SingleFitter(carbon_box_model, \"Guttler15\")\n",
    "    function_object.load_data(\"miyake12.csv\", burnin_oversample=10)\n",
    "\n",
    "    if not production:\n",
    "        @jax.jit\n",
    "        def production(t):\n",
    "            return function_object.steady_state_production\n",
    "\n",
    "    function_object.compile_production_model(model=production)\n",
    "\n",
    "    @partial(jax.jit, static_argnums=(0, 2, 6, 7)) \n",
    "    def run(self, time, production, y0=None, args=(), target_C_14=None, steady_state_production=None, solution=None):  \n",
    "        @jax.jit \n",
    "        def derivative(y, t): \n",
    "            ans = numpy.matmul(self._matrix, y) \n",
    "            production_rate_constant = production(t, *args) - steady_state_production \n",
    "            production_rate_constant = self._convert_production_rate(production_rate_constant) \n",
    "            production_term = self._production_coefficients * production_rate_constant \n",
    "            return ans + production_term \n",
    "    \n",
    "        time_values = numpy.array(time) \n",
    "        if solution is None: \n",
    "            if steady_state_production is not None: \n",
    "                solution = self.equilibrate(production_rate=steady_state_production) \n",
    "    \n",
    "            elif target_C_14 is not None: \n",
    "                steady_state_production = self.equilibrate(target_C_14=target_C_14) \n",
    "                solution = self.equilibrate(production_rate=steady_state_production) \n",
    "            else: \n",
    "                raise ValueError(\"Must give either target C-14 or production rate or steady state values of system.\") \n",
    "    \n",
    "        if not callable(production): \n",
    "            raise ValueError(\"incorrect object type for production\") \n",
    "            \n",
    "        if y0 is not None: \n",
    "            y_initial = numpy.array(y0) \n",
    "        else: \n",
    "            y_initial = numpy.array(solution) \n",
    "    \n",
    "        states = solver(derivative, y_initial-solution, time_values,  atol=1e-8, rtol=1e-10) + solution \n",
    "        return states, solution\n",
    "    \n",
    "    function_object.cbm.run = run\n",
    "    function_object.oversample = oversample\n",
    "    return function_object"
   ]
  },
  {
   "cell_type": "code",
   "execution_count": 67,
   "metadata": {},
   "outputs": [],
   "source": [
    "cbm = ticktack.load_presaved_model(\"Guttler15\", production_rate_units=\"atoms/cm^2/s\")"
   ]
  },
  {
   "cell_type": "code",
   "execution_count": 68,
   "metadata": {},
   "outputs": [],
   "source": [
    "def ring_down(model, solver):\n",
    "    \"\"\"\n",
    "    This function numerically generates an impulse response. \n",
    "\n",
    "    Parameters:\n",
    "        model: SingleFitter -> This is used to simulate the impulse response and encloses the passing of **kwargs and *args to the `model.cbm.run`\n",
    "    \"\"\"\n",
    "    soln = model.cbm._production_coefficients\n",
    "\n",
    "    states, _ = model.cbm.run(\n",
    "        numpy.arange(0, 100, 1 / model.oversample), \n",
    "        model.production,\n",
    "        y0=(model.steady_state_y0 + soln), \n",
    "        steady_state_production=model.steady_state_production\n",
    "    )\n",
    "\n",
    "    return states - model.steady_state_y0"
   ]
  },
  {
   "cell_type": "markdown",
   "metadata": {},
   "source": [
    "The analytic solution that I show below needs to be updated to the newer one in the `Analytic_Solution.ipynb` file"
   ]
  },
  {
   "cell_type": "code",
   "execution_count": 69,
   "metadata": {},
   "outputs": [],
   "source": [
    "def construct_analytic_solution():\n",
    "    \"\"\"\n",
    "    This creates a closure environment that pre-calculates the eigenvalues of the transfer matrix and the coefficients that produce the approriate initial state.\n",
    "    \"\"\"\n",
    "    cbm = ticktack.load_presaved_model(\"Guttler15\", production_rate_units=\"atoms/cm^2/s\")\n",
    "    cbm.compile()\n",
    "\n",
    "    eigenvalues, eigenvectors = numpy.linalg.eig(cbm._matrix)\n",
    "    soln = numpy.linalg.solve(eigenvectors, cbm._production_coefficients)\n",
    "    # soln = 1 / norm(soln) * soln    # Normalising the impulse \n",
    "\n",
    "    @jax.jit\n",
    "    def analytic_solution(time, coeffs=soln, eigenvals=eigenvalues, eigenvecs=eigenvectors):\n",
    "        \"\"\"\n",
    "        This is the analytic solution itself.\n",
    "        \n",
    "        Parameters: \n",
    "            time: Array -> The time values that the solution is to be evaluated at \n",
    "            coeffs: Array -> The coefficients associated with a particular initial condition. \n",
    "            eigenvals: Array -> The eigenvalues of the transfer matrix used to construct the linear superposition of the eigenfunctions\n",
    "            eigenvecs: Array[Array] -> The eigenvectors of the transfer matrix used to construct the linear superposition of the eigenfunctions.\n",
    "        \n",
    "        Returns:\n",
    "            Array -> The analytic solution evaluated at times\n",
    "        \"\"\"\n",
    "        @jax.jit\n",
    "        def sum_util(coeff, eigenval, eigenvec, time=time):\n",
    "            return coeff * numpy.exp(eigenval * (time - time.min()))[:, numpy.newaxis] * eigenvec\n",
    "        return numpy.sum(jax.vmap(sum_util)(coeffs, eigenvals, eigenvecs.T), axis=0)\n",
    "\n",
    "    return analytic_solution"
   ]
  },
  {
   "cell_type": "code",
   "execution_count": 70,
   "metadata": {},
   "outputs": [],
   "source": [
    "impulse_response = construct_analytic_solution()\n",
    "\n",
    "odeint = {\"Linear\": odeint_linear, \"DP5\": DP5}\n",
    "\n",
    "odeint_oversample_resids = {\n",
    "    \"Solver\": [],\n",
    "    \"Oversample\": [],\n",
    "    \"Time (s)\": [],\n",
    "    \"Time Var (s)\": [],\n",
    "    \"Accuracy\": []\n",
    "}"
   ]
  },
  {
   "cell_type": "markdown",
   "metadata": {},
   "source": [
    "Now I need to decide what to do. I can define a closure that puts the solver in the global scope or alternatively I can summon some demons and use `jax.tree_util.Partial` I like the idea of using a closure as this could go into generate model. I can also prune down `cbm.run` to simplify the length of the code. "
   ]
  },
  {
   "cell_type": "code",
   "execution_count": 71,
   "metadata": {},
   "outputs": [
    {
     "ename": "ValueError",
     "evalue": "Non-hashable static arguments are not supported, as this can lead to unexpected cache-misses. Static argument (index 0) of type <class 'jaxlib.xla_extension.DeviceArray'> for function run is non-hashable.",
     "output_type": "error",
     "traceback": [
      "\u001b[0;31m---------------------------------------------------------------------------\u001b[0m",
      "\u001b[0;31mTypeError\u001b[0m                                 Traceback (most recent call last)",
      "\u001b[0;32m~/anaconda3/envs/kitkat/lib/python3.9/site-packages/jax/_src/api_util.py\u001b[0m in \u001b[0;36margnums_partial_except\u001b[0;34m(f, static_argnums, args, allow_invalid)\u001b[0m\n\u001b[1;32m    170\u001b[0m     \u001b[0;32mtry\u001b[0m\u001b[0;34m:\u001b[0m\u001b[0;34m\u001b[0m\u001b[0;34m\u001b[0m\u001b[0m\n\u001b[0;32m--> 171\u001b[0;31m       \u001b[0mhash\u001b[0m\u001b[0;34m(\u001b[0m\u001b[0mstatic_arg\u001b[0m\u001b[0;34m)\u001b[0m\u001b[0;34m\u001b[0m\u001b[0;34m\u001b[0m\u001b[0m\n\u001b[0m\u001b[1;32m    172\u001b[0m     \u001b[0;32mexcept\u001b[0m \u001b[0mTypeError\u001b[0m\u001b[0;34m:\u001b[0m\u001b[0;34m\u001b[0m\u001b[0;34m\u001b[0m\u001b[0m\n",
      "\u001b[0;31mTypeError\u001b[0m: unhashable type: 'DeviceArray'",
      "\nDuring handling of the above exception, another exception occurred:\n",
      "\u001b[0;31mValueError\u001b[0m                                Traceback (most recent call last)",
      "\u001b[0;32m/tmp/ipykernel_17308/1854677691.py\u001b[0m in \u001b[0;36m<module>\u001b[0;34m\u001b[0m\n\u001b[1;32m      3\u001b[0m         \u001b[0mmodel\u001b[0m \u001b[0;34m=\u001b[0m \u001b[0mgenerate_model\u001b[0m\u001b[0;34m(\u001b[0m\u001b[0modeint\u001b[0m\u001b[0;34m[\u001b[0m\u001b[0msolver\u001b[0m\u001b[0;34m]\u001b[0m\u001b[0;34m,\u001b[0m \u001b[0moversample\u001b[0m\u001b[0;34m)\u001b[0m\u001b[0;34m\u001b[0m\u001b[0;34m\u001b[0m\u001b[0m\n\u001b[1;32m      4\u001b[0m \u001b[0;34m\u001b[0m\u001b[0m\n\u001b[0;32m----> 5\u001b[0;31m         \u001b[0mo_profile\u001b[0m \u001b[0;34m=\u001b[0m \u001b[0mprofile\u001b[0m\u001b[0;34m(\u001b[0m\u001b[0mring_down\u001b[0m\u001b[0;34m,\u001b[0m \u001b[0mmodel\u001b[0m\u001b[0;34m,\u001b[0m \u001b[0msolver\u001b[0m\u001b[0;34m=\u001b[0m\u001b[0modeint\u001b[0m\u001b[0;34m[\u001b[0m\u001b[0msolver\u001b[0m\u001b[0;34m]\u001b[0m\u001b[0;34m)\u001b[0m\u001b[0;34m\u001b[0m\u001b[0;34m\u001b[0m\u001b[0m\n\u001b[0m\u001b[1;32m      6\u001b[0m \u001b[0;34m\u001b[0m\u001b[0m\n\u001b[1;32m      7\u001b[0m         \u001b[0;31m# Comparing to the analytic solution\u001b[0m\u001b[0;34m\u001b[0m\u001b[0;34m\u001b[0m\u001b[0;34m\u001b[0m\u001b[0m\n",
      "\u001b[0;32m/tmp/ipykernel_17308/2964931175.py\u001b[0m in \u001b[0;36mprofile\u001b[0;34m(func, *args, **kwargs)\u001b[0m\n\u001b[1;32m     15\u001b[0m     \u001b[0;32mfor\u001b[0m \u001b[0mi\u001b[0m \u001b[0;32min\u001b[0m \u001b[0mrange\u001b[0m\u001b[0;34m(\u001b[0m\u001b[0;36m10\u001b[0m\u001b[0;34m)\u001b[0m\u001b[0;34m:\u001b[0m\u001b[0;34m\u001b[0m\u001b[0;34m\u001b[0m\u001b[0m\n\u001b[1;32m     16\u001b[0m         \u001b[0mtimer\u001b[0m \u001b[0;34m=\u001b[0m \u001b[0mprocess_time\u001b[0m\u001b[0;34m(\u001b[0m\u001b[0;34m)\u001b[0m             \u001b[0;31m# Starting a timer\u001b[0m\u001b[0;34m\u001b[0m\u001b[0;34m\u001b[0m\u001b[0m\n\u001b[0;32m---> 17\u001b[0;31m         \u001b[0msolution\u001b[0m \u001b[0;34m=\u001b[0m \u001b[0mfunc\u001b[0m\u001b[0;34m(\u001b[0m\u001b[0;34m*\u001b[0m\u001b[0margs\u001b[0m\u001b[0;34m,\u001b[0m \u001b[0;34m**\u001b[0m\u001b[0mkwargs\u001b[0m\u001b[0;34m)\u001b[0m   \u001b[0;31m# Running the model\u001b[0m\u001b[0;34m\u001b[0m\u001b[0;34m\u001b[0m\u001b[0m\n\u001b[0m\u001b[1;32m     18\u001b[0m         \u001b[0mnumpy\u001b[0m\u001b[0;34m.\u001b[0m\u001b[0marray\u001b[0m\u001b[0;34m(\u001b[0m\u001b[0msolution\u001b[0m\u001b[0;34m)\u001b[0m\u001b[0;34m.\u001b[0m\u001b[0mblock_until_ready\u001b[0m\u001b[0;34m(\u001b[0m\u001b[0;34m)\u001b[0m\u001b[0;34m\u001b[0m\u001b[0;34m\u001b[0m\u001b[0m\n\u001b[1;32m     19\u001b[0m         \u001b[0mtimer\u001b[0m \u001b[0;34m=\u001b[0m \u001b[0mprocess_time\u001b[0m\u001b[0;34m(\u001b[0m\u001b[0;34m)\u001b[0m \u001b[0;34m-\u001b[0m \u001b[0mtimer\u001b[0m     \u001b[0;31m# Stopping the timer\u001b[0m\u001b[0;34m\u001b[0m\u001b[0;34m\u001b[0m\u001b[0m\n",
      "\u001b[0;32m/tmp/ipykernel_17308/406101544.py\u001b[0m in \u001b[0;36mring_down\u001b[0;34m(model, solver)\u001b[0m\n\u001b[1;32m      8\u001b[0m     \u001b[0msoln\u001b[0m \u001b[0;34m=\u001b[0m \u001b[0mmodel\u001b[0m\u001b[0;34m.\u001b[0m\u001b[0mcbm\u001b[0m\u001b[0;34m.\u001b[0m\u001b[0m_production_coefficients\u001b[0m\u001b[0;34m\u001b[0m\u001b[0;34m\u001b[0m\u001b[0m\n\u001b[1;32m      9\u001b[0m \u001b[0;34m\u001b[0m\u001b[0m\n\u001b[0;32m---> 10\u001b[0;31m     states, _ = model.cbm.run(\n\u001b[0m\u001b[1;32m     11\u001b[0m         \u001b[0mnumpy\u001b[0m\u001b[0;34m.\u001b[0m\u001b[0marange\u001b[0m\u001b[0;34m(\u001b[0m\u001b[0;36m0\u001b[0m\u001b[0;34m,\u001b[0m \u001b[0;36m100\u001b[0m\u001b[0;34m,\u001b[0m \u001b[0;36m1\u001b[0m \u001b[0;34m/\u001b[0m \u001b[0mmodel\u001b[0m\u001b[0;34m.\u001b[0m\u001b[0moversample\u001b[0m\u001b[0;34m)\u001b[0m\u001b[0;34m,\u001b[0m\u001b[0;34m\u001b[0m\u001b[0;34m\u001b[0m\u001b[0m\n\u001b[1;32m     12\u001b[0m         \u001b[0mmodel\u001b[0m\u001b[0;34m.\u001b[0m\u001b[0mproduction\u001b[0m\u001b[0;34m,\u001b[0m\u001b[0;34m\u001b[0m\u001b[0;34m\u001b[0m\u001b[0m\n",
      "    \u001b[0;31m[... skipping hidden 3 frame]\u001b[0m\n",
      "\u001b[0;32m~/anaconda3/envs/kitkat/lib/python3.9/site-packages/jax/_src/api_util.py\u001b[0m in \u001b[0;36margnums_partial_except\u001b[0;34m(f, static_argnums, args, allow_invalid)\u001b[0m\n\u001b[1;32m    171\u001b[0m       \u001b[0mhash\u001b[0m\u001b[0;34m(\u001b[0m\u001b[0mstatic_arg\u001b[0m\u001b[0;34m)\u001b[0m\u001b[0;34m\u001b[0m\u001b[0;34m\u001b[0m\u001b[0m\n\u001b[1;32m    172\u001b[0m     \u001b[0;32mexcept\u001b[0m \u001b[0mTypeError\u001b[0m\u001b[0;34m:\u001b[0m\u001b[0;34m\u001b[0m\u001b[0;34m\u001b[0m\u001b[0m\n\u001b[0;32m--> 173\u001b[0;31m       raise ValueError(\n\u001b[0m\u001b[1;32m    174\u001b[0m           \u001b[0;34m\"Non-hashable static arguments are not supported, as this can lead \"\u001b[0m\u001b[0;34m\u001b[0m\u001b[0;34m\u001b[0m\u001b[0m\n\u001b[1;32m    175\u001b[0m           \u001b[0;34mf\"to unexpected cache-misses. Static argument (index {i}) of type \"\u001b[0m\u001b[0;34m\u001b[0m\u001b[0;34m\u001b[0m\u001b[0m\n",
      "\u001b[0;31mValueError\u001b[0m: Non-hashable static arguments are not supported, as this can lead to unexpected cache-misses. Static argument (index 0) of type <class 'jaxlib.xla_extension.DeviceArray'> for function run is non-hashable."
     ]
    }
   ],
   "source": [
    "for col, solver in enumerate(odeint):\n",
    "    for row, oversample in enumerate(range(10, 1000, 200)):\n",
    "        model = generate_model(odeint[solver], oversample)\n",
    "\n",
    "        o_profile = profile(ring_down, model, solver=odeint[solver])\n",
    "\n",
    "        # Comparing to the analytic solution\n",
    "        true_values = impulse_response(numpy.arange(0, 100, 1 / oversample))\n",
    "        residuals = o_profile[\"solution\"] - true_values  \n",
    "        accuracy = float(numpy.mean(abs(residuals.real)))\n",
    "\n",
    "        # Added everything to the data frame\n",
    "        odeint_oversample_resids[\"Solver\"].append(solver)\n",
    "        odeint_oversample_resids[\"Oversample\"].append(oversample)\n",
    "        odeint_oversample_resids[\"Time (s)\"].append(float(o_profile[\"average\"]))\n",
    "        odeint_oversample_resids[\"Time Var (s)\"].append(float(o_profile[\"variance\"]))\n",
    "        odeint_oversample_resids[\"Accuracy\"].append(abs(accuracy))\n",
    "\n",
    "odeint_oversample_resids = pandas.DataFrame(odeint_oversample_resids)"
   ]
  },
  {
   "cell_type": "code",
   "execution_count": null,
   "metadata": {},
   "outputs": [
    {
     "data": {
      "text/html": [
       "<div>\n",
       "<style scoped>\n",
       "    .dataframe tbody tr th:only-of-type {\n",
       "        vertical-align: middle;\n",
       "    }\n",
       "\n",
       "    .dataframe tbody tr th {\n",
       "        vertical-align: top;\n",
       "    }\n",
       "\n",
       "    .dataframe thead th {\n",
       "        text-align: right;\n",
       "    }\n",
       "</style>\n",
       "<table border=\"1\" class=\"dataframe\">\n",
       "  <thead>\n",
       "    <tr style=\"text-align: right;\">\n",
       "      <th></th>\n",
       "      <th>Solver</th>\n",
       "      <th>Oversample</th>\n",
       "      <th>Time (s)</th>\n",
       "      <th>Time Var (s)</th>\n",
       "      <th>Accuracy</th>\n",
       "    </tr>\n",
       "  </thead>\n",
       "  <tbody>\n",
       "    <tr>\n",
       "      <th>0</th>\n",
       "      <td>Linear</td>\n",
       "      <td>10</td>\n",
       "      <td>0.000636</td>\n",
       "      <td>8.291176e-08</td>\n",
       "      <td>2.216184e-09</td>\n",
       "    </tr>\n",
       "    <tr>\n",
       "      <th>1</th>\n",
       "      <td>Linear</td>\n",
       "      <td>210</td>\n",
       "      <td>0.003699</td>\n",
       "      <td>2.212185e-07</td>\n",
       "      <td>2.201603e-09</td>\n",
       "    </tr>\n",
       "    <tr>\n",
       "      <th>2</th>\n",
       "      <td>Linear</td>\n",
       "      <td>410</td>\n",
       "      <td>0.008006</td>\n",
       "      <td>4.031060e-06</td>\n",
       "      <td>2.201594e-09</td>\n",
       "    </tr>\n",
       "    <tr>\n",
       "      <th>3</th>\n",
       "      <td>Linear</td>\n",
       "      <td>610</td>\n",
       "      <td>0.011147</td>\n",
       "      <td>8.364530e-06</td>\n",
       "      <td>2.201601e-09</td>\n",
       "    </tr>\n",
       "    <tr>\n",
       "      <th>4</th>\n",
       "      <td>Linear</td>\n",
       "      <td>810</td>\n",
       "      <td>0.013096</td>\n",
       "      <td>2.848391e-06</td>\n",
       "      <td>2.201598e-09</td>\n",
       "    </tr>\n",
       "    <tr>\n",
       "      <th>5</th>\n",
       "      <td>DP5</td>\n",
       "      <td>10</td>\n",
       "      <td>0.000555</td>\n",
       "      <td>3.839677e-09</td>\n",
       "      <td>2.216184e-09</td>\n",
       "    </tr>\n",
       "    <tr>\n",
       "      <th>6</th>\n",
       "      <td>DP5</td>\n",
       "      <td>210</td>\n",
       "      <td>0.002072</td>\n",
       "      <td>1.052577e-07</td>\n",
       "      <td>2.201603e-09</td>\n",
       "    </tr>\n",
       "    <tr>\n",
       "      <th>7</th>\n",
       "      <td>DP5</td>\n",
       "      <td>410</td>\n",
       "      <td>0.005772</td>\n",
       "      <td>9.349944e-07</td>\n",
       "      <td>2.201594e-09</td>\n",
       "    </tr>\n",
       "    <tr>\n",
       "      <th>8</th>\n",
       "      <td>DP5</td>\n",
       "      <td>610</td>\n",
       "      <td>0.009887</td>\n",
       "      <td>2.669763e-06</td>\n",
       "      <td>2.201601e-09</td>\n",
       "    </tr>\n",
       "    <tr>\n",
       "      <th>9</th>\n",
       "      <td>DP5</td>\n",
       "      <td>810</td>\n",
       "      <td>0.018547</td>\n",
       "      <td>3.523071e-06</td>\n",
       "      <td>2.201598e-09</td>\n",
       "    </tr>\n",
       "  </tbody>\n",
       "</table>\n",
       "</div>"
      ],
      "text/plain": [
       "   Solver  Oversample  Time (s)  Time Var (s)      Accuracy\n",
       "0  Linear          10  0.000636  8.291176e-08  2.216184e-09\n",
       "1  Linear         210  0.003699  2.212185e-07  2.201603e-09\n",
       "2  Linear         410  0.008006  4.031060e-06  2.201594e-09\n",
       "3  Linear         610  0.011147  8.364530e-06  2.201601e-09\n",
       "4  Linear         810  0.013096  2.848391e-06  2.201598e-09\n",
       "5     DP5          10  0.000555  3.839677e-09  2.216184e-09\n",
       "6     DP5         210  0.002072  1.052577e-07  2.201603e-09\n",
       "7     DP5         410  0.005772  9.349944e-07  2.201594e-09\n",
       "8     DP5         610  0.009887  2.669763e-06  2.201601e-09\n",
       "9     DP5         810  0.018547  3.523071e-06  2.201598e-09"
      ]
     },
     "execution_count": 42,
     "metadata": {},
     "output_type": "execute_result"
    }
   ],
   "source": [
    "odeint_oversample_resids"
   ]
  },
  {
   "cell_type": "markdown",
   "metadata": {},
   "source": [
    "Here I need to compare the gradients of the analytic and the linear solution"
   ]
  },
  {
   "cell_type": "code",
   "execution_count": null,
   "metadata": {},
   "outputs": [],
   "source": [
    "autodiff = {\"Linear\": odeint_linear, \"DP5\": DP5}"
   ]
  },
  {
   "cell_type": "code",
   "execution_count": null,
   "metadata": {},
   "outputs": [],
   "source": [
    "results = {\n",
    "    \"module\": [],\n",
    "    \"time\": [],\n",
    "    \"type\": []\n",
    "}"
   ]
  },
  {
   "cell_type": "code",
   "execution_count": null,
   "metadata": {},
   "outputs": [
    {
     "ename": "NameError",
     "evalue": "name 'jacrev' is not defined",
     "output_type": "error",
     "traceback": [
      "\u001b[0;31m---------------------------------------------------------------------------\u001b[0m",
      "\u001b[0;31mNameError\u001b[0m                                 Traceback (most recent call last)",
      "\u001b[0;32m/tmp/ipykernel_17308/785391777.py\u001b[0m in \u001b[0;36m<module>\u001b[0;34m\u001b[0m\n\u001b[1;32m      9\u001b[0m \u001b[0;34m\u001b[0m\u001b[0m\n\u001b[1;32m     10\u001b[0m     \u001b[0;31m# Calculating the gradient\u001b[0m\u001b[0;34m\u001b[0m\u001b[0;34m\u001b[0m\u001b[0;34m\u001b[0m\u001b[0m\n\u001b[0;32m---> 11\u001b[0;31m     \u001b[0mg_profile\u001b[0m \u001b[0;34m=\u001b[0m \u001b[0mprofile\u001b[0m\u001b[0;34m(\u001b[0m\u001b[0mjacrev\u001b[0m\u001b[0;34m(\u001b[0m\u001b[0mfunction_obj\u001b[0m\u001b[0;34m.\u001b[0m\u001b[0mlog_likelihood\u001b[0m\u001b[0;34m)\u001b[0m\u001b[0;34m,\u001b[0m \u001b[0mparameters\u001b[0m\u001b[0;34m)\u001b[0m\u001b[0;34m\u001b[0m\u001b[0;34m\u001b[0m\u001b[0m\n\u001b[0m\u001b[1;32m     12\u001b[0m     \u001b[0mresults\u001b[0m\u001b[0;34m[\u001b[0m\u001b[0;34m\"module\"\u001b[0m\u001b[0;34m]\u001b[0m\u001b[0;34m.\u001b[0m\u001b[0mappend\u001b[0m\u001b[0;34m(\u001b[0m\u001b[0msolver\u001b[0m\u001b[0;34m)\u001b[0m\u001b[0;34m\u001b[0m\u001b[0;34m\u001b[0m\u001b[0m\n\u001b[1;32m     13\u001b[0m     \u001b[0mresults\u001b[0m\u001b[0;34m[\u001b[0m\u001b[0;34m\"time\"\u001b[0m\u001b[0;34m]\u001b[0m\u001b[0;34m.\u001b[0m\u001b[0mappend\u001b[0m\u001b[0;34m(\u001b[0m\u001b[0mfloat\u001b[0m\u001b[0;34m(\u001b[0m\u001b[0mg_profile\u001b[0m\u001b[0;34m[\u001b[0m\u001b[0;34m\"average\"\u001b[0m\u001b[0;34m]\u001b[0m\u001b[0;34m)\u001b[0m \u001b[0;34m*\u001b[0m \u001b[0;36m1000\u001b[0m\u001b[0;34m)\u001b[0m\u001b[0;34m\u001b[0m\u001b[0;34m\u001b[0m\u001b[0m\n",
      "\u001b[0;31mNameError\u001b[0m: name 'jacrev' is not defined"
     ]
    }
   ],
   "source": [
    "for solver in autodiff:# Iterating through the namespaces of odeint function \n",
    "    function_obj = generate_model(autodiff[solver], 100, production=\"simple_sinusoid\")\n",
    "\n",
    "    # Running the base function \n",
    "    r_profile = profile(function_obj.log_likelihood, parameters)\n",
    "    results[\"module\"].append(solver)\n",
    "    results[\"time\"].append(float(r_profile[\"average\"]) * 1000)\n",
    "    results[\"type\"].append(\"odeint\")\n",
    "\n",
    "    # Calculating the gradient \n",
    "    g_profile = profile(jacrev(function_obj.log_likelihood), parameters)\n",
    "    results[\"module\"].append(solver)\n",
    "    results[\"time\"].append(float(g_profile[\"average\"]) * 1000)\n",
    "    results[\"type\"].append(\"gradient\")\n",
    "\n",
    "    # Calculating the hessian. This is only done once for computational time\n",
    "    timer = process_time()\n",
    "    hessian = jacrev(jacrev(function_obj.log_likelihood))(parameters)\n",
    "    timer = process_time() - timer\n",
    "    results[\"module\"].append(solver)\n",
    "    results[\"time\"].append(float(timer) * 1000)\n",
    "    results[\"type\"].append(\"hessian\")"
   ]
  }
 ],
 "metadata": {
  "interpreter": {
   "hash": "1d489e25830f53b6f889a54709355290897709fcf1a8ece815ede8be939a3fac"
  },
  "kernelspec": {
   "display_name": "Python 3.9.7 64-bit ('beyondticktack': conda)",
   "language": "python",
   "name": "python3"
  },
  "language_info": {
   "codemirror_mode": {
    "name": "ipython",
    "version": 3
   },
   "file_extension": ".py",
   "mimetype": "text/x-python",
   "name": "python",
   "nbconvert_exporter": "python",
   "pygments_lexer": "ipython3",
   "version": "3.9.0"
  },
  "orig_nbformat": 4
 },
 "nbformat": 4,
 "nbformat_minor": 2
}
