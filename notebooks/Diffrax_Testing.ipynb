{
 "cells": [
  {
   "cell_type": "code",
   "execution_count": 10,
   "metadata": {},
   "outputs": [],
   "source": [
    "import diffrax\n",
    "import jax"
   ]
  },
  {
   "cell_type": "code",
   "execution_count": 48,
   "metadata": {},
   "outputs": [],
   "source": [
    "@jax.tree_util.Partial\n",
    "def vector_field(t, y, args): \n",
    "    return - args * y"
   ]
  },
  {
   "cell_type": "code",
   "execution_count": 96,
   "metadata": {},
   "outputs": [],
   "source": [
    "def construct_solver(derivative, y_initial, time, solver):\n",
    "    term = diffrax.ODETerm(derivative)\n",
    "    saveat = diffrax.SaveAt(ts=time)\n",
    "    stepsize_controller = diffrax.PIDController(rtol=1e-5, atol=1e-5)\n",
    "\n",
    "    t0 = time.min()\n",
    "    t1 = time.max()\n",
    "    dt0 = time[1] - time[0]\n",
    "    \n",
    "    @jax.tree_util.Partial\n",
    "    @jax.jit\n",
    "    def solve(args, /, term=term, solver=solver, saveat=saveat,\\\n",
    "        stepsize=stepsize_controller, t0=t0, t1=t1, dt0=dt0, y0=y_initial):\n",
    "        sol = diffrax.diffeqsolve(args=args, terms=term, solver=solver, t0=t0, t1=t1, dt0=dt0, y0=y0, \\\n",
    "            saveat=saveat, stepsize_controller=stepsize)\n",
    "        return sol.ys\n",
    "    \n",
    "    return solve"
   ]
  },
  {
   "cell_type": "code",
   "execution_count": 118,
   "metadata": {},
   "outputs": [],
   "source": [
    "def construct_log_likelihood(func):\n",
    "    key = jax.random.PRNGKey(0)\n",
    "    data = jax.random.uniform(key, (4,))\n",
    "    error = jax.random.normal(key, (4,))\n",
    "\n",
    "    @jax.tree_util.Partial\n",
    "    @jax.jit\n",
    "    def log_likelihood(args, /, data=data, error=error):\n",
    "        solution = func(args)\n",
    "        chi_squared = (solution - data) ** 2 / error ** 2\n",
    "        return - 0.5 * jax.numpy.sum(chi_squared)\n",
    "    \n",
    "    return log_likelihood"
   ]
  },
  {
   "cell_type": "code",
   "execution_count": 119,
   "metadata": {},
   "outputs": [],
   "source": [
    "solve = construct_solver(vector_field, 1, jax.numpy.arange(4.0), diffrax.Dopri5())\n",
    "likelihood = construct_log_likelihood(solve)"
   ]
  },
  {
   "cell_type": "code",
   "execution_count": 125,
   "metadata": {},
   "outputs": [],
   "source": [
    "jacobian = jax.jit(jax.jacrev(likelihood))\n",
    "hessian = jax.jit(jax.jacfwd(jax.jacrev(likelihood)))"
   ]
  },
  {
   "cell_type": "code",
   "execution_count": 124,
   "metadata": {},
   "outputs": [
    {
     "name": "stdout",
     "output_type": "stream",
     "text": [
      "255 µs ± 4.91 µs per loop (mean ± std. dev. of 7 runs, 1000 loops each)\n"
     ]
    }
   ],
   "source": [
    "%%timeit\n",
    "likelihood(1.0)"
   ]
  },
  {
   "cell_type": "code",
   "execution_count": 128,
   "metadata": {},
   "outputs": [
    {
     "name": "stdout",
     "output_type": "stream",
     "text": [
      "372 µs ± 27 µs per loop (mean ± std. dev. of 7 runs, 1000 loops each)\n"
     ]
    }
   ],
   "source": [
    "%%timeit\n",
    "jacobian(1.0)"
   ]
  },
  {
   "cell_type": "code",
   "execution_count": 130,
   "metadata": {},
   "outputs": [
    {
     "name": "stdout",
     "output_type": "stream",
     "text": [
      "430 µs ± 62.3 µs per loop (mean ± std. dev. of 7 runs, 1000 loops each)\n"
     ]
    }
   ],
   "source": [
    "%%timeit\n",
    "hessian(1.0)"
   ]
  },
  {
   "cell_type": "code",
   "execution_count": null,
   "metadata": {},
   "outputs": [],
   "source": []
  }
 ],
 "metadata": {
  "interpreter": {
   "hash": "ab79d763119790aea00e8eaeb5d3be48434571919ae202ec38e1b7aefb77c6d3"
  },
  "kernelspec": {
   "display_name": "Python 3.9.0 ('kitkat')",
   "language": "python",
   "name": "python3"
  },
  "language_info": {
   "codemirror_mode": {
    "name": "ipython",
    "version": 3
   },
   "file_extension": ".py",
   "mimetype": "text/x-python",
   "name": "python",
   "nbconvert_exporter": "python",
   "pygments_lexer": "ipython3",
   "version": "3.9.0"
  },
  "orig_nbformat": 4
 },
 "nbformat": 4,
 "nbformat_minor": 2
}
