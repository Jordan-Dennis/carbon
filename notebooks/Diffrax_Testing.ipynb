{
 "cells": [
  {
   "cell_type": "code",
   "execution_count": 149,
   "id": "b6eb5980",
   "metadata": {},
   "outputs": [],
   "source": [
    "import diffrax\n",
    "import jax\n",
    "from jax.experimental import ode"
   ]
  },
  {
   "cell_type": "code",
   "execution_count": 150,
   "id": "80ec9987",
   "metadata": {},
   "outputs": [
    {
     "name": "stderr",
     "output_type": "stream",
     "text": [
      "/home/jordan/anaconda3/envs/kitkat/lib/python3.9/site-packages/jax/_src/numpy/lax_numpy.py:3611: UserWarning: Explicitly requested dtype <class 'jax._src.numpy.lax_numpy.float64'> requested in array is not available, and will be truncated to dtype float32. To enable more dtypes, set the jax_enable_x64 configuration option or the JAX_ENABLE_X64 shell environment variable. See https://github.com/google/jax#current-gotchas for more.\n",
      "  lax._check_user_dtype_supported(dtype, \"array\")\n"
     ]
    }
   ],
   "source": [
    "PARAMS = jax.numpy.array([1.0, 1.0], dtype=jax.numpy.float64)\n",
    "MATRIX = jax.numpy.array([[2.0, 1.0], [1.0, 2.0]], dtype=jax.numpy.float64)\n",
    "Y_INIT = jax.numpy.array([0.0, 0.0], dtype=jax.numpy.float64)"
   ]
  },
  {
   "cell_type": "code",
   "execution_count": 151,
   "id": "360f1b40",
   "metadata": {},
   "outputs": [],
   "source": [
    "@jax.jit\n",
    "def driving_term(t, args):\n",
    "    return jax.numpy.array([jax.numpy.exp(t), jax.numpy.sin(t)]) * args"
   ]
  },
  {
   "cell_type": "code",
   "execution_count": 152,
   "id": "bfdae84e",
   "metadata": {},
   "outputs": [],
   "source": [
    "@jax.jit\n",
    "def jax_ode(y, t, args):\n",
    "    return MATRIX @ y + driving_term(t, args)"
   ]
  },
  {
   "cell_type": "code",
   "execution_count": 153,
   "id": "fa2ac641",
   "metadata": {},
   "outputs": [],
   "source": [
    "@diffrax.ODETerm\n",
    "@jax.jit\n",
    "def diffrax_ode(t, y, args):\n",
    "    return MATRIX @ y + driving_term(t, args)"
   ]
  },
  {
   "cell_type": "code",
   "execution_count": 154,
   "id": "53f9f601",
   "metadata": {},
   "outputs": [],
   "source": [
    "@jax.jit\n",
    "def y(t):\n",
    "    y_1 = 0.05 * jax.numpy.exp(3 * t) - 0.25 * jax.numpy.exp(t) + \\\n",
    "        0.2 * jax.numpy.cos(t) + 0.1 * jax.numpy.sin(t)\n",
    "    y_2 = 0.05 * jax.numpy.exp(3 * t) + 0.25 * jax.numpy.exp(t) + \\\n",
    "        - 0.3 * jax.numpy.cos(t) + 0.4 * jax.numpy.sin(t)\n",
    "    return jax.numpy.array([y_1, y_2])"
   ]
  },
  {
   "cell_type": "code",
   "execution_count": 155,
   "id": "4f47312c",
   "metadata": {},
   "outputs": [],
   "source": [
    "time = jax.numpy.linspace(0, 1, 100)\n",
    "data = y(time) + jax.random.normal(jax.random.PRNGKey(0), (2, 100))"
   ]
  },
  {
   "cell_type": "code",
   "execution_count": 156,
   "id": "b8e1fe20",
   "metadata": {},
   "outputs": [],
   "source": [
    "@jax.jit\n",
    "def jax_loss(args, /, dydx=jax_ode, y0=Y_INIT, t=time, data=data.T):\n",
    "    solution = ode.odeint(dydx, y0, t, args)\n",
    "    sum_squares = (solution - data) ** 2\n",
    "    return jax.numpy.sum(sum_squares)"
   ]
  },
  {
   "cell_type": "code",
   "execution_count": 157,
   "id": "14934e21",
   "metadata": {},
   "outputs": [
    {
     "name": "stdout",
     "output_type": "stream",
     "text": [
      "The slowest run took 53.17 times longer than the fastest. This could mean that an intermediate result is being cached.\n",
      "184 µs ± 390 µs per loop (mean ± std. dev. of 7 runs, 1 loop each)\n"
     ]
    }
   ],
   "source": [
    "%%timeit\n",
    "jax_loss(PARAMS)"
   ]
  },
  {
   "cell_type": "code",
   "execution_count": 158,
   "id": "cc89b195",
   "metadata": {},
   "outputs": [],
   "source": [
    "step_size = diffrax.PIDController(rtol=1.4e-8, atol=1.4e-8)\n",
    "times = diffrax.SaveAt(ts=time)\n",
    "t_initial = jax_times.min()\n",
    "t_final = jax_times.max()\n",
    "\n",
    "adjoint_controller = diffrax.PIDController(\n",
    "    norm=diffrax.adjoint_rms_seminorm, \n",
    "    rtol=1.4e-8, atol=1.4e-8)\n",
    "\n",
    "grad = diffrax.BacksolveAdjoint(\n",
    "    stepsize_controller=adjoint_controller,\n",
    "    solver=diffrax.Dopri5())\n",
    "\n",
    "solver = diffrax.Dopri5()"
   ]
  },
  {
   "cell_type": "code",
   "execution_count": 159,
   "id": "d92bdcbe",
   "metadata": {},
   "outputs": [],
   "source": [
    "@jax.jit\n",
    "def diffrax_loss(args, /, t0=t_initial, t1=t_final, dydx=diffrax_ode, adjoint=grad,\n",
    "                steps=step_size, saves=times, y0=Y_INIT, solver=solver, data=data.T):\n",
    "    solution = diffrax.diffeqsolve(\n",
    "        t0=t0, t1=t1, dt0=None, terms=dydx, stepsize_controller=steps, \n",
    "        saveat=saves, adjoint=adjoint, solver=solver, args=args, y0=y0)\n",
    "    sum_squares = (solution.ys - data) ** 2\n",
    "    return jax.numpy.sum(sum_squares)"
   ]
  },
  {
   "cell_type": "code",
   "execution_count": 160,
   "id": "5ad09757",
   "metadata": {},
   "outputs": [
    {
     "name": "stdout",
     "output_type": "stream",
     "text": [
      "219 µs ± 99.2 µs per loop (mean ± std. dev. of 7 runs, 1 loop each)\n"
     ]
    }
   ],
   "source": [
    "%%timeit\n",
    "diffrax_loss(PARAMS)"
   ]
  },
  {
   "cell_type": "code",
   "execution_count": 161,
   "id": "f8f4bc28",
   "metadata": {},
   "outputs": [],
   "source": [
    "jax_grad = jax.jit(jax.grad(jax_loss))\n",
    "diffrax_grad = jax.jit(jax.grad(diffrax_loss))"
   ]
  },
  {
   "cell_type": "code",
   "execution_count": 163,
   "id": "3b65d560",
   "metadata": {},
   "outputs": [
    {
     "name": "stdout",
     "output_type": "stream",
     "text": [
      "220 µs ± 1.78 µs per loop (mean ± std. dev. of 7 runs, 10000 loops each)\n"
     ]
    }
   ],
   "source": [
    "%%timeit\n",
    "jax_grad(PARAMS)"
   ]
  },
  {
   "cell_type": "code",
   "execution_count": 166,
   "id": "c6f3b846",
   "metadata": {},
   "outputs": [
    {
     "name": "stdout",
     "output_type": "stream",
     "text": [
      "2.34 ms ± 38.6 µs per loop (mean ± std. dev. of 7 runs, 1000 loops each)\n"
     ]
    }
   ],
   "source": [
    "%%timeit\n",
    "diffrax_grad(PARAMS)"
   ]
  },
  {
   "cell_type": "code",
   "execution_count": null,
   "id": "bfbc496f",
   "metadata": {},
   "outputs": [],
   "source": []
  }
 ],
 "metadata": {
  "kernelspec": {
   "display_name": "Python 3.9.0 64-bit ('kitkat': conda)",
   "language": "python",
   "name": "python390jvsc74a57bd0ab79d763119790aea00e8eaeb5d3be48434571919ae202ec38e1b7aefb77c6d3"
  },
  "language_info": {
   "codemirror_mode": {
    "name": "ipython",
    "version": 3
   },
   "file_extension": ".py",
   "mimetype": "text/x-python",
   "name": "python",
   "nbconvert_exporter": "python",
   "pygments_lexer": "ipython3",
   "version": "3.9.7"
  }
 },
 "nbformat": 4,
 "nbformat_minor": 5
}
