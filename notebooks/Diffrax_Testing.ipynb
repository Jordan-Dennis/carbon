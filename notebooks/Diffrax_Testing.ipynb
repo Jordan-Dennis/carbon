{
 "cells": [
  {
   "cell_type": "code",
   "execution_count": 80,
   "metadata": {},
   "outputs": [],
   "source": [
    "import diffrax\n",
    "import jax\n",
    "import ticktack\n",
    "import matplotlib.pyplot as pyplot"
   ]
  },
  {
   "cell_type": "code",
   "execution_count": 94,
   "metadata": {},
   "outputs": [],
   "source": [
    "model = ticktack.load_presaved_model(\"Guttler15\", production_rate_units=\"atoms/cm^2/s\")\n",
    "model.compile()\n",
    "\n",
    "STEADY_PROD = model.equilibrate(target_C_14=707.)\n",
    "STEADY_STATE = model.equilibrate(production_rate=STEADY_PROD)\n",
    "# STEADY_PROD *= 3.747273140033743\n",
    "PROD_COEFFS = model._production_coefficients\n",
    "MATRIX = model._matrix\n",
    "\n",
    "del model"
   ]
  },
  {
   "cell_type": "code",
   "execution_count": 95,
   "metadata": {},
   "outputs": [],
   "source": [
    "@jax.tree_util.Partial\n",
    "@jax.jit\n",
    "def production(t, args):\n",
    "    start_time, duration, phase, area = jax.numpy.array(args)\n",
    "    middle = start_time + duration / 2.\n",
    "    height = area / duration\n",
    "\n",
    "    gauss = height * jax.numpy.exp(- ((t - middle) / (1. / 1.93516 * duration)) ** 16.)\n",
    "    sine = 1.8803862513018528 + 0.18 * 1.8803862513018528 *\\\n",
    "        jax.numpy.sin(2 * jax.numpy.pi / 11 * t + phase * 2 * jax.numpy.pi / 11) \n",
    "        \n",
    "    return (sine + gauss) * 3.747273140033743"
   ]
  },
  {
   "cell_type": "code",
   "execution_count": 96,
   "metadata": {},
   "outputs": [],
   "source": [
    "@jax.tree_util.Partial\n",
    "@jax.jit\n",
    "def derivative(t, y, args, /, matrix=MATRIX, production=production, prod_coeffs=PROD_COEFFS): \n",
    "    \n",
    "    ans = jax.numpy.matmul(matrix, y) \n",
    "    production_rate_constant = production(t, args)\n",
    "    production_term = prod_coeffs * production_rate_constant \n",
    "    return ans + production_term "
   ]
  },
  {
   "cell_type": "code",
   "execution_count": 97,
   "metadata": {},
   "outputs": [],
   "source": [
    "@jax.tree_util.Partial\n",
    "@jax.jit\n",
    "def solve(y_initial, time, args, /, solver=diffrax.Dopri5(), dydx=derivative):\n",
    "    term = diffrax.ODETerm(dydx)\n",
    "    saveat = diffrax.SaveAt(ts=time)\n",
    "    stepsize = diffrax.PIDController(rtol=1e-5, atol=1e-5)\n",
    "\n",
    "    t0 = time.min()\n",
    "    t1 = time.max()\n",
    "    dt0 = time[1] - time[0] / 1000\n",
    "    \n",
    "    sol = diffrax.diffeqsolve(args=args, terms=term, solver=solver, t0=t0, t1=t1,\\\n",
    "        dt0=dt0, y0=y_initial, saveat=saveat, stepsize_controller=stepsize)\n",
    "    \n",
    "    return sol.ys[:, 1]"
   ]
  },
  {
   "cell_type": "code",
   "execution_count": 98,
   "metadata": {},
   "outputs": [],
   "source": [
    "with open(\"miyake12.csv\") as data:\n",
    "    _ = next(data)  # String titles \n",
    "    data = jax.numpy.array([row.strip().split(\" \") for row in data],\\\n",
    "        dtype=jax.numpy.float64)\n",
    "    data = data.T"
   ]
  },
  {
   "cell_type": "code",
   "execution_count": 124,
   "metadata": {},
   "outputs": [],
   "source": [
    "@jax.tree_util.Partial\n",
    "@jax.jit\n",
    "def log_likelihood(args, /, data=data, func=solve, y0=STEADY_STATE):\n",
    "    solution = func(y0, data[0], args)\n",
    "    solution = (solution - STEADY_STATE[1]) / STEADY_STATE[1]\n",
    "    solution += jax.numpy.mean(data[1][:4])\n",
    "    chi_squared = (solution - data[1]) ** 2 / data[2] ** 2\n",
    "    return - 0.5 * jax.numpy.sum(chi_squared)\n",
    "    "
   ]
  },
  {
   "cell_type": "code",
   "execution_count": 106,
   "metadata": {},
   "outputs": [],
   "source": [
    "parameters = (774.86, 0.25, 0.8, 6.44)"
   ]
  },
  {
   "cell_type": "code",
   "execution_count": 127,
   "metadata": {},
   "outputs": [
    {
     "name": "stdout",
     "output_type": "stream",
     "text": [
      "476 µs ± 49.1 µs per loop (mean ± std. dev. of 7 runs, 1000 loops each)\n"
     ]
    }
   ],
   "source": [
    "%%timeit\n",
    "log_likelihood(parameters)"
   ]
  },
  {
   "cell_type": "code",
   "execution_count": 132,
   "metadata": {},
   "outputs": [],
   "source": [
    "jac = jax.jit(jax.grad(log_likelihood))"
   ]
  },
  {
   "cell_type": "code",
   "execution_count": 135,
   "metadata": {},
   "outputs": [
    {
     "name": "stdout",
     "output_type": "stream",
     "text": [
      "4.5 ms ± 163 µs per loop (mean ± std. dev. of 7 runs, 100 loops each)\n"
     ]
    }
   ],
   "source": [
    "%%timeit\n",
    "jac(parameters)"
   ]
  },
  {
   "cell_type": "code",
   "execution_count": 136,
   "metadata": {},
   "outputs": [],
   "source": [
    "hes = jax.jit(jax.hessian(log_likelihood))"
   ]
  },
  {
   "cell_type": "code",
   "execution_count": 139,
   "metadata": {},
   "outputs": [
    {
     "name": "stdout",
     "output_type": "stream",
     "text": [
      "44.7 ms ± 2.55 ms per loop (mean ± std. dev. of 7 runs, 10 loops each)\n"
     ]
    }
   ],
   "source": [
    "%%timeit\n",
    "hes(parameters)"
   ]
  },
  {
   "cell_type": "code",
   "execution_count": null,
   "metadata": {},
   "outputs": [],
   "source": []
  }
 ],
 "metadata": {
  "interpreter": {
   "hash": "ab79d763119790aea00e8eaeb5d3be48434571919ae202ec38e1b7aefb77c6d3"
  },
  "kernelspec": {
   "display_name": "Python 3.9.0 ('kitkat')",
   "language": "python",
   "name": "python3"
  },
  "language_info": {
   "codemirror_mode": {
    "name": "ipython",
    "version": 3
   },
   "file_extension": ".py",
   "mimetype": "text/x-python",
   "name": "python",
   "nbconvert_exporter": "python",
   "pygments_lexer": "ipython3",
   "version": "3.9.0"
  },
  "orig_nbformat": 4
 },
 "nbformat": 4,
 "nbformat_minor": 2
}
