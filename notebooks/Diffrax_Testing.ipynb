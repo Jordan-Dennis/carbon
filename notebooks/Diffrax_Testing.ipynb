{
 "cells": [
  {
   "cell_type": "code",
   "execution_count": 162,
   "id": "b6eb5980",
   "metadata": {},
   "outputs": [],
   "source": [
    "import diffrax\n",
    "import jax\n",
    "from jax.experimental import ode"
   ]
  },
  {
   "cell_type": "code",
   "execution_count": 163,
   "id": "80ec9987",
   "metadata": {},
   "outputs": [],
   "source": [
    "PARAMS = jax.numpy.array([1.0, 0.0], dtype=jax.numpy.float64)\n",
    "MATRIX = jax.numpy.array([[2.0, 3.0], [1.0, 5.0]], dtype=jax.numpy.float64)\n",
    "Y_INIT = jax.numpy.array([0.0, 0.0], dtype=jax.numpy.float64)"
   ]
  },
  {
   "cell_type": "markdown",
   "id": "7a89e7b0",
   "metadata": {},
   "source": [
    "So at this point I know that ode.odeint is faster when removed, but is recompiling every run for some fucking reason. I believe the recompilation is happening because I am calling a `jit`'ed function from within another `jit`'ed function. This behaviour can be avoided either using `static_argnums` or `jax.tree_util.Partial`.\n",
    "\n",
    "I need to communicate with Ben and discuss the implications of these findings on the structure. So nothing came back at this point I am ready to riot. "
   ]
  }
 ],
 "metadata": {
  "kernelspec": {
   "display_name": "Python 3.9.0 64-bit ('kitkat': conda)",
   "language": "python",
   "name": "python390jvsc74a57bd0ab79d763119790aea00e8eaeb5d3be48434571919ae202ec38e1b7aefb77c6d3"
  },
  "language_info": {
   "codemirror_mode": {
    "name": "ipython",
    "version": 3
   },
   "file_extension": ".py",
   "mimetype": "text/x-python",
   "name": "python",
   "nbconvert_exporter": "python",
   "pygments_lexer": "ipython3",
   "version": "3.9.7"
  }
 },
 "nbformat": 4,
 "nbformat_minor": 5
}
