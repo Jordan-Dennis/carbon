{
 "cells": [
  {
   "cell_type": "code",
   "execution_count": 22,
   "id": "b6eb5980",
   "metadata": {},
   "outputs": [],
   "source": [
    "import diffrax\n",
    "import jax\n",
    "from jax.experimental import ode"
   ]
  },
  {
   "cell_type": "code",
   "execution_count": 24,
   "id": "80ec9987",
   "metadata": {},
   "outputs": [],
   "source": [
    "PARAMS = (774.86, 0.25, 0.8, 6.44)\n",
    "\n",
    "STEADY_PROD = 1.8803862513018528\n",
    "\n",
    "STEADY_STATE = jax.numpy.array(\n",
    "    [1.34432991e+02, 7.07000000e+02, 1.18701144e+03,\n",
    "    3.95666872e+00, 4.49574232e+04, 1.55056740e+02,\n",
    "    6.32017337e+02, 4.22182768e+02, 1.80125397e+03,\n",
    "    6.63307283e+02, 7.28080320e+03], \n",
    "    dtype=jax.numpy.float64)\n",
    "\n",
    "PROD_COEFFS = jax.numpy.array(\n",
    "    [0.7, 0.3, 0.0, 0.0, 0.0, 0.0, 0.0, 0.0, 0.0, 0.0, 0.0], \n",
    "    dtype=jax.numpy.float64)\n",
    "\n",
    "MATRIX = jax.numpy.array([\n",
    "    [-0.509, 0.009, 0.0, 0.0, 0.0, 0.0, 0.0, 0.0, 0.0, 0.0, 0.0],\n",
    "    [0.508, -0.44, 0.068, 0.0, 0.0, 0.545, 0.0, 0.167, 0.002, 0.002, 0.0],\n",
    "    [0.0, 0.121, -0.155, 12.0, 0.001, 0.0, 0.0, 0.003, 0.0, 0.0, 0.0],\n",
    "    [0.0, 0.0, 4.4000e-02, -1.3333e+01, 0.0, 0.0, 0.0, 0.0, 0.0, 0.0, 0.0],\n",
    "    [0.0, 0.0, 0.042, 1.333, -0.001, 0.0, 0.0, 0.0, 0.0, 0.0, 0.0],\n",
    "    [0.0, 0.229, 0.0, 0.0, 0.0, -1.046, 0.0, 0.0, 0.0, 0.0, 0.0],\n",
    "    [0.0, 0.0, 0.0, 0.0, 0.0, 0.136, -0.033, 0.0, 0.0, 0.0, 0.0],\n",
    "    [0.0, 0.0, 0.0, 0.0, 0.0, 0.364, 0.033, -0.183, 0.0, 0.0, 0.0],\n",
    "    [0.0, 0.0, 0.0, 0.0, 0.0, 0.0, 0.0, 0.01, -0.002, 0.0, 0.0],\n",
    "    [0.0, 0.0, 0.0, 0.0, 0.0, 0.0, 0.0, 0.003, 0.0, -0.002, 0.0],\n",
    "    [0.0, 0.0, 3.333e-04, 0.0, 5.291e-06, 0.0, 0.0, 0.0, 0.0, 4.0e-04, -1.2340e-04]], \n",
    "    dtype=jax.numpy.float64)\n",
    "\n",
    "DATA = jax.numpy.array(\n",
    "    [[760.   , 761.   , 762.   , 763.   , 764.   , 765.   ,\n",
    "      766.   , 767.   , 768.   , 769.   , 770.   , 771.   ,\n",
    "      772.   , 773.   , 774.   , 775.   , 776.   , 777.   ,\n",
    "      778.   , 779.   , 780.   , 781.   , 782.   , 783.   ,\n",
    "      784.   , 785.   , 786.   , 787.   ],\n",
    "     [-21.63 , -22.28 , -22.64 , -23.83 , -22.2  , -22.99 ,\n",
    "      -20.73 , -21.59 , -25.32 , -25.6  , -25.7  , -24.   ,\n",
    "      -23.73 , -21.91 , -23.44 ,  -9.335,  -6.46 ,  -9.7  ,\n",
    "      -11.17 , -10.31 , -11.1  , -10.72 , -10.67 ,  -8.63 ,\n",
    "       -9.68 ,  -9.31 , -12.33 , -14.44 ],\n",
    "     [  1.8  ,   1.84 ,   2.02 ,   1.79 ,   1.77 ,   1.25 ,\n",
    "        1.83 ,   1.79 ,   1.85 ,   1.705,   1.82 ,   1.72 ,\n",
    "        1.26 ,   1.28 ,   1.73 ,   1.97 ,   1.3  ,   1.78 ,\n",
    "        1.76 ,   1.33 ,   1.27 ,   1.735,   1.76 ,   1.74 ,\n",
    "        1.76 ,   1.73 ,   1.77 ,   1.83 ]], \n",
    "    dtype=jax.numpy.float64)"
   ]
  },
  {
   "cell_type": "code",
   "execution_count": 25,
   "id": "9996fa45",
   "metadata": {},
   "outputs": [],
   "source": [
    "@jax.jit \n",
    "def driving_term(t, args):\n",
    "    start_time, duration, phase, area = jax.numpy.array(args)\n",
    "    middle = start_time + duration / 2.\n",
    "    height = area / duration\n",
    "\n",
    "    gauss = height * \\\n",
    "        jax.numpy.exp(- ((t - middle) / (0.5 * duration)) ** 16.)\n",
    "    sine = STEADY_PROD + 0.18 * STEADY_PROD *\\\n",
    "        jax.numpy.sin(2 * jax.numpy.pi / 11 * t + phase * 2 * jax.numpy.pi / 11)\n",
    "\n",
    "    return (sine + gauss) * 3.747"
   ]
  },
  {
   "cell_type": "code",
   "execution_count": 26,
   "id": "5a280d85",
   "metadata": {},
   "outputs": [],
   "source": [
    "@jax.jit\n",
    "def jax_dydt(y, t, args, /, matrix=MATRIX, production=driving_term, \n",
    "                   prod_coeffs=PROD_COEFFS):\n",
    "    ans = jax.numpy.matmul(matrix, y)\n",
    "    production_rate_constant = production(t, args)\n",
    "    production_term = prod_coeffs * production_rate_constant\n",
    "    return ans + production_term"
   ]
  },
  {
   "cell_type": "code",
   "execution_count": 27,
   "id": "7e815790",
   "metadata": {},
   "outputs": [],
   "source": [
    "@jax.jit\n",
    "def diffrax_dydt(t, y, args, /, matrix=MATRIX, production=driving_term, \n",
    "                 prod_coeffs=PROD_COEFFS):\n",
    "    ans = jax.numpy.matmul(matrix, y)\n",
    "    production_rate_constant = production(t, args)\n",
    "    production_term = prod_coeffs * production_rate_constant\n",
    "    return ans + production_term"
   ]
  },
  {
   "cell_type": "code",
   "execution_count": 28,
   "id": "b9b21494",
   "metadata": {},
   "outputs": [],
   "source": [
    "time_out = jax.numpy.linspace(750, 800, 1000)"
   ]
  },
  {
   "cell_type": "code",
   "execution_count": 29,
   "id": "42e74b7b",
   "metadata": {},
   "outputs": [],
   "source": [
    "term = diffrax.ODETerm(diffrax_dydt)\n",
    "solver = diffrax.Dopri5()\n",
    "step_size = diffrax.PIDController(rtol=1.4e-8, atol=1.4e-8)\n",
    "save_time = diffrax.SaveAt(ts=DATA[0])\n",
    "adjoint_controller = diffrax.PIDController(norm=diffrax.adjoint_rms_seminorm, \n",
    "    rtol=1.4e-8, atol=1.4e-8)\n",
    "adjoint = diffrax.BacksolveAdjoint(stepsize_controller=adjoint_controller,\n",
    "    solver=diffrax.Dopri5())"
   ]
  },
  {
   "cell_type": "code",
   "execution_count": 52,
   "id": "85aa2dc3",
   "metadata": {},
   "outputs": [],
   "source": [
    "@jax.jit\n",
    "def jax_solve(y_initial, time, args, /, dydx=jax_dydt):\n",
    "    states = ode.odeint(dydx, y_initial, time, args, atol=1e-10, rtol=1e-10)\n",
    "    return states[:, 1]"
   ]
  },
  {
   "cell_type": "code",
   "execution_count": 30,
   "id": "1e3c7d2a",
   "metadata": {},
   "outputs": [],
   "source": [
    "@jax.jit\n",
    "def diffrax_loss(args):\n",
    "    solution = diffrax.diffeqsolve(args=args, terms=term, solver=solver, \n",
    "        y0=STEADY_STATE, t0=DATA[0].min(), t1=DATA[0].max(), dt0=None, \n",
    "        saveat=save_time, stepsize_controller=step_size, adjoint=adjoint)\n",
    "    chi_sq = jax.numpy.sum((solution.ys[:, 1] - DATA[1]) ** 2 / DATA[2] ** 2)\n",
    "    return -0.5 * chi_sq"
   ]
  },
  {
   "cell_type": "code",
   "execution_count": 55,
   "id": "b545d057",
   "metadata": {},
   "outputs": [],
   "source": [
    "@jax.jit \n",
    "def jax_loss(args, /, y0=STEADY_STATE, time=DATA[0], dc14=DATA[1], sig_dc14=DATA[2]):\n",
    "    solution = jax_solve(y0, time, args)\n",
    "    chi_sq = jax.numpy.sum((solution - dc14) ** 2 / sig_dc14 ** 2)\n",
    "    return -0.5 * chi_sq"
   ]
  },
  {
   "cell_type": "code",
   "execution_count": 42,
   "id": "0ae2a12d",
   "metadata": {},
   "outputs": [],
   "source": [
    "diffrax_jac = jax.jit(jax.grad(diffrax_loss))\n",
    "jax_jac = jax.jit(jax.grad(jax_loss))"
   ]
  },
  {
   "cell_type": "code",
   "execution_count": 35,
   "id": "af205923",
   "metadata": {},
   "outputs": [
    {
     "name": "stdout",
     "output_type": "stream",
     "text": [
      "3.14 ms ± 1.26 ms per loop (mean ± std. dev. of 7 runs, 1 loop each)\n"
     ]
    }
   ],
   "source": [
    "%%timeit\n",
    "diffrax_jac(PARAMS)"
   ]
  },
  {
   "cell_type": "code",
   "execution_count": 47,
   "id": "6e28bc76",
   "metadata": {},
   "outputs": [
    {
     "name": "stdout",
     "output_type": "stream",
     "text": [
      "648 ms ± 43.2 ms per loop (mean ± std. dev. of 7 runs, 1 loop each)\n"
     ]
    }
   ],
   "source": [
    "%%timeit\n",
    "jax_jac(PARAMS)"
   ]
  },
  {
   "cell_type": "code",
   "execution_count": 50,
   "id": "97404e10",
   "metadata": {},
   "outputs": [
    {
     "name": "stdout",
     "output_type": "stream",
     "text": [
      "2.13 ms ± 30.9 µs per loop (mean ± std. dev. of 7 runs, 1000 loops each)\n"
     ]
    }
   ],
   "source": [
    "%%timeit\n",
    "ode.odeint(jax_dydt, STEADY_STATE, DATA[0], PARAMS)"
   ]
  },
  {
   "cell_type": "code",
   "execution_count": 59,
   "id": "b6557a9a",
   "metadata": {},
   "outputs": [
    {
     "name": "stdout",
     "output_type": "stream",
     "text": [
      "2.08 s ± 41.8 ms per loop (mean ± std. dev. of 7 runs, 1 loop each)\n"
     ]
    }
   ],
   "source": [
    "%%timeit\n",
    "jax_loss(PARAMS)"
   ]
  },
  {
   "cell_type": "code",
   "execution_count": 64,
   "id": "2ff9dcd2",
   "metadata": {},
   "outputs": [
    {
     "data": {
      "text/plain": [
       "DeviceArray([707.     , 696.49384, 674.52985, 649.49756, 624.86725,\n",
       "             601.99567, 581.2823 , 562.8076 , 546.5007 , 532.2323 ,\n",
       "             519.79645, 508.92395, 499.25262, 490.41992, 482.0909 ,\n",
       "             469.04684, 468.5465 , 460.33243, 450.65308, 441.07117,\n",
       "             432.33908, 424.71466, 418.18393, 412.53754, 407.47372,\n",
       "             402.70587, 398.0082 , 393.28372], dtype=float32)"
      ]
     },
     "execution_count": 64,
     "metadata": {},
     "output_type": "execute_result"
    }
   ],
   "source": [
    "jax_solve(STEADY_STATE, DATA[0], PARAMS)"
   ]
  },
  {
   "cell_type": "code",
   "execution_count": 67,
   "id": "b9cbdee6",
   "metadata": {},
   "outputs": [
    {
     "data": {
      "text/plain": [
       "Solution(t0=DeviceArray(760., dtype=float32), t1=DeviceArray(787., dtype=float32), ts=DeviceArray([760., 761., 762., 763., 764., 765., 766., 767., 768., 769.,\n",
       "             770., 771., 772., 773., 774., 775., 776., 777., 778., 779.,\n",
       "             780., 781., 782., 783., 784., 785., 786., 787.],            dtype=float32, weak_type=True), ys=DeviceArray([[1.3443298e+02, 7.0700000e+02, 1.1870115e+03, 3.9566686e+00,\n",
       "              4.4957422e+04, 1.5505675e+02, 6.3201733e+02, 4.2218277e+02,\n",
       "              1.8012540e+03, 6.6330731e+02, 7.2808032e+03],\n",
       "             [9.0297478e+01, 6.9649414e+02, 1.1817042e+03, 3.9011424e+00,\n",
       "              4.4967418e+04, 1.5421484e+02, 6.3220599e+02, 4.2212173e+02,\n",
       "              1.8018723e+03, 6.6324738e+02, 7.2808032e+03],\n",
       "             [6.3622334e+01, 6.7453247e+02, 1.1749722e+03, 3.8793766e+00,\n",
       "              4.4977137e+04, 1.5133296e+02, 6.3214374e+02, 4.2145432e+02,\n",
       "              1.8024868e+03, 6.6318658e+02, 7.2808008e+03],\n",
       "             [4.7192314e+01, 6.4949731e+02, 1.1662463e+03, 3.8510802e+00,\n",
       "              4.4986473e+04, 1.4688634e+02, 6.3158185e+02, 4.1963629e+02,\n",
       "              1.8030880e+03, 6.6312201e+02, 7.2807988e+03],\n",
       "             [3.6780220e+01, 6.2487231e+02, 1.1556218e+03, 3.8164566e+00,\n",
       "              4.4995344e+04, 1.4177907e+02, 6.3038977e+02, 4.1648160e+02,\n",
       "              1.8036630e+03, 6.6305072e+02, 7.2807920e+03],\n",
       "             [2.9974707e+01, 6.0199237e+02, 1.1434366e+03, 3.7765918e+00,\n",
       "              4.5003727e+04, 1.3662436e+02, 6.2854498e+02, 4.1208899e+02,\n",
       "              1.8041979e+03, 6.6296790e+02, 7.2807803e+03],\n",
       "             [2.5452177e+01, 5.8128058e+02, 1.1300911e+03, 3.7327864e+00,\n",
       "              4.5011328e+04, 1.3174258e+02, 6.2608606e+02, 4.0669174e+02,\n",
       "              1.8046832e+03, 6.6287085e+02, 7.2807471e+03],\n",
       "             [2.2506989e+01, 5.6280536e+02, 1.1159491e+03, 3.6862829e+00,\n",
       "              4.5018551e+04, 1.2727215e+02, 6.2308221e+02, 4.0055917e+02,\n",
       "              1.8051112e+03, 6.6275568e+02, 7.2807407e+03],\n",
       "             [2.0743097e+01, 5.4650208e+02, 1.1013577e+03, 3.6382103e+00,\n",
       "              4.5024965e+04, 1.2325975e+02, 6.1960754e+02, 3.9394479e+02,\n",
       "              1.8054739e+03, 6.6262238e+02, 7.2807144e+03],\n",
       "             [1.9880983e+01, 5.3223438e+02, 1.0866005e+03, 3.5895252e+00,\n",
       "              4.5030727e+04, 1.1970597e+02, 6.1573914e+02, 3.8706906e+02,\n",
       "              1.8057644e+03, 6.6246820e+02, 7.2806904e+03],\n",
       "             [1.9654554e+01, 5.1980499e+02, 1.0719158e+03, 3.5410252e+00,\n",
       "              4.5035758e+04, 1.1658715e+02, 6.1155212e+02, 3.8011609e+02,\n",
       "              1.8059915e+03, 6.6229462e+02, 7.2806470e+03],\n",
       "             [1.9779739e+01, 5.0892682e+02, 1.0574901e+03, 3.4933355e+00,\n",
       "              4.5040070e+04, 1.1385873e+02, 6.0711047e+02, 3.7322641e+02,\n",
       "              1.8061470e+03, 6.6210022e+02, 7.2806055e+03],\n",
       "             [1.9974764e+01, 4.9925708e+02, 1.0434475e+03, 3.4468956e+00,\n",
       "              4.5043836e+04, 1.1146011e+02, 6.0247028e+02, 3.6650159e+02,\n",
       "              1.8062328e+03, 6.6188605e+02, 7.2805537e+03],\n",
       "             [2.0006792e+01, 4.9042587e+02, 1.0298678e+03, 3.4019611e+00,\n",
       "              4.5046875e+04, 1.0931821e+02, 5.9767731e+02, 3.6000754e+02,\n",
       "              1.8062515e+03, 6.6165210e+02, 7.2805122e+03],\n",
       "             [1.9739857e+01, 4.8209778e+02, 1.0167745e+03, 3.3586292e+00,\n",
       "              4.5049320e+04, 1.0735684e+02, 5.9276709e+02, 3.5377380e+02,\n",
       "              1.8062080e+03, 6.6139978e+02, 7.2804575e+03],\n",
       "             [2.8039108e+01, 4.7815753e+02, 1.0041887e+03, 3.3169131e+00,\n",
       "              4.5050973e+04, 1.0556940e+02, 5.8776331e+02, 3.4780234e+02,\n",
       "              1.8061035e+03, 6.6113013e+02, 7.2804033e+03],\n",
       "             [2.8198874e+01, 4.7618756e+02, 9.9301312e+02, 3.2797239e+00,\n",
       "              4.5052344e+04, 1.0503132e+02, 5.8277380e+02, 3.4232077e+02,\n",
       "              1.8059452e+03, 6.6084229e+02, 7.2803408e+03],\n",
       "             [2.3550779e+01, 4.6887878e+02, 9.8233447e+02, 3.2443941e+00,\n",
       "              4.5053125e+04, 1.0393352e+02, 5.7783948e+02, 3.3733521e+02,\n",
       "              1.8057311e+03, 6.6054034e+02, 7.2802769e+03],\n",
       "             [2.0612429e+01, 4.6079623e+02, 9.7191425e+02, 3.2099555e+00,\n",
       "              4.5053402e+04, 1.0243223e+02, 5.7288849e+02, 3.3259338e+02,\n",
       "              1.8054698e+03, 6.6022449e+02, 7.2802046e+03],\n",
       "             [1.8917614e+01, 4.5281555e+02, 9.6169202e+02, 3.1761720e+00,\n",
       "              4.5053211e+04, 1.0075814e+02, 5.6788342e+02, 3.2795972e+02,\n",
       "              1.8051621e+03, 6.5989502e+02, 7.2801309e+03],\n",
       "             [1.8149851e+01, 4.4540558e+02, 9.5168823e+02, 3.1430998e+00,\n",
       "              4.5052543e+04, 9.9080444e+01, 5.6281531e+02, 3.2338785e+02,\n",
       "              1.8048090e+03, 6.5955267e+02, 7.2800522e+03],\n",
       "             [1.8024204e+01, 4.3876376e+02, 9.4195734e+02, 3.1109128e+00,\n",
       "              4.5051422e+04, 9.7501648e+01, 5.5769275e+02, 3.1888364e+02,\n",
       "              1.8044111e+03, 6.5919714e+02, 7.2799712e+03],\n",
       "             [1.8247658e+01, 4.3288226e+02, 9.3255829e+02, 3.0798073e+00,\n",
       "              4.5049863e+04, 9.6068108e+01, 5.5253497e+02, 3.1447681e+02,\n",
       "              1.8039696e+03, 6.5882916e+02, 7.2798862e+03],\n",
       "             [1.8534569e+01, 4.2760410e+02, 9.2353369e+02, 3.0499299e+00,\n",
       "              4.5047883e+04, 9.4781830e+01, 5.4736292e+02, 3.1019995e+02,\n",
       "              1.8034855e+03, 6.5844885e+02, 7.2797979e+03],\n",
       "             [1.8650940e+01, 4.2269205e+02, 9.1489832e+02, 3.0213366e+00,\n",
       "              4.5045461e+04, 9.3613762e+01, 5.4219507e+02, 3.0607593e+02,\n",
       "              1.8029598e+03, 6.5805695e+02, 7.2797046e+03],\n",
       "             [1.8460848e+01, 4.1790509e+02, 9.0663617e+02, 2.9939852e+00,\n",
       "              4.5042699e+04, 9.2518768e+01, 5.3704468e+02, 3.0211157e+02,\n",
       "              1.8023965e+03, 6.5765344e+02, 7.2796138e+03],\n",
       "             [1.7952885e+01, 4.1306760e+02, 8.9871246e+02, 2.9677539e+00,\n",
       "              4.5039539e+04, 9.1451447e+01, 5.3191644e+02, 2.9829614e+02,\n",
       "              1.8017930e+03, 6.5723883e+02, 7.2795166e+03],\n",
       "             [1.7233622e+01, 4.0811847e+02, 8.9107770e+02, 2.9424922e+00,\n",
       "              4.5036082e+04, 9.0380226e+01, 5.2681030e+02, 2.9461041e+02,\n",
       "              1.8011548e+03, 6.5681519e+02, 7.2794185e+03]],            dtype=float32, weak_type=True), interpolation=None, stats={'compiled_num_steps': None, 'max_steps': 4096, 'num_accepted_steps': DeviceArray(261, dtype=int32, weak_type=True), 'num_rejected_steps': DeviceArray(110, dtype=int32, weak_type=True), 'num_steps': DeviceArray(371, dtype=int32, weak_type=True)}, result=DeviceArray(0, dtype=int32, weak_type=True), solver_state=None, controller_state=None, made_jump=None)"
      ]
     },
     "execution_count": 67,
     "metadata": {},
     "output_type": "execute_result"
    }
   ],
   "source": [
    "diffrax.diffeqsolve(args=PARAMS, terms=term, solver=solver, \n",
    "        y0=STEADY_STATE, t0=DATA[0].min(), t1=DATA[0].max(), dt0=None, \n",
    "        saveat=save_time, stepsize_controller=step_size, adjoint=adjoint)"
   ]
  },
  {
   "cell_type": "code",
   "execution_count": null,
   "id": "4dd6d54f",
   "metadata": {},
   "outputs": [],
   "source": []
  }
 ],
 "metadata": {
  "kernelspec": {
   "display_name": "Python 3.9.0 64-bit ('kitkat': conda)",
   "language": "python",
   "name": "python390jvsc74a57bd0ab79d763119790aea00e8eaeb5d3be48434571919ae202ec38e1b7aefb77c6d3"
  },
  "language_info": {
   "codemirror_mode": {
    "name": "ipython",
    "version": 3
   },
   "file_extension": ".py",
   "mimetype": "text/x-python",
   "name": "python",
   "nbconvert_exporter": "python",
   "pygments_lexer": "ipython3",
   "version": "3.9.7"
  }
 },
 "nbformat": 4,
 "nbformat_minor": 5
}
