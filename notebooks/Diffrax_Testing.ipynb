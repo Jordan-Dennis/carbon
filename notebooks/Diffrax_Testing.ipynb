{
 "cells": [
  {
   "cell_type": "code",
   "execution_count": 89,
   "id": "b6eb5980",
   "metadata": {},
   "outputs": [],
   "source": [
    "import diffrax\n",
    "import jax\n",
    "from jax.experimental import ode\n",
    "import matplotlib.pyplot as pyplot"
   ]
  },
  {
   "cell_type": "code",
   "execution_count": 91,
   "id": "80ec9987",
   "metadata": {},
   "outputs": [],
   "source": [
    "PARAMS = jax.numpy.array([1.0, 1.0], dtype=jax.numpy.float64)\n",
    "MATRIX = jax.numpy.array([[2.0, 1.0], [1.0, 2.0]], dtype=jax.numpy.float64)\n",
    "Y_INIT = jax.numpy.array([0.0, 0.0], dtype=jax.numpy.float64)"
   ]
  },
  {
   "cell_type": "code",
   "execution_count": 92,
   "id": "360f1b40",
   "metadata": {},
   "outputs": [],
   "source": [
    "@jax.jit\n",
    "def driving_term(t, args):\n",
    "    return jax.numpy.array([jax.numpy.exp(t), jax.numpy.sin(t)]) * args"
   ]
  },
  {
   "cell_type": "code",
   "execution_count": 93,
   "id": "bfdae84e",
   "metadata": {},
   "outputs": [],
   "source": [
    "@jax.jit\n",
    "def jax_ode(y, t, args):\n",
    "    return MATRIX @ y + driving_term(t, args)"
   ]
  },
  {
   "cell_type": "code",
   "execution_count": 94,
   "id": "c57a7c9d",
   "metadata": {},
   "outputs": [],
   "source": [
    "@diffrax.ODETerm\n",
    "@jax.jit\n",
    "def diffrax_ode(t, y, args):\n",
    "    return MATRIX @ y + driving_term(t, args)"
   ]
  },
  {
   "cell_type": "code",
   "execution_count": 95,
   "id": "f04f45fc",
   "metadata": {},
   "outputs": [],
   "source": [
    "@jax.jit\n",
    "def y(t):\n",
    "    y_1 = 0.05 * jax.numpy.exp(3 * t) - 0.25 * jax.numpy.exp(t) + \\\n",
    "        0.2 * jax.numpy.cos(t) + 0.1 * jax.numpy.sin(t)\n",
    "    y_2 = 0.05 * jax.numpy.exp(3 * t) + 0.25 * jax.numpy.exp(t) + \\\n",
    "        - 0.3 * jax.numpy.cos(t) + 0.4 * jax.numpy.sin(t)\n",
    "    return jax.numpy.array([y_1, y_2])"
   ]
  },
  {
   "cell_type": "code",
   "execution_count": 121,
   "id": "3738d558",
   "metadata": {},
   "outputs": [],
   "source": [
    "time = jax.numpy.linspace(0, 1, 100)\n",
    "data = y(time) + jax.random.normal(jax.random.PRNGKey(0), (2, 100))"
   ]
  },
  {
   "cell_type": "code",
   "execution_count": 122,
   "id": "63e33bd0",
   "metadata": {},
   "outputs": [],
   "source": [
    "@jax.jit\n",
    "def jax_loss(args):\n",
    "    solution = ode.odeint(jax_ode, Y_INIT, time, args)\n",
    "    sum_squares = (solution - data.T) ** 2\n",
    "    return sum_squares"
   ]
  },
  {
   "cell_type": "code",
   "execution_count": 124,
   "id": "bf6a440e",
   "metadata": {},
   "outputs": [
    {
     "name": "stdout",
     "output_type": "stream",
     "text": [
      "15.6 µs ± 562 ns per loop (mean ± std. dev. of 7 runs, 100000 loops each)\n"
     ]
    }
   ],
   "source": [
    "%%timeit\n",
    "jax_loss(PARAMS)"
   ]
  },
  {
   "cell_type": "code",
   "execution_count": 125,
   "id": "b86940d3",
   "metadata": {},
   "outputs": [],
   "source": [
    "step_size = diffrax.PIDController(rtol=1.4e-8, atol=1.4e-8)\n",
    "times = diffrax.SaveAt(ts=time)\n",
    "t_initial = jax_times.min()\n",
    "t_final = jax_times.max()\n",
    "\n",
    "adjoint_controller = diffrax.PIDController(\n",
    "    norm=diffrax.adjoint_rms_seminorm, \n",
    "    rtol=1.4e-8, atol=1.4e-8)\n",
    "\n",
    "grad = diffrax.BacksolveAdjoint(\n",
    "    stepsize_controller=adjoint_controller,\n",
    "    solver=diffrax.Dopri5())"
   ]
  },
  {
   "cell_type": "code",
   "execution_count": 126,
   "id": "b200b39a",
   "metadata": {},
   "outputs": [],
   "source": [
    "@jax.jit\n",
    "def diffrax_loss(args):\n",
    "    solution = diffrax.diffeqsolve(\n",
    "        t0=t_initial, t1=t_final, dt0=None, terms=diffrax_ode, \n",
    "        stepsize_controller=step_size, saveat=times, adjoint=grad,\n",
    "        solver=diffrax.Dopri5(), args=args, y0=Y_INIT)\n",
    "    sum_squares = (solution.ys - data.T) ** 2\n",
    "    return sum_squares"
   ]
  },
  {
   "cell_type": "code",
   "execution_count": 129,
   "id": "fa8d4e38",
   "metadata": {},
   "outputs": [
    {
     "name": "stdout",
     "output_type": "stream",
     "text": [
      "The slowest run took 13.32 times longer than the fastest. This could mean that an intermediate result is being cached.\n",
      "413 µs ± 519 µs per loop (mean ± std. dev. of 7 runs, 1 loop each)\n"
     ]
    }
   ],
   "source": [
    "%%timeit\n",
    "diffrax_loss(PARAMS)"
   ]
  }
 ],
 "metadata": {
  "kernelspec": {
   "display_name": "Python 3.9.0 64-bit ('kitkat': conda)",
   "language": "python",
   "name": "python390jvsc74a57bd0ab79d763119790aea00e8eaeb5d3be48434571919ae202ec38e1b7aefb77c6d3"
  },
  "language_info": {
   "codemirror_mode": {
    "name": "ipython",
    "version": 3
   },
   "file_extension": ".py",
   "mimetype": "text/x-python",
   "name": "python",
   "nbconvert_exporter": "python",
   "pygments_lexer": "ipython3",
   "version": "3.9.7"
  }
 },
 "nbformat": 4,
 "nbformat_minor": 5
}
