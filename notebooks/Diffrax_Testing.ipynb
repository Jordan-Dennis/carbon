{
 "cells": [
  {
   "cell_type": "code",
   "execution_count": 13,
   "id": "b6eb5980",
   "metadata": {},
   "outputs": [],
   "source": [
    "import diffrax\n",
    "import jax\n",
    "from jax.experimental import ode\n",
    "import matplotlib.pyplot as pyplot"
   ]
  },
  {
   "cell_type": "code",
   "execution_count": 5,
   "id": "80ec9987",
   "metadata": {},
   "outputs": [],
   "source": [
    "PARAMS = jax.numpy.array([1.0, 0.0], dtype=jax.numpy.float64)\n",
    "MATRIX = jax.numpy.array([[2.0, 3.0], [1.0, 5.0]], dtype=jax.numpy.float64)\n",
    "Y_INIT = jax.numpy.array([0.0, 0.0], dtype=jax.numpy.float64)"
   ]
  },
  {
   "cell_type": "code",
   "execution_count": 4,
   "id": "360f1b40",
   "metadata": {},
   "outputs": [],
   "source": [
    "@jax.jit\n",
    "def driving_term(t, args):\n",
    "    return jax.numpy.full((2,), jax.numpy.exp(t)) * args"
   ]
  },
  {
   "cell_type": "code",
   "execution_count": 9,
   "id": "bfdae84e",
   "metadata": {},
   "outputs": [],
   "source": [
    "@jax.jit\n",
    "def jax_ode(y, t, args):\n",
    "    return MATRIX @ y + driving_term(t, args)"
   ]
  },
  {
   "cell_type": "code",
   "execution_count": 16,
   "id": "bd5b2baf",
   "metadata": {},
   "outputs": [],
   "source": [
    "@diffrax.ODETerm\n",
    "@jax.jit\n",
    "def diffrax_ode(t, y, args):\n",
    "    return MATRIX @ y + driving_term(t, args)"
   ]
  },
  {
   "cell_type": "code",
   "execution_count": null,
   "id": "c31201e1",
   "metadata": {},
   "outputs": [],
   "source": [
    "@jax.jit\n",
    "def loss()"
   ]
  },
  {
   "cell_type": "code",
   "execution_count": 19,
   "id": "d318982d",
   "metadata": {},
   "outputs": [],
   "source": [
    "jax_times = jax.numpy.linspace(0, 1, 100)"
   ]
  },
  {
   "cell_type": "code",
   "execution_count": 33,
   "id": "37be2246",
   "metadata": {},
   "outputs": [
    {
     "name": "stdout",
     "output_type": "stream",
     "text": [
      "859 µs ± 64.7 µs per loop (mean ± std. dev. of 7 runs, 1000 loops each)\n"
     ]
    }
   ],
   "source": [
    "%%timeit\n",
    "jax_solution = ode.odeint(jax_ode, Y_INIT, jax_times, PARAMS)"
   ]
  },
  {
   "cell_type": "code",
   "execution_count": 25,
   "id": "dedfc2b2",
   "metadata": {},
   "outputs": [],
   "source": [
    "step_size = diffrax.PIDController(rtol=1.4e-8, atol=1.4e-8)\n",
    "times = diffrax.SaveAt(ts=jax_times)\n",
    "t_initial = jax_times.min()\n",
    "t_final = jax_times.max()\n",
    "\n",
    "adjoint_controller = diffrax.PIDController(\n",
    "    norm=diffrax.adjoint_rms_seminorm, \n",
    "    rtol=1.4e-8, atol=1.4e-8)\n",
    "\n",
    "grad = diffrax.BacksolveAdjoint(\n",
    "    stepsize_controller=adjoint_controller,\n",
    "    solver=diffrax.Dopri5())"
   ]
  },
  {
   "cell_type": "code",
   "execution_count": 34,
   "id": "a6876359",
   "metadata": {},
   "outputs": [
    {
     "name": "stdout",
     "output_type": "stream",
     "text": [
      "625 µs ± 66.6 µs per loop (mean ± std. dev. of 7 runs, 1000 loops each)\n"
     ]
    }
   ],
   "source": [
    "%%timeit\n",
    "diffrax_solution = diffrax.diffeqsolve(\n",
    "    t0=t_initial, t1=t_final, dt0=None, terms=diffrax_ode, \n",
    "    stepsize_controller=step_size, saveat=times, adjoint=grad,\n",
    "    solver=diffrax.Dopri5(), args=PARAMS, y0=Y_INIT)"
   ]
  },
  {
   "cell_type": "code",
   "execution_count": 31,
   "id": "c0483ab3",
   "metadata": {},
   "outputs": [
    {
     "data": {
      "text/plain": [
       "[<matplotlib.lines.Line2D at 0x7fe0b86471c0>,\n",
       " <matplotlib.lines.Line2D at 0x7fe0b8647ca0>]"
      ]
     },
     "execution_count": 31,
     "metadata": {},
     "output_type": "execute_result"
    },
    {
     "data": {
      "image/png": "[encoded data removed]",
      "text/plain": [
       "<Figure size 432x288 with 1 Axes>"
      ]
     },
     "metadata": {
      "needs_background": "light"
     },
     "output_type": "display_data"
    }
   ],
   "source": [
    "pyplot.plot(jax_solution)\n",
    "pyplot.plot(diffrax_solution.ys)"
   ]
  },
  {
   "cell_type": "markdown",
   "id": "b509189f",
   "metadata": {},
   "source": [
    "So at this point I know that ode.odeint is faster when removed, but is recompiling every run for some fucking reason. I believe the recompilation is happening because I am calling a `jit`'ed function from within another `jit`'ed function. This behaviour can be avoided either using `static_argnums` or `jax.tree_util.Partial`.\n",
    "\n",
    "I need to communicate with Ben and discuss the implications of these findings on the structure. So nothing came back at this point I am ready to riot. "
   ]
  },
  {
   "cell_type": "code",
   "execution_count": 37,
   "id": "b164b918",
   "metadata": {},
   "outputs": [],
   "source": [
    "matrix = jax.numpy.array([\n",
    "    [1, 1, 1, 0],\n",
    "    [-1, -3, -4, 1],\n",
    "    [1, 1, 3, -4],\n",
    "    [-1, -3, 0, 3]\n",
    "])\n",
    "\n",
    "solution = jax.numpy.array([0, 0, 0, 1])"
   ]
  },
  {
   "cell_type": "code",
   "execution_count": 38,
   "id": "89a88aec",
   "metadata": {},
   "outputs": [
    {
     "data": {
      "text/plain": [
       "DeviceArray([ 0.05, -0.25,  0.2 ,  0.1 ], dtype=float32)"
      ]
     },
     "execution_count": 38,
     "metadata": {},
     "output_type": "execute_result"
    }
   ],
   "source": [
    "jax.numpy.linalg.solve(matrix, solution)"
   ]
  },
  {
   "cell_type": "code",
   "execution_count": null,
   "id": "ba35d13d",
   "metadata": {},
   "outputs": [],
   "source": []
  }
 ],
 "metadata": {
  "kernelspec": {
   "display_name": "Python 3.9.0 64-bit ('kitkat': conda)",
   "language": "python",
   "name": "python390jvsc74a57bd0ab79d763119790aea00e8eaeb5d3be48434571919ae202ec38e1b7aefb77c6d3"
  },
  "language_info": {
   "codemirror_mode": {
    "name": "ipython",
    "version": 3
   },
   "file_extension": ".py",
   "mimetype": "text/x-python",
   "name": "python",
   "nbconvert_exporter": "python",
   "pygments_lexer": "ipython3",
   "version": "3.9.7"
  }
 },
 "nbformat": 4,
 "nbformat_minor": 5
}
