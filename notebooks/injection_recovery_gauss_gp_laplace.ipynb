{
 "cells": [
  {
   "cell_type": "code",
   "execution_count": 1,
   "id": "7dbb1037",
   "metadata": {},
   "outputs": [],
   "source": [
    "import numpy as np\n",
    "import matplotlib.pyplot as plt\n",
    "from matplotlib.pyplot import rcParams\n",
    "import warnings\n",
    "warnings.filterwarnings('ignore')\n",
    "\n",
    "import re\n",
    "import jax.numpy as jnp\n",
    "from jax import grad, jit, partial, jacrev\n",
    "import ticktack\n",
    "from ticktack import fitting_tinygp as fitting\n",
    "from tqdm import tqdm\n",
    "import scipy\n",
    "\n",
    "rcParams['figure.figsize'] = (8.0, 4.0)"
   ]
  },
  {
   "cell_type": "code",
   "execution_count": 2,
   "id": "65fafbfa",
   "metadata": {},
   "outputs": [],
   "source": [
    "cbm = ticktack.load_presaved_model('Guttler14', production_rate_units = 'atoms/cm^2/s')\n",
    "cf = fitting.CarbonFitter(cbm)\n",
    "cf.load_data('inject_recovery_gp.csv')\n",
    "cf.prepare_function(use_control_points=True, interp='gp')"
   ]
  },
  {
   "cell_type": "code",
   "execution_count": 3,
   "id": "32cf369a",
   "metadata": {},
   "outputs": [],
   "source": [
    "@jit\n",
    "def gauss(t):\n",
    "    prod =  1.87 + 0.2 * 1.87 * jnp.exp(-1/2*((t-250)/10)**2.)\n",
    "    return prod"
   ]
  },
  {
   "cell_type": "code",
   "execution_count": 4,
   "id": "ecffb842",
   "metadata": {},
   "outputs": [
    {
     "data": {
      "text/plain": [
       "DeviceArray(-0.44436304, dtype=float64)"
      ]
     },
     "execution_count": 4,
     "metadata": {},
     "output_type": "execute_result"
    }
   ],
   "source": [
    "cf.offset"
   ]
  },
  {
   "cell_type": "code",
   "execution_count": 5,
   "id": "7825f249",
   "metadata": {},
   "outputs": [
    {
     "data": {
      "text/plain": [
       "0"
      ]
     },
     "execution_count": 5,
     "metadata": {},
     "output_type": "execute_result"
    }
   ],
   "source": [
    "cf.offset = 0\n",
    "cf.offset"
   ]
  },
  {
   "cell_type": "code",
   "execution_count": 6,
   "id": "27e1b7ab",
   "metadata": {},
   "outputs": [],
   "source": [
    "params = jnp.array([1.87002943, 1.86805214, 1.86999604, 1.87108185, 1.86972864,\n",
    "       1.86888666, 1.86947976, 1.87003006, 1.87040158, 1.87061446,\n",
    "       1.87061749, 1.87049914, 1.8703806 , 1.87033124, 1.87036837,\n",
    "       1.87053152, 1.8708518 , 1.87134645, 1.87202733, 1.87293555,\n",
    "       1.874114  , 1.87561136, 1.87750411, 1.87989524, 1.88287836,\n",
    "       1.88658263, 1.89114025, 1.89669193, 1.90338461, 1.91135135,\n",
    "       1.92071715, 1.93160632, 1.94409556, 1.9582442 , 1.97407275,\n",
    "       1.99152143, 2.01046616, 2.03075372, 2.05215628, 2.07435282,\n",
    "       2.09695777, 2.11955487, 2.14167901, 2.16282861, 2.1824795 ,\n",
    "       2.20012114, 2.21529847, 2.22758902, 2.23662495, 2.24215204,\n",
    "       2.24401406, 2.24214951, 2.23660382, 2.22754363, 2.21525893,\n",
    "       2.20009023, 2.18243101, 2.16276715, 2.14162675, 2.11951094,\n",
    "       2.09691641, 2.07431315, 2.05212886, 2.03073745, 2.01044763,\n",
    "       1.99150002, 1.97406826, 1.95825667, 1.94410212, 1.93159494,\n",
    "       1.92069886, 1.91132491, 1.90335166, 1.8966525 , 1.89110007,\n",
    "       1.88653945, 1.88283755, 1.87987414, 1.87752412, 1.87566853,\n",
    "       1.87421958, 1.87310803, 1.87226316, 1.87162376, 1.87115503,\n",
    "       1.87081471, 1.87056803, 1.87040366, 1.87029994, 1.87021804,\n",
    "       1.87013871, 1.87003578, 1.86989402, 1.86974339, 1.86965345,\n",
    "       1.8698085 , 1.87045018, 1.87111692])"
   ]
  },
  {
   "cell_type": "code",
   "execution_count": 7,
   "id": "cb79529e",
   "metadata": {},
   "outputs": [
    {
     "name": "stdout",
     "output_type": "stream",
     "text": [
      "total likelihood:  57.53803950987396\n",
      "gp likelihood:  57.53790465205109\n",
      "chi2:  0.00013485782287319217\n"
     ]
    }
   ],
   "source": [
    "print(\"total likelihood: \", cf.gp_likelihood(params))\n",
    "print(\"gp likelihood: \", cf.gp_neg_log_likelihood(params))\n",
    "print(\"chi2: \", cf.loss_chi2(params))"
   ]
  },
  {
   "cell_type": "code",
   "execution_count": 8,
   "id": "e424169d",
   "metadata": {},
   "outputs": [
    {
     "data": {
      "text/plain": [
       "<matplotlib.legend.Legend at 0x7f79a41480a0>"
      ]
     },
     "execution_count": 8,
     "metadata": {},
     "output_type": "execute_result"
    },
    {
     "data": {
      "image/png": "[encoded data removed]",
      "text/plain": [
       "<Figure size 576x288 with 1 Axes>"
      ]
     },
     "metadata": {
      "needs_background": "light"
     },
     "output_type": "display_data"
    }
   ],
   "source": [
    "plt.plot(cf.time_data[:-1], cf.dc14(params), \"or\", fillstyle=\"none\", label=\"recovered\")\n",
    "plt.errorbar(cf.time_data, cf.d14c_data, yerr=cf.d14c_data_error, fmt='.k', fillstyle=\"none\", capsize=2, \n",
    "             label=\"true\", alpha=0.5)\n",
    "plt.title(\"d14c\");\n",
    "plt.legend(loc='upper center', bbox_to_anchor=(0.5, -0.05),\n",
    "          fancybox=True)"
   ]
  },
  {
   "cell_type": "code",
   "execution_count": 9,
   "id": "c4c66a46",
   "metadata": {},
   "outputs": [
    {
     "name": "stdout",
     "output_type": "stream",
     "text": [
      "CPU times: user 2min 26s, sys: 5min 10s, total: 7min 37s\n",
      "Wall time: 1min 4s\n"
     ]
    },
    {
     "data": {
      "text/plain": [
       "DeviceArray([1.28888251, 0.0233084 , 0.02567869, 0.02835479, 0.02592828,\n",
       "             0.02570202, 0.02843856, 0.0295413 , 0.03193848, 0.03315423,\n",
       "             0.03400678, 0.03396706, 0.03360668, 0.03303847, 0.03252017,\n",
       "             0.03229071, 0.03244069, 0.03306894, 0.03407322, 0.03547815,\n",
       "             0.03714065, 0.03902935, 0.04100701, 0.04316378, 0.04535574,\n",
       "             0.04773214, 0.05026148, 0.05306344, 0.05618324, 0.05973821,\n",
       "             0.06372682, 0.06832405, 0.07348348, 0.07930644, 0.08578391,\n",
       "             0.09291598, 0.10057737, 0.10877054, 0.11736225, 0.12624142,\n",
       "             0.13519191, 0.14410313, 0.15275518, 0.16097201, 0.16854226,\n",
       "             0.17524212, 0.1809381 , 0.18547597, 0.18867557, 0.19048901,\n",
       "             0.19085249, 0.1897387 , 0.18718916, 0.18322425, 0.17803615,\n",
       "             0.17171293, 0.16439266, 0.15625167, 0.14756947, 0.13845575,\n",
       "             0.12915953, 0.11982066, 0.11062671, 0.10171383, 0.09321679,\n",
       "             0.08522358, 0.0778175 , 0.07102558, 0.06487968, 0.05932764,\n",
       "             0.05442143, 0.05006366, 0.04624285, 0.04283698, 0.03987881,\n",
       "             0.03719736, 0.03480044, 0.03260234, 0.03057786, 0.02864418,\n",
       "             0.02680726, 0.02504676, 0.0233732 , 0.02173532, 0.02018513,\n",
       "             0.01867722, 0.01719023, 0.01572263, 0.01424693, 0.01270757,\n",
       "             0.01107256, 0.0094567 , 0.00770515, 0.00630239, 0.00479641,\n",
       "             0.00410796, 0.00271372, 0.00306938], dtype=float64)"
      ]
     },
     "execution_count": 9,
     "metadata": {},
     "output_type": "execute_result"
    }
   ],
   "source": [
    "%%time\n",
    "jacrev(cf.gp_likelihood)(params)"
   ]
  }
 ],
 "metadata": {
  "kernelspec": {
   "display_name": "Python 3 (ipykernel)",
   "language": "python",
   "name": "python3"
  },
  "language_info": {
   "codemirror_mode": {
    "name": "ipython",
    "version": 3
   },
   "file_extension": ".py",
   "mimetype": "text/x-python",
   "name": "python",
   "nbconvert_exporter": "python",
   "pygments_lexer": "ipython3",
   "version": "3.8.10"
  }
 },
 "nbformat": 4,
 "nbformat_minor": 5
}
