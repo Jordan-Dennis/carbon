{
 "cells": [
  {
   "cell_type": "code",
   "execution_count": 1,
   "id": "7dbb1037",
   "metadata": {},
   "outputs": [],
   "source": [
    "import numpy as np\n",
    "import matplotlib.pyplot as plt\n",
    "import pandas as pd\n",
    "from matplotlib.pyplot import rcParams\n",
    "import celerite\n",
    "from celerite import terms\n",
    "from celerite.modeling import Model\n",
    "import warnings\n",
    "warnings.filterwarnings('ignore')\n",
    "\n",
    "import re\n",
    "import jax.numpy as jnp\n",
    "from jax import grad, jit, partial\n",
    "import ticktack\n",
    "from ticktack import fitting\n",
    "from astropy.table import Table\n",
    "from tqdm import tqdm\n",
    "from jax.ops import index_update\n",
    "\n",
    "rcParams['figure.figsize'] = (10.0, 5.0)"
   ]
  },
  {
   "cell_type": "code",
   "execution_count": 2,
   "id": "a4ef150d",
   "metadata": {},
   "outputs": [],
   "source": [
    "@jit\n",
    "def sine(t, param):\n",
    "    prod =  cf.steady_state_production + 0.18 * cf.steady_state_production * jnp.sin(2 * np.pi / 11 * t)\n",
    "    return prod"
   ]
  },
  {
   "cell_type": "code",
   "execution_count": 3,
   "id": "1b40b64d",
   "metadata": {},
   "outputs": [
    {
     "name": "stderr",
     "output_type": "stream",
     "text": [
      "WARNING:absl:No GPU/TPU found, falling back to CPU. (Set TF_CPP_MIN_LOG_LEVEL=0 and rerun for more info.)\n"
     ]
    },
    {
     "data": {
      "text/plain": [
       "Text(0.5, 1.0, 'Correct d14c')"
      ]
     },
     "execution_count": 3,
     "metadata": {},
     "output_type": "execute_result"
    },
    {
     "data": {
      "image/png": "[encoded data removed]",
      "text/plain": [
       "<Figure size 720x360 with 1 Axes>"
      ]
     },
     "metadata": {
      "needs_background": "light"
     },
     "output_type": "display_data"
    }
   ],
   "source": [
    "cbm = ticktack.load_presaved_model('Guttler14', production_rate_units = 'atoms/cm^2/s')\n",
    "cf = fitting.CarbonFitter(cbm)\n",
    "cf.load_data('inject-recovery.csv')\n",
    "cf.prepare_function(use_control_points=True)\n",
    "plt.plot(cf.time_data[:-1], cf.d14c_data[:-1], \".\")\n",
    "plt.ylabel(\"d14c\")\n",
    "plt.title(\"Correct d14c\")"
   ]
  },
  {
   "cell_type": "code",
   "execution_count": 4,
   "id": "f1057e26",
   "metadata": {},
   "outputs": [
    {
     "data": {
      "text/plain": [
       "Text(0.5, 1.0, 'True Production Rate')"
      ]
     },
     "execution_count": 4,
     "metadata": {},
     "output_type": "execute_result"
    },
    {
     "data": {
      "image/png": "[encoded data removed]",
      "text/plain": [
       "<Figure size 720x360 with 1 Axes>"
      ]
     },
     "metadata": {
      "needs_background": "light"
     },
     "output_type": "display_data"
    }
   ],
   "source": [
    "plt.plot(sine(cf.time_data, [1]), \".\")\n",
    "plt.title(\"True Production Rate\")"
   ]
  },
  {
   "cell_type": "code",
   "execution_count": 5,
   "id": "9e4c03a6",
   "metadata": {},
   "outputs": [
    {
     "data": {
      "text/plain": [
       "DeviceArray([-22.72, -22.72, -22.72, -22.72, -22.72, -22.72, -22.72,\n",
       "             -22.72, -22.72, -22.72, -22.72, -22.72, -22.72, -22.72,\n",
       "             -22.72, -22.72, -22.72, -22.72, -22.72, -22.72, -22.72,\n",
       "             -22.72, -22.72, -22.72, -22.72, -22.72, -22.72],            dtype=float64)"
      ]
     },
     "execution_count": 5,
     "metadata": {},
     "output_type": "execute_result"
    }
   ],
   "source": [
    "steady_state = cf.steady_state_production*jnp.ones((len(cf.time_data),))\n",
    "cf.dc14(steady_state)"
   ]
  },
  {
   "cell_type": "code",
   "execution_count": 6,
   "id": "5a7494b7",
   "metadata": {},
   "outputs": [
    {
     "data": {
      "text/plain": [
       "DeviceArray([2.05536888, 2.18277919, 2.20438312, 2.11279966, 1.93931845,\n",
       "             1.7432097 , 1.59147432, 1.535953  , 1.5956147 , 1.75007589,\n",
       "             1.94656461, 2.11795011, 2.20567822, 2.17977645, 2.04909419,\n",
       "             1.85827929, 1.67252403, 1.55529203, 1.54663584, 1.64951286,\n",
       "             1.82877496, 2.0231769 , 2.16630089, 2.20924835, 2.13734619,\n",
       "             1.97515992, 1.7781008 ], dtype=float64)"
      ]
     },
     "execution_count": 6,
     "metadata": {},
     "output_type": "execute_result"
    }
   ],
   "source": [
    "true_prod = sine(jnp.linspace(760, 787, 27), [1])\n",
    "true_prod"
   ]
  },
  {
   "cell_type": "code",
   "execution_count": 7,
   "id": "f0a70ac7",
   "metadata": {},
   "outputs": [
    {
     "data": {
      "text/plain": [
       "DeviceArray([ 3.52848971,  3.76285188,  4.09324973,  4.2866548 ,\n",
       "              4.13001829,  3.5202507 ,  2.50603425,  1.27540815,\n",
       "              0.09580176, -0.77129008, -1.1547639 , -1.02950491,\n",
       "             -0.52549853,  0.11253118,  0.60201152,  0.71141079,\n",
       "              0.33346983, -0.48129013, -1.54087378, -2.57335863,\n",
       "             -3.31284124, -3.58462045, -3.36052327, -2.76821767,\n",
       "             -2.05056514, -1.48877217, -1.31313042], dtype=float64)"
      ]
     },
     "execution_count": 7,
     "metadata": {},
     "output_type": "execute_result"
    }
   ],
   "source": [
    "cf.dc14(true_prod)"
   ]
  },
  {
   "cell_type": "code",
   "execution_count": 19,
   "id": "07c9bf67",
   "metadata": {},
   "outputs": [
    {
     "data": {
      "text/plain": [
       "Text(0, 0.5, 'd14c')"
      ]
     },
     "execution_count": 19,
     "metadata": {},
     "output_type": "execute_result"
    },
    {
     "data": {
      "image/png": "[encoded data removed]",
      "text/plain": [
       "<Figure size 720x360 with 1 Axes>"
      ]
     },
     "metadata": {
      "needs_background": "light"
     },
     "output_type": "display_data"
    }
   ],
   "source": [
    "t = np.arange(760, 870)\n",
    "burn_in = cf.run(cf.burn_in_time, true_prod, cf.steady_state_y0)\n",
    "d_14_c = cf.run_D_14_C_values(t, cf.time_oversample, true_prod, burn_in[-1, :]) - 22.72\n",
    "    \n",
    "plt.plot(t[:-1], d_14_c, \".\")\n",
    "plt.title(\"Recovered d14c\")\n",
    "plt.ylabel(\"d14c\")"
   ]
  },
  {
   "cell_type": "code",
   "execution_count": 23,
   "id": "80fb5fbc",
   "metadata": {},
   "outputs": [],
   "source": [
    "fine_grid_interp = cf.production(cf.time_grid_fine, 2.05536888, 2.17977645, 2.2068128 , 2.12789407, 1.96807642,\n",
    "             1.7781008 , 1.61828314, 1.53936442, 1.56640077, 1.69080834,\n",
    "             1.87308861, 2.05536888, 2.17977645, 2.2068128 , 2.12789407,\n",
    "             1.96807642, 1.7781008 , 1.61828314, 1.53936442, 1.56640077,\n",
    "             1.69080834, 1.87308861, 2.05536888, 2.17977645, 2.2068128 ,\n",
    "             2.12789407, 1.96807642, 1.7781008 )"
   ]
  },
  {
   "cell_type": "code",
   "execution_count": 25,
   "id": "709c1bd3",
   "metadata": {},
   "outputs": [
    {
     "data": {
      "text/plain": [
       "[<matplotlib.lines.Line2D at 0x7fc028568b80>]"
      ]
     },
     "execution_count": 25,
     "metadata": {},
     "output_type": "execute_result"
    },
    {
     "data": {
      "image/png": "[encoded data removed]",
      "text/plain": [
       "<Figure size 720x360 with 1 Axes>"
      ]
     },
     "metadata": {
      "needs_background": "light"
     },
     "output_type": "display_data"
    }
   ],
   "source": [
    "plt.plot(cf.time_grid_fine, fine_grid_interp)"
   ]
  },
  {
   "cell_type": "code",
   "execution_count": null,
   "id": "618e9008",
   "metadata": {},
   "outputs": [],
   "source": [
    "@jit\n",
    "def like(params):\n",
    "    d_14_c = cf.dc14(params)\n",
    "    lik = jnp.sum((cf.d14c_data[:-1] - d_14_c)**2)\n",
    "    return lik\n",
    "@jit\n",
    "def grad_like(params):\n",
    "    return jit(grad(like))(params)\n",
    "\n",
    "gradient = grad_like(steady_state)\n",
    "# for j in tqdm(range(200)):\n",
    "#     gradient = grad_like(control_points)\n",
    "#     gradient = index_update(gradient, gradient<-20, 0)   \n",
    "#     control_points -= 1e-3*gradient\n",
    "#     control_points = index_update(control_points, control_points<0, 0)   "
   ]
  },
  {
   "cell_type": "code",
   "execution_count": null,
   "id": "e0e8bcfe",
   "metadata": {},
   "outputs": [],
   "source": [
    "# t = np.linspace(761., 788., 26)[1:]\n",
    "# plt.plot(t, sine(t, [1]), \".\")\n",
    "# plt.plot(t, steady_state[1:], \".\")\n",
    "# plt.plot(t, gradient[1:]/np.max(np.abs(gradient[1:])), \".\")"
   ]
  },
  {
   "cell_type": "code",
   "execution_count": null,
   "id": "35401a97",
   "metadata": {},
   "outputs": [],
   "source": [
    "# t = np.linspace(761., 787., 26)\n",
    "# plt.plot(t, sine(t, [1]), \".\")\n",
    "# plt.plot(t, control_points, \".\")\n",
    "# plt.legend([\"true\", 'recovered'])"
   ]
  },
  {
   "cell_type": "code",
   "execution_count": null,
   "id": "b6e56739",
   "metadata": {},
   "outputs": [],
   "source": []
  }
 ],
 "metadata": {
  "kernelspec": {
   "display_name": "Python 3 (ipykernel)",
   "language": "python",
   "name": "python3"
  },
  "language_info": {
   "codemirror_mode": {
    "name": "ipython",
    "version": 3
   },
   "file_extension": ".py",
   "mimetype": "text/x-python",
   "name": "python",
   "nbconvert_exporter": "python",
   "pygments_lexer": "ipython3",
   "version": "3.8.10"
  }
 },
 "nbformat": 4,
 "nbformat_minor": 5
}
