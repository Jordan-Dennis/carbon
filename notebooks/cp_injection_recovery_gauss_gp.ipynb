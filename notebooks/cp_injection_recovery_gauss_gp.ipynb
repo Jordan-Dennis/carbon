{
 "cells": [
  {
   "cell_type": "code",
   "execution_count": 1,
   "id": "7dbb1037",
   "metadata": {},
   "outputs": [],
   "source": [
    "import numpy as np\n",
    "import matplotlib.pyplot as plt\n",
    "from matplotlib.pyplot import rcParams\n",
    "import warnings\n",
    "warnings.filterwarnings('ignore')\n",
    "\n",
    "import re\n",
    "import jax.numpy as jnp\n",
    "from jax import grad, jit, partial\n",
    "import ticktack\n",
    "from ticktack import fitting2 as fitting\n",
    "from tqdm import tqdm\n",
    "import scipy\n",
    "\n",
    "rcParams['figure.figsize'] = (8.0, 4.0)"
   ]
  },
  {
   "cell_type": "code",
   "execution_count": 2,
   "id": "65fafbfa",
   "metadata": {},
   "outputs": [],
   "source": [
    "cbm = ticktack.load_presaved_model('Guttler14', production_rate_units = 'atoms/cm^2/s')\n",
    "cf = fitting.CarbonFitter(cbm)\n",
    "cf.load_data('inject_recovery_gp.csv')\n",
    "cf.prepare_function(use_control_points=True, interp='gp')"
   ]
  },
  {
   "cell_type": "code",
   "execution_count": 3,
   "id": "594ceb91",
   "metadata": {},
   "outputs": [
    {
     "data": {
      "text/plain": [
       "DeviceArray([2.5, 2.5, 2.5, 2.5, 2.5, 2.5, 2.5, 2.5, 2.5, 2.5, 2.5, 2.5,\n",
       "             2.5, 2.5, 2.5, 2.5, 2.5, 2.5, 2.5, 2.5, 2.5, 2.5, 2.5, 2.5,\n",
       "             2.5, 2.5, 2.5, 2.5, 2.5, 2.5, 2.5, 2.5, 2.5, 2.5, 2.5, 2.5,\n",
       "             2.5, 2.5, 2.5, 2.5, 2.5, 2.5, 2.5, 2.5, 2.5, 2.5, 2.5, 2.5,\n",
       "             2.5, 2.5, 2.5, 2.5, 2.5, 2.5, 2.5, 2.5, 2.5, 2.5, 2.5, 2.5,\n",
       "             2.5, 2.5, 2.5, 2.5, 2.5, 2.5, 2.5, 2.5, 2.5, 2.5, 2.5, 2.5,\n",
       "             2.5, 2.5, 2.5, 2.5, 2.5, 2.5, 2.5, 2.5, 2.5, 2.5, 2.5, 2.5,\n",
       "             2.5, 2.5, 2.5, 2.5, 2.5, 2.5, 2.5, 2.5, 2.5, 2.5, 2.5, 2.5,\n",
       "             2.5, 2.5, 2.5], dtype=float64)"
      ]
     },
     "execution_count": 3,
     "metadata": {},
     "output_type": "execute_result"
    }
   ],
   "source": [
    "cf.d14c_data_error"
   ]
  },
  {
   "cell_type": "code",
   "execution_count": 4,
   "id": "a4ef150d",
   "metadata": {},
   "outputs": [],
   "source": [
    "@jit\n",
    "def gauss(t):\n",
    "    prod =  1.87 + 0.2 * 1.87 * jnp.exp(-1/2*((t-250)/10)**2.)\n",
    "    return prod"
   ]
  },
  {
   "cell_type": "code",
   "execution_count": 5,
   "id": "ecffb842",
   "metadata": {},
   "outputs": [
    {
     "data": {
      "text/plain": [
       "DeviceArray(-0.44436304, dtype=float64)"
      ]
     },
     "execution_count": 5,
     "metadata": {},
     "output_type": "execute_result"
    }
   ],
   "source": [
    "cf.offset"
   ]
  },
  {
   "cell_type": "code",
   "execution_count": 6,
   "id": "7825f249",
   "metadata": {},
   "outputs": [
    {
     "data": {
      "text/plain": [
       "0"
      ]
     },
     "execution_count": 6,
     "metadata": {},
     "output_type": "execute_result"
    }
   ],
   "source": [
    "cf.offset = 0\n",
    "cf.offset"
   ]
  },
  {
   "cell_type": "code",
   "execution_count": 7,
   "id": "6e993d63",
   "metadata": {},
   "outputs": [
    {
     "name": "stdout",
     "output_type": "stream",
     "text": [
      "    def fit_cp(self, low_bound=0, avg=False, k=1):\n",
      "        steady_state = self.steady_state_production * jnp.ones((len(self.control_points_time),))\n",
      "        params = steady_state\n",
      "        bounds = tuple([(low_bound, None)] * len(steady_state))\n",
      "\n",
      "        if self.gp:\n",
      "            if avg:\n",
      "                soln = scipy.optimize.minimize(self.gp_likelihood_avg, params, args=(k), bounds=bounds,)\n",
      "            else:\n",
      "                soln = scipy.optimize.minimize(self.gp_likelihood, params, bounds=bounds,\n",
      "                                               options={'maxiter': 20000})\n",
      "        else:\n",
      "            if avg:\n",
      "                soln = scipy.optimize.minimize(self.loss_chi2_avg, params, args=(k), bounds=bounds,\n",
      "                                               method=\"L-BFGS-B\", options={'maxiter': 20000})\n",
      "            else:\n",
      "                soln = scipy.optimize.minimize(self.loss_chi2, params, bounds=bounds,\n",
      "                                               method=\"L-BFGS-B\", options={'maxiter': 20000})\n",
      "        return soln\n",
      "\n"
     ]
    }
   ],
   "source": [
    "import inspect\n",
    "print(inspect.getsource(cf.fit_cp))"
   ]
  },
  {
   "cell_type": "code",
   "execution_count": 8,
   "id": "3b0cf5c1",
   "metadata": {},
   "outputs": [
    {
     "name": "stdout",
     "output_type": "stream",
     "text": [
      "CPU times: user 10min 28s, sys: 4.48 s, total: 10min 33s\n",
      "Wall time: 9min 45s\n"
     ]
    }
   ],
   "source": [
    "%%time\n",
    "soln = cf.fit_cp(low_bound=0.)"
   ]
  },
  {
   "cell_type": "code",
   "execution_count": 9,
   "id": "27e1b7ab",
   "metadata": {},
   "outputs": [
    {
     "data": {
      "text/plain": [
       "'CONVERGENCE: REL_REDUCTION_OF_F_<=_FACTR*EPSMCH'"
      ]
     },
     "execution_count": 9,
     "metadata": {},
     "output_type": "execute_result"
    }
   ],
   "source": [
    "soln.message"
   ]
  },
  {
   "cell_type": "code",
   "execution_count": 10,
   "id": "cb79529e",
   "metadata": {},
   "outputs": [
    {
     "name": "stdout",
     "output_type": "stream",
     "text": [
      "total likelihood:  105.1660893804539\n",
      "gp likelihood:  105.16601503885595\n",
      "chi2:  7.434159795458949e-05\n"
     ]
    }
   ],
   "source": [
    "print(\"total likelihood: \", cf.gp_likelihood(soln.x))\n",
    "print(\"gp likelihood: \", cf.gp_neg_log_likelihood(soln.x))\n",
    "print(\"chi2: \", cf.loss_chi2(soln.x))"
   ]
  },
  {
   "cell_type": "code",
   "execution_count": 11,
   "id": "6e9aace0",
   "metadata": {},
   "outputs": [
    {
     "data": {
      "text/plain": [
       "Text(0.5, 1.0, 'gauss production rate')"
      ]
     },
     "execution_count": 11,
     "metadata": {},
     "output_type": "execute_result"
    },
    {
     "data": {
      "image/png": "[encoded data removed]",
      "text/plain": [
       "<Figure size 576x288 with 1 Axes>"
      ]
     },
     "metadata": {
      "needs_background": "light"
     },
     "output_type": "display_data"
    }
   ],
   "source": [
    "t = cf.control_points_time\n",
    "true_cp = gauss(t)\n",
    "plt.plot(t, gauss(t), \".\")\n",
    "plt.title('gauss production rate')"
   ]
  },
  {
   "cell_type": "code",
   "execution_count": 12,
   "id": "50ca4c85",
   "metadata": {},
   "outputs": [
    {
     "data": {
      "text/plain": [
       "<matplotlib.legend.Legend at 0x7f9748459610>"
      ]
     },
     "execution_count": 12,
     "metadata": {},
     "output_type": "execute_result"
    },
    {
     "data": {
      "image/png": "[encoded data removed]",
      "text/plain": [
       "<Figure size 576x288 with 1 Axes>"
      ]
     },
     "metadata": {
      "needs_background": "light"
     },
     "output_type": "display_data"
    }
   ],
   "source": [
    "plt.plot(t, soln.x, \".\", label=\"recovered\")\n",
    "plt.plot(t, true_cp, label='true')\n",
    "plt.title(\"control points\");\n",
    "plt.legend(loc='upper center', bbox_to_anchor=(0.5, -0.05),\n",
    "          fancybox=True)"
   ]
  },
  {
   "cell_type": "code",
   "execution_count": 22,
   "id": "e424169d",
   "metadata": {},
   "outputs": [
    {
     "data": {
      "text/plain": [
       "<matplotlib.legend.Legend at 0x7f9708408160>"
      ]
     },
     "execution_count": 22,
     "metadata": {},
     "output_type": "execute_result"
    },
    {
     "data": {
      "image/png": "[encoded data removed]",
      "text/plain": [
       "<Figure size 576x288 with 1 Axes>"
      ]
     },
     "metadata": {
      "needs_background": "light"
     },
     "output_type": "display_data"
    }
   ],
   "source": [
    "plt.plot(cf.time_data[:-1], cf.dc14(soln.x), \"or\", fillstyle=\"none\", label=\"recovered\")\n",
    "# plt.plot(cf.time_data, cf.d14c_data, '--r')\n",
    "plt.errorbar(cf.time_data, cf.d14c_data, yerr=cf.d14c_data_error, fmt='.k', fillstyle=\"none\", capsize=2, \n",
    "             label=\"true\", alpha=0.5)\n",
    "plt.title(\"d14c\");\n",
    "plt.legend(loc='upper center', bbox_to_anchor=(0.5, -0.05),\n",
    "          fancybox=True)"
   ]
  },
  {
   "cell_type": "code",
   "execution_count": 14,
   "id": "cc5f69ed",
   "metadata": {},
   "outputs": [],
   "source": [
    "t = np.arange(cf.start-10, cf.start+10, 0.1)"
   ]
  },
  {
   "cell_type": "code",
   "execution_count": 15,
   "id": "ff4da742",
   "metadata": {},
   "outputs": [
    {
     "data": {
      "text/plain": [
       "[<matplotlib.lines.Line2D at 0x7f972802daf0>]"
      ]
     },
     "execution_count": 15,
     "metadata": {},
     "output_type": "execute_result"
    },
    {
     "data": {
      "image/png": "[encoded data removed]",
      "text/plain": [
       "<Figure size 576x288 with 1 Axes>"
      ]
     },
     "metadata": {
      "needs_background": "light"
     },
     "output_type": "display_data"
    }
   ],
   "source": [
    "mu = cf.production(t, (soln.x,))\n",
    "plt.plot(t, mu, \".\", markersize=2)\n",
    "plt.plot(t, gauss(t), \".\", markersize=2)"
   ]
  },
  {
   "cell_type": "code",
   "execution_count": 16,
   "id": "51a1cf82",
   "metadata": {},
   "outputs": [
    {
     "data": {
      "text/plain": [
       "array([1.87006282, 1.86604591, 1.86923108, 1.87245341, 1.87024562,\n",
       "       1.86802098, 1.86881625, 1.86973304, 1.8703945 , 1.87079789,\n",
       "       1.87086771, 1.870735  , 1.87052202, 1.87033138, 1.87025446,\n",
       "       1.87034971, 1.87063426, 1.87112396, 1.87183308, 1.87278379,\n",
       "       1.87400739, 1.87555868, 1.8775013 , 1.87992586, 1.88293838,\n",
       "       1.88665456, 1.89121002, 1.89674938, 1.9034209 , 1.9113596 ,\n",
       "       1.92069957, 1.93155953, 1.94402931, 1.9581648 , 1.97396656,\n",
       "       1.991388  , 2.01032915, 2.03062045, 2.0520171 , 2.07421043,\n",
       "       2.0968295 , 2.11944471, 2.14158025, 2.16273641, 2.18240006,\n",
       "       2.20006406, 2.2152569 , 2.2275576 , 2.23661231, 2.24215275,\n",
       "       2.24402079, 2.24216452, 2.23663562, 2.22759215, 2.21530069,\n",
       "       2.20012   , 2.18247129, 2.16282158, 2.14167724, 2.11955368,\n",
       "       2.09694881, 2.0743385 , 2.05215055, 2.03075599, 2.0104651 ,\n",
       "       1.99151227, 1.97406982, 1.95824811, 1.94409024, 1.93158862,\n",
       "       1.9206894 , 1.91130913, 1.90333742, 1.896642  , 1.89108806,\n",
       "       1.88653159, 1.88283411, 1.87986795, 1.87751304, 1.87565992,\n",
       "       1.87421235, 1.87309169, 1.87223189, 1.87157996, 1.87109172,\n",
       "       1.87073301, 1.87048262, 1.87032043, 1.87022095, 1.87015584,\n",
       "       1.87010163, 1.87003322, 1.86992423, 1.86977819, 1.86965124,\n",
       "       1.86975675, 1.87034489, 1.87096814])"
      ]
     },
     "execution_count": 16,
     "metadata": {},
     "output_type": "execute_result"
    }
   ],
   "source": [
    "soln.x"
   ]
  },
  {
   "cell_type": "code",
   "execution_count": null,
   "id": "c4c66a46",
   "metadata": {},
   "outputs": [],
   "source": []
  }
 ],
 "metadata": {
  "kernelspec": {
   "display_name": "Python 3 (ipykernel)",
   "language": "python",
   "name": "python3"
  },
  "language_info": {
   "codemirror_mode": {
    "name": "ipython",
    "version": 3
   },
   "file_extension": ".py",
   "mimetype": "text/x-python",
   "name": "python",
   "nbconvert_exporter": "python",
   "pygments_lexer": "ipython3",
   "version": "3.8.10"
  }
 },
 "nbformat": 4,
 "nbformat_minor": 5
}
