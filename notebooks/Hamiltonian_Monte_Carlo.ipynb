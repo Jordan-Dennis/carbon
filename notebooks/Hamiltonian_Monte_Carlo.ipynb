{
 "cells": [
  {
   "cell_type": "code",
   "execution_count": 2,
   "metadata": {},
   "outputs": [],
   "source": [
    "import numpy as np\n",
    "import random\n",
    "import scipy.stats as st\n",
    "import matplotlib.pyplot as plt"
   ]
  },
  {
   "cell_type": "code",
   "execution_count": 3,
   "metadata": {},
   "outputs": [],
   "source": [
    "def normal(x,mu,sigma):\n",
    "    numerator = np.exp(-1*((x-mu)**2)/(2*sigma**2))\n",
    "    denominator = sigma * np.sqrt(2*np.pi)\n",
    "    return numerator/denominator\n",
    "\n",
    "def neg_log_prob(x,mu,sigma):\n",
    "    return -1*np.log(normal(x=x,mu=mu,sigma=sigma))\n",
    "\n",
    "def HMC(mu=0.0,sigma=1.0,path_len=1,step_size=0.25,initial_position=0.0,epochs=1_000):\n",
    "    # setup\n",
    "    steps = int(path_len/step_size) # path_len and step_size are tricky parameters to tune...\n",
    "    samples = [initial_position]\n",
    "    momentum_dist = st.norm(0, 1) \n",
    "    # generate samples\n",
    "    for e in range(epochs):\n",
    "        q0 = np.copy(samples[-1])\n",
    "        q1 = np.copy(q0)\n",
    "        p0 = momentum_dist.rvs()        \n",
    "        p1 = np.copy(p0) \n",
    "        dVdQ = -1*(q0-mu)/(sigma**2) # gradient of PDF wrt position (q0) aka potential energy wrt position\n",
    "\n",
    "        # leapfrog integration begin\n",
    "        for s in range(steps): \n",
    "            p1 += step_size*dVdQ/2 # as potential energy increases, kinetic energy decreases, half-step\n",
    "            q1 += step_size*p1 # position increases as function of momentum \n",
    "            p1 += step_size*dVdQ/2 # second half-step \"leapfrog\" update to momentum    \n",
    "        # leapfrog integration end        \n",
    "        p1 = -1*p1 #flip momentum for reversibility     \n",
    "\n",
    "        \n",
    "        #metropolis acceptance\n",
    "        q0_nlp = neg_log_prob(x=q0,mu=mu,sigma=sigma)\n",
    "        q1_nlp = neg_log_prob(x=q1,mu=mu,sigma=sigma)        \n",
    "\n",
    "        p0_nlp = neg_log_prob(x=p0,mu=0,sigma=1)\n",
    "        p1_nlp = neg_log_prob(x=p1,mu=0,sigma=1)\n",
    "        \n",
    "        # Account for negatives AND log(probabiltiies)...\n",
    "        target = q0_nlp - q1_nlp # P(q1)/P(q0)\n",
    "        adjustment = p1_nlp - p0_nlp # P(p1)/P(p0)\n",
    "        acceptance = target + adjustment \n",
    "        \n",
    "        event = np.log(random.uniform(0,1))\n",
    "        if event <= acceptance:\n",
    "            samples.append(q1)\n",
    "        else:\n",
    "            samples.append(q0)\n",
    "    \n",
    "    return samples   "
   ]
  },
  {
   "cell_type": "code",
   "execution_count": 10,
   "metadata": {},
   "outputs": [
    {
     "data": {
      "text/plain": [
       "(array([0.00682039, 0.        , 0.00454693, 0.01591424, 0.02500809,\n",
       "        0.07047735, 0.13640777, 0.21370551, 0.30691748, 0.45469257,\n",
       "        0.37284791, 0.32965211, 0.15004855, 0.10230583, 0.04546926,\n",
       "        0.00909385, 0.0181877 , 0.00682039, 0.00454693, 0.00227346]),\n",
       " array([-4.30652953, -3.86711131, -3.42769308, -2.98827486, -2.54885664,\n",
       "        -2.10943842, -1.67002019, -1.23060197, -0.79118375, -0.35176553,\n",
       "         0.08765269,  0.52707092,  0.96648914,  1.40590736,  1.84532558,\n",
       "         2.28474381,  2.72416203,  3.16358025,  3.60299847,  4.04241669,\n",
       "         4.48183492]),\n",
       " <BarContainer object of 20 artists>)"
      ]
     },
     "execution_count": 10,
     "metadata": {},
     "output_type": "execute_result"
    },
    {
     "data": {
      "image/png": "[encoded data removed]",
      "text/plain": [
       "<Figure size 432x288 with 1 Axes>"
      ]
     },
     "metadata": {},
     "output_type": "display_data"
    }
   ],
   "source": [
    "import matplotlib.pyplot as plt\n",
    "mu = 0\n",
    "sigma = 1\n",
    "trial = HMC(mu=mu,sigma=sigma,path_len=1.5,step_size=0.25)\n",
    "\n",
    "lines = np.linspace(-6,6,10000)\n",
    "normal_curve = [normal(x=l,mu=mu,sigma=sigma) for l in lines]\n",
    "\n",
    "plt.plot(lines, normal_curve)\n",
    "plt.hist(np.array(trial), density=True, bins=20)"
   ]
  },
  {
   "cell_type": "code",
   "execution_count": null,
   "metadata": {},
   "outputs": [],
   "source": []
  }
 ],
 "metadata": {
  "interpreter": {
   "hash": "ab79d763119790aea00e8eaeb5d3be48434571919ae202ec38e1b7aefb77c6d3"
  },
  "kernelspec": {
   "display_name": "Python 3.9.0 ('kitkat')",
   "language": "python",
   "name": "python3"
  },
  "language_info": {
   "codemirror_mode": {
    "name": "ipython",
    "version": 3
   },
   "file_extension": ".py",
   "mimetype": "text/x-python",
   "name": "python",
   "nbconvert_exporter": "python",
   "pygments_lexer": "ipython3",
   "version": "3.9.0"
  },
  "orig_nbformat": 4
 },
 "nbformat": 4,
 "nbformat_minor": 2
}
