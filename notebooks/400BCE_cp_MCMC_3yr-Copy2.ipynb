{
 "cells": [
  {
   "cell_type": "code",
   "execution_count": 1,
   "id": "0c3b7060",
   "metadata": {},
   "outputs": [],
   "source": [
    "import numpy as np\n",
    "import matplotlib.pyplot as plt\n",
    "from matplotlib.pyplot import rcParams\n",
    "import warnings\n",
    "warnings.filterwarnings('ignore')\n",
    "\n",
    "import re\n",
    "import jax.numpy as jnp\n",
    "from jax import grad, jit, partial\n",
    "import jax\n",
    "import ticktack\n",
    "from ticktack import fitting\n",
    "from tqdm import tqdm\n",
    "import emcee\n",
    "\n",
    "import corner\n",
    "rcParams['figure.figsize'] = (10.0, 5.0)"
   ]
  },
  {
   "cell_type": "code",
   "execution_count": 2,
   "id": "5ba1cb99",
   "metadata": {},
   "outputs": [],
   "source": [
    "cbm = ticktack.load_presaved_model('Guttler14', production_rate_units = 'atoms/cm^2/s')\n",
    "cf = fitting.CarbonFitter(cbm)\n",
    "cf.load_data('400_BCE_Data_processed.csv', time_oversample=12)\n",
    "cf.prepare_function(use_control_points=True, interp=\"gp\")"
   ]
  },
  {
   "cell_type": "code",
   "execution_count": 3,
   "id": "ee5dc48c",
   "metadata": {},
   "outputs": [],
   "source": [
    "params = jnp.array([1.64020496, 1.89753848, 2.01179489, 1.9785422 , 1.81363453,\n",
    "       1.59947136, 1.48841209, 1.48488675, 1.55470805, 1.66057913,\n",
    "       1.72097105, 1.78765711, 1.98009502, 2.24229633, 2.25534079,\n",
    "       2.07390008, 2.09996162, 2.1624614 , 2.02154143, 1.89533406,\n",
    "       2.29156256, 2.36281857, 2.10976963, 1.88188099, 1.92629082,\n",
    "       1.86123407, 1.87932658, 1.97239226, 2.09059458, 2.42509554,\n",
    "       2.24717411, 1.98034002, 2.15429256, 2.3680923 , 2.42892708,\n",
    "       2.38856132, 2.24038707, 2.03315887, 1.93415563, 1.93665946,\n",
    "       2.00306035, 2.09327783, 2.13070118, 2.12015296, 2.07284067,\n",
    "       2.00072921, 1.96674321, 1.95691131, 1.95263047, 1.95951212,\n",
    "       2.01101407, 2.15562078, 2.34533774, 2.41804187, 2.38966125,\n",
    "       2.36644911, 2.36723508, 2.35487908, 2.30677972, 2.14512009,\n",
    "       1.95696441, 2.0656364 , 2.36750192, 2.50107729, 2.468006  ,\n",
    "       2.37943663, 2.23309733, 2.03400008, 1.83934691, 1.80763014,\n",
    "       1.92377285, 2.11707142, 2.34033932, 2.50999497, 2.58184438,\n",
    "       2.48033809, 2.23594208, 1.93972687, 1.69049792, 1.74216108,\n",
    "       2.004313  , 2.13613745, 2.16634975, 2.27589915, 2.39505255,\n",
    "       2.33938229, 2.1470738 , 1.97639435, 1.86876382, 1.90723507,\n",
    "       2.04399432, 2.1059226 , 2.11458501, 2.20612467, 2.29357451,\n",
    "       2.1206685 , 1.78798917, 1.668846  , 1.728371  , 1.79633104,\n",
    "       1.85317522, 1.88585494, 1.89204024])"
   ]
  },
  {
   "cell_type": "code",
   "execution_count": 4,
   "id": "10179def",
   "metadata": {},
   "outputs": [
    {
     "data": {
      "text/plain": [
       "DeviceArray([-426, -425, -424, -423, -422, -421, -420, -419, -418, -417,\n",
       "             -416, -415, -414, -413, -412, -411, -410, -409, -408, -407,\n",
       "             -406, -405, -404, -403, -402, -401, -400, -399, -398, -397,\n",
       "             -396, -395, -394, -393, -392, -391, -390, -389, -388, -387,\n",
       "             -386, -385, -384, -383, -382, -381, -380, -379, -378, -377,\n",
       "             -376, -375, -374, -373, -372, -371, -370, -369, -368, -367,\n",
       "             -366, -365, -364, -363, -362, -361, -360, -359, -358, -357,\n",
       "             -356, -355, -354, -353, -352, -351, -350, -349, -348, -347,\n",
       "             -346, -345, -344, -343, -342, -341, -340, -339, -338, -337,\n",
       "             -336, -335, -334, -333, -332, -331, -330, -329, -328, -327,\n",
       "             -326, -325], dtype=int64)"
      ]
     },
     "execution_count": 4,
     "metadata": {},
     "output_type": "execute_result"
    }
   ],
   "source": [
    "cf.control_points_time"
   ]
  },
  {
   "cell_type": "code",
   "execution_count": 5,
   "id": "cab952ea",
   "metadata": {},
   "outputs": [
    {
     "data": {
      "text/plain": [
       "102"
      ]
     },
     "execution_count": 5,
     "metadata": {},
     "output_type": "execute_result"
    }
   ],
   "source": [
    "cf.control_points_time.size"
   ]
  },
  {
   "cell_type": "code",
   "execution_count": 6,
   "id": "925d6f9e",
   "metadata": {},
   "outputs": [
    {
     "data": {
      "text/plain": [
       "<matplotlib.legend.Legend at 0x7f65aa63f3d0>"
      ]
     },
     "execution_count": 6,
     "metadata": {},
     "output_type": "execute_result"
    },
    {
     "data": {
      "image/png": "[encoded data removed]",
      "text/plain": [
       "<Figure size 720x360 with 1 Axes>"
      ]
     },
     "metadata": {
      "needs_background": "light"
     },
     "output_type": "display_data"
    }
   ],
   "source": [
    "plt.plot(cf.time_data, cf.time_data, \".\", label=\"d14c time data\")\n",
    "plt.plot(cf.control_points_time, cf.control_points_time -10, \".\", label=\"cp time data\")\n",
    "plt.legend()"
   ]
  },
  {
   "cell_type": "code",
   "execution_count": 7,
   "id": "c2f0fad3",
   "metadata": {
    "scrolled": true
   },
   "outputs": [
    {
     "name": "stdout",
     "output_type": "stream",
     "text": [
      "Running burn-in...\n"
     ]
    },
    {
     "name": "stderr",
     "output_type": "stream",
     "text": [
      "100%|█████████████████████████████████████████████████████████████████████████████████| 250/250 [42:18<00:00, 10.15s/it]\n"
     ]
    }
   ],
   "source": [
    "initial = params\n",
    "burnin, production = 250, 250\n",
    "ndim, nwalkers = len(initial), 2*len(initial)\n",
    "sampler = emcee.EnsembleSampler(nwalkers, ndim, cf.gp_likelihood)\n",
    "\n",
    "print(\"Running burn-in...\")\n",
    "p0 = initial + 1e-5 * np.random.rand(nwalkers, ndim)\n",
    "p0, lp, _ = sampler.run_mcmc(p0, burnin, progress=True);"
   ]
  },
  {
   "cell_type": "code",
   "execution_count": 8,
   "id": "7b109aca",
   "metadata": {},
   "outputs": [
    {
     "name": "stdout",
     "output_type": "stream",
     "text": [
      "Running production...\n"
     ]
    },
    {
     "name": "stderr",
     "output_type": "stream",
     "text": [
      "100%|█████████████████████████████████████████████████████████████████████████████████| 250/250 [34:29<00:00,  8.28s/it]\n"
     ]
    }
   ],
   "source": [
    "print(\"Running production...\")\n",
    "sampler.reset()\n",
    "sampler.run_mcmc(p0, production, skip_initial_state_check=True, progress=True);"
   ]
  },
  {
   "cell_type": "code",
   "execution_count": 9,
   "id": "28a70b1c",
   "metadata": {},
   "outputs": [],
   "source": [
    "mean = np.mean(sampler.flatchain, axis=0)"
   ]
  },
  {
   "cell_type": "code",
   "execution_count": 10,
   "id": "75631318",
   "metadata": {},
   "outputs": [
    {
     "data": {
      "text/plain": [
       "array([ 3.58843352e+67,  4.53095751e+67,  1.98332233e+67,  2.67817510e+67,\n",
       "        3.02403293e+67, -2.82233369e+67, -1.66408115e+67, -1.96318803e+67,\n",
       "       -4.55677985e+67,  1.31935069e+67, -9.11767766e+65, -2.78652231e+67,\n",
       "       -2.74517935e+67, -8.60349922e+67,  5.31146729e+67,  3.75796325e+67,\n",
       "       -4.68691530e+66, -2.57923899e+67, -2.15504515e+67,  6.35240526e+66,\n",
       "       -5.76674716e+67, -3.13432132e+67, -1.98623095e+67, -5.02065340e+66,\n",
       "       -5.23004793e+67, -1.10626022e+67,  2.56784189e+67, -2.89153091e+67,\n",
       "        2.92716870e+67, -6.39316385e+67,  4.25397160e+67, -6.05672490e+67,\n",
       "       -3.05065325e+67, -1.02525939e+67,  2.79040895e+67,  2.27441476e+67,\n",
       "       -3.20373832e+66, -1.41937057e+67,  4.53670170e+66,  7.36304208e+67,\n",
       "        6.46484245e+66, -1.23934359e+66,  3.20007608e+67,  8.60449383e+66,\n",
       "        2.20784022e+67, -8.73376438e+67,  4.72942033e+67,  2.84475009e+67,\n",
       "       -3.64468318e+67,  3.26245557e+67,  7.06346565e+67, -5.51826221e+67,\n",
       "        6.81895282e+66,  3.03236050e+67,  5.18691894e+66, -1.06576988e+67,\n",
       "        3.65996321e+67,  2.28637683e+67, -2.81960936e+67,  1.12120151e+67,\n",
       "        1.63675429e+67,  5.17132140e+67, -4.75424384e+67, -9.89747462e+66,\n",
       "       -4.33215772e+67,  6.08268722e+67, -5.66914454e+67, -5.70562922e+67,\n",
       "        1.87455663e+67, -1.97147064e+67,  1.28610190e+66, -8.14966246e+67,\n",
       "       -1.44188563e+67, -3.20641094e+67, -7.30486587e+67,  4.06640831e+67,\n",
       "        2.00222854e+67,  2.99902625e+67,  6.87098744e+67, -1.25564727e+67,\n",
       "        1.13315076e+68,  5.30142831e+67,  5.89060976e+67, -2.85878341e+67,\n",
       "        6.33802753e+67, -1.52514935e+67,  5.01884669e+67, -1.67358701e+67,\n",
       "        3.23320393e+67,  6.26539615e+67, -9.93270193e+66, -4.24041323e+67,\n",
       "        4.65329437e+67, -4.12258394e+67,  6.92758995e+67,  3.67634195e+67,\n",
       "       -2.32276111e+67, -3.56300846e+67,  2.56642587e+67, -6.89712276e+67,\n",
       "        7.19203274e+67, -5.29427755e+66,  7.48959949e+67])"
      ]
     },
     "execution_count": 10,
     "metadata": {},
     "output_type": "execute_result"
    }
   ],
   "source": [
    "mean"
   ]
  },
  {
   "cell_type": "code",
   "execution_count": 11,
   "id": "1b892e96",
   "metadata": {},
   "outputs": [],
   "source": [
    "std = np.std(sampler.flatchain, axis=0)"
   ]
  },
  {
   "cell_type": "code",
   "execution_count": 14,
   "id": "a9a6cdcb",
   "metadata": {},
   "outputs": [
    {
     "data": {
      "text/plain": [
       "<matplotlib.legend.Legend at 0x7f6538155f10>"
      ]
     },
     "execution_count": 14,
     "metadata": {},
     "output_type": "execute_result"
    },
    {
     "data": {
      "image/png": "[encoded data removed]",
      "text/plain": [
       "<Figure size 720x360 with 1 Axes>"
      ]
     },
     "metadata": {
      "needs_background": "light"
     },
     "output_type": "display_data"
    }
   ],
   "source": [
    "d14c = cf.dc14(params=mean)\n",
    "d14c_fine = cf.dc14_fine(params=mean)\n",
    "# plt.errorbar(cf.control_points_time, mean[:-1], yerr=std[:-1], fmt=\".k\", label=\"empirical error\")\n",
    "plt.plot(cf.control_points_time, mean[:-1], \"bo\", fillstyle=\"none\")\n",
    "plt.plot(cf.control_points_time, mean[:-1], color=\"b\", label=\"empirical mean\")\n",
    "plt.plot(cf.control_points_time, params[:-1], 'o', color=\"orange\", fillstyle=\"none\", label=\"fitted\")\n",
    "plt.plot(cf.control_points_time, params[:-1], color=\"orange\")\n",
    "plt.legend()"
   ]
  },
  {
   "cell_type": "code",
   "execution_count": null,
   "id": "0cd1a78b",
   "metadata": {},
   "outputs": [],
   "source": [
    "plt.plot(sampler.flatchain[:, 7], \".\", markersize=0.09)"
   ]
  },
  {
   "cell_type": "code",
   "execution_count": null,
   "id": "17f1b0ea",
   "metadata": {},
   "outputs": [],
   "source": [
    "fig, (ax1, ax2) = plt.subplots(2, figsize=(10, 10))\n",
    "n = 100\n",
    "top_n = np.random.permutation(len(sampler.flatchain))[:n]\n",
    "ax1.plot(cf.time_data, cf.d14c_data, \".k\")\n",
    "for i in tqdm(top_n):\n",
    "    d14c = cf.dc14(params=sampler.flatchain[i, :])\n",
    "    ax1.plot(cf.time_data[:-1], d14c, color=\"g\", alpha=0.2)\n",
    "    ax2.plot(cf.control_points_time, sampler.flatchain[i, :][:-1], color=\"g\", alpha=0.2)\n",
    "ax2.plot(cf.control_points_time, mean, \"k\")"
   ]
  },
  {
   "cell_type": "code",
   "execution_count": null,
   "id": "bba46545",
   "metadata": {},
   "outputs": [],
   "source": [
    "sample = sampler.flatchain[4000:, 10:17]"
   ]
  },
  {
   "cell_type": "code",
   "execution_count": null,
   "id": "28ef0b7a",
   "metadata": {},
   "outputs": [],
   "source": [
    "ndim = sample.shape[1]\n",
    "figure = corner.corner(sample)\n",
    "value = np.mean(sample, axis=0)\n",
    "axes = np.array(figure.axes).reshape((ndim, ndim))\n",
    "for i in range(ndim):\n",
    "    ax = axes[i, i]\n",
    "    ax.axvline(value[i], color=\"r\")\n",
    "\n",
    "for yi in range(ndim):\n",
    "    for xi in range(yi):\n",
    "        ax = axes[yi, xi]\n",
    "        ax.axvline(value[xi], color=\"r\")\n",
    "        ax.axhline(value[yi], color=\"r\")\n",
    "        ax.plot(value[xi], value[yi], \"sr\")"
   ]
  },
  {
   "cell_type": "raw",
   "id": "85a1e6a2",
   "metadata": {},
   "source": []
  }
 ],
 "metadata": {
  "kernelspec": {
   "display_name": "Python 3 (ipykernel)",
   "language": "python",
   "name": "python3"
  },
  "language_info": {
   "codemirror_mode": {
    "name": "ipython",
    "version": 3
   },
   "file_extension": ".py",
   "mimetype": "text/x-python",
   "name": "python",
   "nbconvert_exporter": "python",
   "pygments_lexer": "ipython3",
   "version": "3.8.10"
  }
 },
 "nbformat": 4,
 "nbformat_minor": 5
}
