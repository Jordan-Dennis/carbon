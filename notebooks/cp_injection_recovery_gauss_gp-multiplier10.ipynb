{
 "cells": [
  {
   "cell_type": "code",
   "execution_count": 1,
   "id": "7dbb1037",
   "metadata": {},
   "outputs": [],
   "source": [
    "import numpy as np\n",
    "import matplotlib.pyplot as plt\n",
    "from matplotlib.pyplot import rcParams\n",
    "import warnings\n",
    "warnings.filterwarnings('ignore')\n",
    "\n",
    "import re\n",
    "import jax.numpy as jnp\n",
    "from jax import grad, jit, partial\n",
    "import ticktack\n",
    "from ticktack import fitting\n",
    "from tqdm import tqdm\n",
    "import scipy\n",
    "\n",
    "rcParams['figure.figsize'] = (8.0, 4.0)"
   ]
  },
  {
   "cell_type": "code",
   "execution_count": 2,
   "id": "65fafbfa",
   "metadata": {},
   "outputs": [],
   "source": [
    "cbm = ticktack.load_presaved_model('Guttler14', production_rate_units = 'atoms/cm^2/s')\n",
    "cf = fitting.CarbonFitter(cbm)\n",
    "cf.load_data('inject_recovery_gp.csv')\n",
    "cf.prepare_function(use_control_points=True, interp='gp')"
   ]
  },
  {
   "cell_type": "code",
   "execution_count": 3,
   "id": "594ceb91",
   "metadata": {},
   "outputs": [
    {
     "name": "stdout",
     "output_type": "stream",
     "text": [
      "    @partial(jit, static_argnums=(0,))\n",
      "    def loss_chi2(self, params=()):\n",
      "        d_14_c = self.dc14(params=params)\n",
      "        chi2 = jnp.sum(((self.d14c_data[:-1] - d_14_c) / self.d14c_data_error[:-1]) ** 2)\n",
      "        chi2 += 10 * jnp.sum(((self.d14c_data[:4] - d_14_c[:4]) / self.d14c_data_error[:4]) ** 2)\n",
      "        return 0.5*chi2\n",
      "\n"
     ]
    }
   ],
   "source": [
    "import inspect\n",
    "print(inspect.getsource(cf.loss_chi2))"
   ]
  },
  {
   "cell_type": "code",
   "execution_count": 4,
   "id": "a4ef150d",
   "metadata": {},
   "outputs": [],
   "source": [
    "@jit\n",
    "def gauss(t):\n",
    "    prod =  1.87 + 0.2 * 1.87 * jnp.exp(-1/2*((t-250)/10)**2.)\n",
    "    return prod"
   ]
  },
  {
   "cell_type": "code",
   "execution_count": 5,
   "id": "ecffb842",
   "metadata": {},
   "outputs": [
    {
     "data": {
      "text/plain": [
       "DeviceArray(-0.44436304, dtype=float64)"
      ]
     },
     "execution_count": 5,
     "metadata": {},
     "output_type": "execute_result"
    }
   ],
   "source": [
    "cf.offset"
   ]
  },
  {
   "cell_type": "code",
   "execution_count": 6,
   "id": "7825f249",
   "metadata": {},
   "outputs": [
    {
     "data": {
      "text/plain": [
       "0"
      ]
     },
     "execution_count": 6,
     "metadata": {},
     "output_type": "execute_result"
    }
   ],
   "source": [
    "cf.offset = 0\n",
    "cf.offset"
   ]
  },
  {
   "cell_type": "code",
   "execution_count": 7,
   "id": "3b0cf5c1",
   "metadata": {},
   "outputs": [
    {
     "name": "stdout",
     "output_type": "stream",
     "text": [
      "CPU times: user 2min 34s, sys: 1.33 s, total: 2min 36s\n",
      "Wall time: 2min 24s\n"
     ]
    }
   ],
   "source": [
    "%%time\n",
    "soln = cf.fit_cp(low_bound=0.)"
   ]
  },
  {
   "cell_type": "code",
   "execution_count": 8,
   "id": "27e1b7ab",
   "metadata": {},
   "outputs": [
    {
     "data": {
      "text/plain": [
       "'CONVERGENCE: REL_REDUCTION_OF_F_<=_FACTR*EPSMCH'"
      ]
     },
     "execution_count": 8,
     "metadata": {},
     "output_type": "execute_result"
    }
   ],
   "source": [
    "soln.message"
   ]
  },
  {
   "cell_type": "code",
   "execution_count": 9,
   "id": "cb79529e",
   "metadata": {},
   "outputs": [
    {
     "name": "stdout",
     "output_type": "stream",
     "text": [
      "total likelihood:  105.16608170755545\n",
      "gp likelihood:  105.16603204369872\n",
      "chi2:  4.9663856731080774e-05\n"
     ]
    }
   ],
   "source": [
    "print(\"total likelihood: \", cf.gp_likelihood(soln.x))\n",
    "print(\"gp likelihood: \", cf.gp_neg_log_likelihood(soln.x))\n",
    "print(\"chi2: \", cf.loss_chi2(soln.x))"
   ]
  },
  {
   "cell_type": "code",
   "execution_count": 10,
   "id": "6e9aace0",
   "metadata": {},
   "outputs": [
    {
     "data": {
      "text/plain": [
       "Text(0.5, 1.0, 'gauss production rate')"
      ]
     },
     "execution_count": 10,
     "metadata": {},
     "output_type": "execute_result"
    },
    {
     "data": {
      "image/png": "[encoded data removed]",
      "text/plain": [
       "<Figure size 576x288 with 1 Axes>"
      ]
     },
     "metadata": {
      "needs_background": "light"
     },
     "output_type": "display_data"
    }
   ],
   "source": [
    "t = cf.control_points_time\n",
    "true_cp = gauss(t)\n",
    "plt.plot(t, gauss(t), \".\")\n",
    "plt.title('gauss production rate')"
   ]
  },
  {
   "cell_type": "code",
   "execution_count": 11,
   "id": "50ca4c85",
   "metadata": {},
   "outputs": [
    {
     "data": {
      "text/plain": [
       "<matplotlib.legend.Legend at 0x7f6eb0046160>"
      ]
     },
     "execution_count": 11,
     "metadata": {},
     "output_type": "execute_result"
    },
    {
     "data": {
      "image/png": "[encoded data removed]",
      "text/plain": [
       "<Figure size 576x288 with 1 Axes>"
      ]
     },
     "metadata": {
      "needs_background": "light"
     },
     "output_type": "display_data"
    }
   ],
   "source": [
    "plt.plot(t, soln.x, \".\", label=\"recovered\")\n",
    "plt.plot(t, true_cp, label='true')\n",
    "plt.title(\"control points\");\n",
    "plt.legend(loc='upper center', bbox_to_anchor=(0.5, -0.05),\n",
    "          fancybox=True)"
   ]
  },
  {
   "cell_type": "code",
   "execution_count": 12,
   "id": "e424169d",
   "metadata": {},
   "outputs": [
    {
     "data": {
      "text/plain": [
       "<matplotlib.legend.Legend at 0x7f6e90580c40>"
      ]
     },
     "execution_count": 12,
     "metadata": {},
     "output_type": "execute_result"
    },
    {
     "data": {
      "image/png": "[encoded data removed]",
      "text/plain": [
       "<Figure size 576x288 with 1 Axes>"
      ]
     },
     "metadata": {
      "needs_background": "light"
     },
     "output_type": "display_data"
    }
   ],
   "source": [
    "plt.plot(cf.time_data[:-1], cf.dc14(soln.x), \"or\", fillstyle=\"none\", label=\"recovered\")\n",
    "# plt.plot(cf.time_data, cf.d14c_data, '--r')\n",
    "plt.errorbar(cf.time_data, cf.d14c_data, yerr=cf.d14c_data_error, fmt='.k', fillstyle=\"none\", capsize=2, \n",
    "             label=\"true\", alpha=0.5)\n",
    "plt.title(\"d14c\");\n",
    "plt.legend(loc='upper center', bbox_to_anchor=(0.5, -0.05),\n",
    "          fancybox=True)"
   ]
  },
  {
   "cell_type": "code",
   "execution_count": 13,
   "id": "cc5f69ed",
   "metadata": {},
   "outputs": [],
   "source": [
    "t = np.arange(cf.start-10, cf.start+10, 0.1)"
   ]
  },
  {
   "cell_type": "code",
   "execution_count": 14,
   "id": "ff4da742",
   "metadata": {},
   "outputs": [
    {
     "data": {
      "text/plain": [
       "[<matplotlib.lines.Line2D at 0x7f6e7034ab20>]"
      ]
     },
     "execution_count": 14,
     "metadata": {},
     "output_type": "execute_result"
    },
    {
     "data": {
      "image/png": "[encoded data removed]",
      "text/plain": [
       "<Figure size 576x288 with 1 Axes>"
      ]
     },
     "metadata": {
      "needs_background": "light"
     },
     "output_type": "display_data"
    }
   ],
   "source": [
    "mu = cf.production(t, (soln.x,))\n",
    "plt.plot(t, mu, \".\", markersize=2)\n",
    "plt.plot(t, gauss(t), \".\", markersize=2)"
   ]
  },
  {
   "cell_type": "code",
   "execution_count": 15,
   "id": "51a1cf82",
   "metadata": {},
   "outputs": [
    {
     "data": {
      "text/plain": [
       "array([1.87002943, 1.86805214, 1.86999604, 1.87108185, 1.86972864,\n",
       "       1.86888666, 1.86947976, 1.87003006, 1.87040158, 1.87061446,\n",
       "       1.87061749, 1.87049914, 1.8703806 , 1.87033124, 1.87036837,\n",
       "       1.87053152, 1.8708518 , 1.87134645, 1.87202733, 1.87293555,\n",
       "       1.874114  , 1.87561136, 1.87750411, 1.87989524, 1.88287836,\n",
       "       1.88658263, 1.89114025, 1.89669193, 1.90338461, 1.91135135,\n",
       "       1.92071715, 1.93160632, 1.94409556, 1.9582442 , 1.97407275,\n",
       "       1.99152143, 2.01046616, 2.03075372, 2.05215628, 2.07435282,\n",
       "       2.09695777, 2.11955487, 2.14167901, 2.16282861, 2.1824795 ,\n",
       "       2.20012114, 2.21529847, 2.22758902, 2.23662495, 2.24215204,\n",
       "       2.24401406, 2.24214951, 2.23660382, 2.22754363, 2.21525893,\n",
       "       2.20009023, 2.18243101, 2.16276715, 2.14162675, 2.11951094,\n",
       "       2.09691641, 2.07431315, 2.05212886, 2.03073745, 2.01044763,\n",
       "       1.99150002, 1.97406826, 1.95825667, 1.94410212, 1.93159494,\n",
       "       1.92069886, 1.91132491, 1.90335166, 1.8966525 , 1.89110007,\n",
       "       1.88653945, 1.88283755, 1.87987414, 1.87752412, 1.87566853,\n",
       "       1.87421958, 1.87310803, 1.87226316, 1.87162376, 1.87115503,\n",
       "       1.87081471, 1.87056803, 1.87040366, 1.87029994, 1.87021804,\n",
       "       1.87013871, 1.87003578, 1.86989402, 1.86974339, 1.86965345,\n",
       "       1.8698085 , 1.87045018, 1.87111692])"
      ]
     },
     "execution_count": 15,
     "metadata": {},
     "output_type": "execute_result"
    }
   ],
   "source": [
    "soln.x"
   ]
  },
  {
   "cell_type": "code",
   "execution_count": null,
   "id": "c4c66a46",
   "metadata": {},
   "outputs": [],
   "source": []
  }
 ],
 "metadata": {
  "kernelspec": {
   "display_name": "Python 3 (ipykernel)",
   "language": "python",
   "name": "python3"
  },
  "language_info": {
   "codemirror_mode": {
    "name": "ipython",
    "version": 3
   },
   "file_extension": ".py",
   "mimetype": "text/x-python",
   "name": "python",
   "nbconvert_exporter": "python",
   "pygments_lexer": "ipython3",
   "version": "3.8.10"
  }
 },
 "nbformat": 4,
 "nbformat_minor": 5
}
