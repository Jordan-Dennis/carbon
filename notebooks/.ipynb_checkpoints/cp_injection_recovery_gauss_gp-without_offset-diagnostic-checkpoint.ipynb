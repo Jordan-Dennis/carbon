{
 "cells": [
  {
   "cell_type": "code",
   "execution_count": 1,
   "id": "7dbb1037",
   "metadata": {},
   "outputs": [],
   "source": [
    "import numpy as np\n",
    "import matplotlib.pyplot as plt\n",
    "from matplotlib.pyplot import rcParams\n",
    "import warnings\n",
    "warnings.filterwarnings('ignore')\n",
    "\n",
    "import re\n",
    "import jax.numpy as jnp\n",
    "from jax import grad, jit, partial\n",
    "import ticktack\n",
    "from ticktack import fitting2 as fitting\n",
    "from tqdm import tqdm\n",
    "import scipy\n",
    "\n",
    "rcParams['figure.figsize'] = (8.0, 4.0)"
   ]
  },
  {
   "cell_type": "code",
   "execution_count": 2,
   "id": "65fafbfa",
   "metadata": {},
   "outputs": [],
   "source": [
    "cbm = ticktack.load_presaved_model('Guttler14', production_rate_units = 'atoms/cm^2/s')\n",
    "cf = fitting.CarbonFitter(cbm)\n",
    "cf.load_data('inject_recovery_gp.csv')\n",
    "cf.prepare_function(use_control_points=True, interp='gp')"
   ]
  },
  {
   "cell_type": "code",
   "execution_count": 3,
   "id": "a4ef150d",
   "metadata": {},
   "outputs": [],
   "source": [
    "@jit\n",
    "def gauss(t):\n",
    "    prod =  1.87 + 0.2 * 1.87 * jnp.exp(-1/2*((t-250)/10)**2.)\n",
    "    return prod"
   ]
  },
  {
   "cell_type": "code",
   "execution_count": 4,
   "id": "76002592",
   "metadata": {},
   "outputs": [],
   "source": [
    "params = jnp.array([1.87028991, 1.85046593, 1.85922088, 1.87751085, 1.87673249,\n",
    "       1.87144241, 1.86721   , 1.86586322, 1.86638293, 1.86796443,\n",
    "       1.8695425 , 1.87069629, 1.87134437, 1.87131705, 1.87114018,\n",
    "       1.87081256, 1.87068731, 1.87076618, 1.87117923, 1.8721134 ,\n",
    "       1.87332109, 1.87497468, 1.877172  , 1.87964778, 1.88282426,\n",
    "       1.88657693, 1.89129027, 1.89682523, 1.90351473, 1.91143916,\n",
    "       1.92086601, 1.93180843, 1.9443202 , 1.95862221, 1.9746499 ,\n",
    "       1.99228559, 2.01149747, 2.03210451, 2.05379005, 2.0762337 ,\n",
    "       2.09923661, 2.12209146, 2.14447583, 2.16587617, 2.18570675,\n",
    "       2.20348068, 2.21880895, 2.23115059, 2.24021637, 2.24570026,\n",
    "       2.24755023, 2.24557926, 2.23993202, 2.23078136, 2.21829916,\n",
    "       2.20296878, 2.18516787, 2.16533247, 2.14401315, 2.12174946,\n",
    "       2.09898675, 2.07618791, 2.05387259, 2.03230395, 2.01185857,\n",
    "       1.9927852 , 1.97520411, 1.95920632, 1.9448898 , 1.93223599,\n",
    "       1.92119921, 1.91165988, 1.90353653, 1.8967047 , 1.89100881,\n",
    "       1.88637026, 1.88257782, 1.87955898, 1.87715505, 1.8752924 ,\n",
    "       1.87386349, 1.87277491, 1.87194073, 1.8713516 , 1.87088758,\n",
    "       1.87058424, 1.8703458 , 1.87022884, 1.87016788, 1.87018886,\n",
    "       1.87015225, 1.87018244, 1.87017561, 1.86998701, 1.86974426,\n",
    "       1.86960721, 1.86993545, 1.87088474])"
   ]
  },
  {
   "cell_type": "code",
   "execution_count": 5,
   "id": "ecffb842",
   "metadata": {},
   "outputs": [
    {
     "data": {
      "text/plain": [
       "DeviceArray(-0.44436304, dtype=float64)"
      ]
     },
     "execution_count": 5,
     "metadata": {},
     "output_type": "execute_result"
    }
   ],
   "source": [
    "cf.offset"
   ]
  },
  {
   "cell_type": "code",
   "execution_count": 6,
   "id": "7825f249",
   "metadata": {},
   "outputs": [
    {
     "data": {
      "text/plain": [
       "0"
      ]
     },
     "execution_count": 6,
     "metadata": {},
     "output_type": "execute_result"
    }
   ],
   "source": [
    "cf.offset = 0\n",
    "cf.offset"
   ]
  },
  {
   "cell_type": "code",
   "execution_count": 7,
   "id": "cb79529e",
   "metadata": {},
   "outputs": [
    {
     "name": "stdout",
     "output_type": "stream",
     "text": [
      "total likelihood:  76.94210680746336\n",
      "gp likelihood:  76.9400668870983\n",
      "chi2:  0.0020399203650572186\n"
     ]
    }
   ],
   "source": [
    "print(\"total likelihood: \", cf.gp_likelihood(params))\n",
    "print(\"gp likelihood: \", cf.gp_neg_log_likelihood(params))\n",
    "print(\"chi2: \", cf.loss_chi2(params))"
   ]
  },
  {
   "cell_type": "code",
   "execution_count": 10,
   "id": "e424169d",
   "metadata": {},
   "outputs": [
    {
     "data": {
      "text/plain": [
       "<matplotlib.legend.Legend at 0x7f0aec5bdd00>"
      ]
     },
     "execution_count": 10,
     "metadata": {},
     "output_type": "execute_result"
    },
    {
     "data": {
      "image/png": "[encoded data removed]",
      "text/plain": [
       "<Figure size 576x288 with 1 Axes>"
      ]
     },
     "metadata": {
      "needs_background": "light"
     },
     "output_type": "display_data"
    }
   ],
   "source": [
    "plt.plot(cf.time_data[:-1], cf.dc14(params), \".k\", label=\"recovered\", markersize=10)\n",
    "plt.plot(cf.time_data, cf.d14c_data, '--r')\n",
    "plt.plot(cf.time_data, cf.d14c_data, 'or', fillstyle=\"none\", label=\"true\", alpha=0.5)\n",
    "plt.title(\"d14c\");\n",
    "plt.legend(loc='upper center', bbox_to_anchor=(0.5, -0.05),\n",
    "          fancybox=True)\n",
    "# plt.xlim(199, 205)\n",
    "# plt.ylim(-1, 0)"
   ]
  },
  {
   "cell_type": "code",
   "execution_count": 67,
   "id": "5ddb991e",
   "metadata": {},
   "outputs": [],
   "source": [
    "def diagnostic(t):\n",
    "    cbm = ticktack.load_presaved_model('Guttler14', production_rate_units = 'atoms/cm^2/s')\n",
    "    cf = fitting.CarbonFitter(cbm)\n",
    "    cf.load_data('inject_recovery_gp.csv')\n",
    "    cf.prepare_function(use_control_points=True, interp='gp')\n",
    "    \n",
    "    burn_in = cf.run(cf.burn_in_time, cf.steady_state_y0, params=params)\n",
    "    data, solution = cf.cbm.run(t, production=cf.production, args=params, y0=burn_in[-1,:])\n",
    "    d_14_c = cf.cbm._to_d14c(data, cf.steady_state_y0)\n",
    "\n",
    "    plt.plot(t, d_14_c, \".\", label='fitted')\n",
    "    plt.legend()\n",
    "\n",
    "    cbm = ticktack.load_presaved_model('Guttler14', production_rate_units = 'atoms/cm^2/s')\n",
    "    cf2 = fitting.CarbonFitter(cbm)\n",
    "    cf2.load_data('inject_recovery_gp.csv')\n",
    "    cf2.prepare_function(custom_function=True, f=gauss)\n",
    "\n",
    "    burn_in_true = cf2.run(cf2.burn_in_time, cf2.steady_state_y0)\n",
    "    data_true, solution_true = cf2.cbm.run(t, production=cf2.production, y0=burn_in_true[-1,:])\n",
    "    d_14_c_true = cf2.cbm._to_d14c(data_true, cf2.steady_state_y0)\n",
    "\n",
    "    plt.plot(t, d_14_c_true, \".\", label='true')\n",
    "    plt.legend()"
   ]
  },
  {
   "cell_type": "code",
   "execution_count": 76,
   "id": "ff4da742",
   "metadata": {},
   "outputs": [],
   "source": [
    "t = np.arange(cf.start-1000, cf.start-10, 0.1)\n",
    "t1 = np.arange(cf.start-20, cf.start+0.01, 0.1)"
   ]
  },
  {
   "cell_type": "code",
   "execution_count": 77,
   "id": "48b01a15",
   "metadata": {},
   "outputs": [
    {
     "data": {
      "text/plain": [
       "[<matplotlib.lines.Line2D at 0x7f0a01a1efd0>]"
      ]
     },
     "execution_count": 77,
     "metadata": {},
     "output_type": "execute_result"
    },
    {
     "data": {
      "image/png": "[encoded data removed]",
      "text/plain": [
       "<Figure size 576x288 with 1 Axes>"
      ]
     },
     "metadata": {
      "needs_background": "light"
     },
     "output_type": "display_data"
    }
   ],
   "source": [
    "mu = cf.production(t1, (params,))\n",
    "plt.plot(t1, mu, \".\", markersize=2)\n",
    "plt.plot(t1, gauss(t1), \".\", markersize=2)"
   ]
  },
  {
   "cell_type": "code",
   "execution_count": 71,
   "id": "f0a04c3d",
   "metadata": {},
   "outputs": [
    {
     "data": {
      "image/png": "[encoded data removed]",
      "text/plain": [
       "<Figure size 576x288 with 1 Axes>"
      ]
     },
     "metadata": {
      "needs_background": "light"
     },
     "output_type": "display_data"
    }
   ],
   "source": [
    "diagnostic(t)\n",
    "# plt.xlim(0, 200)"
   ]
  },
  {
   "cell_type": "code",
   "execution_count": 74,
   "id": "f52e6a84",
   "metadata": {},
   "outputs": [
    {
     "data": {
      "image/png": "[encoded data removed]",
      "text/plain": [
       "<Figure size 576x288 with 1 Axes>"
      ]
     },
     "metadata": {
      "needs_background": "light"
     },
     "output_type": "display_data"
    }
   ],
   "source": [
    "diagnostic(t1)"
   ]
  },
  {
   "cell_type": "code",
   "execution_count": 80,
   "id": "70f426ac",
   "metadata": {},
   "outputs": [
    {
     "data": {
      "text/plain": [
       "DeviceArray(-105.16739162, dtype=float64)"
      ]
     },
     "execution_count": 80,
     "metadata": {},
     "output_type": "execute_result"
    }
   ],
   "source": [
    "from celerite2.jax import terms as jax_terms\n",
    "import celerite2.jax\n",
    "kernel = jax_terms.Matern32Term(sigma=2.0, rho=2.)\n",
    "gp = celerite2.jax.GaussianProcess(kernel, mean=params[0])\n",
    "gp.compute(cf.control_points_time)\n",
    "gp.log_likelihood(params)"
   ]
  },
  {
   "cell_type": "code",
   "execution_count": 91,
   "id": "476505ea",
   "metadata": {},
   "outputs": [
    {
     "data": {
      "text/plain": [
       "DeviceArray(-105.16586611, dtype=float64)"
      ]
     },
     "execution_count": 91,
     "metadata": {},
     "output_type": "execute_result"
    }
   ],
   "source": [
    "kernel = jax_terms.Matern32Term(sigma=2.0, rho=2.)\n",
    "gp = celerite2.jax.GaussianProcess(kernel, mean=params[0])\n",
    "gp.compute(cf.control_points_time)\n",
    "gp.log_likelihood(gauss(cf.control_points_time))"
   ]
  },
  {
   "cell_type": "code",
   "execution_count": 84,
   "id": "69c9d4ca",
   "metadata": {},
   "outputs": [
    {
     "data": {
      "text/plain": [
       "[<matplotlib.lines.Line2D at 0x7f0a016bdf70>]"
      ]
     },
     "execution_count": 84,
     "metadata": {},
     "output_type": "execute_result"
    },
    {
     "data": {
      "image/png": "[encoded data removed]",
      "text/plain": [
       "<Figure size 576x288 with 1 Axes>"
      ]
     },
     "metadata": {
      "needs_background": "light"
     },
     "output_type": "display_data"
    }
   ],
   "source": [
    "plt.plot(cf.control_points_time, gauss(cf.control_points_time))\n",
    "plt.plot(cf.control_points_time, params, \".\")"
   ]
  },
  {
   "cell_type": "code",
   "execution_count": null,
   "id": "edad763b",
   "metadata": {},
   "outputs": [],
   "source": []
  }
 ],
 "metadata": {
  "kernelspec": {
   "display_name": "Python 3 (ipykernel)",
   "language": "python",
   "name": "python3"
  },
  "language_info": {
   "codemirror_mode": {
    "name": "ipython",
    "version": 3
   },
   "file_extension": ".py",
   "mimetype": "text/x-python",
   "name": "python",
   "nbconvert_exporter": "python",
   "pygments_lexer": "ipython3",
   "version": "3.8.10"
  }
 },
 "nbformat": 4,
 "nbformat_minor": 5
}
