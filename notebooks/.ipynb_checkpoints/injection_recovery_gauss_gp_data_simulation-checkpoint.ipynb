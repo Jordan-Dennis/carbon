{
 "cells": [
  {
   "cell_type": "code",
   "execution_count": 1,
   "id": "7dbb1037",
   "metadata": {},
   "outputs": [],
   "source": [
    "import numpy as np\n",
    "import matplotlib.pyplot as plt\n",
    "from matplotlib.pyplot import rcParams\n",
    "import warnings\n",
    "warnings.filterwarnings('ignore')\n",
    "\n",
    "import re\n",
    "import jax.numpy as jnp\n",
    "from jax import grad, jit, partial, jacrev\n",
    "import ticktack\n",
    "from ticktack import fitting_tinygp as fitting\n",
    "from tqdm import tqdm\n",
    "import scipy\n",
    "\n",
    "rcParams['figure.figsize'] = (8.0, 4.0)"
   ]
  },
  {
   "cell_type": "code",
   "execution_count": 2,
   "id": "65fafbfa",
   "metadata": {},
   "outputs": [],
   "source": [
    "cbm = ticktack.load_presaved_model('Guttler14', production_rate_units = 'atoms/cm^2/s')\n",
    "cf = fitting.CarbonFitter(cbm)\n",
    "cf.load_data('inject_recovery_sine.csv')\n",
    "cf.prepare_function(use_control_points=True, interp='gp')"
   ]
  },
  {
   "cell_type": "code",
   "execution_count": 3,
   "id": "545c83e5",
   "metadata": {},
   "outputs": [
    {
     "data": {
      "text/plain": [
       "DeviceArray([-0.44411908, -0.44428419, -0.44444606, -0.44460284,\n",
       "             -0.44475166, -0.4448882 , -0.44500593, -0.44509518,\n",
       "             -0.44514175, -0.44512501, -0.44501535, -0.44477078,\n",
       "             -0.44433238, -0.44361855, -0.4425175 , -0.44087799,\n",
       "             -0.4384979 , -0.43511037, -0.43036756, -0.42382177,\n",
       "             -0.41490434, -0.40290254, -0.38693522, -0.36592835,\n",
       "             -0.33859176, -0.303399  , -0.25857254, -0.20207672,\n",
       "             -0.13162135, -0.04467859,  0.06148415,  0.18975331,\n",
       "              0.34309861,  0.5244825 ,  0.73675036,  0.98250381,\n",
       "              1.263961  ,  1.58280947,  1.94005851,  2.33589948,\n",
       "              2.76958284,  3.23932129,  3.74222775,  4.27429558,\n",
       "              4.83042682,  5.4045114 ,  5.98955761,  6.57787038,\n",
       "              7.16127116,  7.73134977,  8.27973636,  8.79837975,\n",
       "              9.27981773,  9.71742506, 10.10562619, 10.44006178,\n",
       "             10.71770138, 10.93689752, 11.09738063, 11.20019749,\n",
       "             11.2475993 , 11.24288801, 11.19023154, 11.09445953,\n",
       "             10.96085129, 10.79492724, 10.60225361, 10.3882683 ,\n",
       "             10.1581338 ,  9.91662067,  9.66802291,  9.41610449,\n",
       "              9.16407485,  8.91458969,  8.66977268,  8.43125341,\n",
       "              8.20021669,  7.97745881,  7.76344663,  7.55837635,\n",
       "              7.36222929,  7.17482278,  6.99585504,  6.82494353,\n",
       "              6.66165652,  6.50553832,  6.35612864,  6.21297682,\n",
       "              6.07565165,  5.94374774,  5.81688891,  5.69472965,\n",
       "              5.57695483,  5.46327851,  5.35344199,  5.24721154,\n",
       "              5.14437597,  5.04474417,  4.94814286], dtype=float64)"
      ]
     },
     "execution_count": 3,
     "metadata": {},
     "output_type": "execute_result"
    }
   ],
   "source": [
    "cf.d14c_data"
   ]
  },
  {
   "cell_type": "code",
   "execution_count": 6,
   "id": "e57beeac",
   "metadata": {},
   "outputs": [
    {
     "data": {
      "text/plain": [
       "array([ 2.41529039, -2.21973072, -3.75101188, -2.24712032,  2.00504233,\n",
       "       -1.51372219, -1.53700484,  0.75592267, -2.07943254,  2.16300651,\n",
       "        3.56389469,  1.17552007, -3.9514518 ,  6.64024895,  5.07682335,\n",
       "       -4.40973987,  0.53509013, -6.38543311, -1.33223738,  0.91359289,\n",
       "       -2.80074451, -1.31601419, -3.16623185, -0.23503683,  1.61737242])"
      ]
     },
     "execution_count": 6,
     "metadata": {},
     "output_type": "execute_result"
    }
   ],
   "source": [
    "np.random.randn(25)*2.5"
   ]
  },
  {
   "cell_type": "code",
   "execution_count": 8,
   "id": "98e7b85a",
   "metadata": {},
   "outputs": [],
   "source": [
    "np.random.seed(1)\n",
    "arr = np.array(cf.d14c_data) + np.random.randn(cf.d14c_data.size)*2.5"
   ]
  },
  {
   "cell_type": "code",
   "execution_count": 12,
   "id": "598a9d02",
   "metadata": {},
   "outputs": [],
   "source": [
    "import pandas as pd\n",
    "df = pd.DataFrame(arr)\n",
    "df.to_csv(\"data.csv\")"
   ]
  },
  {
   "cell_type": "code",
   "execution_count": null,
   "id": "fdaf604d",
   "metadata": {},
   "outputs": [],
   "source": []
  }
 ],
 "metadata": {
  "kernelspec": {
   "display_name": "Python 3 (ipykernel)",
   "language": "python",
   "name": "python3"
  },
  "language_info": {
   "codemirror_mode": {
    "name": "ipython",
    "version": 3
   },
   "file_extension": ".py",
   "mimetype": "text/x-python",
   "name": "python",
   "nbconvert_exporter": "python",
   "pygments_lexer": "ipython3",
   "version": "3.8.10"
  }
 },
 "nbformat": 4,
 "nbformat_minor": 5
}
