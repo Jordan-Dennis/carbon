{
 "cells": [
  {
   "cell_type": "code",
   "execution_count": 1,
   "id": "7dbb1037",
   "metadata": {},
   "outputs": [],
   "source": [
    "import numpy as np\n",
    "import matplotlib.pyplot as plt\n",
    "import pandas as pd\n",
    "from matplotlib.pyplot import rcParams\n",
    "import warnings\n",
    "warnings.filterwarnings('ignore')\n",
    "\n",
    "import re\n",
    "import jax.numpy as jnp\n",
    "from jax import grad, jit, partial\n",
    "import ticktack\n",
    "from ticktack import fitting\n",
    "from astropy.table import Table\n",
    "from tqdm import tqdm\n",
    "import scipy\n",
    "import jax\n",
    "\n",
    "rcParams['figure.figsize'] = (10.0, 5.0)"
   ]
  },
  {
   "cell_type": "code",
   "execution_count": 2,
   "id": "a620e494",
   "metadata": {},
   "outputs": [],
   "source": [
    "cbm = ticktack.load_presaved_model('Guttler14', production_rate_units = 'atoms/cm^2/s')\n",
    "cf = fitting.CarbonFitter(cbm)\n",
    "cf.load_data('400_BCE_Data_processed.csv', time_oversample=50)\n",
    "cf.prepare_function(use_control_points=True, interp=\"gp\")"
   ]
  },
  {
   "cell_type": "code",
   "execution_count": 3,
   "id": "c35d9817",
   "metadata": {},
   "outputs": [
    {
     "data": {
      "text/plain": [
       "DeviceArray([-426, -425, -424, -423, -422, -421, -420, -419, -418, -417,\n",
       "             -416, -415, -414, -413, -412, -411, -410, -409, -408, -407,\n",
       "             -406, -405, -404, -403, -402, -401, -400, -399, -398, -397,\n",
       "             -396, -395, -394, -393, -392, -391, -390, -389, -388, -387,\n",
       "             -386, -385, -384, -383, -382, -381, -380, -379, -378, -377,\n",
       "             -376, -375, -374, -373, -372, -371, -370, -369, -368, -367,\n",
       "             -366, -365, -364, -363, -362, -361, -360, -359, -358, -357,\n",
       "             -356, -355, -354, -353, -352, -351, -350, -349, -348, -347,\n",
       "             -346, -345, -344, -343, -342, -341, -340, -339, -338, -337,\n",
       "             -336, -335, -334, -333, -332, -331, -330, -329, -328, -327,\n",
       "             -326, -325], dtype=int64)"
      ]
     },
     "execution_count": 3,
     "metadata": {},
     "output_type": "execute_result"
    }
   ],
   "source": [
    "cf.annual"
   ]
  },
  {
   "cell_type": "code",
   "execution_count": 4,
   "id": "9bb9d473",
   "metadata": {},
   "outputs": [
    {
     "data": {
      "text/plain": [
       "<bound method CarbonFitter.interp_gp of <ticktack.fitting.CarbonFitter object at 0x7f0c286571f0>>"
      ]
     },
     "execution_count": 4,
     "metadata": {},
     "output_type": "execute_result"
    }
   ],
   "source": [
    "cf.production"
   ]
  },
  {
   "cell_type": "code",
   "execution_count": 5,
   "id": "0f2ea783",
   "metadata": {},
   "outputs": [
    {
     "data": {
      "text/plain": [
       "<matplotlib.legend.Legend at 0x7f0b8c4ba7f0>"
      ]
     },
     "execution_count": 5,
     "metadata": {},
     "output_type": "execute_result"
    },
    {
     "data": {
      "image/png": "[encoded data removed]",
      "text/plain": [
       "<Figure size 720x360 with 1 Axes>"
      ]
     },
     "metadata": {
      "needs_background": "light"
     },
     "output_type": "display_data"
    }
   ],
   "source": [
    "plt.plot(cf.time_data, cf.time_data, \".\", label=\"d14c time data\")\n",
    "plt.plot(cf.control_points_time, cf.control_points_time -10, \".\", label=\"cp time data\")\n",
    "plt.legend()"
   ]
  },
  {
   "cell_type": "code",
   "execution_count": 15,
   "id": "1726ac69",
   "metadata": {},
   "outputs": [],
   "source": [
    "steady_state = cf.steady_state_production * jnp.array(np.random.rand(len(cf.control_points_time)+1,))\n",
    "params = steady_state\n",
    "bounds = tuple([(0, None)] * len(steady_state))"
   ]
  },
  {
   "cell_type": "code",
   "execution_count": 7,
   "id": "3b0504fc",
   "metadata": {},
   "outputs": [],
   "source": [
    "import celerite2.jax\n",
    "from jax.config import config\n",
    "\n",
    "config.update(\"jax_enable_x64\", True)\n",
    "from celerite2.jax import terms as jax_terms"
   ]
  },
  {
   "cell_type": "code",
   "execution_count": 23,
   "id": "705ecc00",
   "metadata": {},
   "outputs": [],
   "source": [
    "@jit\n",
    "def gp_neg_log_likelihood(params):\n",
    "    control_points = params[:-1]\n",
    "    mean = params[-1]\n",
    "    kernel = jax_terms.Matern32Term(sigma=1.0, rho=1.)\n",
    "    gp = celerite2.jax.GaussianProcess(kernel, mean=mean)\n",
    "    gp.compute(cf.control_points_time)\n",
    "    return -gp.log_likelihood(control_points)\n",
    "\n",
    "@jit\n",
    "def gp_likelihood(params=()):\n",
    "    chi2 = cf.loss_chi2(params=params)\n",
    "    return chi2 + gp_neg_log_likelihood(params)\n",
    "\n",
    "@jit\n",
    "def loss_chi2(params=()):\n",
    "    d_14_c = cf.dc14(params=params)\n",
    "    chi2 = jnp.sum(((cf.d14c_data[:-1] - d_14_c) / cf.d14c_data_error[:-1]) ** 2)\n",
    "    return 0.5*chi2"
   ]
  },
  {
   "cell_type": "code",
   "execution_count": 9,
   "id": "deb02e13",
   "metadata": {},
   "outputs": [
    {
     "data": {
      "text/plain": [
       "DeviceArray(101.84089977, dtype=float64)"
      ]
     },
     "execution_count": 9,
     "metadata": {},
     "output_type": "execute_result"
    }
   ],
   "source": [
    "gp_neg_log_likelihood(params)"
   ]
  },
  {
   "cell_type": "code",
   "execution_count": 25,
   "id": "2dd6bd68",
   "metadata": {},
   "outputs": [
    {
     "data": {
      "text/plain": [
       "DeviceArray(253828.08732839, dtype=float64)"
      ]
     },
     "execution_count": 25,
     "metadata": {},
     "output_type": "execute_result"
    }
   ],
   "source": [
    "gp_likelihood(params)"
   ]
  },
  {
   "cell_type": "code",
   "execution_count": 24,
   "id": "4cafd2cd",
   "metadata": {},
   "outputs": [
    {
     "data": {
      "text/plain": [
       "DeviceArray(253704.06086075, dtype=float64)"
      ]
     },
     "execution_count": 24,
     "metadata": {},
     "output_type": "execute_result"
    }
   ],
   "source": [
    "loss_chi2(params)"
   ]
  },
  {
   "cell_type": "code",
   "execution_count": 26,
   "id": "8b23ff90",
   "metadata": {},
   "outputs": [],
   "source": [
    "@jit\n",
    "def grad_gp_likelihood(params=()):\n",
    "    return grad(gp_neg_log_likelihood)(params)\n",
    "\n",
    "@jit\n",
    "def grad_loss(params=()):\n",
    "    return grad(loss_chi2)(params)"
   ]
  },
  {
   "cell_type": "code",
   "execution_count": 22,
   "id": "801a29df",
   "metadata": {
    "scrolled": true
   },
   "outputs": [
    {
     "name": "stdout",
     "output_type": "stream",
     "text": [
      "CPU times: user 0 ns, sys: 0 ns, total: 0 ns\n",
      "Wall time: 171 µs\n"
     ]
    }
   ],
   "source": [
    "%%time\n",
    "a = grad_gp_likelihood(params).block_until_ready()"
   ]
  },
  {
   "cell_type": "code",
   "execution_count": null,
   "id": "7f7ffb48",
   "metadata": {},
   "outputs": [],
   "source": [
    "grad_gp_likelihood(params)"
   ]
  }
 ],
 "metadata": {
  "kernelspec": {
   "display_name": "Python 3 (ipykernel)",
   "language": "python",
   "name": "python3"
  },
  "language_info": {
   "codemirror_mode": {
    "name": "ipython",
    "version": 3
   },
   "file_extension": ".py",
   "mimetype": "text/x-python",
   "name": "python",
   "nbconvert_exporter": "python",
   "pygments_lexer": "ipython3",
   "version": "3.8.10"
  }
 },
 "nbformat": 4,
 "nbformat_minor": 5
}
