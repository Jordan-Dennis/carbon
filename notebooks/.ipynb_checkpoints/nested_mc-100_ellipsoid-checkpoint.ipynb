{
 "cells": [
  {
   "cell_type": "code",
   "execution_count": 1,
   "id": "77f21a6a",
   "metadata": {},
   "outputs": [],
   "source": [
    "from jaxns.nested_sampling import NestedSampler\n",
    "from jaxns.prior_transforms import PriorChain, UniformPrior\n",
    "from jaxns.plotting import plot_cornerplot, plot_diagnostics\n",
    "from jaxns.utils import summary"
   ]
  },
  {
   "cell_type": "code",
   "execution_count": 2,
   "id": "29ebdc87",
   "metadata": {},
   "outputs": [],
   "source": [
    "import numpy as np\n",
    "import matplotlib.pyplot as plt\n",
    "from matplotlib.pyplot import rcParams\n",
    "import warnings\n",
    "warnings.filterwarnings('ignore')\n",
    "\n",
    "import re\n",
    "import jax.numpy as jnp\n",
    "from jax import grad, jit, partial, vmap, random\n",
    "import jax\n",
    "import ticktack\n",
    "from ticktack import fitting\n",
    "from tqdm import tqdm\n",
    "\n",
    "import corner\n",
    "rcParams['figure.figsize'] = (10.0, 5.0)"
   ]
  },
  {
   "cell_type": "code",
   "execution_count": 3,
   "id": "e0f50368",
   "metadata": {},
   "outputs": [
    {
     "name": "stderr",
     "output_type": "stream",
     "text": [
      "INFO[2021-08-23 16:18:33,912]: Starting the local TPU driver.\n",
      "INFO[2021-08-23 16:18:33,913]: Unable to initialize backend 'tpu_driver': Not found: Unable to find driver in registry given worker: local://\n",
      "INFO[2021-08-23 16:18:33,913]: Unable to initialize backend 'gpu': Not found: Could not find registered platform with name: \"cuda\". Available platform names are: Interpreter Host\n",
      "INFO[2021-08-23 16:18:33,913]: Unable to initialize backend 'tpu': Invalid argument: TpuPlatform is not available.\n"
     ]
    }
   ],
   "source": [
    "cbm = ticktack.load_presaved_model('Guttler14', production_rate_units = 'atoms/cm^2/s')\n",
    "cf = fitting.CarbonFitter(cbm)\n",
    "cf.load_data('inject_recovery_sine.csv', time_oversample=50)\n",
    "cf.prepare_function(use_control_points=True, interp=\"gp\")"
   ]
  },
  {
   "cell_type": "code",
   "execution_count": 4,
   "id": "a6ef0350",
   "metadata": {},
   "outputs": [],
   "source": [
    "params = jnp.array([1.73481592, 1.57313381, 1.51460236, 1.54205597, 1.69296061,\n",
    "       1.92638044, 2.02390008, 2.02901486, 2.00823464, 1.96971271,\n",
    "       1.94535871, 1.90460333, 1.75737994, 1.53488088, 1.49278517,\n",
    "       1.6187574 , 1.80735385, 1.99521077, 2.1339268 , 2.18531979,\n",
    "       2.13359721, 1.99344069, 1.80863156, 1.6380658 , 1.53642917,\n",
    "       1.53598935, 1.63580367, 1.80392992, 1.98935698, 2.13788857,\n",
    "       2.20402716, 2.14735618, 1.94022293, 1.69127506, 1.60565663,\n",
    "       1.61456084, 1.68773984, 1.80642376, 1.85882893, 1.88320408,\n",
    "       1.95647752, 2.06277574, 2.10620188, 2.08541465, 1.9720432 ,\n",
    "       1.79474694, 1.71987311, 1.71031913, 1.70771597, 1.7151711 ,\n",
    "       1.76149483, 1.93698132, 2.18883256, 2.19172478, 2.00511724,\n",
    "       1.81703802, 1.6195444 , 1.53343735, 1.54617536, 1.64473931,\n",
    "       1.81939341, 1.98520243, 2.13971682, 2.18423755, 2.13067923,\n",
    "       1.99959428, 1.80333424, 1.65078193, 1.54131796, 1.54586649,\n",
    "       1.6504936 , 1.80679469, 2.00354288, 2.1292661 , 2.1889818 ,\n",
    "       2.13753896, 1.99097801, 1.82271049, 1.64132326, 1.55295448,\n",
    "       1.54857706, 1.64330932, 1.82059429, 1.98683634, 2.13881441,\n",
    "       2.18482024, 2.13284557, 2.00154459, 1.80802085, 1.65596087,\n",
    "       1.54559262, 1.54976504, 1.65201871, 1.80601477, 2.00401875,\n",
    "       2.13558226, 2.19640488, 2.11421172, 1.94221986, 1.87415851,\n",
    "       1.88410201])"
   ]
  },
  {
   "cell_type": "code",
   "execution_count": 5,
   "id": "be004d44",
   "metadata": {},
   "outputs": [],
   "source": [
    "default_params = tuple(params)\n",
    "bounds = {str(i):(0, 3) for i in np.arange(len(params))}"
   ]
  },
  {
   "cell_type": "code",
   "execution_count": 6,
   "id": "4983cf40",
   "metadata": {},
   "outputs": [],
   "source": [
    "ndim = len(default_params)\n",
    "low = jnp.array([bounds[key][0] for key in bounds.keys()])\n",
    "high = jnp.array([bounds[key][1] for key in bounds.keys()])"
   ]
  },
  {
   "cell_type": "code",
   "execution_count": 7,
   "id": "8cf8024f",
   "metadata": {},
   "outputs": [],
   "source": [
    "prior_chain = PriorChain() \\\n",
    "    .push(UniformPrior('params', low=low, high=high))"
   ]
  },
  {
   "cell_type": "code",
   "execution_count": 8,
   "id": "079be0a3",
   "metadata": {},
   "outputs": [
    {
     "ename": "NameError",
     "evalue": "name 'random' is not defined",
     "output_type": "error",
     "traceback": [
      "\u001b[0;31m---------------------------------------------------------------------------\u001b[0m",
      "\u001b[0;31mNameError\u001b[0m                                 Traceback (most recent call last)",
      "\u001b[0;32m<timed exec>\u001b[0m in \u001b[0;36m<module>\u001b[0;34m\u001b[0m\n",
      "\u001b[0;31mNameError\u001b[0m: name 'random' is not defined"
     ]
    }
   ],
   "source": [
    "%%time\n",
    "params = vmap(lambda key: prior_chain(prior_chain.compactify_U(prior_chain.sample_U(key))))(\n",
    "    random.split(random.PRNGKey(0), 100))"
   ]
  },
  {
   "cell_type": "code",
   "execution_count": 9,
   "id": "36eb5dd3",
   "metadata": {},
   "outputs": [
    {
     "ename": "TypeError",
     "evalue": "Using a non-tuple sequence for multidimensional indexing is not allowed; use `arr[tuple(seq)]` instead of `arr[seq]`. See https://github.com/google/jax/issues/4564 for more information.",
     "output_type": "error",
     "traceback": [
      "\u001b[0;31m---------------------------------------------------------------------------\u001b[0m",
      "\u001b[0;31mTypeError\u001b[0m                                 Traceback (most recent call last)",
      "\u001b[0;32m/tmp/ipykernel_23354/2190251109.py\u001b[0m in \u001b[0;36m<module>\u001b[0;34m\u001b[0m\n\u001b[0;32m----> 1\u001b[0;31m \u001b[0mparams\u001b[0m\u001b[0;34m[\u001b[0m\u001b[0;34m\"params\"\u001b[0m\u001b[0;34m]\u001b[0m\u001b[0;34m.\u001b[0m\u001b[0mshape\u001b[0m\u001b[0;34m\u001b[0m\u001b[0;34m\u001b[0m\u001b[0m\n\u001b[0m",
      "\u001b[0;32m~/.local/lib/python3.8/site-packages/jax/_src/numpy/lax_numpy.py\u001b[0m in \u001b[0;36m_rewriting_take\u001b[0;34m(arr, idx, indices_are_sorted, unique_indices)\u001b[0m\n\u001b[1;32m   5006\u001b[0m   \u001b[0;31m# followed by an optional reverse and broadcast_in_dim.\u001b[0m\u001b[0;34m\u001b[0m\u001b[0;34m\u001b[0m\u001b[0;34m\u001b[0m\u001b[0m\n\u001b[1;32m   5007\u001b[0m   \u001b[0marr\u001b[0m \u001b[0;34m=\u001b[0m \u001b[0masarray\u001b[0m\u001b[0;34m(\u001b[0m\u001b[0marr\u001b[0m\u001b[0;34m)\u001b[0m\u001b[0;34m\u001b[0m\u001b[0;34m\u001b[0m\u001b[0m\n\u001b[0;32m-> 5008\u001b[0;31m   \u001b[0mtreedef\u001b[0m\u001b[0;34m,\u001b[0m \u001b[0mstatic_idx\u001b[0m\u001b[0;34m,\u001b[0m \u001b[0mdynamic_idx\u001b[0m \u001b[0;34m=\u001b[0m \u001b[0m_split_index_for_jit\u001b[0m\u001b[0;34m(\u001b[0m\u001b[0midx\u001b[0m\u001b[0;34m)\u001b[0m\u001b[0;34m\u001b[0m\u001b[0;34m\u001b[0m\u001b[0m\n\u001b[0m\u001b[1;32m   5009\u001b[0m   return _gather(arr, treedef, static_idx, dynamic_idx, indices_are_sorted,\n\u001b[1;32m   5010\u001b[0m                  unique_indices)\n",
      "\u001b[0;32m~/.local/lib/python3.8/site-packages/jax/_src/numpy/lax_numpy.py\u001b[0m in \u001b[0;36m_split_index_for_jit\u001b[0;34m(idx)\u001b[0m\n\u001b[1;32m   5072\u001b[0m   \"\"\"\n\u001b[1;32m   5073\u001b[0m   \u001b[0;31m# Convert list indices to tuples in cases (deprecated by NumPy.)\u001b[0m\u001b[0;34m\u001b[0m\u001b[0;34m\u001b[0m\u001b[0;34m\u001b[0m\u001b[0m\n\u001b[0;32m-> 5074\u001b[0;31m   \u001b[0midx\u001b[0m \u001b[0;34m=\u001b[0m \u001b[0m_eliminate_deprecated_list_indexing\u001b[0m\u001b[0;34m(\u001b[0m\u001b[0midx\u001b[0m\u001b[0;34m)\u001b[0m\u001b[0;34m\u001b[0m\u001b[0;34m\u001b[0m\u001b[0m\n\u001b[0m\u001b[1;32m   5075\u001b[0m \u001b[0;34m\u001b[0m\u001b[0m\n\u001b[1;32m   5076\u001b[0m   \u001b[0;31m# Expand any (concrete) boolean indices. We can then use advanced integer\u001b[0m\u001b[0;34m\u001b[0m\u001b[0;34m\u001b[0m\u001b[0;34m\u001b[0m\u001b[0m\n",
      "\u001b[0;32m~/.local/lib/python3.8/site-packages/jax/_src/numpy/lax_numpy.py\u001b[0m in \u001b[0;36m_eliminate_deprecated_list_indexing\u001b[0;34m(idx)\u001b[0m\n\u001b[1;32m   5324\u001b[0m                \u001b[0;34m\"use `arr[array(seq)]` instead of `arr[seq]`. \"\u001b[0m\u001b[0;34m\u001b[0m\u001b[0;34m\u001b[0m\u001b[0m\n\u001b[1;32m   5325\u001b[0m                \"See https://github.com/google/jax/issues/4564 for more information.\")\n\u001b[0;32m-> 5326\u001b[0;31m       \u001b[0;32mraise\u001b[0m \u001b[0mTypeError\u001b[0m\u001b[0;34m(\u001b[0m\u001b[0mmsg\u001b[0m\u001b[0;34m)\u001b[0m\u001b[0;34m\u001b[0m\u001b[0;34m\u001b[0m\u001b[0m\n\u001b[0m\u001b[1;32m   5327\u001b[0m     \u001b[0;32melse\u001b[0m\u001b[0;34m:\u001b[0m\u001b[0;34m\u001b[0m\u001b[0;34m\u001b[0m\u001b[0m\n\u001b[1;32m   5328\u001b[0m       \u001b[0midx\u001b[0m \u001b[0;34m=\u001b[0m \u001b[0;34m(\u001b[0m\u001b[0midx\u001b[0m\u001b[0;34m,\u001b[0m\u001b[0;34m)\u001b[0m\u001b[0;34m\u001b[0m\u001b[0;34m\u001b[0m\u001b[0m\n",
      "\u001b[0;31mTypeError\u001b[0m: Using a non-tuple sequence for multidimensional indexing is not allowed; use `arr[tuple(seq)]` instead of `arr[seq]`. See https://github.com/google/jax/issues/4564 for more information."
     ]
    }
   ],
   "source": [
    "params[\"params\"].shape"
   ]
  },
  {
   "cell_type": "code",
   "execution_count": null,
   "id": "973636f3",
   "metadata": {},
   "outputs": [],
   "source": [
    "%%time\n",
    "ns = NestedSampler(cf.gp_likelihood, prior_chain, num_live_points=3*prior_chain.U_ndims, sampler_name='multi_ellipsoid')"
   ]
  },
  {
   "cell_type": "code",
   "execution_count": null,
   "id": "bdbd9df9",
   "metadata": {},
   "outputs": [],
   "source": [
    "%%time\n",
    "results = jit(ns)(key=random.PRNGKey(42), termination_frac=0.5)"
   ]
  },
  {
   "cell_type": "code",
   "execution_count": null,
   "id": "34861c0f",
   "metadata": {},
   "outputs": [],
   "source": [
    "summary(results)\n",
    "plot_diagnostics(results)"
   ]
  },
  {
   "cell_type": "code",
   "execution_count": null,
   "id": "8cecc189",
   "metadata": {},
   "outputs": [],
   "source": [
    "results.samples['params'][:results.num_samples, :]"
   ]
  },
  {
   "cell_type": "code",
   "execution_count": null,
   "id": "fc022e85",
   "metadata": {},
   "outputs": [],
   "source": [
    "arr = results.samples['params'][:results.num_samples, :]"
   ]
  },
  {
   "cell_type": "code",
   "execution_count": null,
   "id": "7cf03ff7",
   "metadata": {},
   "outputs": [],
   "source": [
    "jnp.mean(arr, axis=0)"
   ]
  },
  {
   "cell_type": "code",
   "execution_count": null,
   "id": "5708c78e",
   "metadata": {},
   "outputs": [],
   "source": []
  }
 ],
 "metadata": {
  "kernelspec": {
   "display_name": "Python 3 (ipykernel)",
   "language": "python",
   "name": "python3"
  },
  "language_info": {
   "codemirror_mode": {
    "name": "ipython",
    "version": 3
   },
   "file_extension": ".py",
   "mimetype": "text/x-python",
   "name": "python",
   "nbconvert_exporter": "python",
   "pygments_lexer": "ipython3",
   "version": "3.8.10"
  }
 },
 "nbformat": 4,
 "nbformat_minor": 5
}
