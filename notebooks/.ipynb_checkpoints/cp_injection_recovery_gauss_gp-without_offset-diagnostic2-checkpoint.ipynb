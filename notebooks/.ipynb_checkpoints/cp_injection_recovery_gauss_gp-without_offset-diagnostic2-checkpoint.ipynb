{
 "cells": [
  {
   "cell_type": "code",
   "execution_count": 1,
   "id": "7dbb1037",
   "metadata": {},
   "outputs": [],
   "source": [
    "import numpy as np\n",
    "import matplotlib.pyplot as plt\n",
    "from matplotlib.pyplot import rcParams\n",
    "import warnings\n",
    "warnings.filterwarnings('ignore')\n",
    "\n",
    "import re\n",
    "import jax.numpy as jnp\n",
    "from jax import grad, jit, partial\n",
    "import ticktack\n",
    "from ticktack import fitting2 as fitting\n",
    "from tqdm import tqdm\n",
    "import scipy\n",
    "\n",
    "rcParams['figure.figsize'] = (8.0, 4.0)"
   ]
  },
  {
   "cell_type": "code",
   "execution_count": 2,
   "id": "65fafbfa",
   "metadata": {},
   "outputs": [],
   "source": [
    "cbm = ticktack.load_presaved_model('Guttler14', production_rate_units = 'atoms/cm^2/s')\n",
    "cf = fitting.CarbonFitter(cbm)\n",
    "cf.load_data('inject_recovery_gp.csv')\n",
    "cf.prepare_function(use_control_points=True, interp='gp')"
   ]
  },
  {
   "cell_type": "code",
   "execution_count": 3,
   "id": "a4ef150d",
   "metadata": {},
   "outputs": [],
   "source": [
    "@jit\n",
    "def gauss(t):\n",
    "    prod =  1.87 + 0.2 * 1.87 * jnp.exp(-1/2*((t-250)/10)**2.)\n",
    "    return prod"
   ]
  },
  {
   "cell_type": "code",
   "execution_count": 17,
   "id": "76002592",
   "metadata": {},
   "outputs": [],
   "source": [
    "params = jnp.array([1.87031305, 1.83610345, 1.87055002, 1.88344806, 1.87874686,\n",
    "       1.87226555, 1.86708786, 1.86488023, 1.86510987, 1.86660839,\n",
    "       1.86854103, 1.87014944, 1.871126  , 1.87163735, 1.87158615,\n",
    "       1.87138911, 1.87113653, 1.87109088, 1.87130529, 1.87191953,\n",
    "       1.87301307, 1.87456127, 1.87661901, 1.87924559, 1.88247881,\n",
    "       1.88643444, 1.89119105, 1.89689609, 1.90365744, 1.91163198,\n",
    "       1.92096494, 1.93176893, 1.94414822, 1.95817022, 1.97385846,\n",
    "       1.99116664, 2.0100129 , 2.03027184, 2.05160042, 2.07374902,\n",
    "       2.09636751, 2.11902525, 2.14121224, 2.16242712, 2.18215617,\n",
    "       2.19990879, 2.21517111, 2.22754156, 2.23665671, 2.24224305,\n",
    "       2.24414793, 2.24231523, 2.23677563, 2.22771023, 2.21540181,\n",
    "       2.20017797, 2.18247993, 2.16276519, 2.1415598 , 2.11938208,\n",
    "       2.0967112 , 2.0740499 , 2.05180566, 2.03037253, 2.01004092,\n",
    "       1.99105289, 1.97358522, 1.95775242, 1.94357764, 1.93106429,\n",
    "       1.92017291, 1.91079258, 1.90284097, 1.89616371, 1.8906349 ,\n",
    "       1.88611686, 1.88247156, 1.87955727, 1.87726094, 1.87547519,\n",
    "       1.8740871 , 1.87303351, 1.87221781, 1.87161582, 1.87116532,\n",
    "       1.8708266 , 1.87059848, 1.87046111, 1.87039804, 1.87038252,\n",
    "       1.87038622, 1.87036672, 1.87025165, 1.87001783, 1.86971395,\n",
    "       1.86951236, 1.86990416, 1.87083368])"
   ]
  },
  {
   "cell_type": "code",
   "execution_count": 18,
   "id": "ecffb842",
   "metadata": {},
   "outputs": [
    {
     "data": {
      "text/plain": [
       "0"
      ]
     },
     "execution_count": 18,
     "metadata": {},
     "output_type": "execute_result"
    }
   ],
   "source": [
    "cf.offset"
   ]
  },
  {
   "cell_type": "code",
   "execution_count": 19,
   "id": "7825f249",
   "metadata": {},
   "outputs": [
    {
     "data": {
      "text/plain": [
       "0"
      ]
     },
     "execution_count": 19,
     "metadata": {},
     "output_type": "execute_result"
    }
   ],
   "source": [
    "cf.offset = 0\n",
    "cf.offset"
   ]
  },
  {
   "cell_type": "code",
   "execution_count": 20,
   "id": "cb79529e",
   "metadata": {},
   "outputs": [
    {
     "name": "stdout",
     "output_type": "stream",
     "text": [
      "total likelihood:  105.16996760245343\n",
      "gp likelihood:  105.16668894122918\n",
      "chi2:  0.0032786612242425837\n"
     ]
    }
   ],
   "source": [
    "print(\"total likelihood: \", cf.gp_likelihood(params))\n",
    "print(\"gp likelihood: \", cf.gp_neg_log_likelihood(params))\n",
    "print(\"chi2: \", cf.loss_chi2(params))"
   ]
  },
  {
   "cell_type": "code",
   "execution_count": 21,
   "id": "e424169d",
   "metadata": {},
   "outputs": [
    {
     "data": {
      "text/plain": [
       "<matplotlib.legend.Legend at 0x7fc560758be0>"
      ]
     },
     "execution_count": 21,
     "metadata": {},
     "output_type": "execute_result"
    },
    {
     "data": {
      "image/png": "[encoded data removed]",
      "text/plain": [
       "<Figure size 576x288 with 1 Axes>"
      ]
     },
     "metadata": {
      "needs_background": "light"
     },
     "output_type": "display_data"
    }
   ],
   "source": [
    "plt.plot(cf.time_data[:-1], cf.dc14(params), \".k\", label=\"recovered\", markersize=10)\n",
    "plt.plot(cf.time_data, cf.d14c_data, '--r')\n",
    "plt.plot(cf.time_data, cf.d14c_data, 'or', fillstyle=\"none\", label=\"true\", alpha=0.5)\n",
    "plt.title(\"d14c\");\n",
    "plt.legend(loc='upper center', bbox_to_anchor=(0.5, -0.05),\n",
    "          fancybox=True)\n",
    "# plt.xlim(199, 205)\n",
    "# plt.ylim(-1, 0)"
   ]
  },
  {
   "cell_type": "code",
   "execution_count": 22,
   "id": "5ddb991e",
   "metadata": {},
   "outputs": [],
   "source": [
    "def diagnostic(t):\n",
    "    cbm = ticktack.load_presaved_model('Guttler14', production_rate_units = 'atoms/cm^2/s')\n",
    "    cf = fitting.CarbonFitter(cbm)\n",
    "    cf.load_data('inject_recovery_gp.csv')\n",
    "    cf.prepare_function(use_control_points=True, interp='gp')\n",
    "    \n",
    "    burn_in = cf.run(cf.burn_in_time, cf.steady_state_y0, params=params)\n",
    "    data, solution = cf.cbm.run(t, production=cf.production, args=params, y0=burn_in[-1,:])\n",
    "    d_14_c = cf.cbm._to_d14c(data, cf.steady_state_y0)\n",
    "\n",
    "    plt.plot(t, d_14_c, \".\", label='fitted')\n",
    "    plt.legend()\n",
    "\n",
    "    cbm = ticktack.load_presaved_model('Guttler14', production_rate_units = 'atoms/cm^2/s')\n",
    "    cf2 = fitting.CarbonFitter(cbm)\n",
    "    cf2.load_data('inject_recovery_gp.csv')\n",
    "    cf2.prepare_function(custom_function=True, f=gauss)\n",
    "\n",
    "    burn_in_true = cf2.run(cf2.burn_in_time, cf2.steady_state_y0)\n",
    "    data_true, solution_true = cf2.cbm.run(t, production=cf2.production, y0=burn_in_true[-1,:])\n",
    "    d_14_c_true = cf2.cbm._to_d14c(data_true, cf2.steady_state_y0)\n",
    "\n",
    "    plt.plot(t, d_14_c_true, \".\", label='true')\n",
    "    plt.legend()"
   ]
  },
  {
   "cell_type": "code",
   "execution_count": 31,
   "id": "ff4da742",
   "metadata": {},
   "outputs": [],
   "source": [
    "t = np.arange(cf.start-30, cf.start+5, 0.5)\n",
    "t1 = np.arange(cf.start-20, cf.start+0.01, 0.1)"
   ]
  },
  {
   "cell_type": "code",
   "execution_count": 32,
   "id": "48b01a15",
   "metadata": {},
   "outputs": [
    {
     "data": {
      "text/plain": [
       "[<matplotlib.lines.Line2D at 0x7fc4e4e14040>]"
      ]
     },
     "execution_count": 32,
     "metadata": {},
     "output_type": "execute_result"
    },
    {
     "data": {
      "image/png": "[encoded data removed]",
      "text/plain": [
       "<Figure size 576x288 with 1 Axes>"
      ]
     },
     "metadata": {
      "needs_background": "light"
     },
     "output_type": "display_data"
    }
   ],
   "source": [
    "mu = cf.production(t, (params,))\n",
    "plt.plot(t, mu, \".\", markersize=2)\n",
    "plt.plot(t, gauss(t), \".\", markersize=2)"
   ]
  },
  {
   "cell_type": "code",
   "execution_count": 34,
   "id": "f0a04c3d",
   "metadata": {},
   "outputs": [
    {
     "data": {
      "text/plain": [
       "<matplotlib.lines.Line2D at 0x7fc4e434ed00>"
      ]
     },
     "execution_count": 34,
     "metadata": {},
     "output_type": "execute_result"
    },
    {
     "data": {
      "image/png": "[encoded data removed]",
      "text/plain": [
       "<Figure size 576x288 with 1 Axes>"
      ]
     },
     "metadata": {
      "needs_background": "light"
     },
     "output_type": "display_data"
    }
   ],
   "source": [
    "diagnostic(t)\n",
    "plt.axvline(200, color='r')"
   ]
  },
  {
   "cell_type": "code",
   "execution_count": 26,
   "id": "f52e6a84",
   "metadata": {},
   "outputs": [
    {
     "data": {
      "image/png": "[encoded data removed]",
      "text/plain": [
       "<Figure size 576x288 with 1 Axes>"
      ]
     },
     "metadata": {
      "needs_background": "light"
     },
     "output_type": "display_data"
    }
   ],
   "source": [
    "diagnostic(t1)"
   ]
  },
  {
   "cell_type": "code",
   "execution_count": 14,
   "id": "70f426ac",
   "metadata": {},
   "outputs": [
    {
     "data": {
      "text/plain": [
       "DeviceArray(-105.16739162, dtype=float64)"
      ]
     },
     "execution_count": 14,
     "metadata": {},
     "output_type": "execute_result"
    }
   ],
   "source": [
    "from celerite2.jax import terms as jax_terms\n",
    "import celerite2.jax\n",
    "kernel = jax_terms.Matern32Term(sigma=2.0, rho=2.)\n",
    "gp = celerite2.jax.GaussianProcess(kernel, mean=params[0])\n",
    "gp.compute(cf.control_points_time)\n",
    "gp.log_likelihood(params)"
   ]
  },
  {
   "cell_type": "code",
   "execution_count": 15,
   "id": "476505ea",
   "metadata": {},
   "outputs": [
    {
     "data": {
      "text/plain": [
       "DeviceArray(-105.16586611, dtype=float64)"
      ]
     },
     "execution_count": 15,
     "metadata": {},
     "output_type": "execute_result"
    }
   ],
   "source": [
    "kernel = jax_terms.Matern32Term(sigma=2.0, rho=2.)\n",
    "gp = celerite2.jax.GaussianProcess(kernel, mean=params[0])\n",
    "gp.compute(cf.control_points_time)\n",
    "gp.log_likelihood(gauss(cf.control_points_time))"
   ]
  },
  {
   "cell_type": "code",
   "execution_count": 16,
   "id": "69c9d4ca",
   "metadata": {},
   "outputs": [
    {
     "data": {
      "text/plain": [
       "[<matplotlib.lines.Line2D at 0x7fc580109370>]"
      ]
     },
     "execution_count": 16,
     "metadata": {},
     "output_type": "execute_result"
    },
    {
     "data": {
      "image/png": "[encoded data removed]",
      "text/plain": [
       "<Figure size 576x288 with 1 Axes>"
      ]
     },
     "metadata": {
      "needs_background": "light"
     },
     "output_type": "display_data"
    }
   ],
   "source": [
    "plt.plot(cf.control_points_time, gauss(cf.control_points_time))\n",
    "plt.plot(cf.control_points_time, params, \".\")"
   ]
  },
  {
   "cell_type": "code",
   "execution_count": null,
   "id": "edad763b",
   "metadata": {},
   "outputs": [],
   "source": []
  }
 ],
 "metadata": {
  "kernelspec": {
   "display_name": "Python 3 (ipykernel)",
   "language": "python",
   "name": "python3"
  },
  "language_info": {
   "codemirror_mode": {
    "name": "ipython",
    "version": 3
   },
   "file_extension": ".py",
   "mimetype": "text/x-python",
   "name": "python",
   "nbconvert_exporter": "python",
   "pygments_lexer": "ipython3",
   "version": "3.8.10"
  }
 },
 "nbformat": 4,
 "nbformat_minor": 5
}
