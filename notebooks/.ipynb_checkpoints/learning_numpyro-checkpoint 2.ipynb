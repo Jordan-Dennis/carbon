{
 "cells": [
  {
   "cell_type": "code",
   "execution_count": 1,
   "id": "33f464b4",
   "metadata": {},
   "outputs": [
    {
     "data": {
      "image/png": "[encoded data removed]",
      "text/plain": [
       "<Figure size 432x288 with 1 Axes>"
      ]
     },
     "metadata": {
      "needs_background": "light"
     },
     "output_type": "display_data"
    }
   ],
   "source": [
    "import numpy as np\n",
    "import matplotlib.pyplot as plt\n",
    "np.random.seed(42)\n",
    "\n",
    "t = np.sort(\n",
    "    np.append(\n",
    "        np.random.uniform(0, 3.8, 57),\n",
    "        np.random.uniform(5.5, 10, 68),\n",
    "    )\n",
    ")  # The input coordinates must be sorted\n",
    "yerr = np.random.uniform(0.08, 0.22, len(t))\n",
    "y = (\n",
    "    0.2 * (t - 5)\n",
    "    + np.sin(3 * t + 0.1 * (t - 5) ** 2)\n",
    "    + yerr * np.random.randn(len(t))\n",
    ")\n",
    "\n",
    "true_t = np.linspace(0, 10, 500)\n",
    "true_y = 0.2 * (true_t - 5) + np.sin(3 * true_t + 0.1 * (true_t - 5) ** 2)\n",
    "\n",
    "plt.plot(true_t, true_y, \"k\", lw=1.5, alpha=0.3)\n",
    "plt.errorbar(t, y, yerr=yerr, fmt=\".k\", capsize=0)\n",
    "plt.xlabel(\"x [day]\")\n",
    "plt.ylabel(\"y [ppm]\")\n",
    "plt.xlim(0, 10)\n",
    "plt.ylim(-2.5, 2.5)\n",
    "_ = plt.title(\"simulated data\")"
   ]
  },
  {
   "cell_type": "code",
   "execution_count": 12,
   "id": "56e7f117",
   "metadata": {},
   "outputs": [
    {
     "name": "stderr",
     "output_type": "stream",
     "text": [
      "/home/qingyuanzhang/.local/lib/python3.8/site-packages/numpyro/infer/mcmc.py:269: UserWarning: There are not enough devices to run parallel chains: expected 2 but got 1. Chains will be drawn sequentially. If you are running MCMC in CPU, consider using `numpyro.set_host_device_count(2)` at the beginning of your program. You can double-check how many devices are available in your system using `jax.local_device_count()`.\n",
      "  warnings.warn(\n",
      "sample: 100%|████████████████████████████| 2000/2000 [00:02<00:00, 741.27it/s, 7 steps of size 7.19e-01. acc. prob=0.90]\n",
      "sample: 100%|███████████████████████████| 2000/2000 [00:00<00:00, 8369.83it/s, 7 steps of size 6.91e-01. acc. prob=0.90]"
     ]
    },
    {
     "name": "stdout",
     "output_type": "stream",
     "text": [
      "CPU times: user 3.17 s, sys: 0 ns, total: 3.17 s\n",
      "Wall time: 3.17 s\n"
     ]
    },
    {
     "name": "stderr",
     "output_type": "stream",
     "text": [
      "\n"
     ]
    }
   ],
   "source": [
    "from jax.config import config\n",
    "\n",
    "config.update(\"jax_enable_x64\", True)\n",
    "\n",
    "from jax import random\n",
    "import jax.numpy as jnp\n",
    "\n",
    "import numpyro\n",
    "import numpyro.distributions as dist\n",
    "from numpyro.infer import MCMC, NUTS\n",
    "\n",
    "import celerite2.jax\n",
    "from celerite2.jax import terms as jax_terms\n",
    "\n",
    "\n",
    "def numpyro_model(t, yerr, y=None):\n",
    "    prior_sigma = 1\n",
    "    mean = numpyro.sample(\"mean\", dist.Normal(1.88, prior_sigma))\n",
    "    log_jitter = numpyro.sample(\"log_jitter\", dist.Normal(0.0, prior_sigma))\n",
    "\n",
    "    log_sigma1 = numpyro.sample(\"log_sigma1\", dist.Normal(0.0, prior_sigma))\n",
    "    log_rho1 = numpyro.sample(\"log_rho1\", dist.Normal(0.0, prior_sigma))\n",
    "    log_tau = numpyro.sample(\"log_tau\", dist.Normal(0.0, prior_sigma))\n",
    "    term1 = jax_terms.UnderdampedSHOTerm(\n",
    "        sigma=jnp.exp(log_sigma1), rho=jnp.exp(log_rho1), tau=jnp.exp(log_tau)\n",
    "    )\n",
    "\n",
    "    log_sigma2 = numpyro.sample(\"log_sigma2\", dist.Normal(0.0, prior_sigma))\n",
    "    log_rho2 = numpyro.sample(\"log_rho2\", dist.Normal(0.0, prior_sigma))\n",
    "    term2 = jax_terms.OverdampedSHOTerm(\n",
    "        sigma=jnp.exp(log_sigma2), rho=jnp.exp(log_rho2), Q=0.25\n",
    "    )\n",
    "\n",
    "    kernel = term1 + term2\n",
    "    gp = celerite2.jax.GaussianProcess(kernel, mean=mean)\n",
    "    gp.compute(t, diag=yerr ** 2 + jnp.exp(log_jitter), check_sorted=False)\n",
    "\n",
    "    numpyro.sample(\"obs\", gp.numpyro_dist(), obs=y)\n",
    "\n",
    "\n",
    "nuts_kernel = NUTS(numpyro_model, dense_mass=True)\n",
    "mcmc = MCMC(nuts_kernel, num_warmup=1000, num_samples=1000, num_chains=2)\n",
    "rng_key = random.PRNGKey(34923)\n",
    "%time mcmc.run(rng_key, t, yerr, y=y)"
   ]
  },
  {
   "cell_type": "code",
   "execution_count": 3,
   "id": "1a69fef6",
   "metadata": {},
   "outputs": [
    {
     "name": "stderr",
     "output_type": "stream",
     "text": [
      "sample: 100%|███████████████████████████| 2000/2000 [00:00<00:00, 2076.53it/s, 7 steps of size 5.21e-01. acc. prob=0.92]\n",
      "sample: 100%|███████████████████████████| 2000/2000 [00:00<00:00, 2094.18it/s, 7 steps of size 5.41e-01. acc. prob=0.91]\n"
     ]
    }
   ],
   "source": [
    "result = mcmc.run(rng_key, t, yerr, y=y)"
   ]
  },
  {
   "cell_type": "code",
   "execution_count": 11,
   "id": "e1248042",
   "metadata": {},
   "outputs": [
    {
     "data": {
      "text/plain": [
       "{'log_jitter': DeviceArray([-4.93741029, -4.79065719, -5.11348067, ..., -5.14628021,\n",
       "              -4.90860076, -5.26608696], dtype=float64),\n",
       " 'log_rho1': DeviceArray([0.78345991, 0.72200995, 0.76661004, ..., 0.69928588,\n",
       "              0.62314009, 0.74570688], dtype=float64),\n",
       " 'log_rho2': DeviceArray([2.26860555, 1.79178323, 1.58471189, ..., 2.30248373,\n",
       "              2.19189665, 1.68737117], dtype=float64),\n",
       " 'log_sigma1': DeviceArray([-0.28122918, -0.20123013, -0.10546067, ..., -0.19645239,\n",
       "              -0.35219162, -0.54967603], dtype=float64),\n",
       " 'log_sigma2': DeviceArray([-0.1281741 , -0.46467307, -0.7673356 , ...,  0.00653229,\n",
       "              -0.39859852,  0.03402194], dtype=float64),\n",
       " 'log_tau': DeviceArray([0.58302663, 1.27361066, 1.60995983, ..., 2.68786023,\n",
       "              1.86199708, 1.65327424], dtype=float64),\n",
       " 'mean': DeviceArray([ 1.08358731,  0.67749607,  0.10968548, ...,  0.15708529,\n",
       "              -0.72691444,  0.30835612], dtype=float64)}"
      ]
     },
     "execution_count": 11,
     "metadata": {},
     "output_type": "execute_result"
    }
   ],
   "source": [
    "mcmc.get_samples()"
   ]
  },
  {
   "cell_type": "code",
   "execution_count": 13,
   "id": "0efadead",
   "metadata": {
    "scrolled": true
   },
   "outputs": [
    {
     "name": "stdout",
     "output_type": "stream",
     "text": [
      "Help on class NUTS in module numpyro.infer.hmc:\n",
      "\n",
      "class NUTS(HMC)\n",
      " |  NUTS(model=None, potential_fn=None, kinetic_fn=None, step_size=1.0, inverse_mass_matrix=None, adapt_step_size=True, adapt_mass_matrix=True, dense_mass=False, target_accept_prob=0.8, trajectory_length=None, max_tree_depth=10, init_strategy=<function init_to_uniform at 0x7fef46fb7820>, find_heuristic_step_size=False, forward_mode_differentiation=False, regularize_mass_matrix=True)\n",
      " |  \n",
      " |  Hamiltonian Monte Carlo inference, using the No U-Turn Sampler (NUTS)\n",
      " |  with adaptive path length and mass matrix adaptation.\n",
      " |  \n",
      " |  **References:**\n",
      " |  \n",
      " |  1. *MCMC Using Hamiltonian Dynamics*,\n",
      " |     Radford M. Neal\n",
      " |  2. *The No-U-turn sampler: adaptively setting path lengths in Hamiltonian Monte Carlo*,\n",
      " |     Matthew D. Hoffman, and Andrew Gelman.\n",
      " |  3. *A Conceptual Introduction to Hamiltonian Monte Carlo`*,\n",
      " |     Michael Betancourt\n",
      " |  \n",
      " |  :param model: Python callable containing Pyro :mod:`~numpyro.primitives`.\n",
      " |      If model is provided, `potential_fn` will be inferred using the model.\n",
      " |  :param potential_fn: Python callable that computes the potential energy\n",
      " |      given input parameters. The input parameters to `potential_fn` can be\n",
      " |      any python collection type, provided that `init_params` argument to\n",
      " |      `init_kernel` has the same type.\n",
      " |  :param kinetic_fn: Python callable that returns the kinetic energy given\n",
      " |      inverse mass matrix and momentum. If not provided, the default is\n",
      " |      euclidean kinetic energy.\n",
      " |  :param float step_size: Determines the size of a single step taken by the\n",
      " |      verlet integrator while computing the trajectory using Hamiltonian\n",
      " |      dynamics. If not specified, it will be set to 1.\n",
      " |  :param inverse_mass_matrix: Initial value for inverse mass matrix.\n",
      " |      This may be adapted during warmup if adapt_mass_matrix = True.\n",
      " |      If no value is specified, then it is initialized to the identity matrix.\n",
      " |      For a potential_fn with general JAX pytree parameters, the order of entries\n",
      " |      of the mass matrix is the order of the flattened version of pytree parameters\n",
      " |      obtained with `jax.tree_flatten`, which is a bit ambiguous (see more at\n",
      " |      https://jax.readthedocs.io/en/latest/pytrees.html). If `model` is not None,\n",
      " |      here we can specify a structured block mass matrix as a dictionary, where\n",
      " |      keys are tuple of site names and values are the corresponding block of the\n",
      " |      mass matrix.\n",
      " |      For more information about structured mass matrix, see `dense_mass` argument.\n",
      " |  :type inverse_mass_matrix: numpy.ndarray or dict\n",
      " |  :param bool adapt_step_size: A flag to decide if we want to adapt step_size\n",
      " |      during warm-up phase using Dual Averaging scheme.\n",
      " |  :param bool adapt_mass_matrix: A flag to decide if we want to adapt mass\n",
      " |      matrix during warm-up phase using Welford scheme.\n",
      " |  :param dense_mass:  This flag controls whether mass matrix is dense (i.e. full-rank) or\n",
      " |      diagonal (defaults to ``dense_mass=False``). To specify a structured mass matrix,\n",
      " |      users can provide a list of tuples of site names. Each tuple represents\n",
      " |      a block in the joint mass matrix. For example, assuming that the model\n",
      " |      has latent variables \"x\", \"y\", \"z\" (where each variable can be multi-dimensional),\n",
      " |      possible specifications and corresponding mass matrix structures are as follows:\n",
      " |  \n",
      " |          + dense_mass=[(\"x\", \"y\")]: use a dense mass matrix for the joint\n",
      " |            (x, y) and a diagonal mass matrix for z\n",
      " |          + dense_mass=[] (equivalent to dense_mass=False): use a diagonal mass\n",
      " |            matrix for the joint (x, y, z)\n",
      " |          + dense_mass=[(\"x\", \"y\", \"z\")] (equivalent to full_mass=True):\n",
      " |            use a dense mass matrix for the joint (x, y, z)\n",
      " |          + dense_mass=[(\"x\",), (\"y\",), (\"z\")]: use dense mass matrices for\n",
      " |            each of x, y, and z (i.e. block-diagonal with 3 blocks)\n",
      " |  \n",
      " |  :type dense_mass: bool or list\n",
      " |  :param float target_accept_prob: Target acceptance probability for step size\n",
      " |      adaptation using Dual Averaging. Increasing this value will lead to a smaller\n",
      " |      step size, hence the sampling will be slower but more robust. Defaults to 0.8.\n",
      " |  :param float trajectory_length: Length of a MCMC trajectory for HMC. This arg has\n",
      " |      no effect in NUTS sampler.\n",
      " |  :param int max_tree_depth: Max depth of the binary tree created during the doubling\n",
      " |      scheme of NUTS sampler. Defaults to 10. This argument also accepts a tuple of\n",
      " |      integers `(d1, d2)`, where `d1` is the max tree depth during warmup phase and\n",
      " |      `d2` is the max tree depth during post warmup phase.\n",
      " |  :param callable init_strategy: a per-site initialization function.\n",
      " |      See :ref:`init_strategy` section for available functions.\n",
      " |  :param bool find_heuristic_step_size: whether or not to use a heuristic function\n",
      " |      to adjust the step size at the beginning of each adaptation window. Defaults\n",
      " |      to False.\n",
      " |  :param bool forward_mode_differentiation: whether to use forward-mode differentiation\n",
      " |      or reverse-mode differentiation. By default, we use reverse mode but the forward\n",
      " |      mode can be useful in some cases to improve the performance. In addition, some\n",
      " |      control flow utility on JAX such as `jax.lax.while_loop` or `jax.lax.fori_loop`\n",
      " |      only supports forward-mode differentiation. See\n",
      " |      `JAX's The Autodiff Cookbook <https://jax.readthedocs.io/en/latest/notebooks/autodiff_cookbook.html>`_\n",
      " |      for more information.\n",
      " |  \n",
      " |  Method resolution order:\n",
      " |      NUTS\n",
      " |      HMC\n",
      " |      numpyro.infer.mcmc.MCMCKernel\n",
      " |      abc.ABC\n",
      " |      builtins.object\n",
      " |  \n",
      " |  Methods defined here:\n",
      " |  \n",
      " |  __init__(self, model=None, potential_fn=None, kinetic_fn=None, step_size=1.0, inverse_mass_matrix=None, adapt_step_size=True, adapt_mass_matrix=True, dense_mass=False, target_accept_prob=0.8, trajectory_length=None, max_tree_depth=10, init_strategy=<function init_to_uniform at 0x7fef46fb7820>, find_heuristic_step_size=False, forward_mode_differentiation=False, regularize_mass_matrix=True)\n",
      " |      Initialize self.  See help(type(self)) for accurate signature.\n",
      " |  \n",
      " |  ----------------------------------------------------------------------\n",
      " |  Data and other attributes defined here:\n",
      " |  \n",
      " |  __abstractmethods__ = frozenset()\n",
      " |  \n",
      " |  ----------------------------------------------------------------------\n",
      " |  Methods inherited from HMC:\n",
      " |  \n",
      " |  __getstate__(self)\n",
      " |  \n",
      " |  get_diagnostics_str(self, state)\n",
      " |      Given the current `state`, returns the diagnostics string to\n",
      " |      be added to progress bar for diagnostics purpose.\n",
      " |  \n",
      " |  init(self, rng_key, num_warmup, init_params=None, model_args=(), model_kwargs={})\n",
      " |      Initialize the `MCMCKernel` and return an initial state to begin sampling\n",
      " |      from.\n",
      " |      \n",
      " |      :param random.PRNGKey rng_key: Random number generator key to initialize\n",
      " |          the kernel.\n",
      " |      :param int num_warmup: Number of warmup steps. This can be useful\n",
      " |          when doing adaptation during warmup.\n",
      " |      :param tuple init_params: Initial parameters to begin sampling. The type must\n",
      " |          be consistent with the input type to `potential_fn`.\n",
      " |      :param model_args: Arguments provided to the model.\n",
      " |      :param model_kwargs: Keyword arguments provided to the model.\n",
      " |      :return: The initial state representing the state of the kernel. This can be\n",
      " |          any class that is registered as a\n",
      " |          `pytree <https://jax.readthedocs.io/en/latest/pytrees.html>`_.\n",
      " |  \n",
      " |  postprocess_fn(self, args, kwargs)\n",
      " |      Get a function that transforms unconstrained values at sample sites to values\n",
      " |      constrained to the site's support, in addition to returning deterministic\n",
      " |      sites in the model.\n",
      " |      \n",
      " |      :param model_args: Arguments to the model.\n",
      " |      :param model_kwargs: Keyword arguments to the model.\n",
      " |  \n",
      " |  sample(self, state, model_args, model_kwargs)\n",
      " |      Run HMC from the given :data:`~numpyro.infer.hmc.HMCState` and return the resulting\n",
      " |      :data:`~numpyro.infer.hmc.HMCState`.\n",
      " |      \n",
      " |      :param HMCState state: Represents the current state.\n",
      " |      :param model_args: Arguments provided to the model.\n",
      " |      :param model_kwargs: Keyword arguments provided to the model.\n",
      " |      :return: Next `state` after running HMC.\n",
      " |  \n",
      " |  ----------------------------------------------------------------------\n",
      " |  Readonly properties inherited from HMC:\n",
      " |  \n",
      " |  default_fields\n",
      " |      The attributes of the `state` object to be collected by default during\n",
      " |      the MCMC run (when :meth:`MCMC.run() <numpyro.infer.MCMC.run>` is called).\n",
      " |  \n",
      " |  model\n",
      " |  \n",
      " |  sample_field\n",
      " |      The attribute of the `state` object passed to :meth:`sample` that denotes\n",
      " |      the MCMC sample. This is used by :meth:`postprocess_fn` and for reporting\n",
      " |      results in :meth:`MCMC.print_summary()\n",
      " |      <numpyro.infer.mcmc.MCMC.print_summary>`.\n",
      " |  \n",
      " |  ----------------------------------------------------------------------\n",
      " |  Data descriptors inherited from numpyro.infer.mcmc.MCMCKernel:\n",
      " |  \n",
      " |  __dict__\n",
      " |      dictionary for instance variables (if defined)\n",
      " |  \n",
      " |  __weakref__\n",
      " |      list of weak references to the object (if defined)\n",
      "\n"
     ]
    }
   ],
   "source": [
    "help(NUTS)"
   ]
  },
  {
   "cell_type": "code",
   "execution_count": 14,
   "id": "abb82e3b",
   "metadata": {},
   "outputs": [
    {
     "name": "stdout",
     "output_type": "stream",
     "text": [
      "Help on function run in module numpyro.infer.mcmc:\n",
      "\n",
      "run(self, rng_key, *args, extra_fields=(), init_params=None, **kwargs)\n",
      "    Run the MCMC samplers and collect samples.\n",
      "    \n",
      "    :param random.PRNGKey rng_key: Random number generator key to be used for the sampling.\n",
      "        For multi-chains, a batch of `num_chains` keys can be supplied. If `rng_key`\n",
      "        does not have batch_size, it will be split in to a batch of `num_chains` keys.\n",
      "    :param args: Arguments to be provided to the :meth:`numpyro.infer.mcmc.MCMCKernel.init` method.\n",
      "        These are typically the arguments needed by the `model`.\n",
      "    :param extra_fields: Extra fields (aside from `z`, `diverging`) from :data:`numpyro.infer.mcmc.HMCState`\n",
      "        to collect during the MCMC run.\n",
      "    :type extra_fields: tuple or list\n",
      "    :param init_params: Initial parameters to begin sampling. The type must be consistent\n",
      "        with the input type to `potential_fn`.\n",
      "    :param kwargs: Keyword arguments to be provided to the :meth:`numpyro.infer.mcmc.MCMCKernel.init`\n",
      "        method. These are typically the keyword arguments needed by the `model`.\n",
      "    \n",
      "    .. note:: jax allows python code to continue even when the compiled code has not finished yet.\n",
      "        This can cause troubles when trying to profile the code for speed.\n",
      "        See https://jax.readthedocs.io/en/latest/async_dispatch.html and\n",
      "        https://jax.readthedocs.io/en/latest/profiling.html for pointers on profiling jax programs.\n",
      "\n"
     ]
    }
   ],
   "source": [
    "help(MCMC.run)"
   ]
  },
  {
   "cell_type": "code",
   "execution_count": null,
   "id": "8a2db755",
   "metadata": {},
   "outputs": [],
   "source": []
  }
 ],
 "metadata": {
  "kernelspec": {
   "display_name": "Python 3 (ipykernel)",
   "language": "python",
   "name": "python3"
  },
  "language_info": {
   "codemirror_mode": {
    "name": "ipython",
    "version": 3
   },
   "file_extension": ".py",
   "mimetype": "text/x-python",
   "name": "python",
   "nbconvert_exporter": "python",
   "pygments_lexer": "ipython3",
   "version": "3.8.10"
  }
 },
 "nbformat": 4,
 "nbformat_minor": 5
}
