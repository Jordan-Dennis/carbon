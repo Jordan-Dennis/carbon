{
 "cells": [
  {
   "cell_type": "code",
   "execution_count": 1,
   "id": "0c3b7060",
   "metadata": {},
   "outputs": [],
   "source": [
    "import numpy as np\n",
    "import matplotlib.pyplot as plt\n",
    "import pandas as pd\n",
    "from matplotlib.pyplot import rcParams\n",
    "import warnings\n",
    "warnings.filterwarnings('ignore')\n",
    "\n",
    "import re\n",
    "import jax.numpy as jnp\n",
    "from jax import grad, jit, partial\n",
    "import jax\n",
    "import ticktack\n",
    "from ticktack import fitting\n",
    "from tqdm import tqdm\n",
    "\n",
    "import blackjax.hmc as hmc\n",
    "import blackjax.nuts as nuts\n",
    "import blackjax.stan_warmup as stan_warmup\n",
    "import jax.scipy.stats as stats\n",
    "import blackjax.nuts as nuts\n",
    "rcParams['figure.figsize'] = (10.0, 5.0)"
   ]
  },
  {
   "cell_type": "code",
   "execution_count": 2,
   "id": "5ba1cb99",
   "metadata": {},
   "outputs": [
    {
     "name": "stderr",
     "output_type": "stream",
     "text": [
      "WARNING:absl:No GPU/TPU found, falling back to CPU. (Set TF_CPP_MIN_LOG_LEVEL=0 and rerun for more info.)\n"
     ]
    }
   ],
   "source": [
    "cbm = ticktack.load_presaved_model('Guttler14', production_rate_units = 'atoms/cm^2/s')\n",
    "cf = fitting.CarbonFitter(cbm)\n",
    "cf.load_data('400_BCE_Data_processed.csv', time_oversample=12)\n",
    "cf.prepare_function(use_control_points=True)"
   ]
  },
  {
   "cell_type": "code",
   "execution_count": 3,
   "id": "ee5dc48c",
   "metadata": {},
   "outputs": [],
   "source": [
    "params = jnp.array([1.62649123, 1.83919292, 1.57197623, 1.72448198, 1.83356469,\n",
    "       1.85231682, 1.85455552, 1.8542383 , 1.85662193, 1.85532836,\n",
    "       1.84139924, 1.80689832, 1.80393853, 1.8424712 , 1.86830175,\n",
    "       1.86248136, 1.85450737, 1.84485728, 1.82648675, 1.79860898,\n",
    "       1.78883204, 1.80160382, 1.80672761, 1.79910146, 1.69648128,\n",
    "       1.69954835, 1.89835884, 1.92643132, 1.93573358, 1.92201492,\n",
    "       2.12966922, 2.22718402, 2.08741348, 2.11778391, 2.10074518,\n",
    "       2.01146874, 1.92871058, 1.94954093, 2.03548274, 2.05635971,\n",
    "       1.95805778, 1.85513652, 1.8812359 , 1.92928168, 1.95561305,\n",
    "       1.89900049, 1.8439053 , 1.84808964, 1.84838237, 1.82062836,\n",
    "       1.75066287, 1.78353086, 1.86055781])"
   ]
  },
  {
   "cell_type": "code",
   "execution_count": 4,
   "id": "755c2b59",
   "metadata": {},
   "outputs": [
    {
     "name": "stdout",
     "output_type": "stream",
     "text": [
      "CPU times: user 9.48 s, sys: 359 ms, total: 9.84 s\n",
      "Wall time: 9.5 s\n"
     ]
    },
    {
     "data": {
      "text/plain": [
       "DeviceArray([ 2.00363639e+02,  4.44165501e+00,  3.49890915e+00,\n",
       "              5.05231358e+00,  2.72752964e+00,  8.81141876e-01,\n",
       "              9.13092494e-01,  9.06530994e-01,  9.29854975e-01,\n",
       "              9.64055395e-01,  7.25810826e-01,  2.08662839e-01,\n",
       "              2.17149667e-01,  8.93121996e-01,  1.28650953e+00,\n",
       "              1.23255480e+00,  1.15616320e+00,  1.08103053e+00,\n",
       "              8.46982483e-01,  4.81442189e-01,  4.15772019e-01,\n",
       "              6.69983272e-01,  7.42649901e-01,  6.04467018e-01,\n",
       "              1.64698416e+00,  3.65137731e+00,  5.07781262e+00,\n",
       "              5.49574208e+00,  3.27777763e+00,  3.96846194e-01,\n",
       "              1.24647543e+00,  1.10431618e+00, -8.09718933e-02,\n",
       "              5.12423370e-01,  6.64286258e-01, -1.55211882e-01,\n",
       "             -9.63853886e-01, -2.62655064e-01,  1.37335016e+00,\n",
       "              2.12616041e+00,  1.13014024e+00,  7.90623672e-03,\n",
       "              7.68852288e-01,  1.76418904e+00,  2.45251575e+00,\n",
       "              1.91965540e+00,  1.38066315e+00,  1.69736848e+00,\n",
       "              1.77462966e+00,  1.13476853e+00, -3.76200119e-01,\n",
       "             -6.33501467e-01, -1.25128728e-01], dtype=float64)"
      ]
     },
     "execution_count": 4,
     "metadata": {},
     "output_type": "execute_result"
    }
   ],
   "source": [
    "%%time \n",
    "cf.grad_log_like(params=params)"
   ]
  },
  {
   "cell_type": "code",
   "execution_count": 5,
   "id": "37d41800",
   "metadata": {},
   "outputs": [],
   "source": [
    "step_size = 1e-3\n",
    "inverse_mass_matrix = jnp.ones((len(params), ))\n",
    "potential = lambda x: cf.log_prob(**x)\n",
    "kernel = nuts.kernel(potential, step_size, inverse_mass_matrix)\n",
    "kernel = jax.jit(kernel)\n",
    "\n",
    "initial_position = {\"params\": params}\n",
    "state = nuts.new_state(initial_position, potential)"
   ]
  },
  {
   "cell_type": "code",
   "execution_count": 6,
   "id": "99ceda1f",
   "metadata": {},
   "outputs": [
    {
     "name": "stderr",
     "output_type": "stream",
     "text": [
      "100%|███████████████████████████████████████████████████████████████████████████████| 1000/1000 [17:42<00:00,  1.06s/it]\n"
     ]
    }
   ],
   "source": [
    "rng_key = jax.random.PRNGKey(0)\n",
    "for _ in tqdm(range(1000)):\n",
    "    _, rng_key = jax.random.split(rng_key)\n",
    "    state, _ = kernel(rng_key, state)"
   ]
  },
  {
   "cell_type": "code",
   "execution_count": 7,
   "id": "28a70b1c",
   "metadata": {},
   "outputs": [
    {
     "data": {
      "text/plain": [
       "DeviceArray([1.35514227, 1.8229909 , 1.56666705, 1.71849685, 1.80975959,\n",
       "             1.86141179, 1.85255351, 1.82157107, 1.85220127, 1.85643566,\n",
       "             1.84667396, 1.7839099 , 1.78483819, 1.84560402, 1.8648772 ,\n",
       "             1.86270905, 1.8482383 , 1.85929789, 1.8188937 , 1.77915355,\n",
       "             1.7916813 , 1.8028959 , 1.81109542, 1.78919625, 1.69182939,\n",
       "             1.68288684, 1.90077914, 1.92548276, 1.91438941, 1.92038561,\n",
       "             2.13139366, 2.24968113, 2.08728234, 2.10910947, 2.08253173,\n",
       "             1.99959605, 1.92232815, 1.94140854, 2.01545275, 2.05124808,\n",
       "             1.94920502, 1.85086133, 1.86870319, 1.94032864, 1.95969028,\n",
       "             1.88395948, 1.85069455, 1.83185248, 1.86135373, 1.81532801,\n",
       "             1.77211985, 1.79745806, 1.8617139 ], dtype=float64)"
      ]
     },
     "execution_count": 7,
     "metadata": {},
     "output_type": "execute_result"
    }
   ],
   "source": [
    "state.position[\"params\"]"
   ]
  },
  {
   "cell_type": "code",
   "execution_count": 8,
   "id": "ff8e2db2",
   "metadata": {},
   "outputs": [
    {
     "data": {
      "text/plain": [
       "[<matplotlib.lines.Line2D at 0x7fea1c45b640>]"
      ]
     },
     "execution_count": 8,
     "metadata": {},
     "output_type": "execute_result"
    },
    {
     "data": {
      "image/png": "[encoded data removed]",
      "text/plain": [
       "<Figure size 720x360 with 1 Axes>"
      ]
     },
     "metadata": {
      "needs_background": "light"
     },
     "output_type": "display_data"
    }
   ],
   "source": [
    "t = jnp.append(jnp.array([cf.start-1]), cf.time_data)\n",
    "plt.plot(t, state.position[\"params\"], \".\")\n",
    "plt.plot(t, params)"
   ]
  },
  {
   "cell_type": "code",
   "execution_count": 9,
   "id": "608fa11a",
   "metadata": {},
   "outputs": [
    {
     "data": {
      "text/plain": [
       "DeviceArray(-3279.82653864, dtype=float64)"
      ]
     },
     "execution_count": 9,
     "metadata": {},
     "output_type": "execute_result"
    }
   ],
   "source": [
    "cf.log_like(params=state.position[\"params\"])"
   ]
  },
  {
   "cell_type": "code",
   "execution_count": 10,
   "id": "095d4983",
   "metadata": {},
   "outputs": [
    {
     "data": {
      "text/plain": [
       "DeviceArray(-10.20948113, dtype=float64)"
      ]
     },
     "execution_count": 10,
     "metadata": {},
     "output_type": "execute_result"
    }
   ],
   "source": [
    "cf.log_like(params=params)"
   ]
  },
  {
   "cell_type": "code",
   "execution_count": 12,
   "id": "1f64938c",
   "metadata": {},
   "outputs": [],
   "source": [
    "second_position = {\"params\": state.position[\"params\"]}\n",
    "state = nuts.new_state(second_position, potential)"
   ]
  },
  {
   "cell_type": "code",
   "execution_count": null,
   "id": "924409f7",
   "metadata": {},
   "outputs": [
    {
     "name": "stderr",
     "output_type": "stream",
     "text": [
      " 14%|███████████                                                                     | 138/1000 [02:02<11:09,  1.29it/s]"
     ]
    }
   ],
   "source": [
    "rng_key = jax.random.PRNGKey(0)\n",
    "for _ in tqdm(range(1000)):\n",
    "    _, rng_key = jax.random.split(rng_key)\n",
    "    state, _ = kernel(rng_key, state)"
   ]
  },
  {
   "cell_type": "code",
   "execution_count": null,
   "id": "5ee76ba4",
   "metadata": {},
   "outputs": [],
   "source": []
  }
 ],
 "metadata": {
  "kernelspec": {
   "display_name": "Python 3 (ipykernel)",
   "language": "python",
   "name": "python3"
  },
  "language_info": {
   "codemirror_mode": {
    "name": "ipython",
    "version": 3
   },
   "file_extension": ".py",
   "mimetype": "text/x-python",
   "name": "python",
   "nbconvert_exporter": "python",
   "pygments_lexer": "ipython3",
   "version": "3.8.10"
  }
 },
 "nbformat": 4,
 "nbformat_minor": 5
}
