{
 "cells": [
  {
   "cell_type": "code",
   "execution_count": 1,
   "id": "7dbb1037",
   "metadata": {},
   "outputs": [],
   "source": [
    "import numpy as np\n",
    "import matplotlib.pyplot as plt\n",
    "import pandas as pd\n",
    "from matplotlib.pyplot import rcParams\n",
    "import warnings\n",
    "warnings.filterwarnings('ignore')\n",
    "\n",
    "import re\n",
    "import jax.numpy as jnp\n",
    "from jax import grad, jit, partial\n",
    "import ticktack\n",
    "# from ticktack import fitting\n",
    "from ticktack import fitting_tinygp as fitting\n",
    "from astropy.table import Table\n",
    "from tqdm import tqdm\n",
    "import scipy\n",
    "import jax\n",
    "\n",
    "rcParams['figure.figsize'] = (10.0, 5.0)"
   ]
  },
  {
   "cell_type": "code",
   "execution_count": 2,
   "id": "a620e494",
   "metadata": {},
   "outputs": [],
   "source": [
    "cbm = ticktack.load_presaved_model('Guttler14', production_rate_units = 'atoms/cm^2/s')\n",
    "cf = fitting.CarbonFitter(cbm)\n",
    "cf.load_data('400_BCE_Data_processed.csv', time_oversample=50)\n",
    "cf.prepare_function(use_control_points=True, interp=\"gp\")"
   ]
  },
  {
   "cell_type": "code",
   "execution_count": 3,
   "id": "1726ac69",
   "metadata": {},
   "outputs": [],
   "source": [
    "# params = np.array([1.6544328 , 1.90452021, 2.02977887, 1.99072169, 1.82493273,\n",
    "#        1.61591751, 1.48993472, 1.470403  , 1.52646415, 1.61680469,\n",
    "#        1.69502108, 1.807466  , 2.03711738, 2.26791059, 2.23266949,\n",
    "#        2.05979814, 2.09392307, 2.17064044, 1.98973673, 1.91675929,\n",
    "#        2.2641053 , 2.39127884, 2.10741525, 1.88661205, 1.90116188,\n",
    "#        1.87844174, 1.87194416, 1.93044831, 2.13083373, 2.41960777,\n",
    "#        2.26026764, 1.97124401, 2.0972239 , 2.35833611, 2.46362548,\n",
    "#        2.41907182, 2.24627259, 2.02711906, 1.9076207 , 1.90912451,\n",
    "#        1.98666302, 2.08556198, 2.13841073, 2.13013591, 2.07467497,\n",
    "#        2.00286285, 1.95621838, 1.93731388, 1.9328552 , 1.94929622,\n",
    "#        2.01912518, 2.17674413, 2.35208921, 2.4086832 , 2.37435805,\n",
    "#        2.36878007, 2.39915424, 2.39977033, 2.30949079, 2.09497775,\n",
    "#        1.91648161, 2.04587247, 2.36567808, 2.52043957, 2.47333743,\n",
    "#        2.36461715, 2.22235458, 2.02314915, 1.83516595, 1.79931475,\n",
    "#        1.91979754, 2.1183396 , 2.33886932, 2.51699745, 2.59543204,\n",
    "#        2.50430744, 2.24856097, 1.91025668, 1.66154043, 1.73657921,\n",
    "#        2.01041907, 2.14568526, 2.15795714, 2.2540714 , 2.38722364,\n",
    "#        2.35090722, 2.15511825, 1.95806696, 1.85671087, 1.91504819,\n",
    "#        2.04967867, 2.09645538, 2.10139398, 2.21140801, 2.30824818,\n",
    "#        2.12406349, 1.77889989, 1.64043906, 1.7195221 , 1.81553967,\n",
    "#        1.86562715, 1.88559886, 1.89248243])\n",
    "steady_state = cf.steady_state_production * jnp.ones((len(cf.control_points_time)+1,))\n",
    "params = steady_state\n",
    "# bounds = tuple([(0, None)] * len(params))"
   ]
  },
  {
   "cell_type": "code",
   "execution_count": 4,
   "id": "1b7de7ea",
   "metadata": {},
   "outputs": [
    {
     "name": "stdout",
     "output_type": "stream",
     "text": [
      "CPU times: user 37.3 s, sys: 58.4 s, total: 1min 35s\n",
      "Wall time: 19.1 s\n"
     ]
    },
    {
     "data": {
      "text/plain": [
       "DeviceArray([-9.77456012e+01, -5.38679694e+00, -7.13010645e+01,\n",
       "             -3.05135033e+01, -5.67498014e+01, -4.12510658e+01,\n",
       "             -5.16314260e+01, -4.68397206e+01, -5.15517314e+01,\n",
       "             -5.09225007e+01, -5.35204949e+01, -5.41590674e+01,\n",
       "             -5.63853320e+01, -5.84434909e+01, -6.05062064e+01,\n",
       "             -6.16307311e+01, -6.30460794e+01, -6.41418131e+01,\n",
       "             -6.45016294e+01, -6.39857597e+01, -6.54034347e+01,\n",
       "             -6.57248284e+01, -6.54052294e+01, -6.47888033e+01,\n",
       "             -6.42547376e+01, -6.24851178e+01, -6.22723142e+01,\n",
       "             -6.21901630e+01, -6.16561032e+01, -6.11288120e+01,\n",
       "             -5.83376140e+01, -5.65918399e+01, -5.56497535e+01,\n",
       "             -5.52192782e+01, -5.63734392e+01, -5.77194648e+01,\n",
       "             -5.78601735e+01, -5.62863353e+01, -5.73160246e+01,\n",
       "             -5.87836371e+01, -5.93541029e+01, -5.87335278e+01,\n",
       "             -5.99655544e+01, -6.15089579e+01, -6.20640957e+01,\n",
       "             -6.11745742e+01, -6.27720389e+01, -6.48667865e+01,\n",
       "             -6.71267266e+01, -6.93717662e+01, -7.17289455e+01,\n",
       "             -7.28919168e+01, -7.24601997e+01, -7.30004277e+01,\n",
       "             -7.19189281e+01, -7.24203488e+01, -7.13746816e+01,\n",
       "             -7.35821809e+01, -7.65370620e+01, -7.75081525e+01,\n",
       "             -7.59825815e+01, -7.65713562e+01, -7.54366496e+01,\n",
       "             -7.57240469e+01, -7.38136890e+01, -7.37650749e+01,\n",
       "             -7.13541136e+01, -7.11451561e+01, -6.85885687e+01,\n",
       "             -6.86209243e+01, -6.67508653e+01, -6.69606974e+01,\n",
       "             -6.53153556e+01, -6.53291065e+01, -6.31426445e+01,\n",
       "             -6.28588105e+01, -6.01818006e+01, -5.97281985e+01,\n",
       "             -5.68794412e+01, -5.66610526e+01, -5.45040596e+01,\n",
       "             -5.44418914e+01, -5.24586851e+01, -5.22478695e+01,\n",
       "             -4.98599348e+01, -4.92567100e+01, -4.61016416e+01,\n",
       "             -4.53574940e+01, -4.22075238e+01, -4.15847135e+01,\n",
       "             -3.88516958e+01, -3.79420400e+01, -3.46866494e+01,\n",
       "             -3.11163946e+01, -2.19142480e+01, -1.91380678e+01,\n",
       "             -1.45370584e+01, -1.20964490e+01, -7.36851748e+00,\n",
       "             -4.95267982e+00, -5.45223665e-01,  5.37769171e-02,\n",
       "             -7.99992535e+03], dtype=float64)"
      ]
     },
     "execution_count": 4,
     "metadata": {},
     "output_type": "execute_result"
    }
   ],
   "source": [
    "%%time\n",
    "cf.grad_gp_likelihood(params).block_until_ready()"
   ]
  },
  {
   "cell_type": "code",
   "execution_count": null,
   "id": "81b41163",
   "metadata": {
    "scrolled": false
   },
   "outputs": [
    {
     "name": "stderr",
     "output_type": "stream",
     "text": [
      "warmup:   5%|█▎                          | 7/150 [11:19<7:02:18, 177.19s/it, 127 steps of size 2.98e-03. acc. prob=0.43]"
     ]
    }
   ],
   "source": [
    "from jax.config import config\n",
    "\n",
    "config.update(\"jax_enable_x64\", True)\n",
    "\n",
    "from jax import random\n",
    "import jax.numpy as jnp\n",
    "\n",
    "import numpyro\n",
    "import numpyro.distributions as dist\n",
    "from numpyro.infer import MCMC, NUTS\n",
    "\n",
    "import celerite2.jax\n",
    "from celerite2.jax import terms as jax_terms\n",
    "\n",
    "\n",
    "nuts_kernel = NUTS(potential_fn=cf.gp_likelihood, dense_mass=True)\n",
    "mcmc = MCMC(nuts_kernel, num_warmup=50, num_samples=100, num_chains=1)\n",
    "rng_key = random.PRNGKey(12)\n",
    "%time mcmc.run(rng_key, init_params=params)"
   ]
  },
  {
   "cell_type": "code",
   "execution_count": null,
   "id": "c0d17cfc",
   "metadata": {},
   "outputs": [],
   "source": [
    "mcmc.get_samples()"
   ]
  },
  {
   "cell_type": "code",
   "execution_count": null,
   "id": "a3ad4575",
   "metadata": {},
   "outputs": [],
   "source": [
    "params2 = np.array([1.6544328 , 1.90452021, 2.02977887, 1.99072169, 1.82493273,\n",
    "              1.61591751, 1.48993472, 1.470403  , 1.52646415, 1.61680469,\n",
    "              1.69502108, 1.807466  , 2.03711738, 2.26791059, 2.23266949,\n",
    "              2.05979814, 2.09392307, 2.17064044, 1.98973673, 1.91675929,\n",
    "              2.2641053 , 2.39127884, 2.10741525, 1.88661205, 1.90116188,\n",
    "              1.87844174, 1.87194416, 1.93044831, 2.13083373, 2.41960777,\n",
    "              2.26026764, 1.97124401, 2.0972239 , 2.35833611, 2.46362548,\n",
    "              2.41907182, 2.24627259, 2.02711906, 1.9076207 , 1.90912451,\n",
    "              1.98666302, 2.08556198, 2.13841073, 2.13013591, 2.07467497,\n",
    "              2.00286285, 1.95621838, 1.93731388, 1.9328552 , 1.94929622,\n",
    "              2.01912518, 2.17674413, 2.35208921, 2.4086832 , 2.37435805,\n",
    "              2.36878007, 2.39915424, 2.39977033, 2.30949079, 2.09497775,\n",
    "              1.91648161, 2.04587247, 2.36567808, 2.52043957, 2.47333743,\n",
    "              2.36461715, 2.22235458, 2.02314915, 1.83516595, 1.79931475,\n",
    "              1.91979754, 2.1183396 , 2.33886932, 2.51699745, 2.59543204,\n",
    "              2.50430744, 2.24856097, 1.91025668, 1.66154043, 1.73657921,\n",
    "              2.01041907, 2.14568526, 2.15795714, 2.2540714 , 2.38722364,\n",
    "              2.35090722, 2.15511825, 1.95806696, 1.85671087, 1.91504819,\n",
    "              2.04967867, 2.09645538, 2.10139398, 2.21140801, 2.30824818,\n",
    "              2.12406349, 1.77889989, 1.64043906, 1.7195221 , 1.81553967,\n",
    "              1.86562715, 1.88559886, 1.89248243])"
   ]
  },
  {
   "cell_type": "code",
   "execution_count": null,
   "id": "d64f8e07",
   "metadata": {},
   "outputs": [],
   "source": [
    "help(mcmc)"
   ]
  },
  {
   "cell_type": "code",
   "execution_count": null,
   "id": "8ea0e50f",
   "metadata": {},
   "outputs": [],
   "source": []
  }
 ],
 "metadata": {
  "kernelspec": {
   "display_name": "Python 3 (ipykernel)",
   "language": "python",
   "name": "python3"
  },
  "language_info": {
   "codemirror_mode": {
    "name": "ipython",
    "version": 3
   },
   "file_extension": ".py",
   "mimetype": "text/x-python",
   "name": "python",
   "nbconvert_exporter": "python",
   "pygments_lexer": "ipython3",
   "version": "3.8.10"
  }
 },
 "nbformat": 4,
 "nbformat_minor": 5
}
