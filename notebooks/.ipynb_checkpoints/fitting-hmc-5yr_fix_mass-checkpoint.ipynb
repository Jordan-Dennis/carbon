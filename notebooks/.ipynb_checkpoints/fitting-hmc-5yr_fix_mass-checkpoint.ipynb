{
 "cells": [
  {
   "cell_type": "code",
   "execution_count": 1,
   "id": "0c3b7060",
   "metadata": {},
   "outputs": [],
   "source": [
    "import numpy as np\n",
    "import matplotlib.pyplot as plt\n",
    "import pandas as pd\n",
    "from matplotlib.pyplot import rcParams\n",
    "import warnings\n",
    "warnings.filterwarnings('ignore')\n",
    "\n",
    "import re\n",
    "import jax.numpy as jnp\n",
    "from jax import grad, jit, partial\n",
    "import jax\n",
    "import ticktack\n",
    "from ticktack import fitting\n",
    "from tqdm import tqdm\n",
    "\n",
    "import blackjax.hmc as hmc\n",
    "import blackjax.nuts as nuts\n",
    "import blackjax.stan_warmup as stan_warmup\n",
    "import jax.scipy.stats as stats\n",
    "import blackjax.nuts as nuts\n",
    "rcParams['figure.figsize'] = (10.0, 5.0)"
   ]
  },
  {
   "cell_type": "code",
   "execution_count": 2,
   "id": "5ba1cb99",
   "metadata": {},
   "outputs": [
    {
     "name": "stderr",
     "output_type": "stream",
     "text": [
      "WARNING:absl:No GPU/TPU found, falling back to CPU. (Set TF_CPP_MIN_LOG_LEVEL=0 and rerun for more info.)\n"
     ]
    }
   ],
   "source": [
    "cbm = ticktack.load_presaved_model('Guttler14', production_rate_units = 'atoms/cm^2/s')\n",
    "cf = fitting.CarbonFitter(cbm)\n",
    "cf.load_data('400_BCE_Data_processed.csv', time_oversample=50)\n",
    "cf.prepare_function(use_control_points=True, gap_years=5)"
   ]
  },
  {
   "cell_type": "code",
   "execution_count": 3,
   "id": "ee5dc48c",
   "metadata": {},
   "outputs": [],
   "source": [
    "params = jnp.array([1.89636017, 1.44580507, 1.8811576 , 2.1507674 , 1.80276473,\n",
    "       2.23406508, 1.87885852, 1.92915198, 2.21036406, 2.06033825,\n",
    "       2.44716087, 2.20314291, 2.14255201, 2.20198795, 2.06176215,\n",
    "       2.12256311, 2.0582041 , 1.63628971])"
   ]
  },
  {
   "cell_type": "code",
   "execution_count": 4,
   "id": "755c2b59",
   "metadata": {},
   "outputs": [
    {
     "name": "stdout",
     "output_type": "stream",
     "text": [
      "CPU times: user 8.7 s, sys: 422 ms, total: 9.12 s\n",
      "Wall time: 8.81 s\n"
     ]
    },
    {
     "data": {
      "text/plain": [
       "DeviceArray([ 2.05053593,  0.06747041, -0.02273046, -0.39476154,\n",
       "              0.15764823,  0.20421434,  0.15358109,  0.20936228,\n",
       "              0.25391937,  0.33957945, -0.23040095, -0.08252691,\n",
       "             -0.11287063,  0.21862519,  0.56524078, -0.2671702 ,\n",
       "             -0.06974605, -0.42088274], dtype=float64)"
      ]
     },
     "execution_count": 4,
     "metadata": {},
     "output_type": "execute_result"
    }
   ],
   "source": [
    "%%time \n",
    "cf.grad_log_like(params=params)"
   ]
  },
  {
   "cell_type": "code",
   "execution_count": 5,
   "id": "37d41800",
   "metadata": {},
   "outputs": [],
   "source": [
    "step_size = 1e-8\n",
    "inverse_mass_matrix = jnp.ones((len(params), ))/len(params)\n",
    "potential = lambda x: cf.log_prob(**x)\n",
    "kernel = nuts.kernel(potential, step_size, inverse_mass_matrix)\n",
    "kernel = jax.jit(kernel)\n",
    "\n",
    "initial_position = {\"params\": params}\n",
    "state = nuts.new_state(initial_position, potential)"
   ]
  },
  {
   "cell_type": "code",
   "execution_count": 6,
   "id": "99ceda1f",
   "metadata": {},
   "outputs": [
    {
     "name": "stderr",
     "output_type": "stream",
     "text": [
      "100%|███████████████████████████████████████████████████████████████████████████████| 1000/1000 [22:46<00:00,  1.37s/it]\n"
     ]
    }
   ],
   "source": [
    "rng_key = jax.random.PRNGKey(0)\n",
    "for _ in tqdm(range(1000)):\n",
    "    _, rng_key = jax.random.split(rng_key)\n",
    "    state, _ = kernel(rng_key, state)"
   ]
  },
  {
   "cell_type": "code",
   "execution_count": 7,
   "id": "28a70b1c",
   "metadata": {},
   "outputs": [
    {
     "data": {
      "text/plain": [
       "DeviceArray([4.79020751, 1.53761592, 2.0099837 , 2.26074377, 1.89723641,\n",
       "             2.35335373, 1.98311471, 2.05875307, 2.32438951, 2.16176467,\n",
       "             2.52440619, 2.28838214, 2.23158755, 2.25968046, 2.11207173,\n",
       "             2.16199459, 2.10484538, 1.62819679], dtype=float64)"
      ]
     },
     "execution_count": 7,
     "metadata": {},
     "output_type": "execute_result"
    }
   ],
   "source": [
    "state.position[\"params\"]"
   ]
  },
  {
   "cell_type": "code",
   "execution_count": 9,
   "id": "c6c29437",
   "metadata": {},
   "outputs": [
    {
     "data": {
      "text/plain": [
       "[<matplotlib.lines.Line2D at 0x7f5c10282520>]"
      ]
     },
     "execution_count": 9,
     "metadata": {},
     "output_type": "execute_result"
    },
    {
     "data": {
      "image/png": "[encoded data removed]",
      "text/plain": [
       "<Figure size 720x360 with 1 Axes>"
      ]
     },
     "metadata": {
      "needs_background": "light"
     },
     "output_type": "display_data"
    }
   ],
   "source": [
    "plt.plot(cf.control_points_time, state.position[\"params\"], \".\")\n",
    "plt.plot(cf.control_points_time, params)"
   ]
  },
  {
   "cell_type": "code",
   "execution_count": 10,
   "id": "65bb1521",
   "metadata": {},
   "outputs": [
    {
     "data": {
      "text/plain": [
       "DeviceArray(-369591.51887804, dtype=float64)"
      ]
     },
     "execution_count": 10,
     "metadata": {},
     "output_type": "execute_result"
    }
   ],
   "source": [
    "cf.log_like(params=state.position[\"params\"])"
   ]
  },
  {
   "cell_type": "code",
   "execution_count": 11,
   "id": "2e85a414",
   "metadata": {},
   "outputs": [
    {
     "data": {
      "text/plain": [
       "DeviceArray(-9.69036478, dtype=float64)"
      ]
     },
     "execution_count": 11,
     "metadata": {},
     "output_type": "execute_result"
    }
   ],
   "source": [
    "cf.log_like(params=params)"
   ]
  },
  {
   "cell_type": "code",
   "execution_count": 12,
   "id": "ed85aaa7",
   "metadata": {},
   "outputs": [
    {
     "data": {
      "text/plain": [
       "[<matplotlib.lines.Line2D at 0x7f5bf008ee50>]"
      ]
     },
     "execution_count": 12,
     "metadata": {},
     "output_type": "execute_result"
    },
    {
     "data": {
      "image/png": "[encoded data removed]",
      "text/plain": [
       "<Figure size 720x360 with 1 Axes>"
      ]
     },
     "metadata": {
      "needs_background": "light"
     },
     "output_type": "display_data"
    }
   ],
   "source": [
    "plt.plot(cf.time_data[:-1], cf.dc14(state.position[\"params\"]), \".\")\n",
    "plt.plot(cf.time_data, cf.d14c_data, \".\")"
   ]
  },
  {
   "cell_type": "code",
   "execution_count": null,
   "id": "20a4628e",
   "metadata": {},
   "outputs": [],
   "source": [
    "raise TypeError"
   ]
  },
  {
   "cell_type": "code",
   "execution_count": null,
   "id": "4a5a980a",
   "metadata": {},
   "outputs": [],
   "source": [
    "# second_position = {\"params\": state.position[\"params\"]}\n",
    "# state = nuts.new_state(second_position, potential)"
   ]
  },
  {
   "cell_type": "code",
   "execution_count": null,
   "id": "e027696b",
   "metadata": {},
   "outputs": [],
   "source": [
    "# rng_key = jax.random.PRNGKey(0)\n",
    "# for _ in tqdm(range(1000)):\n",
    "#     _, rng_key = jax.random.split(rng_key)\n",
    "#     state, _ = kernel(rng_key, state)"
   ]
  },
  {
   "cell_type": "code",
   "execution_count": null,
   "id": "2b1e4ef4",
   "metadata": {},
   "outputs": [],
   "source": [
    "# t = jnp.append(jnp.array([cf.start-1]), cf.time_data)\n",
    "# plt.plot(t, state.position[\"params\"], \".\")\n",
    "# plt.plot(t, params)"
   ]
  },
  {
   "cell_type": "code",
   "execution_count": null,
   "id": "e357cd5b",
   "metadata": {},
   "outputs": [],
   "source": [
    "cf.log_like(params=state.position[\"params\"])"
   ]
  },
  {
   "cell_type": "code",
   "execution_count": null,
   "id": "185f8542",
   "metadata": {},
   "outputs": [],
   "source": []
  }
 ],
 "metadata": {
  "kernelspec": {
   "display_name": "Python 3 (ipykernel)",
   "language": "python",
   "name": "python3"
  },
  "language_info": {
   "codemirror_mode": {
    "name": "ipython",
    "version": 3
   },
   "file_extension": ".py",
   "mimetype": "text/x-python",
   "name": "python",
   "nbconvert_exporter": "python",
   "pygments_lexer": "ipython3",
   "version": "3.8.10"
  }
 },
 "nbformat": 4,
 "nbformat_minor": 5
}
