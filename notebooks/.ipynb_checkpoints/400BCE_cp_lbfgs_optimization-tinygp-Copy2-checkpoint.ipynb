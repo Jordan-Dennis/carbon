{
 "cells": [
  {
   "cell_type": "code",
   "execution_count": 1,
   "id": "7dbb1037",
   "metadata": {},
   "outputs": [],
   "source": [
    "import numpy as np\n",
    "import matplotlib.pyplot as plt\n",
    "import pandas as pd\n",
    "from matplotlib.pyplot import rcParams\n",
    "import warnings\n",
    "warnings.filterwarnings('ignore')\n",
    "\n",
    "import re\n",
    "import jax.numpy as jnp\n",
    "from jax import grad, jit, partial\n",
    "import ticktack\n",
    "# from ticktack import fitting\n",
    "from ticktack import fitting_tinygp as fitting\n",
    "from astropy.table import Table\n",
    "from tqdm import tqdm\n",
    "import scipy\n",
    "import jax\n",
    "\n",
    "rcParams['figure.figsize'] = (10.0, 5.0)"
   ]
  },
  {
   "cell_type": "code",
   "execution_count": 2,
   "id": "a620e494",
   "metadata": {},
   "outputs": [],
   "source": [
    "cbm = ticktack.load_presaved_model('Guttler14', production_rate_units = 'atoms/cm^2/s')\n",
    "cf = fitting.CarbonFitter(cbm)\n",
    "cf.load_data('400_BCE_Data_processed.csv', time_oversample=50)\n",
    "cf.prepare_function(use_control_points=True, interp=\"gp\")"
   ]
  },
  {
   "cell_type": "code",
   "execution_count": 3,
   "id": "1726ac69",
   "metadata": {},
   "outputs": [],
   "source": [
    "params = np.array([1.6544328 , 1.90452021, 2.02977887, 1.99072169, 1.82493273,\n",
    "       1.61591751, 1.48993472, 1.470403  , 1.52646415, 1.61680469,\n",
    "       1.69502108, 1.807466  , 2.03711738, 2.26791059, 2.23266949,\n",
    "       2.05979814, 2.09392307, 2.17064044, 1.98973673, 1.91675929,\n",
    "       2.2641053 , 2.39127884, 2.10741525, 1.88661205, 1.90116188,\n",
    "       1.87844174, 1.87194416, 1.93044831, 2.13083373, 2.41960777,\n",
    "       2.26026764, 1.97124401, 2.0972239 , 2.35833611, 2.46362548,\n",
    "       2.41907182, 2.24627259, 2.02711906, 1.9076207 , 1.90912451,\n",
    "       1.98666302, 2.08556198, 2.13841073, 2.13013591, 2.07467497,\n",
    "       2.00286285, 1.95621838, 1.93731388, 1.9328552 , 1.94929622,\n",
    "       2.01912518, 2.17674413, 2.35208921, 2.4086832 , 2.37435805,\n",
    "       2.36878007, 2.39915424, 2.39977033, 2.30949079, 2.09497775,\n",
    "       1.91648161, 2.04587247, 2.36567808, 2.52043957, 2.47333743,\n",
    "       2.36461715, 2.22235458, 2.02314915, 1.83516595, 1.79931475,\n",
    "       1.91979754, 2.1183396 , 2.33886932, 2.51699745, 2.59543204,\n",
    "       2.50430744, 2.24856097, 1.91025668, 1.66154043, 1.73657921,\n",
    "       2.01041907, 2.14568526, 2.15795714, 2.2540714 , 2.38722364,\n",
    "       2.35090722, 2.15511825, 1.95806696, 1.85671087, 1.91504819,\n",
    "       2.04967867, 2.09645538, 2.10139398, 2.21140801, 2.30824818,\n",
    "       2.12406349, 1.77889989, 1.64043906, 1.7195221 , 1.81553967,\n",
    "       1.86562715, 1.88559886, 1.89248243])\n",
    "# steady_state = cf.steady_state_production * jnp.ones((len(cf.control_points_time)+1,))\n",
    "# params = steady_state\n",
    "# bounds = tuple([(0, None)] * len(params))"
   ]
  },
  {
   "cell_type": "code",
   "execution_count": 4,
   "id": "717808dc",
   "metadata": {},
   "outputs": [
    {
     "name": "stdout",
     "output_type": "stream",
     "text": [
      "CPU times: user 36.5 s, sys: 59.3 s, total: 1min 35s\n",
      "Wall time: 19.2 s\n"
     ]
    },
    {
     "data": {
      "text/plain": [
       "DeviceArray([ 3.27363938e-03, -1.12707284e-03,  2.48642253e-03,\n",
       "             -2.40946174e-03,  1.36806832e-03, -1.16961681e-03,\n",
       "              1.10203651e-03,  5.10699970e-03,  3.41908723e-03,\n",
       "              6.45617377e-04,  2.06789310e-03, -8.12389531e-04,\n",
       "              1.75303799e-03,  7.13079185e-04,  4.82874600e-04,\n",
       "             -2.62901093e-04, -7.58404346e-04, -8.58149375e-04,\n",
       "             -5.22162101e-03, -2.36954757e-03, -6.12587638e-03,\n",
       "             -5.84220976e-03, -1.31095452e-03, -5.02087926e-03,\n",
       "              1.31042334e-03, -5.25895965e-03, -2.03976837e-03,\n",
       "             -3.42202262e-03, -5.60860673e-03, -1.68091271e-03,\n",
       "             -4.42938001e-03, -8.48274441e-04, -3.39154588e-03,\n",
       "             -2.72823019e-03,  9.02118051e-04, -2.98425156e-03,\n",
       "             -1.66581383e-03, -4.18751927e-03, -6.91132663e-04,\n",
       "             -1.55318214e-03, -1.51560109e-04, -2.36044634e-03,\n",
       "             -2.22296560e-03, -1.76859426e-03, -3.39972645e-03,\n",
       "             -1.33655825e-03, -6.38796541e-04, -8.97336401e-04,\n",
       "             -1.45590175e-03, -2.32238604e-03, -3.36005842e-03,\n",
       "             -3.02665493e-03, -1.77690272e-03, -3.19665016e-03,\n",
       "             -4.30859460e-03, -3.55438670e-03, -2.64262351e-03,\n",
       "             -1.96178797e-03, -1.87231870e-03, -2.52720874e-03,\n",
       "             -2.52295386e-03, -8.55862728e-04, -6.13834693e-04,\n",
       "             -1.07011838e-03, -2.74750402e-03, -4.21518556e-03,\n",
       "             -5.48086562e-03, -5.03569723e-03, -4.42168586e-03,\n",
       "             -2.98182780e-03, -3.48193595e-03, -2.75106498e-03,\n",
       "             -2.97815993e-03, -3.09754201e-03, -2.16540490e-03,\n",
       "             -1.03796712e-03, -1.54849181e-03, -1.76845504e-03,\n",
       "             -1.94672308e-03, -1.57136742e-03, -1.75076539e-03,\n",
       "             -2.46201247e-03, -4.17003368e-03, -4.88255006e-03,\n",
       "             -3.26102930e-03, -1.83593317e-03, -9.79058736e-04,\n",
       "              2.90855642e-04,  2.56226224e-04,  1.59780288e-03,\n",
       "              1.27652844e-03,  1.15892245e-05, -3.26679788e-04,\n",
       "              7.18279050e-04,  1.22042737e-03,  1.87932129e-03,\n",
       "              1.80776712e-03,  2.05078497e-03,  2.30024414e-03,\n",
       "              1.58374230e-03, -3.07639329e-04, -1.24797776e-03,\n",
       "             -5.80475642e-02], dtype=float64)"
      ]
     },
     "execution_count": 4,
     "metadata": {},
     "output_type": "execute_result"
    }
   ],
   "source": [
    "%%time\n",
    "cf.grad_gp_likelihood(params).block_until_ready()"
   ]
  },
  {
   "cell_type": "code",
   "execution_count": null,
   "id": "81b41163",
   "metadata": {
    "scrolled": false
   },
   "outputs": [
    {
     "name": "stderr",
     "output_type": "stream",
     "text": [
      "warmup:  40%|█████████████▌                    | 4/10 [00:47<00:53,  8.89s/it, 3 steps of size 1.07e-03. acc. prob=0.00]"
     ]
    }
   ],
   "source": [
    "from jax.config import config\n",
    "\n",
    "config.update(\"jax_enable_x64\", True)\n",
    "\n",
    "from jax import random\n",
    "import jax.numpy as jnp\n",
    "\n",
    "import numpyro\n",
    "import numpyro.distributions as dist\n",
    "from numpyro.infer import MCMC, NUTS\n",
    "\n",
    "import celerite2.jax\n",
    "from celerite2.jax import terms as jax_terms\n",
    "\n",
    "\n",
    "nuts_kernel = NUTS(potential_fn=cf.gp_likelihood, dense_mass=False)\n",
    "mcmc = MCMC(nuts_kernel, num_warmup=5, num_samples=5, num_chains=1)\n",
    "rng_key = random.PRNGKey(12)\n",
    "%time mcmc.run(rng_key, init_params=params)"
   ]
  },
  {
   "cell_type": "code",
   "execution_count": null,
   "id": "39243f2e",
   "metadata": {},
   "outputs": [],
   "source": [
    "mcmc.get_samples()"
   ]
  },
  {
   "cell_type": "code",
   "execution_count": null,
   "id": "7aa2a7e2",
   "metadata": {},
   "outputs": [],
   "source": []
  }
 ],
 "metadata": {
  "kernelspec": {
   "display_name": "Python 3 (ipykernel)",
   "language": "python",
   "name": "python3"
  },
  "language_info": {
   "codemirror_mode": {
    "name": "ipython",
    "version": 3
   },
   "file_extension": ".py",
   "mimetype": "text/x-python",
   "name": "python",
   "nbconvert_exporter": "python",
   "pygments_lexer": "ipython3",
   "version": "3.8.10"
  }
 },
 "nbformat": 4,
 "nbformat_minor": 5
}
