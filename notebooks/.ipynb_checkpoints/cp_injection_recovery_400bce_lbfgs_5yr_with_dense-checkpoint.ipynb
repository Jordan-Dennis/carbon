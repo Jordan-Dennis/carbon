{
 "cells": [
  {
   "cell_type": "code",
   "execution_count": 1,
   "id": "7dbb1037",
   "metadata": {},
   "outputs": [],
   "source": [
    "import numpy as np\n",
    "import matplotlib.pyplot as plt\n",
    "import pandas as pd\n",
    "from matplotlib.pyplot import rcParams\n",
    "import warnings\n",
    "warnings.filterwarnings('ignore')\n",
    "\n",
    "import re\n",
    "import jax.numpy as jnp\n",
    "from jax import grad, jit, partial\n",
    "import ticktack\n",
    "from ticktack import fitting\n",
    "from astropy.table import Table\n",
    "from tqdm import tqdm\n",
    "from jax.ops import index_update\n",
    "import scipy\n",
    "\n",
    "rcParams['figure.figsize'] = (10.0, 5.0)"
   ]
  },
  {
   "cell_type": "code",
   "execution_count": 2,
   "id": "a620e494",
   "metadata": {},
   "outputs": [
    {
     "name": "stderr",
     "output_type": "stream",
     "text": [
      "WARNING:absl:No GPU/TPU found, falling back to CPU. (Set TF_CPP_MIN_LOG_LEVEL=0 and rerun for more info.)\n"
     ]
    },
    {
     "ename": "TypeError",
     "evalue": "only integer scalar arrays can be converted to a scalar index",
     "output_type": "error",
     "traceback": [
      "\u001b[0;31m---------------------------------------------------------------------------\u001b[0m",
      "\u001b[0;31mTypeError\u001b[0m                                 Traceback (most recent call last)",
      "\u001b[0;32m/tmp/ipykernel_31308/2774021598.py\u001b[0m in \u001b[0;36m<module>\u001b[0;34m\u001b[0m\n\u001b[1;32m      2\u001b[0m \u001b[0mcf\u001b[0m \u001b[0;34m=\u001b[0m \u001b[0mfitting\u001b[0m\u001b[0;34m.\u001b[0m\u001b[0mCarbonFitter\u001b[0m\u001b[0;34m(\u001b[0m\u001b[0mcbm\u001b[0m\u001b[0;34m)\u001b[0m\u001b[0;34m\u001b[0m\u001b[0;34m\u001b[0m\u001b[0m\n\u001b[1;32m      3\u001b[0m \u001b[0mcf\u001b[0m\u001b[0;34m.\u001b[0m\u001b[0mload_data\u001b[0m\u001b[0;34m(\u001b[0m\u001b[0;34m'400_BCE_Data_processed.csv'\u001b[0m\u001b[0;34m,\u001b[0m \u001b[0mtime_oversample\u001b[0m\u001b[0;34m=\u001b[0m\u001b[0;36m50\u001b[0m\u001b[0;34m)\u001b[0m\u001b[0;34m\u001b[0m\u001b[0;34m\u001b[0m\u001b[0m\n\u001b[0;32m----> 4\u001b[0;31m \u001b[0mcf\u001b[0m\u001b[0;34m.\u001b[0m\u001b[0mprepare_function\u001b[0m\u001b[0;34m(\u001b[0m\u001b[0muse_control_points\u001b[0m\u001b[0;34m=\u001b[0m\u001b[0;32mTrue\u001b[0m\u001b[0;34m,\u001b[0m \u001b[0mgap_years\u001b[0m\u001b[0;34m=\u001b[0m\u001b[0;36m5\u001b[0m\u001b[0;34m)\u001b[0m\u001b[0;34m\u001b[0m\u001b[0;34m\u001b[0m\u001b[0m\n\u001b[0m",
      "\u001b[0;32m/usr/local/lib/python3.8/dist-packages/ticktack-0.1.2.1-py3.8.egg/ticktack/fitting.py\u001b[0m in \u001b[0;36mprepare_function\u001b[0;34m(self, **kwargs)\u001b[0m\n\u001b[1;32m     99\u001b[0m                 \u001b[0;32melif\u001b[0m \u001b[0mself\u001b[0m\u001b[0;34m.\u001b[0m\u001b[0mtime_data\u001b[0m\u001b[0;34m[\u001b[0m\u001b[0mi\u001b[0m\u001b[0;34m]\u001b[0m \u001b[0;34m>=\u001b[0m \u001b[0mcontrol_points_time\u001b[0m\u001b[0;34m[\u001b[0m\u001b[0;34m-\u001b[0m\u001b[0;36m1\u001b[0m\u001b[0;34m]\u001b[0m \u001b[0;34m+\u001b[0m \u001b[0mgap_years\u001b[0m\u001b[0;34m:\u001b[0m\u001b[0;34m\u001b[0m\u001b[0;34m\u001b[0m\u001b[0m\n\u001b[1;32m    100\u001b[0m                     \u001b[0mcontrol_points_time\u001b[0m\u001b[0;34m.\u001b[0m\u001b[0mappend\u001b[0m\u001b[0;34m(\u001b[0m\u001b[0mfloat\u001b[0m\u001b[0;34m(\u001b[0m\u001b[0mself\u001b[0m\u001b[0;34m.\u001b[0m\u001b[0mtime_data\u001b[0m\u001b[0;34m[\u001b[0m\u001b[0mi\u001b[0m\u001b[0;34m]\u001b[0m\u001b[0;34m)\u001b[0m\u001b[0;34m)\u001b[0m\u001b[0;34m\u001b[0m\u001b[0;34m\u001b[0m\u001b[0m\n\u001b[0;32m--> 101\u001b[0;31m             \u001b[0mcontrol_points_time\u001b[0m \u001b[0;34m=\u001b[0m \u001b[0mcontrol_points_time\u001b[0m\u001b[0;34m[\u001b[0m\u001b[0mcontrol_points_time\u001b[0m \u001b[0;34m<=\u001b[0m \u001b[0mself\u001b[0m\u001b[0;34m.\u001b[0m\u001b[0mend\u001b[0m\u001b[0;34m]\u001b[0m\u001b[0;34m\u001b[0m\u001b[0;34m\u001b[0m\u001b[0m\n\u001b[0m\u001b[1;32m    102\u001b[0m             \u001b[0;32mif\u001b[0m \u001b[0mself\u001b[0m\u001b[0;34m.\u001b[0m\u001b[0mend\u001b[0m \u001b[0;34m-\u001b[0m \u001b[0mcontrol_points_time\u001b[0m\u001b[0;34m[\u001b[0m\u001b[0;34m-\u001b[0m\u001b[0;36m1\u001b[0m\u001b[0;34m]\u001b[0m \u001b[0;34m>=\u001b[0m \u001b[0;36m3\u001b[0m\u001b[0;34m:\u001b[0m\u001b[0;34m\u001b[0m\u001b[0;34m\u001b[0m\u001b[0m\n\u001b[1;32m    103\u001b[0m                 \u001b[0mcontrol_points_time\u001b[0m\u001b[0;34m.\u001b[0m\u001b[0mappend\u001b[0m\u001b[0;34m(\u001b[0m\u001b[0mself\u001b[0m\u001b[0;34m.\u001b[0m\u001b[0mend\u001b[0m\u001b[0;34m)\u001b[0m\u001b[0;34m\u001b[0m\u001b[0;34m\u001b[0m\u001b[0m\n",
      "\u001b[0;31mTypeError\u001b[0m: only integer scalar arrays can be converted to a scalar index"
     ]
    }
   ],
   "source": [
    "cbm = ticktack.load_presaved_model('Guttler14', production_rate_units = 'atoms/cm^2/s')\n",
    "cf = fitting.CarbonFitter(cbm)\n",
    "cf.load_data('400_BCE_Data_processed.csv', time_oversample=50)\n",
    "cf.prepare_function(use_control_points=True, gap_years=5)"
   ]
  },
  {
   "cell_type": "code",
   "execution_count": 9,
   "id": "a75458ba",
   "metadata": {},
   "outputs": [
    {
     "ename": "TypeError",
     "evalue": "list indices must be integers or slices, not list",
     "output_type": "error",
     "traceback": [
      "\u001b[0;31m---------------------------------------------------------------------------\u001b[0m",
      "\u001b[0;31mTypeError\u001b[0m                                 Traceback (most recent call last)",
      "\u001b[0;32m/tmp/ipykernel_31308/916089616.py\u001b[0m in \u001b[0;36m<module>\u001b[0;34m\u001b[0m\n\u001b[1;32m     11\u001b[0m     \u001b[0;32melif\u001b[0m \u001b[0mcf\u001b[0m\u001b[0;34m.\u001b[0m\u001b[0mtime_data\u001b[0m\u001b[0;34m[\u001b[0m\u001b[0mi\u001b[0m\u001b[0;34m]\u001b[0m \u001b[0;34m>=\u001b[0m \u001b[0mcontrol_points_time\u001b[0m\u001b[0;34m[\u001b[0m\u001b[0;34m-\u001b[0m\u001b[0;36m1\u001b[0m\u001b[0;34m]\u001b[0m \u001b[0;34m+\u001b[0m \u001b[0;36m5\u001b[0m\u001b[0;34m:\u001b[0m\u001b[0;34m\u001b[0m\u001b[0;34m\u001b[0m\u001b[0m\n\u001b[1;32m     12\u001b[0m         \u001b[0mcontrol_points_time\u001b[0m\u001b[0;34m.\u001b[0m\u001b[0mappend\u001b[0m\u001b[0;34m(\u001b[0m\u001b[0mfloat\u001b[0m\u001b[0;34m(\u001b[0m\u001b[0mcf\u001b[0m\u001b[0;34m.\u001b[0m\u001b[0mtime_data\u001b[0m\u001b[0;34m[\u001b[0m\u001b[0mi\u001b[0m\u001b[0;34m]\u001b[0m\u001b[0;34m)\u001b[0m\u001b[0;34m)\u001b[0m\u001b[0;34m\u001b[0m\u001b[0;34m\u001b[0m\u001b[0m\n\u001b[0;32m---> 13\u001b[0;31m \u001b[0mcontrol_points_time\u001b[0m \u001b[0;34m=\u001b[0m \u001b[0mcontrol_points_time\u001b[0m\u001b[0;34m[\u001b[0m\u001b[0mlist\u001b[0m\u001b[0;34m(\u001b[0m\u001b[0mcontrol_points_time\u001b[0m \u001b[0;34m<=\u001b[0m \u001b[0mcf\u001b[0m\u001b[0;34m.\u001b[0m\u001b[0mend\u001b[0m\u001b[0;34m)\u001b[0m\u001b[0;34m]\u001b[0m\u001b[0;34m\u001b[0m\u001b[0;34m\u001b[0m\u001b[0m\n\u001b[0m",
      "\u001b[0;31mTypeError\u001b[0m: list indices must be integers or slices, not list"
     ]
    }
   ],
   "source": [
    "control_points_time = [cf.start - 1, cf.start]\n",
    "\n",
    "n = len(cf.time_data[:-1])\n",
    "# for i in self.time_data:\n",
    "#     if i >= cntrol_points_time[-1] + gap_years:\n",
    "#         cntrol_points_time.append(i)\n",
    "\n",
    "for i in range(n):\n",
    "    if (cf.time_data[i] - control_points_time[-1] <=2) & (cf.time_data[i] - control_points_time[-1] >0):\n",
    "        control_points_time.append(float(cf.time_data[i]) + 3)\n",
    "    elif cf.time_data[i] >= control_points_time[-1] + 5:\n",
    "        control_points_time.append(float(cf.time_data[i]))\n",
    "control_points_time = control_points_time[control_points_time <= cf.end]"
   ]
  },
  {
   "cell_type": "code",
   "execution_count": 10,
   "id": "f0640e16",
   "metadata": {},
   "outputs": [
    {
     "data": {
      "text/plain": [
       "[-427,\n",
       " -426,\n",
       " -418.0,\n",
       " -413.0,\n",
       " -409.0,\n",
       " -405.0,\n",
       " -401.0,\n",
       " -397.0,\n",
       " -393.0,\n",
       " -386.0,\n",
       " -375.0,\n",
       " -370.0,\n",
       " -365.0,\n",
       " -360.0,\n",
       " -356.0,\n",
       " -352.0,\n",
       " -348.0,\n",
       " -344.0,\n",
       " -340.0,\n",
       " -336.0,\n",
       " -332.0,\n",
       " -328.0,\n",
       " -324.0]"
      ]
     },
     "execution_count": 10,
     "metadata": {},
     "output_type": "execute_result"
    }
   ],
   "source": [
    "control_points_time"
   ]
  },
  {
   "cell_type": "code",
   "execution_count": null,
   "id": "04715ba7",
   "metadata": {},
   "outputs": [],
   "source": []
  },
  {
   "cell_type": "code",
   "execution_count": null,
   "id": "adc6ffd9",
   "metadata": {},
   "outputs": [],
   "source": [
    "cf.control_points_time"
   ]
  },
  {
   "cell_type": "code",
   "execution_count": null,
   "id": "0f2ea783",
   "metadata": {},
   "outputs": [],
   "source": [
    "plt.plot(cf.time_data, cf.time_data, \".\", label=\"d14c time data\")\n",
    "plt.plot(cf.control_points_time, cf.control_points_time -10, \".\", label=\"cp time data\")\n",
    "plt.legend()"
   ]
  },
  {
   "cell_type": "code",
   "execution_count": 5,
   "id": "51c13c1c",
   "metadata": {},
   "outputs": [],
   "source": [
    "steady_state = cf.steady_state_production * jnp.ones((len(cf.control_points_time),))\n",
    "params = steady_state\n",
    "bounds = tuple([(0, None)] * len(steady_state))"
   ]
  },
  {
   "cell_type": "code",
   "execution_count": 6,
   "id": "f41e00f9",
   "metadata": {},
   "outputs": [
    {
     "data": {
      "text/plain": [
       "(23,)"
      ]
     },
     "execution_count": 6,
     "metadata": {},
     "output_type": "execute_result"
    }
   ],
   "source": [
    "params.shape"
   ]
  },
  {
   "cell_type": "code",
   "execution_count": 7,
   "id": "64dfde5b",
   "metadata": {},
   "outputs": [],
   "source": [
    "soln = cf.fit_cp(low_bound=0, avg=True, k=2)"
   ]
  },
  {
   "cell_type": "code",
   "execution_count": 8,
   "id": "b6061738",
   "metadata": {},
   "outputs": [
    {
     "data": {
      "text/plain": [
       "'ABNORMAL_TERMINATION_IN_LNSRCH'"
      ]
     },
     "execution_count": 8,
     "metadata": {},
     "output_type": "execute_result"
    }
   ],
   "source": [
    "soln.message"
   ]
  },
  {
   "cell_type": "code",
   "execution_count": 9,
   "id": "39b14f5a",
   "metadata": {},
   "outputs": [
    {
     "data": {
      "text/plain": [
       "DeviceArray(8.78181771, dtype=float64)"
      ]
     },
     "execution_count": 9,
     "metadata": {},
     "output_type": "execute_result"
    }
   ],
   "source": [
    "cf.loss_chi2(params=soln.x)"
   ]
  },
  {
   "cell_type": "code",
   "execution_count": 10,
   "id": "154ee36e",
   "metadata": {},
   "outputs": [
    {
     "data": {
      "image/png": "[encoded data removed]",
      "text/plain": [
       "<Figure size 720x360 with 1 Axes>"
      ]
     },
     "metadata": {
      "needs_background": "light"
     },
     "output_type": "display_data"
    }
   ],
   "source": [
    "plt.plot(cf.control_points_time, soln.x, \"ob\", fillstyle=\"none\")\n",
    "plt.plot(cf.control_points_time, soln.x, \"b\")\n",
    "plt.ylabel(\"Production rate ($cm^2s^{-1}$)\");\n",
    "plt.xlabel(\"Calendar Year\");\n",
    "plt.title(r\"Fitted control-points\");"
   ]
  },
  {
   "cell_type": "code",
   "execution_count": 11,
   "id": "6a885ab1",
   "metadata": {},
   "outputs": [],
   "source": [
    "fine = cf.dc14_fine(params=soln.x)\n",
    "coarse = cf.dc14(params=soln.x)"
   ]
  },
  {
   "cell_type": "code",
   "execution_count": 12,
   "id": "8fc418c1",
   "metadata": {},
   "outputs": [
    {
     "data": {
      "image/png": "[encoded data removed]",
      "text/plain": [
       "<Figure size 720x360 with 1 Axes>"
      ]
     },
     "metadata": {
      "needs_background": "light"
     },
     "output_type": "display_data"
    }
   ],
   "source": [
    "plt.plot(cf.time_grid_fine[:-1], fine, \"b\")\n",
    "plt.plot(cf.time_data[:-1], coarse, \"ob\", fillstyle=\"none\", label=\"fitted\")\n",
    "plt.errorbar(cf.time_data, cf.d14c_data, yerr=cf.d14c_data_error, fmt=\".k\", label=\"true\")\n",
    "plt.legend()\n",
    "plt.ylabel(\"$\\Delta^{14}$C (‰)\")\n",
    "plt.xlabel(\"Calendar Year\");\n",
    "plt.title(\"$\\Delta$14C data\");"
   ]
  },
  {
   "cell_type": "code",
   "execution_count": 13,
   "id": "85ea121c",
   "metadata": {},
   "outputs": [
    {
     "name": "stdout",
     "output_type": "stream",
     "text": [
      "CPU times: user 9.5 s, sys: 125 ms, total: 9.62 s\n",
      "Wall time: 9.63 s\n"
     ]
    },
    {
     "data": {
      "text/plain": [
       "DeviceArray([ 1.4688977 , -0.72512281, -0.11183074,  0.66810119,\n",
       "              0.77966488,  0.32911495,  0.42678351,  0.05727059,\n",
       "             -0.48270658, -1.39539429,  1.09213926, -0.44122535,\n",
       "             -1.66713397,  0.20635197, -0.69249236,  1.22106412,\n",
       "             -0.44398137,  0.76770902,  1.27820063,  0.08469703,\n",
       "              1.18462388, -0.18984618, -0.06323644], dtype=float64)"
      ]
     },
     "execution_count": 13,
     "metadata": {},
     "output_type": "execute_result"
    }
   ],
   "source": [
    "%%time\n",
    "cf.grad_log_like(soln.x)"
   ]
  },
  {
   "cell_type": "code",
   "execution_count": 14,
   "id": "5295595c",
   "metadata": {},
   "outputs": [
    {
     "data": {
      "text/plain": [
       "array([1.8909599 , 1.55332903, 1.88928224, 2.07685075, 1.94302441,\n",
       "       1.99998735, 2.156222  , 1.92473172, 1.77923135, 2.2108454 ,\n",
       "       2.04110536, 2.36091015, 2.41720947, 2.23449698, 1.92049203,\n",
       "       2.4876072 , 2.01526861, 2.05123922, 2.21474263, 2.01625711,\n",
       "       2.13224138, 1.79155085, 1.85195453])"
      ]
     },
     "execution_count": 14,
     "metadata": {},
     "output_type": "execute_result"
    }
   ],
   "source": [
    "soln.x"
   ]
  },
  {
   "cell_type": "code",
   "execution_count": null,
   "id": "a0b7d5dd",
   "metadata": {},
   "outputs": [],
   "source": []
  }
 ],
 "metadata": {
  "kernelspec": {
   "display_name": "Python 3 (ipykernel)",
   "language": "python",
   "name": "python3"
  },
  "language_info": {
   "codemirror_mode": {
    "name": "ipython",
    "version": 3
   },
   "file_extension": ".py",
   "mimetype": "text/x-python",
   "name": "python",
   "nbconvert_exporter": "python",
   "pygments_lexer": "ipython3",
   "version": "3.8.10"
  }
 },
 "nbformat": 4,
 "nbformat_minor": 5
}
