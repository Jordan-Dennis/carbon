{
 "cells": [
  {
   "cell_type": "code",
   "execution_count": 1,
   "id": "7dbb1037",
   "metadata": {},
   "outputs": [],
   "source": [
    "import numpy as np\n",
    "import matplotlib.pyplot as plt\n",
    "import pandas as pd\n",
    "from matplotlib.pyplot import rcParams\n",
    "import celerite\n",
    "from celerite import terms\n",
    "from celerite.modeling import Model\n",
    "import warnings\n",
    "warnings.filterwarnings('ignore')\n",
    "\n",
    "import re\n",
    "import jax.numpy as jnp\n",
    "from jax import grad, jit, partial\n",
    "import ticktack\n",
    "from ticktack import fitting\n",
    "from astropy.table import Table\n",
    "from tqdm import tqdm\n",
    "from jax.ops import index_update\n",
    "import scipy\n",
    "\n",
    "rcParams['figure.figsize'] = (8.0, 4.0)"
   ]
  },
  {
   "cell_type": "code",
   "execution_count": 2,
   "id": "a620e494",
   "metadata": {},
   "outputs": [
    {
     "name": "stderr",
     "output_type": "stream",
     "text": [
      "WARNING:absl:No GPU/TPU found, falling back to CPU. (Set TF_CPP_MIN_LOG_LEVEL=0 and rerun for more info.)\n"
     ]
    }
   ],
   "source": [
    "cbm = ticktack.load_presaved_model('Guttler14', production_rate_units = 'atoms/cm^2/s')\n",
    "cf = fitting.CarbonFitter(cbm)\n",
    "cf.load_data('Dee_processed.csv')\n",
    "cf.prepare_function(use_control_points=True)\n",
    "result = cf.fit_cp_offset(loss=\"chi2\")"
   ]
  },
  {
   "cell_type": "code",
   "execution_count": 3,
   "id": "113fd584",
   "metadata": {},
   "outputs": [],
   "source": [
    "t = np.arange(np.nanmin(cf.time_data)-1, np.nanmax(cf.time_data)+1)"
   ]
  },
  {
   "cell_type": "code",
   "execution_count": 4,
   "id": "83782e35",
   "metadata": {},
   "outputs": [
    {
     "data": {
      "text/plain": [
       "[<matplotlib.lines.Line2D at 0x7fb200502be0>]"
      ]
     },
     "execution_count": 4,
     "metadata": {},
     "output_type": "execute_result"
    },
    {
     "data": {
      "image/png": "[encoded data removed]",
      "text/plain": [
       "<Figure size 576x288 with 1 Axes>"
      ]
     },
     "metadata": {
      "needs_background": "light"
     },
     "output_type": "display_data"
    }
   ],
   "source": [
    "plt.plot(cf.time_data, cf.d14c_data, \".\")"
   ]
  },
  {
   "cell_type": "code",
   "execution_count": 5,
   "id": "7ae1df82",
   "metadata": {},
   "outputs": [
    {
     "data": {
      "image/png": "[encoded data removed]",
      "text/plain": [
       "<Figure size 576x288 with 1 Axes>"
      ]
     },
     "metadata": {
      "needs_background": "light"
     },
     "output_type": "display_data"
    }
   ],
   "source": [
    "plt.plot(cf.time_data[:-1], cf.dc142(result.x), \"ob\", fillstyle=\"none\")\n",
    "plt.errorbar(cf.time_data, cf.d14c_data, yerr=cf.d14c_data_error, fmt=\".k\")\n",
    "plt.plot(cf.time_data[:-1], cf.dc142(result.x), \"b\")\n",
    "# plot(self.time_data[:-1], d_c_14_coarse, \"o\", color=\"k\", fillstyle=\"none\", markersize=7)\n",
    "plt.legend([\"recovered\", 'true']);\n",
    "plt.title(\"d14c\");"
   ]
  },
  {
   "cell_type": "code",
   "execution_count": 6,
   "id": "6d857dc0",
   "metadata": {},
   "outputs": [
    {
     "name": "stdout",
     "output_type": "stream",
     "text": [
      "x^0 =   1.7402e+00 ± 5.5e-05\n",
      "x^1 =   1.6926e+00 ± 8.7e-04\n",
      "x^2 =   1.6595e+00 ± 8.7e-04\n",
      "x^3 =   1.6036e+00 ± 8.9e-04\n",
      "x^4 =   1.5240e+00 ± 9.4e-04\n",
      "x^5 =   1.4759e+00 ± 1.0e-03\n",
      "x^6 =   1.5077e+00 ± 8.4e-04\n",
      "x^7 =   1.5785e+00 ± 9.1e-04\n",
      "x^8 =   1.6544e+00 ± 8.8e-04\n",
      "x^9 =   1.7464e+00 ± 8.6e-04\n",
      "x^10 =   1.8425e+00 ± 8.5e-04\n",
      "x^11 =   1.8847e+00 ± 8.5e-04\n",
      "x^12 =   1.8728e+00 ± 8.5e-04\n",
      "x^13 =   1.8612e+00 ± 8.5e-04\n",
      "x^14 =   1.8873e+00 ± 8.5e-04\n",
      "x^15 =   1.9151e+00 ± 8.5e-04\n",
      "x^16 =   1.9336e+00 ± 8.4e-04\n",
      "x^17 =   1.9457e+00 ± 8.5e-04\n",
      "x^18 =   1.9614e+00 ± 8.5e-04\n",
      "x^19 =   1.9369e+00 ± 8.5e-04\n",
      "x^20 =   1.8531e+00 ± 8.7e-04\n",
      "x^21 =   1.8519e+00 ± 8.6e-04\n",
      "x^22 =   1.9613e+00 ± 8.6e-04\n",
      "x^23 =   2.0327e+00 ± 8.8e-04\n",
      "x^24 =   2.0223e+00 ± 8.8e-04\n",
      "x^25 =   2.0058e+00 ± 8.7e-04\n",
      "x^26 =   1.9810e+00 ± 8.7e-04\n",
      "x^27 =   1.9333e+00 ± 8.6e-04\n",
      "x^28 =   1.8635e+00 ± 8.6e-04\n",
      "x^29 =   1.8348e+00 ± 8.6e-04\n",
      "x^30 =   1.8518e+00 ± 8.4e-04\n",
      "x^31 =   1.8563e+00 ± 8.6e-04\n",
      "x^32 =   1.8072e+00 ± 8.6e-04\n",
      "x^33 =   1.7839e+00 ± 8.8e-04\n",
      "x^34 =   1.7832e+00 ± 8.7e-04\n",
      "x^35 =   1.8062e+00 ± 8.6e-04\n",
      "x^36 =   1.8420e+00 ± 8.7e-04\n",
      "x^37 =   1.8504e+00 ± 8.5e-04\n",
      "x^38 =   1.8240e+00 ± 8.8e-04\n",
      "x^39 =   1.8888e+00 ± 8.5e-04\n",
      "x^40 =   2.0201e+00 ± 8.5e-04\n",
      "x^41 =   2.0885e+00 ± 8.6e-04\n",
      "x^42 =   2.0889e+00 ± 8.6e-04\n",
      "x^43 =   2.0705e+00 ± 8.5e-04\n",
      "x^44 =   2.0402e+00 ± 8.7e-04\n",
      "x^45 =   2.0663e+00 ± 8.7e-04\n",
      "x^46 =   2.1404e+00 ± 8.5e-04\n",
      "x^47 =   2.2020e+00 ± 8.6e-04\n",
      "x^48 =   2.2426e+00 ± 8.6e-04\n",
      "x^49 =   2.2221e+00 ± 8.5e-04\n",
      "x^50 =   2.1634e+00 ± 8.6e-04\n",
      "x^51 =   2.1479e+00 ± 8.7e-04\n",
      "x^52 =   2.1623e+00 ± 8.7e-04\n",
      "x^53 =   2.1767e+00 ± 8.6e-04\n",
      "x^54 =   2.2004e+00 ± 8.7e-04\n",
      "x^55 =   2.2658e+00 ± 8.6e-04\n",
      "x^56 =   2.3503e+00 ± 8.5e-04\n",
      "x^57 =   2.4080e+00 ± 8.5e-04\n",
      "x^58 =   2.4385e+00 ± 8.5e-04\n",
      "x^59 =   2.4586e+00 ± 8.4e-04\n",
      "x^60 =   2.4601e+00 ± 8.5e-04\n",
      "x^61 =   2.4217e+00 ± 8.4e-04\n",
      "x^62 =   2.3716e+00 ± 8.4e-04\n",
      "x^63 =   2.3812e+00 ± 8.4e-04\n",
      "x^64 =   2.4160e+00 ± 8.4e-04\n",
      "x^65 =   2.4089e+00 ± 8.5e-04\n",
      "x^66 =   2.3726e+00 ± 8.5e-04\n",
      "x^67 =   2.3152e+00 ± 8.5e-04\n",
      "x^68 =   2.2438e+00 ± 8.6e-04\n",
      "x^69 =   2.1721e+00 ± 8.9e-04\n",
      "x^70 =   2.1174e+00 ± 9.1e-04\n",
      "x^71 =   2.1181e+00 ± 9.1e-04\n",
      "x^72 =   2.1571e+00 ± 8.8e-04\n",
      "x^73 =   2.2219e+00 ± 8.6e-04\n",
      "x^74 =   2.2892e+00 ± 8.5e-04\n",
      "x^75 =   2.3270e+00 ± 8.6e-04\n",
      "x^76 =   2.3305e+00 ± 8.6e-04\n",
      "x^77 =   2.2748e+00 ± 8.5e-04\n",
      "x^78 =   2.1914e+00 ± 8.6e-04\n",
      "x^79 =   2.1036e+00 ± 8.8e-04\n",
      "x^80 =   2.0386e+00 ± 9.1e-04\n",
      "x^81 =   2.0564e+00 ± 8.9e-04\n",
      "x^82 =   2.1008e+00 ± 8.7e-04\n",
      "x^83 =   2.1361e+00 ± 8.6e-04\n",
      "x^84 =   2.1681e+00 ± 8.5e-04\n",
      "x^85 =   2.2031e+00 ± 8.4e-04\n",
      "x^86 =   2.2204e+00 ± 8.4e-04\n",
      "x^87 =   2.1859e+00 ± 8.4e-04\n",
      "x^88 =   2.1374e+00 ± 8.4e-04\n",
      "x^89 =   2.0881e+00 ± 8.5e-04\n",
      "x^90 =   2.0555e+00 ± 8.6e-04\n",
      "x^91 =   2.0637e+00 ± 8.5e-04\n",
      "x^92 =   2.0766e+00 ± 8.5e-04\n",
      "x^93 =   2.0746e+00 ± 8.5e-04\n",
      "x^94 =   2.0630e+00 ± 8.5e-04\n",
      "x^95 =   2.0402e+00 ± 8.5e-04\n",
      "x^96 =   1.9940e+00 ± 8.6e-04\n",
      "x^97 =   1.9087e+00 ± 8.6e-04\n",
      "x^98 =   1.8430e+00 ± 8.8e-04\n",
      "x^99 =   1.8194e+00 ± 8.8e-04\n",
      "x^100 =   1.8234e+00 ± 8.7e-04\n",
      "x^101 =   1.8480e+00 ± 8.6e-04\n",
      "x^102 =   1.8693e+00 ± 8.6e-04\n",
      "x^103 =  -1.0416e-01 ± 8.7e-04\n"
     ]
    }
   ],
   "source": [
    "ftol = 1e-8\n",
    "tmp_i = np.zeros(len(result.x))\n",
    "error = []\n",
    "for i in range(len(result.x)):\n",
    "    tmp_i[i] = 1.0\n",
    "    hess_inv_i = (result.hess_inv@tmp_i)[i]\n",
    "    uncertainty_i = np.sqrt(max(1, abs(result.fun)) * ftol * hess_inv_i)\n",
    "    tmp_i[i] = 0.0\n",
    "    print('x^{0} = {1:12.4e} ± {2:.1e}'.format(i, result.x[i], uncertainty_i))\n",
    "    error.append(uncertainty_i)"
   ]
  },
  {
   "cell_type": "code",
   "execution_count": 7,
   "id": "50ca4c85",
   "metadata": {},
   "outputs": [
    {
     "data": {
      "image/png": "[encoded data removed]",
      "text/plain": [
       "<Figure size 576x288 with 1 Axes>"
      ]
     },
     "metadata": {
      "needs_background": "light"
     },
     "output_type": "display_data"
    }
   ],
   "source": [
    "plt.errorbar(t, result.x[:-1], yerr=error[:-1], fmt=\".b\")\n",
    "plt.title(r\"fitted control points\");"
   ]
  },
  {
   "cell_type": "code",
   "execution_count": null,
   "id": "bbeb0e8c",
   "metadata": {},
   "outputs": [],
   "source": []
  }
 ],
 "metadata": {
  "kernelspec": {
   "display_name": "Python 3 (ipykernel)",
   "language": "python",
   "name": "python3"
  },
  "language_info": {
   "codemirror_mode": {
    "name": "ipython",
    "version": 3
   },
   "file_extension": ".py",
   "mimetype": "text/x-python",
   "name": "python",
   "nbconvert_exporter": "python",
   "pygments_lexer": "ipython3",
   "version": "3.8.10"
  }
 },
 "nbformat": 4,
 "nbformat_minor": 5
}
