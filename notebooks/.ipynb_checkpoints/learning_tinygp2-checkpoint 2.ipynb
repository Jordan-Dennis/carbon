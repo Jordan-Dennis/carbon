{
 "cells": [
  {
   "cell_type": "code",
   "execution_count": 1,
   "id": "7dbb1037",
   "metadata": {},
   "outputs": [],
   "source": [
    "import numpy as np\n",
    "import matplotlib.pyplot as plt\n",
    "import pandas as pd\n",
    "from matplotlib.pyplot import rcParams\n",
    "import warnings\n",
    "warnings.filterwarnings('ignore')\n",
    "\n",
    "import re\n",
    "import jax.numpy as jnp\n",
    "from jax import grad, jit, partial\n",
    "import ticktack\n",
    "from ticktack import fitting\n",
    "from astropy.table import Table\n",
    "from tqdm import tqdm\n",
    "import scipy\n",
    "import jax\n",
    "from tinygp import kernels, GaussianProcess\n",
    "\n",
    "rcParams['figure.figsize'] = (10.0, 5.0)"
   ]
  },
  {
   "cell_type": "code",
   "execution_count": 2,
   "id": "a620e494",
   "metadata": {},
   "outputs": [
    {
     "name": "stderr",
     "output_type": "stream",
     "text": [
      "WARNING:absl:No GPU/TPU found, falling back to CPU. (Set TF_CPP_MIN_LOG_LEVEL=0 and rerun for more info.)\n"
     ]
    }
   ],
   "source": [
    "cbm = ticktack.load_presaved_model('Guttler14', production_rate_units = 'atoms/cm^2/s')\n",
    "cf = fitting.CarbonFitter(cbm)\n",
    "cf.load_data('400_BCE_Data_processed.csv', time_oversample=50)\n",
    "cf.prepare_function(use_control_points=True, gap_years=3, dense_years=2)"
   ]
  },
  {
   "cell_type": "code",
   "execution_count": 3,
   "id": "0f2ea783",
   "metadata": {},
   "outputs": [
    {
     "data": {
      "text/plain": [
       "<matplotlib.legend.Legend at 0x7fe4a681c820>"
      ]
     },
     "execution_count": 3,
     "metadata": {},
     "output_type": "execute_result"
    },
    {
     "data": {
      "image/png": "[encoded data removed]",
      "text/plain": [
       "<Figure size 720x360 with 1 Axes>"
      ]
     },
     "metadata": {
      "needs_background": "light"
     },
     "output_type": "display_data"
    }
   ],
   "source": [
    "plt.plot(cf.time_data, cf.time_data, \".\", label=\"d14c time data\")\n",
    "plt.plot(cf.control_points_time, cf.control_points_time -10, \".\", label=\"cp time data\")\n",
    "plt.legend()"
   ]
  },
  {
   "cell_type": "code",
   "execution_count": 4,
   "id": "1726ac69",
   "metadata": {},
   "outputs": [],
   "source": [
    "steady_state = cf.steady_state_production * jnp.ones((len(cf.control_points_time)+1,))\n",
    "params = steady_state\n",
    "bounds = tuple([(0, None)] * len(steady_state))"
   ]
  },
  {
   "cell_type": "code",
   "execution_count": 5,
   "id": "9fb0e689",
   "metadata": {},
   "outputs": [
    {
     "data": {
      "text/plain": [
       "(53,)"
      ]
     },
     "execution_count": 5,
     "metadata": {},
     "output_type": "execute_result"
    }
   ],
   "source": [
    "params.shape"
   ]
  },
  {
   "cell_type": "code",
   "execution_count": 6,
   "id": "964d9b0e",
   "metadata": {},
   "outputs": [
    {
     "data": {
      "text/plain": [
       "DeviceArray(nan, dtype=float64)"
      ]
     },
     "execution_count": 6,
     "metadata": {},
     "output_type": "execute_result"
    }
   ],
   "source": [
    "from jax.config import config\n",
    "config.update(\"jax_enable_x64\", True)\n",
    "\n",
    "kernel = kernels.ExpSquared(10.)\n",
    "gp = GaussianProcess(kernel, cf.control_points_time, mean=0.)\n",
    "gp.condition(params[:-1])"
   ]
  },
  {
   "cell_type": "code",
   "execution_count": 7,
   "id": "8420f0ac",
   "metadata": {},
   "outputs": [
    {
     "name": "stdout",
     "output_type": "stream",
     "text": [
      "Initial log likelihood: 57.01086952131871\n"
     ]
    }
   ],
   "source": [
    "import george\n",
    "from george import kernels as george_kernels\n",
    "kernel = george_kernels.ExpSquaredKernel(10.)\n",
    "gp = george.GP(kernel, mean=0.)\n",
    "gp.compute(cf.control_points_time)\n",
    "\n",
    "print(\"Initial log likelihood: {0}\".format(gp.log_likelihood(params[:-1])))"
   ]
  },
  {
   "cell_type": "code",
   "execution_count": null,
   "id": "e5ec55e3",
   "metadata": {},
   "outputs": [],
   "source": []
  }
 ],
 "metadata": {
  "kernelspec": {
   "display_name": "Python 3 (ipykernel)",
   "language": "python",
   "name": "python3"
  },
  "language_info": {
   "codemirror_mode": {
    "name": "ipython",
    "version": 3
   },
   "file_extension": ".py",
   "mimetype": "text/x-python",
   "name": "python",
   "nbconvert_exporter": "python",
   "pygments_lexer": "ipython3",
   "version": "3.8.10"
  }
 },
 "nbformat": 4,
 "nbformat_minor": 5
}
