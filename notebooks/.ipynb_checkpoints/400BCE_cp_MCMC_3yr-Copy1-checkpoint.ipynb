{
 "cells": [
  {
   "cell_type": "code",
   "execution_count": 1,
   "id": "0c3b7060",
   "metadata": {},
   "outputs": [],
   "source": [
    "import numpy as np\n",
    "import matplotlib.pyplot as plt\n",
    "from matplotlib.pyplot import rcParams\n",
    "import warnings\n",
    "warnings.filterwarnings('ignore')\n",
    "\n",
    "import re\n",
    "import jax.numpy as jnp\n",
    "from jax import grad, jit, partial\n",
    "import jax\n",
    "import ticktack\n",
    "from ticktack import fitting\n",
    "from tqdm import tqdm\n",
    "\n",
    "import corner\n",
    "rcParams['figure.figsize'] = (10.0, 5.0)"
   ]
  },
  {
   "cell_type": "code",
   "execution_count": 2,
   "id": "5ba1cb99",
   "metadata": {},
   "outputs": [],
   "source": [
    "cbm = ticktack.load_presaved_model('Guttler14', production_rate_units = 'atoms/cm^2/s')\n",
    "cf = fitting.CarbonFitter(cbm)\n",
    "cf.load_data('inject_recovery_sine.csv', time_oversample=12)\n",
    "cf.prepare_function(use_control_points=True, interp=\"gp\")"
   ]
  },
  {
   "cell_type": "code",
   "execution_count": 3,
   "id": "ee5dc48c",
   "metadata": {},
   "outputs": [],
   "source": [
    "params = jnp.array([1.73481592, 1.57313381, 1.51460236, 1.54205597, 1.69296061,\n",
    "       1.92638044, 2.02390008, 2.02901486, 2.00823464, 1.96971271,\n",
    "       1.94535871, 1.90460333, 1.75737994, 1.53488088, 1.49278517,\n",
    "       1.6187574 , 1.80735385, 1.99521077, 2.1339268 , 2.18531979,\n",
    "       2.13359721, 1.99344069, 1.80863156, 1.6380658 , 1.53642917,\n",
    "       1.53598935, 1.63580367, 1.80392992, 1.98935698, 2.13788857,\n",
    "       2.20402716, 2.14735618, 1.94022293, 1.69127506, 1.60565663,\n",
    "       1.61456084, 1.68773984, 1.80642376, 1.85882893, 1.88320408,\n",
    "       1.95647752, 2.06277574, 2.10620188, 2.08541465, 1.9720432 ,\n",
    "       1.79474694, 1.71987311, 1.71031913, 1.70771597, 1.7151711 ,\n",
    "       1.76149483, 1.93698132, 2.18883256, 2.19172478, 2.00511724,\n",
    "       1.81703802, 1.6195444 , 1.53343735, 1.54617536, 1.64473931,\n",
    "       1.81939341, 1.98520243, 2.13971682, 2.18423755, 2.13067923,\n",
    "       1.99959428, 1.80333424, 1.65078193, 1.54131796, 1.54586649,\n",
    "       1.6504936 , 1.80679469, 2.00354288, 2.1292661 , 2.1889818 ,\n",
    "       2.13753896, 1.99097801, 1.82271049, 1.64132326, 1.55295448,\n",
    "       1.54857706, 1.64330932, 1.82059429, 1.98683634, 2.13881441,\n",
    "       2.18482024, 2.13284557, 2.00154459, 1.80802085, 1.65596087,\n",
    "       1.54559262, 1.54976504, 1.65201871, 1.80601477, 2.00401875,\n",
    "       2.13558226, 2.19640488, 2.11421172, 1.94221986, 1.87415851,\n",
    "       1.88410201])"
   ]
  },
  {
   "cell_type": "code",
   "execution_count": 4,
   "id": "10179def",
   "metadata": {},
   "outputs": [
    {
     "data": {
      "text/plain": [
       "DeviceArray([-426, -425, -424, -423, -422, -421, -420, -419, -418, -417,\n",
       "             -416, -415, -414, -413, -412, -411, -410, -409, -408, -407,\n",
       "             -406, -405, -404, -403, -402, -401, -400, -399, -398, -397,\n",
       "             -396, -395, -394, -393, -392, -391, -390, -389, -388, -387,\n",
       "             -386, -385, -384, -383, -382, -381, -380, -379, -378, -377,\n",
       "             -376, -375, -374, -373, -372, -371, -370, -369, -368, -367,\n",
       "             -366, -365, -364, -363, -362, -361, -360, -359, -358, -357,\n",
       "             -356, -355, -354, -353, -352, -351, -350, -349, -348, -347,\n",
       "             -346, -345, -344, -343, -342, -341, -340, -339, -338, -337,\n",
       "             -336, -335, -334, -333, -332, -331, -330, -329, -328, -327],            dtype=int64)"
      ]
     },
     "execution_count": 4,
     "metadata": {},
     "output_type": "execute_result"
    }
   ],
   "source": [
    "cf.control_points_time"
   ]
  },
  {
   "cell_type": "code",
   "execution_count": 5,
   "id": "26bec253",
   "metadata": {},
   "outputs": [
    {
     "data": {
      "text/plain": [
       "100"
      ]
     },
     "execution_count": 5,
     "metadata": {},
     "output_type": "execute_result"
    }
   ],
   "source": [
    "cf.control_points_time.size"
   ]
  },
  {
   "cell_type": "code",
   "execution_count": 6,
   "id": "925d6f9e",
   "metadata": {},
   "outputs": [
    {
     "data": {
      "text/plain": [
       "<matplotlib.legend.Legend at 0x7f847edc7430>"
      ]
     },
     "execution_count": 6,
     "metadata": {},
     "output_type": "execute_result"
    },
    {
     "data": {
      "image/png": "[encoded data removed]",
      "text/plain": [
       "<Figure size 720x360 with 1 Axes>"
      ]
     },
     "metadata": {
      "needs_background": "light"
     },
     "output_type": "display_data"
    }
   ],
   "source": [
    "plt.plot(cf.time_data, cf.time_data, \".\", label=\"d14c time data\")\n",
    "plt.plot(cf.control_points_time, cf.control_points_time -10, \".\", label=\"cp time data\")\n",
    "plt.legend()"
   ]
  },
  {
   "cell_type": "code",
   "execution_count": 7,
   "id": "c2f0fad3",
   "metadata": {},
   "outputs": [
    {
     "name": "stdout",
     "output_type": "stream",
     "text": [
      "Running burn-in...\n"
     ]
    },
    {
     "name": "stderr",
     "output_type": "stream",
     "text": [
      "100%|███████████████████████████████████████████████████████████████████████████████| 500/500 [1:05:41<00:00,  7.88s/it]"
     ]
    },
    {
     "name": "stdout",
     "output_type": "stream",
     "text": [
      "Running production...\n"
     ]
    },
    {
     "name": "stderr",
     "output_type": "stream",
     "text": [
      "\n"
     ]
    },
    {
     "ename": "ValueError",
     "evalue": "Initial state has a large condition number. Make sure that your walkers are linearly independent for the best performance",
     "output_type": "error",
     "traceback": [
      "\u001b[0;31m---------------------------------------------------------------------------\u001b[0m",
      "\u001b[0;31mValueError\u001b[0m                                Traceback (most recent call last)",
      "\u001b[0;32m/tmp/ipykernel_27153/2221247191.py\u001b[0m in \u001b[0;36m<module>\u001b[0;34m\u001b[0m\n\u001b[0;32m----> 1\u001b[0;31m \u001b[0msampler\u001b[0m \u001b[0;34m=\u001b[0m \u001b[0mcf\u001b[0m\u001b[0;34m.\u001b[0m\u001b[0msampling\u001b[0m\u001b[0;34m(\u001b[0m\u001b[0mparams\u001b[0m\u001b[0;34m,\u001b[0m \u001b[0mburnin\u001b[0m\u001b[0;34m=\u001b[0m\u001b[0;36m500\u001b[0m\u001b[0;34m,\u001b[0m \u001b[0mproduction\u001b[0m\u001b[0;34m=\u001b[0m\u001b[0;36m500\u001b[0m\u001b[0;34m)\u001b[0m\u001b[0;34m\u001b[0m\u001b[0;34m\u001b[0m\u001b[0m\n\u001b[0m",
      "\u001b[0;32m/usr/local/lib/python3.8/dist-packages/ticktack-0.1.2.1-py3.8.egg/ticktack/fitting.py\u001b[0m in \u001b[0;36msampling\u001b[0;34m(self, params, burnin, production, log_like)\u001b[0m\n\u001b[1;32m    283\u001b[0m         \u001b[0mprint\u001b[0m\u001b[0;34m(\u001b[0m\u001b[0;34m\"Running production...\"\u001b[0m\u001b[0;34m)\u001b[0m\u001b[0;34m\u001b[0m\u001b[0;34m\u001b[0m\u001b[0m\n\u001b[1;32m    284\u001b[0m         \u001b[0msampler\u001b[0m\u001b[0;34m.\u001b[0m\u001b[0mreset\u001b[0m\u001b[0;34m(\u001b[0m\u001b[0;34m)\u001b[0m\u001b[0;34m\u001b[0m\u001b[0;34m\u001b[0m\u001b[0m\n\u001b[0;32m--> 285\u001b[0;31m         \u001b[0msampler\u001b[0m\u001b[0;34m.\u001b[0m\u001b[0mrun_mcmc\u001b[0m\u001b[0;34m(\u001b[0m\u001b[0mp0\u001b[0m\u001b[0;34m,\u001b[0m \u001b[0mproduction\u001b[0m\u001b[0;34m,\u001b[0m \u001b[0mprogress\u001b[0m\u001b[0;34m=\u001b[0m\u001b[0;32mTrue\u001b[0m\u001b[0;34m)\u001b[0m\u001b[0;34m;\u001b[0m\u001b[0;34m\u001b[0m\u001b[0;34m\u001b[0m\u001b[0m\n\u001b[0m\u001b[1;32m    286\u001b[0m         \u001b[0;32mreturn\u001b[0m \u001b[0msampler\u001b[0m\u001b[0;34m\u001b[0m\u001b[0;34m\u001b[0m\u001b[0m\n\u001b[1;32m    287\u001b[0m \u001b[0;34m\u001b[0m\u001b[0m\n",
      "\u001b[0;32m~/.local/lib/python3.8/site-packages/emcee/ensemble.py\u001b[0m in \u001b[0;36mrun_mcmc\u001b[0;34m(self, initial_state, nsteps, **kwargs)\u001b[0m\n\u001b[1;32m    436\u001b[0m \u001b[0;34m\u001b[0m\u001b[0m\n\u001b[1;32m    437\u001b[0m         \u001b[0mresults\u001b[0m \u001b[0;34m=\u001b[0m \u001b[0;32mNone\u001b[0m\u001b[0;34m\u001b[0m\u001b[0;34m\u001b[0m\u001b[0m\n\u001b[0;32m--> 438\u001b[0;31m         \u001b[0;32mfor\u001b[0m \u001b[0mresults\u001b[0m \u001b[0;32min\u001b[0m \u001b[0mself\u001b[0m\u001b[0;34m.\u001b[0m\u001b[0msample\u001b[0m\u001b[0;34m(\u001b[0m\u001b[0minitial_state\u001b[0m\u001b[0;34m,\u001b[0m \u001b[0miterations\u001b[0m\u001b[0;34m=\u001b[0m\u001b[0mnsteps\u001b[0m\u001b[0;34m,\u001b[0m \u001b[0;34m**\u001b[0m\u001b[0mkwargs\u001b[0m\u001b[0;34m)\u001b[0m\u001b[0;34m:\u001b[0m\u001b[0;34m\u001b[0m\u001b[0;34m\u001b[0m\u001b[0m\n\u001b[0m\u001b[1;32m    439\u001b[0m             \u001b[0;32mpass\u001b[0m\u001b[0;34m\u001b[0m\u001b[0;34m\u001b[0m\u001b[0m\n\u001b[1;32m    440\u001b[0m \u001b[0;34m\u001b[0m\u001b[0m\n",
      "\u001b[0;32m~/.local/lib/python3.8/site-packages/emcee/ensemble.py\u001b[0m in \u001b[0;36msample\u001b[0;34m(self, initial_state, log_prob0, rstate0, blobs0, iterations, tune, skip_initial_state_check, thin_by, thin, store, progress)\u001b[0m\n\u001b[1;32m    307\u001b[0m             \u001b[0;32mnot\u001b[0m \u001b[0mwalkers_independent\u001b[0m\u001b[0;34m(\u001b[0m\u001b[0mstate\u001b[0m\u001b[0;34m.\u001b[0m\u001b[0mcoords\u001b[0m\u001b[0;34m)\u001b[0m\u001b[0;34m\u001b[0m\u001b[0;34m\u001b[0m\u001b[0m\n\u001b[1;32m    308\u001b[0m         ):\n\u001b[0;32m--> 309\u001b[0;31m             raise ValueError(\n\u001b[0m\u001b[1;32m    310\u001b[0m                 \u001b[0;34m\"Initial state has a large condition number. \"\u001b[0m\u001b[0;34m\u001b[0m\u001b[0;34m\u001b[0m\u001b[0m\n\u001b[1;32m    311\u001b[0m                 \u001b[0;34m\"Make sure that your walkers are linearly independent for the \"\u001b[0m\u001b[0;34m\u001b[0m\u001b[0;34m\u001b[0m\u001b[0m\n",
      "\u001b[0;31mValueError\u001b[0m: Initial state has a large condition number. Make sure that your walkers are linearly independent for the best performance"
     ]
    }
   ],
   "source": [
    "initial = params\n",
    "ndim, nwalkers = len(initial), 3*len(initial)\n",
    "sampler = emcee.EnsembleSampler(nwalkers, ndim, cf.gp_likelihood)\n",
    "\n",
    "print(\"Running burn-in...\")\n",
    "p0 = initial + 1e-5 * np.random.rand(nwalkers, ndim)\n",
    "p0, lp, _ = sampler.run_mcmc(p0, burnin, progress=True);\n",
    "\n",
    "print(\"Running production...\")\n",
    "sampler.reset()\n",
    "sampler.run_mcmc(p0, production, progress=True);"
   ]
  },
  {
   "cell_type": "code",
   "execution_count": null,
   "id": "28a70b1c",
   "metadata": {},
   "outputs": [],
   "source": [
    "mean = np.mean(sampler.flatchain, axis=0)"
   ]
  },
  {
   "cell_type": "code",
   "execution_count": null,
   "id": "75631318",
   "metadata": {},
   "outputs": [],
   "source": [
    "mean"
   ]
  },
  {
   "cell_type": "code",
   "execution_count": null,
   "id": "1b892e96",
   "metadata": {},
   "outputs": [],
   "source": [
    "std = np.std(sampler.flatchain, axis=0)"
   ]
  },
  {
   "cell_type": "code",
   "execution_count": null,
   "id": "a9a6cdcb",
   "metadata": {},
   "outputs": [],
   "source": [
    "d14c = cf.dc14(params=mean)\n",
    "d14c_fine = cf.dc14_fine(params=mean)\n",
    "plt.errorbar(cf.control_points_time, mean[:-1], yerr=std, fmt=\".k\", label=\"empirical error\")\n",
    "plt.plot(cf.control_points_time, mean[:-1], \"bo\", fillstyle=\"none\")\n",
    "plt.plot(cf.control_points_time, mean[:-1], color=\"b\", label=\"empirical mean\")\n",
    "plt.plot(cf.control_points_time, params[:-1], 'o', color=\"orange\", fillstyle=\"none\", label=\"fitted\")\n",
    "plt.plot(cf.control_points_time, params[:-1], color=\"orange\")\n",
    "plt.legend()"
   ]
  },
  {
   "cell_type": "code",
   "execution_count": null,
   "id": "0cd1a78b",
   "metadata": {},
   "outputs": [],
   "source": [
    "plt.plot(sampler.flatchain[:, 7], \".\", markersize=0.09)"
   ]
  },
  {
   "cell_type": "code",
   "execution_count": null,
   "id": "17f1b0ea",
   "metadata": {},
   "outputs": [],
   "source": [
    "fig, (ax1, ax2) = plt.subplots(2, figsize=(10, 10))\n",
    "n = 100\n",
    "top_n = np.random.permutation(len(sampler.flatchain))[:n]\n",
    "ax1.plot(cf.time_data, cf.d14c_data, \".k\")\n",
    "for i in tqdm(top_n):\n",
    "    d14c = cf.dc14(params=sampler.flatchain[i, :])\n",
    "    ax1.plot(cf.time_data[:-1], d14c, color=\"g\", alpha=0.2)\n",
    "    ax2.plot(cf.control_points_time, sampler.flatchain[i, :][:-1], color=\"g\", alpha=0.2)\n",
    "ax2.plot(cf.control_points_time, mean, \"k\")"
   ]
  },
  {
   "cell_type": "code",
   "execution_count": null,
   "id": "bba46545",
   "metadata": {},
   "outputs": [],
   "source": [
    "sample = sampler.flatchain[4000:, 10:17]"
   ]
  },
  {
   "cell_type": "code",
   "execution_count": null,
   "id": "28ef0b7a",
   "metadata": {},
   "outputs": [],
   "source": [
    "ndim = sample.shape[1]\n",
    "figure = corner.corner(sample)\n",
    "value = np.mean(sample, axis=0)\n",
    "axes = np.array(figure.axes).reshape((ndim, ndim))\n",
    "for i in range(ndim):\n",
    "    ax = axes[i, i]\n",
    "    ax.axvline(value[i], color=\"r\")\n",
    "\n",
    "for yi in range(ndim):\n",
    "    for xi in range(yi):\n",
    "        ax = axes[yi, xi]\n",
    "        ax.axvline(value[xi], color=\"r\")\n",
    "        ax.axhline(value[yi], color=\"r\")\n",
    "        ax.plot(value[xi], value[yi], \"sr\")"
   ]
  },
  {
   "cell_type": "code",
   "execution_count": null,
   "id": "66f63070",
   "metadata": {},
   "outputs": [],
   "source": []
  }
 ],
 "metadata": {
  "kernelspec": {
   "display_name": "Python 3 (ipykernel)",
   "language": "python",
   "name": "python3"
  },
  "language_info": {
   "codemirror_mode": {
    "name": "ipython",
    "version": 3
   },
   "file_extension": ".py",
   "mimetype": "text/x-python",
   "name": "python",
   "nbconvert_exporter": "python",
   "pygments_lexer": "ipython3",
   "version": "3.8.10"
  }
 },
 "nbformat": 4,
 "nbformat_minor": 5
}
