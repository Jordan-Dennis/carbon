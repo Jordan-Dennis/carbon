{
 "cells": [
  {
   "cell_type": "code",
   "execution_count": 1,
   "id": "7dbb1037",
   "metadata": {},
   "outputs": [],
   "source": [
    "import numpy as np\n",
    "import matplotlib.pyplot as plt\n",
    "import pandas as pd\n",
    "from matplotlib.pyplot import rcParams\n",
    "import celerite\n",
    "from celerite import terms\n",
    "from celerite.modeling import Model\n",
    "import warnings\n",
    "warnings.filterwarnings('ignore')\n",
    "\n",
    "import re\n",
    "import jax.numpy as jnp\n",
    "from jax import grad, jit, partial\n",
    "import ticktack\n",
    "from ticktack import fitting\n",
    "from astropy.table import Table\n",
    "\n",
    "rcParams['figure.figsize'] = (16.0, 8.0)"
   ]
  },
  {
   "cell_type": "code",
   "execution_count": 2,
   "id": "8e2163d4",
   "metadata": {},
   "outputs": [
    {
     "name": "stderr",
     "output_type": "stream",
     "text": [
      "WARNING:absl:No GPU/TPU found, falling back to CPU. (Set TF_CPP_MIN_LOG_LEVEL=0 and rerun for more info.)\n"
     ]
    }
   ],
   "source": [
    "cbm = ticktack.load_presaved_model('Guttler14', production_rate_units = 'atoms/cm^2/s')\n",
    "cf = fitting.CarbonFitter(cbm)\n",
    "cf.load_data('miyake12.csv')"
   ]
  },
  {
   "cell_type": "code",
   "execution_count": 3,
   "id": "a4ef150d",
   "metadata": {},
   "outputs": [],
   "source": [
    "@jit\n",
    "def super_gaussian(t, start_time, duration, area):\n",
    "    middle = start_time+duration/2.\n",
    "    height = area/duration\n",
    "    return height*jnp.exp(- ((t-middle)/(1./1.93516*duration))**16.)\n",
    "\n",
    "@jit\n",
    "def miyake_event_fixed_solar(t, start_time, duration, phase, area):\n",
    "    height = super_gaussian(t, start_time, duration, area)\n",
    "    prod =  cf.steady_state_production + 0.18 * cf.steady_state_production * jnp.sin(2 * np.pi / 11 * t + phase) + height\n",
    "    return prod"
   ]
  },
  {
   "cell_type": "code",
   "execution_count": 4,
   "id": "29be61e1",
   "metadata": {},
   "outputs": [],
   "source": [
    "# cf.prepare_function(custom_function=True, f=miyake_event_fixed_solar)"
   ]
  },
  {
   "cell_type": "code",
   "execution_count": 5,
   "id": "f2e24ac8",
   "metadata": {},
   "outputs": [],
   "source": [
    "# %%time\n",
    "# default_params = [775., 1./12, np.pi/2., 81./12]\n",
    "# sampler = cf.sampling(default_params, burnin=100, production=200)"
   ]
  },
  {
   "cell_type": "code",
   "execution_count": 6,
   "id": "0ba770bd",
   "metadata": {},
   "outputs": [
    {
     "ename": "NameError",
     "evalue": "name 'start_time' is not defined",
     "output_type": "error",
     "traceback": [
      "\u001b[0;31m---------------------------------------------------------------------------\u001b[0m",
      "\u001b[0;31mNameError\u001b[0m                                 Traceback (most recent call last)",
      "\u001b[0;32m/tmp/ipykernel_5788/4074097571.py\u001b[0m in \u001b[0;36m<module>\u001b[0;34m\u001b[0m\n\u001b[1;32m      1\u001b[0m \u001b[0mt\u001b[0m \u001b[0;34m=\u001b[0m \u001b[0mnp\u001b[0m\u001b[0;34m.\u001b[0m\u001b[0marange\u001b[0m\u001b[0;34m(\u001b[0m\u001b[0;36m760\u001b[0m\u001b[0;34m,\u001b[0m \u001b[0;36m788\u001b[0m\u001b[0;34m)\u001b[0m\u001b[0;34m\u001b[0m\u001b[0;34m\u001b[0m\u001b[0m\n\u001b[0;32m----> 2\u001b[0;31m \u001b[0mcontrol_points\u001b[0m \u001b[0;34m=\u001b[0m \u001b[0mmiyake_event_fixed_solar\u001b[0m\u001b[0;34m(\u001b[0m\u001b[0mt\u001b[0m\u001b[0;34m,\u001b[0m \u001b[0mstart_time\u001b[0m\u001b[0;34m,\u001b[0m \u001b[0mduration\u001b[0m\u001b[0;34m,\u001b[0m \u001b[0mphase\u001b[0m\u001b[0;34m,\u001b[0m \u001b[0marea\u001b[0m\u001b[0;34m)\u001b[0m\u001b[0;34m\u001b[0m\u001b[0;34m\u001b[0m\u001b[0m\n\u001b[0m\u001b[1;32m      3\u001b[0m \u001b[0mcf\u001b[0m\u001b[0;34m.\u001b[0m\u001b[0mprepare_function\u001b[0m\u001b[0;34m(\u001b[0m\u001b[0muse_control_points\u001b[0m\u001b[0;34m=\u001b[0m\u001b[0;32mTrue\u001b[0m\u001b[0;34m,\u001b[0m \u001b[0myears\u001b[0m\u001b[0;34m=\u001b[0m\u001b[0mt\u001b[0m\u001b[0;34m,\u001b[0m \u001b[0mcontrol_points\u001b[0m\u001b[0;34m=\u001b[0m\u001b[0mcontrol_points\u001b[0m\u001b[0;34m)\u001b[0m\u001b[0;34m\u001b[0m\u001b[0;34m\u001b[0m\u001b[0m\n",
      "\u001b[0;31mNameError\u001b[0m: name 'start_time' is not defined"
     ]
    }
   ],
   "source": [
    "start_time, duration, phase, area = [775., 1./12, np.pi/2., 81./12]\n",
    "t = np.arange(760, 788)\n",
    "control_points = miyake_event_fixed_solar(t, start_time, duration, phase, area)\n",
    "cf.prepare_function(use_control_points=True, years=t, control_points=control_points)"
   ]
  },
  {
   "cell_type": "code",
   "execution_count": null,
   "id": "edf26677",
   "metadata": {},
   "outputs": [],
   "source": [
    "sampler = cf.sampling(control_points, burnin=100, production=200)"
   ]
  },
  {
   "cell_type": "code",
   "execution_count": null,
   "id": "c7bf3682",
   "metadata": {},
   "outputs": [],
   "source": [
    "cf.corner_plot(sampler, save=True)"
   ]
  },
  {
   "cell_type": "code",
   "execution_count": null,
   "id": "b47783cf",
   "metadata": {},
   "outputs": [],
   "source": []
  }
 ],
 "metadata": {
  "kernelspec": {
   "display_name": "Python 3 (ipykernel)",
   "language": "python",
   "name": "python3"
  },
  "language_info": {
   "codemirror_mode": {
    "name": "ipython",
    "version": 3
   },
   "file_extension": ".py",
   "mimetype": "text/x-python",
   "name": "python",
   "nbconvert_exporter": "python",
   "pygments_lexer": "ipython3",
   "version": "3.8.10"
  }
 },
 "nbformat": 4,
 "nbformat_minor": 5
}
