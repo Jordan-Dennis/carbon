{
 "cells": [
  {
   "cell_type": "code",
   "execution_count": 15,
   "id": "b6eb5980",
   "metadata": {},
   "outputs": [],
   "source": [
    "import diffrax\n",
    "import jax\n",
    "from jax.experimental import ode"
   ]
  },
  {
   "cell_type": "code",
   "execution_count": 52,
   "id": "80ec9987",
   "metadata": {},
   "outputs": [],
   "source": [
    "PARAMS = (774.86, 0.25, 0.8, 6.44)\n",
    "\n",
    "STEADY_PROD = 1.8803862513018528\n",
    "\n",
    "STEADY_STATE = jax.numpy.array(\n",
    "    [1.34432991e+02, 7.07000000e+02, 1.18701144e+03,\n",
    "    3.95666872e+00, 4.49574232e+04, 1.55056740e+02,\n",
    "    6.32017337e+02, 4.22182768e+02, 1.80125397e+03,\n",
    "    6.63307283e+02, 7.28080320e+03], \n",
    "    dtype=jax.numpy.float64)\n",
    "\n",
    "PROD_COEFFS = jax.numpy.array(\n",
    "    [0.7, 0.3, 0.0, 0.0, 0.0, 0.0, 0.0, 0.0, 0.0, 0.0, 0.0], \n",
    "    dtype=jax.numpy.float64)\n",
    "\n",
    "MATRIX = jax.numpy.array([\n",
    "    [-0.509, 0.009, 0.0, 0.0, 0.0, 0.0, 0.0, 0.0, 0.0, 0.0, 0.0],\n",
    "    [0.508, -0.44, 0.068, 0.0, 0.0, 0.545, 0.0, 0.167, 0.002, 0.002, 0.0],\n",
    "    [0.0, 0.121, -0.155, 12.0, 0.001, 0.0, 0.0, 0.003, 0.0, 0.0, 0.0],\n",
    "    [0.0, 0.0, 4.4000e-02, -1.3333e+01, 0.0, 0.0, 0.0, 0.0, 0.0, 0.0, 0.0],\n",
    "    [0.0, 0.0, 0.042, 1.333, -0.001, 0.0, 0.0, 0.0, 0.0, 0.0, 0.0],\n",
    "    [0.0, 0.229, 0.0, 0.0, 0.0, -1.046, 0.0, 0.0, 0.0, 0.0, 0.0],\n",
    "    [0.0, 0.0, 0.0, 0.0, 0.0, 0.136, -0.033, 0.0, 0.0, 0.0, 0.0],\n",
    "    [0.0, 0.0, 0.0, 0.0, 0.0, 0.364, 0.033, -0.183, 0.0, 0.0, 0.0],\n",
    "    [0.0, 0.0, 0.0, 0.0, 0.0, 0.0, 0.0, 0.01, -0.002, 0.0, 0.0],\n",
    "    [0.0, 0.0, 0.0, 0.0, 0.0, 0.0, 0.0, 0.003, 0.0, -0.002, 0.0],\n",
    "    [0.0, 0.0, 3.333e-04, 0.0, 5.291e-06, 0.0, 0.0, 0.0, 0.0, 4.0e-04, -1.2340e-04]], \n",
    "    dtype=jax.numpy.float64)\n",
    "\n",
    "DATA = jax.numpy.array(\n",
    "    [[760.   , 761.   , 762.   , 763.   , 764.   , 765.   ,\n",
    "      766.   , 767.   , 768.   , 769.   , 770.   , 771.   ,\n",
    "      772.   , 773.   , 774.   , 775.   , 776.   , 777.   ,\n",
    "      778.   , 779.   , 780.   , 781.   , 782.   , 783.   ,\n",
    "      784.   , 785.   , 786.   , 787.   ],\n",
    "     [-21.63 , -22.28 , -22.64 , -23.83 , -22.2  , -22.99 ,\n",
    "      -20.73 , -21.59 , -25.32 , -25.6  , -25.7  , -24.   ,\n",
    "      -23.73 , -21.91 , -23.44 ,  -9.335,  -6.46 ,  -9.7  ,\n",
    "      -11.17 , -10.31 , -11.1  , -10.72 , -10.67 ,  -8.63 ,\n",
    "       -9.68 ,  -9.31 , -12.33 , -14.44 ],\n",
    "     [  1.8  ,   1.84 ,   2.02 ,   1.79 ,   1.77 ,   1.25 ,\n",
    "        1.83 ,   1.79 ,   1.85 ,   1.705,   1.82 ,   1.72 ,\n",
    "        1.26 ,   1.28 ,   1.73 ,   1.97 ,   1.3  ,   1.78 ,\n",
    "        1.76 ,   1.33 ,   1.27 ,   1.735,   1.76 ,   1.74 ,\n",
    "        1.76 ,   1.73 ,   1.77 ,   1.83 ]], \n",
    "    dtype=jax.numpy.float64)"
   ]
  },
  {
   "cell_type": "code",
   "execution_count": 71,
   "id": "9996fa45",
   "metadata": {},
   "outputs": [],
   "source": [
    "@jax.jit \n",
    "def driving_term(t, args):\n",
    "    start_time, duration, phase, area = jax.numpy.array(args)\n",
    "    middle = start_time + duration / 2.\n",
    "    height = area / duration\n",
    "\n",
    "    gauss = height * \\\n",
    "        jax.numpy.exp(- ((t - middle) / (0.5 * duration)) ** 16.)\n",
    "    sine = STEADY_PROD + 0.18 * STEADY_PROD *\\\n",
    "        jax.numpy.sin(2 * jax.numpy.pi / 11 * t + phase * 2 * jax.numpy.pi / 11)\n",
    "\n",
    "    return (sine + gauss) * 3.747"
   ]
  },
  {
   "cell_type": "code",
   "execution_count": 54,
   "id": "5a280d85",
   "metadata": {},
   "outputs": [],
   "source": [
    "@jax.jit\n",
    "def jax_dydt(y, t, args, /, matrix=MATRIX, production=driving_term, \n",
    "                   prod_coeffs=PROD_COEFFS):\n",
    "    ans = jax.numpy.matmul(matrix, y)\n",
    "    production_rate_constant = production(t, args)\n",
    "    production_term = prod_coeffs * production_rate_constant\n",
    "    return ans + production_term"
   ]
  },
  {
   "cell_type": "code",
   "execution_count": 55,
   "id": "7e815790",
   "metadata": {},
   "outputs": [],
   "source": [
    "@jax.jit\n",
    "def diffrax_dydt(t, y, args, /, matrix=MATRIX, production=driving_term, \n",
    "                 prod_coeffs=PROD_COEFFS):\n",
    "    ans = jax.numpy.matmul(matrix, y)\n",
    "    production_rate_constant = production(t, args)\n",
    "    production_term = prod_coeffs * production_rate_constant\n",
    "    return ans + production_term"
   ]
  },
  {
   "cell_type": "code",
   "execution_count": 56,
   "id": "b9b21494",
   "metadata": {},
   "outputs": [],
   "source": [
    "time_out = jax.numpy.linspace(750, 800, 1000)"
   ]
  },
  {
   "cell_type": "code",
   "execution_count": 57,
   "id": "42e74b7b",
   "metadata": {},
   "outputs": [],
   "source": [
    "term = diffrax.ODETerm(diffrax_dydt)\n",
    "solver = diffrax.Dopri5()\n",
    "step_size = diffrax.PIDController(rtol=1.4e-8, atol=1.4e-8)\n",
    "save_time = diffrax.SaveAt(ts=DATA[0])\n",
    "adjoint = diffrax.BacksolveAdjoint()"
   ]
  },
  {
   "cell_type": "code",
   "execution_count": 58,
   "id": "2466c466",
   "metadata": {},
   "outputs": [
    {
     "name": "stdout",
     "output_type": "stream",
     "text": [
      "1.7 ms ± 454 µs per loop (mean ± std. dev. of 7 runs, 1 loop each)\n"
     ]
    }
   ],
   "source": [
    "%%timeit\n",
    "diffrax.diffeqsolve(args=PARAMS, terms=term, solver=solver, y0=STEADY_STATE,\n",
    "    t0=time_out.min(), t1=time_out.max(), dt0=None, saveat=save_time, \n",
    "    stepsize_controller=step_size, adjoint=diffrax.BacksolveAdjoint())"
   ]
  },
  {
   "cell_type": "code",
   "execution_count": 59,
   "id": "07fd2c0a",
   "metadata": {},
   "outputs": [
    {
     "name": "stdout",
     "output_type": "stream",
     "text": [
      "1.83 ms ± 365 µs per loop (mean ± std. dev. of 7 runs, 1 loop each)\n"
     ]
    }
   ],
   "source": [
    "%%timeit\n",
    "ode.odeint(jax_dydt, STEADY_STATE, time_out, PARAMS)"
   ]
  },
  {
   "cell_type": "code",
   "execution_count": 60,
   "id": "1e3c7d2a",
   "metadata": {},
   "outputs": [],
   "source": [
    "def diffrax_loss(args):\n",
    "    solution = diffrax.diffeqsolve(args=args, terms=term, solver=solver, \n",
    "        y0=STEADY_STATE, t0=DATA[0].min(), t1=DATA[0].max(), dt0=None, \n",
    "        saveat=save_time, stepsize_controller=step_size, adjoint=adjoint)\n",
    "    chi_sq = jax.numpy.sum((solution.ys[:, 1] - DATA[1]) ** 2 / DATA[2] ** 2)\n",
    "    return -0.5 * chi_sq"
   ]
  },
  {
   "cell_type": "code",
   "execution_count": 61,
   "id": "34e3d8bf",
   "metadata": {},
   "outputs": [
    {
     "data": {
      "text/plain": [
       "DeviceArray(-1589495.8, dtype=float32)"
      ]
     },
     "execution_count": 61,
     "metadata": {},
     "output_type": "execute_result"
    }
   ],
   "source": [
    "diffrax_loss(PARAMS)"
   ]
  },
  {
   "cell_type": "code",
   "execution_count": 62,
   "id": "2632909c",
   "metadata": {},
   "outputs": [],
   "source": [
    "solution = diffrax.diffeqsolve(args=PARAMS, terms=term, solver=solver, \n",
    "    y0=STEADY_STATE, t0=DATA[0].min(), t1=DATA[0].max(), dt0=None, \n",
    "    saveat=save_time, stepsize_controller=step_size, \n",
    "    adjoint=adjoint)"
   ]
  },
  {
   "cell_type": "code",
   "execution_count": 72,
   "id": "42552f40",
   "metadata": {},
   "outputs": [],
   "source": [
    "other = ode.odeint(jax_dydt, STEADY_STATE, DATA[0], PARAMS)"
   ]
  },
  {
   "cell_type": "code",
   "execution_count": 73,
   "id": "ca843ea7",
   "metadata": {},
   "outputs": [
    {
     "data": {
      "text/plain": [
       "DeviceArray([707.     , 698.3763 , 678.63043, 655.68616, 632.80286,\n",
       "             611.2571 , 591.5289 , 573.8107 , 558.1906 , 544.6645 ,\n",
       "             533.106  , 523.2324 , 514.6256 , 506.80692, 499.3244 ,\n",
       "             498.46262, 500.4077 , 493.50024, 485.08173, 476.5814 ,\n",
       "             468.7744 , 461.99274, 456.24097, 451.28214, 446.74808,\n",
       "             442.2632 , 437.55753, 432.5397 ], dtype=float32)"
      ]
     },
     "execution_count": 73,
     "metadata": {},
     "output_type": "execute_result"
    }
   ],
   "source": [
    "other[:, 1]"
   ]
  },
  {
   "cell_type": "code",
   "execution_count": 65,
   "id": "a7885ed1",
   "metadata": {},
   "outputs": [],
   "source": [
    "import matplotlib.pyplot as pyplot"
   ]
  },
  {
   "cell_type": "code",
   "execution_count": 74,
   "id": "2a880a7e",
   "metadata": {},
   "outputs": [
    {
     "data": {
      "text/plain": [
       "[<matplotlib.lines.Line2D at 0x7f7f202c85e0>]"
      ]
     },
     "execution_count": 74,
     "metadata": {},
     "output_type": "execute_result"
    },
    {
     "data": {
      "image/png": "[encoded data removed]",
      "text/plain": [
       "<Figure size 432x288 with 1 Axes>"
      ]
     },
     "metadata": {
      "needs_background": "light"
     },
     "output_type": "display_data"
    }
   ],
   "source": [
    "pyplot.plot(other[:, 1])"
   ]
  },
  {
   "cell_type": "code",
   "execution_count": null,
   "id": "03e8064c",
   "metadata": {},
   "outputs": [],
   "source": []
  },
  {
   "cell_type": "code",
   "execution_count": null,
   "id": "61398cba",
   "metadata": {},
   "outputs": [],
   "source": []
  }
 ],
 "metadata": {
  "kernelspec": {
   "display_name": "Python 3.9.0 64-bit ('kitkat': conda)",
   "language": "python",
   "name": "python390jvsc74a57bd0ab79d763119790aea00e8eaeb5d3be48434571919ae202ec38e1b7aefb77c6d3"
  },
  "language_info": {
   "codemirror_mode": {
    "name": "ipython",
    "version": 3
   },
   "file_extension": ".py",
   "mimetype": "text/x-python",
   "name": "python",
   "nbconvert_exporter": "python",
   "pygments_lexer": "ipython3",
   "version": "3.9.7"
  }
 },
 "nbformat": 4,
 "nbformat_minor": 5
}
