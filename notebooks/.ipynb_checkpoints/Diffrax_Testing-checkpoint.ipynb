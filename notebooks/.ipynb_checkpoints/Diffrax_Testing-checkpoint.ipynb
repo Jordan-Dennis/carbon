{
 "cells": [
  {
   "cell_type": "code",
   "execution_count": 1,
   "id": "b6eb5980",
   "metadata": {},
   "outputs": [],
   "source": [
    "import diffrax\n",
    "import jax\n",
    "from jax.experimental import ode\n",
    "jax.config.update(\"jax_enable_x64\", True)"
   ]
  },
  {
   "cell_type": "code",
   "execution_count": 2,
   "id": "80ec9987",
   "metadata": {},
   "outputs": [
    {
     "name": "stderr",
     "output_type": "stream",
     "text": [
      "WARNING:absl:No GPU/TPU found, falling back to CPU. (Set TF_CPP_MIN_LOG_LEVEL=0 and rerun for more info.)\n"
     ]
    }
   ],
   "source": [
    "PARAMS = jax.numpy.array([1.0, 1.0], dtype=jax.numpy.float64)\n",
    "MATRIX = jax.numpy.array([[2.0, 1.0], [1.0, 2.0]], dtype=jax.numpy.float64)\n",
    "Y_INIT = jax.numpy.array([0.0, 0.0], dtype=jax.numpy.float64)\n",
    "TIMES = jax.numpy.linspace(0, 1, 100)"
   ]
  },
  {
   "cell_type": "code",
   "execution_count": 41,
   "id": "fa2ac641",
   "metadata": {},
   "outputs": [],
   "source": [
    "def my_ode(t, y, args):\n",
    "    return MATRIX @ y + jax.numpy.array([jax.numpy.exp(t), jax.numpy.sin(t)])"
   ]
  },
  {
   "cell_type": "code",
   "execution_count": 42,
   "id": "9585411e",
   "metadata": {},
   "outputs": [],
   "source": [
    "@jax.jit\n",
    "def diffrax_loss(times):\n",
    "    solution = diffrax.diffeqsolve(\n",
    "        terms=diffrax.ODETerm(my_ode),\n",
    "        solver=diffrax.Dopri5(),\n",
    "        t0=TIMES.min(),\n",
    "        t1=TIMES.max(),\n",
    "        dt0=None,\n",
    "        y0=Y_INIT,\n",
    "        stepsize_controller=diffrax.PIDController(rtol=1.4e-8, atol=1.4e-8),\n",
    "        saveat=diffrax.SaveAt(ts=times),\n",
    "        adjoint=diffrax.BacksolveAdjoint(),\n",
    "    )\n",
    "    return solution.ys"
   ]
  },
  {
   "cell_type": "code",
   "execution_count": 47,
   "id": "e7e966a0",
   "metadata": {},
   "outputs": [
    {
     "name": "stdout",
     "output_type": "stream",
     "text": [
      "105 µs ± 9.69 µs per loop (mean ± std. dev. of 7 runs, 10000 loops each)\n"
     ]
    }
   ],
   "source": [
    "%%timeit\n",
    "other_test = diffrax_loss(TIMES)"
   ]
  },
  {
   "cell_type": "code",
   "execution_count": 9,
   "id": "8e0851cb",
   "metadata": {},
   "outputs": [],
   "source": [
    "def jax_ode(y, t, args):\n",
    "    return MATRIX @ y + jax.numpy.array([jax.numpy.exp(t), jax.numpy.sin(t)])"
   ]
  },
  {
   "cell_type": "code",
   "execution_count": 44,
   "id": "17dfd81d",
   "metadata": {},
   "outputs": [],
   "source": [
    "@jax.jit\n",
    "def jax_loss(times):\n",
    "    _my_ode = lambda y, t, args: my_ode(t, y, 0)\n",
    "    solution = ode.odeint(_my_ode, Y_INIT, times, 0)\n",
    "    return jax.numpy.sum(solution)"
   ]
  },
  {
   "cell_type": "code",
   "execution_count": 18,
   "id": "b8e1fe20",
   "metadata": {},
   "outputs": [],
   "source": [
    "@jax.jit\n",
    "def jax_loss(time):\n",
    "    solution = ode.odeint(jax_ode, Y_INIT, time, 0)\n",
    "    return solution"
   ]
  },
  {
   "cell_type": "code",
   "execution_count": 46,
   "id": "a075c74b",
   "metadata": {},
   "outputs": [
    {
     "name": "stdout",
     "output_type": "stream",
     "text": [
      "22.3 µs ± 696 ns per loop (mean ± std. dev. of 7 runs, 100000 loops each)\n"
     ]
    }
   ],
   "source": [
    "%%timeit\n",
    "test = jax_loss(TIMES)"
   ]
  }
 ],
 "metadata": {
  "kernelspec": {
   "display_name": "Python 3.9.0 64-bit ('kitkat': conda)",
   "language": "python",
   "name": "python390jvsc74a57bd0ab79d763119790aea00e8eaeb5d3be48434571919ae202ec38e1b7aefb77c6d3"
  },
  "language_info": {
   "codemirror_mode": {
    "name": "ipython",
    "version": 3
   },
   "file_extension": ".py",
   "mimetype": "text/x-python",
   "name": "python",
   "nbconvert_exporter": "python",
   "pygments_lexer": "ipython3",
   "version": "3.9.7"
  }
 },
 "nbformat": 4,
 "nbformat_minor": 5
}
