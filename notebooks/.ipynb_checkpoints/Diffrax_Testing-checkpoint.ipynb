{
 "cells": [
  {
   "cell_type": "code",
   "execution_count": 13,
   "id": "b6eb5980",
   "metadata": {},
   "outputs": [],
   "source": [
    "import diffrax\n",
    "import jax\n",
    "from jax.experimental import ode\n",
    "import matplotlib.pyplot as pyplot"
   ]
  },
  {
   "cell_type": "code",
   "execution_count": 5,
   "id": "80ec9987",
   "metadata": {},
   "outputs": [],
   "source": [
    "PARAMS = jax.numpy.array([1.0, 0.0], dtype=jax.numpy.float64)\n",
    "MATRIX = jax.numpy.array([[2.0, 3.0], [1.0, 5.0]], dtype=jax.numpy.float64)\n",
    "Y_INIT = jax.numpy.array([0.0, 0.0], dtype=jax.numpy.float64)"
   ]
  },
  {
   "cell_type": "code",
   "execution_count": 4,
   "id": "360f1b40",
   "metadata": {},
   "outputs": [],
   "source": [
    "@jax.jit\n",
    "def driving_term(t, args):\n",
    "    return jax.numpy.full((2,), jax.numpy.exp(t)) * args"
   ]
  },
  {
   "cell_type": "code",
   "execution_count": 9,
   "id": "bfdae84e",
   "metadata": {},
   "outputs": [],
   "source": [
    "@jax.jit\n",
    "def jax_ode(y, t, args):\n",
    "    return MATRIX @ y + driving_term(t, args)"
   ]
  },
  {
   "cell_type": "code",
   "execution_count": 10,
   "id": "1a16c646",
   "metadata": {},
   "outputs": [],
   "source": [
    "times = jax.numpy.linspace(0, 1, 100)"
   ]
  },
  {
   "cell_type": "code",
   "execution_count": 12,
   "id": "e7388d6a",
   "metadata": {},
   "outputs": [],
   "source": [
    "jax_solution = ode.odeint(jax_ode, Y_INIT, times, PARAMS)"
   ]
  },
  {
   "cell_type": "code",
   "execution_count": 14,
   "id": "e50bfe16",
   "metadata": {},
   "outputs": [
    {
     "data": {
      "text/plain": [
       "[<matplotlib.lines.Line2D at 0x7fe0c004cbb0>,\n",
       " <matplotlib.lines.Line2D at 0x7fe0b87c53d0>]"
      ]
     },
     "execution_count": 14,
     "metadata": {},
     "output_type": "execute_result"
    },
    {
     "data": {
      "image/png": "[encoded data removed]",
      "text/plain": [
       "<Figure size 432x288 with 1 Axes>"
      ]
     },
     "metadata": {
      "needs_background": "light"
     },
     "output_type": "display_data"
    }
   ],
   "source": [
    "pyplot.plot(jax_solution)"
   ]
  },
  {
   "cell_type": "markdown",
   "id": "b509189f",
   "metadata": {},
   "source": [
    "So at this point I know that ode.odeint is faster when removed, but is recompiling every run for some fucking reason. I believe the recompilation is happening because I am calling a `jit`'ed function from within another `jit`'ed function. This behaviour can be avoided either using `static_argnums` or `jax.tree_util.Partial`.\n",
    "\n",
    "I need to communicate with Ben and discuss the implications of these findings on the structure. So nothing came back at this point I am ready to riot. "
   ]
  }
 ],
 "metadata": {
  "kernelspec": {
   "display_name": "Python 3.9.0 64-bit ('kitkat': conda)",
   "language": "python",
   "name": "python390jvsc74a57bd0ab79d763119790aea00e8eaeb5d3be48434571919ae202ec38e1b7aefb77c6d3"
  },
  "language_info": {
   "codemirror_mode": {
    "name": "ipython",
    "version": 3
   },
   "file_extension": ".py",
   "mimetype": "text/x-python",
   "name": "python",
   "nbconvert_exporter": "python",
   "pygments_lexer": "ipython3",
   "version": "3.9.7"
  }
 },
 "nbformat": 4,
 "nbformat_minor": 5
}
