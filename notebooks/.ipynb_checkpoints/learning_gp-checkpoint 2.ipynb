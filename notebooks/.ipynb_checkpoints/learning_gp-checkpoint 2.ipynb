{
 "cells": [
  {
   "cell_type": "code",
   "execution_count": 1,
   "id": "90c5f276",
   "metadata": {},
   "outputs": [],
   "source": [
    "import numpy as np\n",
    "import matplotlib.pyplot as plt\n",
    "from matplotlib.pyplot import rcParams\n",
    "import warnings\n",
    "warnings.filterwarnings('ignore')\n",
    "\n",
    "import re\n",
    "import jax.numpy as jnp\n",
    "from jax import grad, jit, partial\n",
    "import ticktack\n",
    "from ticktack import fitting\n",
    "from tqdm import tqdm\n",
    "import scipy\n",
    "\n",
    "rcParams['figure.figsize'] = (10.0, 5.0)"
   ]
  },
  {
   "cell_type": "code",
   "execution_count": 2,
   "id": "9f49163c",
   "metadata": {},
   "outputs": [],
   "source": [
    "import celerite2\n",
    "from celerite2 import terms"
   ]
  },
  {
   "cell_type": "code",
   "execution_count": 3,
   "id": "2f34b24c",
   "metadata": {},
   "outputs": [],
   "source": [
    "cbm = ticktack.load_presaved_model('Guttler14', production_rate_units = 'atoms/cm^2/s')\n",
    "cf = fitting.CarbonFitter(cbm)\n",
    "cf.load_data('400_BCE_Data_processed.csv', time_oversample=50)\n",
    "cf.prepare_function(use_control_points=True, gap_years=3, dense_years=2)"
   ]
  },
  {
   "cell_type": "code",
   "execution_count": 4,
   "id": "350c2b89",
   "metadata": {},
   "outputs": [
    {
     "data": {
      "text/plain": [
       "DeviceArray([-426, -422, -418, -414, -413, -412, -411, -410, -409, -408,\n",
       "             -407, -406, -405, -404, -403, -402, -401, -400, -399, -398,\n",
       "             -397, -396, -395, -394, -390, -386, -382, -375, -373, -371,\n",
       "             -367, -365, -363, -361, -359, -357, -355, -353, -351, -349,\n",
       "             -347, -345, -343, -341, -339, -337, -335, -333, -331, -329,\n",
       "             -327, -325], dtype=int64)"
      ]
     },
     "execution_count": 4,
     "metadata": {},
     "output_type": "execute_result"
    }
   ],
   "source": [
    "cf.time_data"
   ]
  },
  {
   "cell_type": "code",
   "execution_count": 5,
   "id": "5af21f66",
   "metadata": {},
   "outputs": [
    {
     "name": "stdout",
     "output_type": "stream",
     "text": [
      "Initial log likelihood: -412.7961537890079\n"
     ]
    }
   ],
   "source": [
    "term = terms.Matern32Term(sigma=1.0, rho=1)\n",
    "kernel = term\n",
    "\n",
    "# Setup the GP\n",
    "gp = celerite2.GaussianProcess(kernel, mean=0.0)\n",
    "gp.compute(cf.time_data, yerr=cf.d14c_data_error)\n",
    "\n",
    "print(\"Initial log likelihood: {0}\".format(gp.log_likelihood(cf.d14c_data)))"
   ]
  },
  {
   "cell_type": "code",
   "execution_count": 6,
   "id": "c8029bec",
   "metadata": {},
   "outputs": [
    {
     "data": {
      "text/plain": [
       "<matplotlib.legend.Legend at 0x7f3ba5c6dca0>"
      ]
     },
     "execution_count": 6,
     "metadata": {},
     "output_type": "execute_result"
    },
    {
     "data": {
      "image/png": "[encoded data removed]",
      "text/plain": [
       "<Figure size 720x360 with 1 Axes>"
      ]
     },
     "metadata": {
      "needs_background": "light"
     },
     "output_type": "display_data"
    }
   ],
   "source": [
    "mu, variance = gp.predict(cf.d14c_data, t=cf.time_data, return_var=True)\n",
    "sigma = np.sqrt(variance)\n",
    "plt.plot(cf.time_data, mu, \".\", label=\"prediction\")\n",
    "plt.errorbar(cf.time_data, cf.d14c_data, yerr=cf.d14c_data_error, fmt=\".k\", capsize=0, label=\"truth\")\n",
    "plt.legend()\n",
    "# plt.fill_between(true_t, mu - sigma, mu + sigma, color=\"C0\", alpha=0.2)"
   ]
  },
  {
   "cell_type": "markdown",
   "id": "7f938762",
   "metadata": {},
   "source": [
    "Optimization"
   ]
  },
  {
   "cell_type": "code",
   "execution_count": 7,
   "id": "adf1805c",
   "metadata": {},
   "outputs": [
    {
     "data": {
      "text/plain": [
       "      fun: 118.54813321866615\n",
       " hess_inv: <4x4 LbfgsInvHessProduct with dtype=float64>\n",
       "      jac: array([-1.36424194e-04, -4.12114789e-05,  2.94164694e-04,  1.63424816e-04])\n",
       "  message: 'CONVERGENCE: REL_REDUCTION_OF_F_<=_FACTR*EPSMCH'\n",
       "     nfev: 110\n",
       "      nit: 21\n",
       "     njev: 22\n",
       "   status: 0\n",
       "  success: True\n",
       "        x: array([-8.70295192,  2.19152106,  4.47806551, -9.25863802])"
      ]
     },
     "execution_count": 7,
     "metadata": {},
     "output_type": "execute_result"
    }
   ],
   "source": [
    "def set_params(params, gp):\n",
    "    gp.mean = params[0]\n",
    "    theta = np.exp(params[1:])\n",
    "    gp.kernel = terms.Matern32Term(sigma=theta[0], rho=theta[1])\n",
    "    gp.compute(cf.time_data, diag=cf.d14c_data_error ** 2 + theta[2])\n",
    "    return gp\n",
    "\n",
    "\n",
    "def neg_log_like(params, gp):\n",
    "    gp = set_params(params, gp)\n",
    "    return -gp.log_likelihood(cf.d14c_data)\n",
    "\n",
    "initial_params = [0.0, 1., 1., 1.]\n",
    "soln = scipy.optimize.minimize(neg_log_like, initial_params, method=\"L-BFGS-B\", args=(gp,))\n",
    "opt_gp = set_params(soln.x, gp)\n",
    "soln"
   ]
  },
  {
   "cell_type": "code",
   "execution_count": 21,
   "id": "11c88883",
   "metadata": {},
   "outputs": [
    {
     "data": {
      "text/plain": [
       "-118.54813321866615"
      ]
     },
     "execution_count": 21,
     "metadata": {},
     "output_type": "execute_result"
    }
   ],
   "source": [
    "gp.log_likelihood(cf.d14c_data)"
   ]
  },
  {
   "cell_type": "code",
   "execution_count": 22,
   "id": "4fd16972",
   "metadata": {},
   "outputs": [
    {
     "data": {
      "text/plain": [
       "{'value': -8.702951923098391}"
      ]
     },
     "execution_count": 22,
     "metadata": {},
     "output_type": "execute_result"
    }
   ],
   "source": [
    "gp.mean.__dict__"
   ]
  },
  {
   "cell_type": "code",
   "execution_count": 9,
   "id": "b1d3d00a",
   "metadata": {},
   "outputs": [],
   "source": [
    "t = cf.time_grid_fine"
   ]
  },
  {
   "cell_type": "code",
   "execution_count": 10,
   "id": "e6058a82",
   "metadata": {},
   "outputs": [
    {
     "data": {
      "text/plain": [
       "<matplotlib.legend.Legend at 0x7f3b9c456f70>"
      ]
     },
     "execution_count": 10,
     "metadata": {},
     "output_type": "execute_result"
    },
    {
     "data": {
      "image/png": "[encoded data removed]",
      "text/plain": [
       "<Figure size 720x360 with 1 Axes>"
      ]
     },
     "metadata": {
      "needs_background": "light"
     },
     "output_type": "display_data"
    }
   ],
   "source": [
    "# mu, variance = gp.predict(cf.d14c_data, t=cf.time_data, return_var=True)\n",
    "mu, variance = gp.predict(cf.d14c_data, t=cf.time_grid_fine, return_var=True)\n",
    "sigma = np.sqrt(variance)\n",
    "plt.plot(cf.time_grid_fine, mu, \".\", label=\"prediction\")\n",
    "plt.errorbar(cf.time_data, cf.d14c_data, yerr=cf.d14c_data_error, fmt=\".k\", capsize=0, label=\"truth\")\n",
    "plt.legend()\n",
    "# plt.fill_between(true_t, mu - sigma, mu + sigma, color=\"C0\", alpha=0.2)"
   ]
  },
  {
   "cell_type": "code",
   "execution_count": 16,
   "id": "8a4e2740",
   "metadata": {},
   "outputs": [],
   "source": [
    "tval = jnp.array(())\n",
    "mu, variance = gp.predict(cf.d14c_data, t=tval, return_var=True)"
   ]
  },
  {
   "cell_type": "code",
   "execution_count": 20,
   "id": "3cf39280",
   "metadata": {},
   "outputs": [
    {
     "data": {
      "text/plain": [
       "(0,)"
      ]
     },
     "execution_count": 20,
     "metadata": {},
     "output_type": "execute_result"
    }
   ],
   "source": [
    "tval.reshape(-1,)\n",
    "tval.shape"
   ]
  },
  {
   "cell_type": "code",
   "execution_count": null,
   "id": "93d8fc41",
   "metadata": {},
   "outputs": [],
   "source": []
  }
 ],
 "metadata": {
  "kernelspec": {
   "display_name": "Python 3 (ipykernel)",
   "language": "python",
   "name": "python3"
  },
  "language_info": {
   "codemirror_mode": {
    "name": "ipython",
    "version": 3
   },
   "file_extension": ".py",
   "mimetype": "text/x-python",
   "name": "python",
   "nbconvert_exporter": "python",
   "pygments_lexer": "ipython3",
   "version": "3.8.10"
  }
 },
 "nbformat": 4,
 "nbformat_minor": 5
}
