{
 "cells": [
  {
   "cell_type": "code",
   "execution_count": 20,
   "id": "7dbb1037",
   "metadata": {},
   "outputs": [],
   "source": [
    "import numpy as np\n",
    "import matplotlib.pyplot as plt\n",
    "from matplotlib.pyplot import rcParams\n",
    "import pandas as pd\n",
    "import warnings\n",
    "warnings.filterwarnings('ignore')\n",
    "\n",
    "import re\n",
    "import jax.numpy as jnp\n",
    "from jax import grad, jit, partial\n",
    "import ticktack\n",
    "from ticktack import fitting_celerite as fitting\n",
    "from tqdm import tqdm\n",
    "import scipy\n",
    "\n",
    "rcParams['figure.figsize'] = (8.0, 4.0)"
   ]
  },
  {
   "cell_type": "code",
   "execution_count": 11,
   "id": "a4ef150d",
   "metadata": {},
   "outputs": [],
   "source": [
    "@jit\n",
    "def sine(t):\n",
    "    prod =  1.87 + 0.18 * 1.87 * jnp.sin(2 * jnp.pi / 11 * t + jnp.pi/2)\n",
    "    return prod"
   ]
  },
  {
   "cell_type": "code",
   "execution_count": 12,
   "id": "a620e494",
   "metadata": {},
   "outputs": [],
   "source": [
    "cbm = ticktack.load_presaved_model('Guttler14', production_rate_units = 'atoms/cm^2/s')\n",
    "cf = fitting.CarbonFitter(cbm)\n",
    "cf.load_data('400_BCE_Data_processed.csv')\n",
    "cf.prepare_function(custom_function=True, f=sine)"
   ]
  },
  {
   "cell_type": "code",
   "execution_count": 15,
   "id": "52fb6726",
   "metadata": {},
   "outputs": [],
   "source": [
    "out = cf.dc14()"
   ]
  },
  {
   "cell_type": "code",
   "execution_count": null,
   "id": "802505f5",
   "metadata": {},
   "outputs": [],
   "source": [
    "arr = np.zeros((out.size, 2))\n",
    "arr[0, :] = cf.time_data[:-1]\n",
    "arr[1, :] = out"
   ]
  },
  {
   "cell_type": "code",
   "execution_count": 33,
   "id": "a1de8e9c",
   "metadata": {},
   "outputs": [],
   "source": []
  },
  {
   "cell_type": "code",
   "execution_count": 36,
   "id": "3c69719c",
   "metadata": {},
   "outputs": [
    {
     "data": {
      "text/plain": [
       "array([[-426.        , -422.        ],\n",
       "       [-418.        , -414.        ],\n",
       "       [-413.        , -412.        ],\n",
       "       [-411.        , -410.        ],\n",
       "       [-409.        , -408.        ],\n",
       "       [-407.        , -406.        ],\n",
       "       [-405.        , -404.        ],\n",
       "       [-403.        , -402.        ],\n",
       "       [-401.        , -400.        ],\n",
       "       [-399.        , -398.        ],\n",
       "       [-397.        , -396.        ],\n",
       "       [-395.        , -394.        ],\n",
       "       [-390.        , -386.        ],\n",
       "       [-382.        , -375.        ],\n",
       "       [-373.        , -371.        ],\n",
       "       [-367.        , -365.        ],\n",
       "       [-363.        , -361.        ],\n",
       "       [-359.        , -357.        ],\n",
       "       [-355.        , -353.        ],\n",
       "       [-351.        , -349.        ],\n",
       "       [-347.        , -345.        ],\n",
       "       [-343.        , -341.        ],\n",
       "       [-339.        , -337.        ],\n",
       "       [-335.        , -333.        ],\n",
       "       [-331.        , -329.        ],\n",
       "       [-327.        ,  -15.88840415],\n",
       "       [ -18.81320022,  -17.1246295 ],\n",
       "       [ -16.4136356 ,  -17.2567442 ],\n",
       "       [ -18.1519458 ,  -18.81506712],\n",
       "       [ -19.03562014,  -18.74363184],\n",
       "       [ -18.0318606 ,  -17.12634544],\n",
       "       [ -16.31463889,  -15.85450935],\n",
       "       [ -15.89209981,  -16.41552765],\n",
       "       [ -17.25865731,  -18.15384823],\n",
       "       [ -18.8169304 ,  -19.03742814],\n",
       "       [ -18.74538589,  -18.03357902],\n",
       "       [ -17.12805778,  -16.31637654],\n",
       "       [ -15.85629553,  -18.15574707],\n",
       "       [ -18.03529387,  -15.89578115],\n",
       "       [ -18.03700517,  -16.31984118],\n",
       "       [ -15.89761652,  -18.82249887],\n",
       "       [ -18.75062665,  -17.13317352],\n",
       "       [ -15.86163285,  -16.42306028],\n",
       "       [ -18.16142236,  -19.04462461],\n",
       "       [ -18.04041722,  -16.32329176],\n",
       "       [ -15.90127674,  -17.26816964],\n",
       "       [ -18.82619358,  -18.75410292],\n",
       "       [ -17.13656649,  -15.86517358],\n",
       "       [ -16.4268056 ,  -18.16518841],\n",
       "       [ -19.04820183,  -18.04381535],\n",
       "       [ -16.32672846,  -15.90492311]])"
      ]
     },
     "execution_count": 36,
     "metadata": {},
     "output_type": "execute_result"
    }
   ],
   "source": [
    "arr"
   ]
  },
  {
   "cell_type": "code",
   "execution_count": null,
   "id": "9f9ec178",
   "metadata": {},
   "outputs": [],
   "source": []
  }
 ],
 "metadata": {
  "kernelspec": {
   "display_name": "Python 3 (ipykernel)",
   "language": "python",
   "name": "python3"
  },
  "language_info": {
   "codemirror_mode": {
    "name": "ipython",
    "version": 3
   },
   "file_extension": ".py",
   "mimetype": "text/x-python",
   "name": "python",
   "nbconvert_exporter": "python",
   "pygments_lexer": "ipython3",
   "version": "3.8.10"
  }
 },
 "nbformat": 4,
 "nbformat_minor": 5
}
