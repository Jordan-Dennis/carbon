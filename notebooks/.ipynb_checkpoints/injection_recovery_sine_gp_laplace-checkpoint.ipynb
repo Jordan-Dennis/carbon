{
 "cells": [
  {
   "cell_type": "code",
   "execution_count": 1,
   "id": "7dbb1037",
   "metadata": {},
   "outputs": [],
   "source": [
    "import numpy as np\n",
    "import matplotlib.pyplot as plt\n",
    "from matplotlib.pyplot import rcParams\n",
    "import warnings\n",
    "warnings.filterwarnings('ignore')\n",
    "\n",
    "import re\n",
    "import jax.numpy as jnp\n",
    "from jax import grad, jit, partial, jacrev\n",
    "import ticktack\n",
    "from ticktack import fitting_tinygp as fitting\n",
    "from tqdm import tqdm\n",
    "import scipy\n",
    "\n",
    "rcParams['figure.figsize'] = (8.0, 4.0)"
   ]
  },
  {
   "cell_type": "code",
   "execution_count": 2,
   "id": "65fafbfa",
   "metadata": {},
   "outputs": [],
   "source": [
    "cbm = ticktack.load_presaved_model('Guttler14', production_rate_units = 'atoms/cm^2/s')\n",
    "cf = fitting.CarbonFitter(cbm)\n",
    "cf.load_data('inject_recovery_sine.csv')\n",
    "cf.prepare_function(use_control_points=True, interp='gp')"
   ]
  },
  {
   "cell_type": "code",
   "execution_count": 3,
   "id": "a4ef150d",
   "metadata": {},
   "outputs": [],
   "source": [
    "@jit\n",
    "def sine(t):\n",
    "    prod =  1.87 + 0.18 * 1.87 * jnp.sin(2 * jnp.pi / 11 * t + jnp.pi/2)\n",
    "    prod = prod * (t>=cf.start) + (1.87 + 0.18 * 1.87 * jnp.sin(2 * jnp.pi / 11 * cf.start + jnp.pi/2)) * (1-(t>=cf.start))\n",
    "    return prod"
   ]
  },
  {
   "cell_type": "code",
   "execution_count": 4,
   "id": "c5940f69",
   "metadata": {},
   "outputs": [],
   "source": [
    "params = jnp.array([2.00967368, 1.83722005, 1.64131659, 1.53621338, 1.54956525,\n",
    "       1.66283525, 1.82696321, 2.00391815, 2.14344128, 2.19709936,\n",
    "       2.14684926, 2.00827427, 1.82531541, 1.65642762, 1.55562115,\n",
    "       1.55525348, 1.65562488, 1.82481902, 2.00895719, 2.14935574,\n",
    "       2.20119142, 2.14776001, 2.00581124, 1.82028481, 1.65001027,\n",
    "       1.54909134, 1.54961388, 1.65149079, 1.82251794, 2.00851632,\n",
    "       2.15057973, 2.20372406, 2.15117623, 2.00966834, 1.82418043,\n",
    "       1.6536497 , 1.55222482, 1.55207972, 1.65320969, 1.82348198,\n",
    "       2.00878203, 2.15020536, 2.20280941, 2.14981545, 2.00801343,\n",
    "       1.82240925, 1.65185187, 1.55046371, 1.5504303 , 1.65178338,\n",
    "       1.82232604, 2.00791393, 2.14964303, 2.20254582, 2.14988553,\n",
    "       2.00837896, 1.82298691, 1.65263095, 1.55141962, 1.55149937,\n",
    "       1.65286832, 1.82335548, 2.00883447, 2.15039692, 2.20306118,\n",
    "       2.15007592, 2.00821152, 1.82244066, 1.65167066, 1.55005743,\n",
    "       1.54980055, 1.65094448, 1.82131178, 2.00682247, 2.14862099,\n",
    "       2.20176739, 2.1494566 , 2.00843379, 1.82361733, 1.65381228,\n",
    "       1.55300543, 1.55320536, 1.65424806, 1.82381264, 2.00770239,\n",
    "       2.147114  , 2.19746144, 2.14260138, 2.00020468, 1.81641772,\n",
    "       1.65117851, 1.55888841, 1.57012058, 1.68018942, 1.84881622,\n",
    "       2.00447377, 2.07130876, 2.05570146])"
   ]
  },
  {
   "cell_type": "code",
   "execution_count": 5,
   "id": "ecffb842",
   "metadata": {},
   "outputs": [
    {
     "data": {
      "text/plain": [
       "DeviceArray(18.66458541, dtype=float64)"
      ]
     },
     "execution_count": 5,
     "metadata": {},
     "output_type": "execute_result"
    }
   ],
   "source": [
    "cf.offset"
   ]
  },
  {
   "cell_type": "code",
   "execution_count": 6,
   "id": "7825f249",
   "metadata": {},
   "outputs": [
    {
     "data": {
      "text/plain": [
       "0"
      ]
     },
     "execution_count": 6,
     "metadata": {},
     "output_type": "execute_result"
    }
   ],
   "source": [
    "cf.offset = 0\n",
    "cf.offset"
   ]
  },
  {
   "cell_type": "code",
   "execution_count": 7,
   "id": "cb79529e",
   "metadata": {},
   "outputs": [
    {
     "name": "stdout",
     "output_type": "stream",
     "text": [
      "total likelihood:  58.70041500024627\n",
      "gp likelihood:  58.68090153408154\n",
      "chi2:  0.019513466164721688\n"
     ]
    }
   ],
   "source": [
    "print(\"total likelihood: \", cf.gp_likelihood(params))\n",
    "print(\"gp likelihood: \", cf.gp_neg_log_likelihood(params))\n",
    "print(\"chi2: \", cf.loss_chi2(params))"
   ]
  },
  {
   "cell_type": "code",
   "execution_count": 8,
   "id": "6e9aace0",
   "metadata": {},
   "outputs": [
    {
     "ename": "NameError",
     "evalue": "name 'jacrev' is not defined",
     "output_type": "error",
     "traceback": [
      "\u001b[0;31m---------------------------------------------------------------------------\u001b[0m",
      "\u001b[0;31mNameError\u001b[0m                                 Traceback (most recent call last)",
      "\u001b[0;32m<timed eval>\u001b[0m in \u001b[0;36m<module>\u001b[0;34m\u001b[0m\n",
      "\u001b[0;31mNameError\u001b[0m: name 'jacrev' is not defined"
     ]
    }
   ],
   "source": [
    "%%time\n",
    "jacrev(cf.gp_likelihood)(params)"
   ]
  },
  {
   "cell_type": "code",
   "execution_count": null,
   "id": "e3110582",
   "metadata": {},
   "outputs": [],
   "source": []
  }
 ],
 "metadata": {
  "kernelspec": {
   "display_name": "Python 3 (ipykernel)",
   "language": "python",
   "name": "python3"
  },
  "language_info": {
   "codemirror_mode": {
    "name": "ipython",
    "version": 3
   },
   "file_extension": ".py",
   "mimetype": "text/x-python",
   "name": "python",
   "nbconvert_exporter": "python",
   "pygments_lexer": "ipython3",
   "version": "3.8.10"
  }
 },
 "nbformat": 4,
 "nbformat_minor": 5
}
