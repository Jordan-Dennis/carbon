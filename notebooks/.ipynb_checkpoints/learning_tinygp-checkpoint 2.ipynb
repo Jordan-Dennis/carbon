{
 "cells": [
  {
   "cell_type": "code",
   "execution_count": 1,
   "id": "90c5f276",
   "metadata": {},
   "outputs": [],
   "source": [
    "import numpy as np\n",
    "import matplotlib.pyplot as plt\n",
    "from matplotlib.pyplot import rcParams\n",
    "import warnings\n",
    "warnings.filterwarnings('ignore')\n",
    "\n",
    "import re\n",
    "import jax.numpy as jnp\n",
    "from jax import grad, jit, partial\n",
    "import ticktack\n",
    "from ticktack import fitting\n",
    "from tqdm import tqdm\n",
    "import scipy\n",
    "import jax\n",
    "from tinygp import kernels, GaussianProcess\n",
    "\n",
    "rcParams['figure.figsize'] = (10.0, 5.0)"
   ]
  },
  {
   "cell_type": "code",
   "execution_count": 2,
   "id": "2f34b24c",
   "metadata": {},
   "outputs": [],
   "source": [
    "cbm = ticktack.load_presaved_model('Guttler14', production_rate_units = 'atoms/cm^2/s')\n",
    "cf = fitting.CarbonFitter(cbm)\n",
    "cf.load_data('400_BCE_Data_processed.csv', time_oversample=50)\n",
    "cf.prepare_function(use_control_points=True, gap_years=3, dense_years=2)"
   ]
  },
  {
   "cell_type": "code",
   "execution_count": 3,
   "id": "350c2b89",
   "metadata": {},
   "outputs": [
    {
     "data": {
      "text/plain": [
       "DeviceArray([-426, -422, -418, -414, -413, -412, -411, -410, -409, -408,\n",
       "             -407, -406, -405, -404, -403, -402, -401, -400, -399, -398,\n",
       "             -397, -396, -395, -394, -390, -386, -382, -375, -373, -371,\n",
       "             -367, -365, -363, -361, -359, -357, -355, -353, -351, -349,\n",
       "             -347, -345, -343, -341, -339, -337, -335, -333, -331, -329,\n",
       "             -327, -325], dtype=int64)"
      ]
     },
     "execution_count": 3,
     "metadata": {},
     "output_type": "execute_result"
    }
   ],
   "source": [
    "cf.time_data"
   ]
  },
  {
   "cell_type": "code",
   "execution_count": 7,
   "id": "a405199b",
   "metadata": {},
   "outputs": [],
   "source": [
    "params = np.array([0.11332969, 0.66432647, 2.39731384, 0.15246973, 2.37985036,\n",
    "       2.04563878, 1.85462323, 2.36647875, 1.60154235, 2.01931179,\n",
    "       2.15404141, 2.42271216, 2.17472145, 1.8050648 , 2.11322943,\n",
    "       1.95412442, 2.96016856, 1.76072652, 2.75904899, 1.86739648,\n",
    "       2.05605776, 2.82185725, 1.336321  , 2.66839847, 1.84882706,\n",
    "       2.11846314, 2.10051643, 1.34743423])"
   ]
  },
  {
   "cell_type": "code",
   "execution_count": 25,
   "id": "5af21f66",
   "metadata": {},
   "outputs": [
    {
     "name": "stdout",
     "output_type": "stream",
     "text": [
      "Initial negative log likelihood: 83297321153.96574\n"
     ]
    }
   ],
   "source": [
    "from jax.config import config\n",
    "config.update(\"jax_enable_x64\", True)\n",
    "\n",
    "# theta = [sigma, length, s]\n",
    "def build_kernel(theta):\n",
    "    k1 = theta[0] ** 2 * kernels.ExpSquared(theta[1])\n",
    "    return k1\n",
    "\n",
    "def build_gp(theta, t):\n",
    "    return GaussianProcess(\n",
    "        build_kernel(jnp.exp(theta)),\n",
    "        t,\n",
    "        mean=theta[2],\n",
    "    )\n",
    "\n",
    "def neg_log_likelihood(theta, t, y):\n",
    "    gp = build_gp(theta, t)\n",
    "    return -gp.condition(y)\n",
    "\n",
    "\n",
    "theta_init = np.append(np.log([2., 10.]), 0.)\n",
    "obj = jax.jit(jax.value_and_grad(neg_log_likelihood))\n",
    "print(f\"Initial negative log likelihood: {obj(theta_init, cf.control_points_time, params)[0]}\")"
   ]
  },
  {
   "cell_type": "code",
   "execution_count": 26,
   "id": "d035d208",
   "metadata": {},
   "outputs": [
    {
     "name": "stdout",
     "output_type": "stream",
     "text": [
      "Help on method predict in module tinygp.gp:\n",
      "\n",
      "predict(X_test: jax._src.numpy.lax_numpy.ndarray = None, *, include_mean: bool = True, return_var: bool = False, return_cov: bool = False) method of tinygp.gp.GaussianProcess instance\n",
      "\n"
     ]
    }
   ],
   "source": [
    "help(gp.predict)"
   ]
  },
  {
   "cell_type": "code",
   "execution_count": null,
   "id": "38ff90a8",
   "metadata": {},
   "outputs": [],
   "source": [
    "gp = build_gp(theta_init, t)"
   ]
  },
  {
   "cell_type": "code",
   "execution_count": 28,
   "id": "955beb96",
   "metadata": {},
   "outputs": [],
   "source": [
    "mu, var = gp.predict(cf.control_points_time, return_var=True)"
   ]
  },
  {
   "cell_type": "code",
   "execution_count": 30,
   "id": "8c8d8cbf",
   "metadata": {},
   "outputs": [
    {
     "data": {
      "text/plain": [
       "[<matplotlib.lines.Line2D at 0x7fb42d0b0f10>]"
      ]
     },
     "execution_count": 30,
     "metadata": {},
     "output_type": "execute_result"
    },
    {
     "data": {
      "image/png": "[encoded data removed]",
      "text/plain": [
       "<Figure size 720x360 with 1 Axes>"
      ]
     },
     "metadata": {
      "needs_background": "light"
     },
     "output_type": "display_data"
    }
   ],
   "source": [
    "plt.plot(cf.control_points_time, mu)"
   ]
  },
  {
   "cell_type": "code",
   "execution_count": null,
   "id": "c8029bec",
   "metadata": {},
   "outputs": [],
   "source": [
    "mu, variance = gp.predict(cf.d14c_data, t=cf.time_data, return_var=True)\n",
    "sigma = np.sqrt(variance)\n",
    "plt.plot(cf.time_data, mu, \".\", label=\"prediction\")\n",
    "plt.errorbar(cf.time_data, cf.d14c_data, yerr=cf.d14c_data_error, fmt=\".k\", capsize=0, label=\"truth\")\n",
    "plt.legend()\n",
    "# plt.fill_between(true_t, mu - sigma, mu + sigma, color=\"C0\", alpha=0.2)"
   ]
  },
  {
   "cell_type": "markdown",
   "id": "7f938762",
   "metadata": {},
   "source": [
    "Optimization"
   ]
  },
  {
   "cell_type": "code",
   "execution_count": null,
   "id": "adf1805c",
   "metadata": {},
   "outputs": [],
   "source": [
    "def set_params(params, gp):\n",
    "    gp.mean = params[0]\n",
    "    theta = np.exp(params[1:])\n",
    "    gp.kernel = terms.Matern32Term(sigma=theta[0], rho=theta[1])\n",
    "    gp.compute(cf.time_data, diag=cf.d14c_data_error ** 2 + theta[2])\n",
    "    return gp\n",
    "\n",
    "\n",
    "def neg_log_like(params, gp):\n",
    "    gp = set_params(params, gp)\n",
    "    return -gp.log_likelihood(cf.d14c_data)\n",
    "\n",
    "initial_params = [0.0, 1., 1., 1.]\n",
    "soln = scipy.optimize.minimize(neg_log_like, initial_params, method=\"L-BFGS-B\", args=(gp,))\n",
    "opt_gp = set_params(soln.x, gp)\n",
    "soln"
   ]
  },
  {
   "cell_type": "code",
   "execution_count": null,
   "id": "11c88883",
   "metadata": {},
   "outputs": [],
   "source": [
    "gp.log_likelihood(cf.d14c_data)"
   ]
  },
  {
   "cell_type": "code",
   "execution_count": null,
   "id": "b1d3d00a",
   "metadata": {},
   "outputs": [],
   "source": [
    "t = cf.time_grid_fine"
   ]
  },
  {
   "cell_type": "code",
   "execution_count": null,
   "id": "e6058a82",
   "metadata": {},
   "outputs": [],
   "source": [
    "# mu, variance = gp.predict(cf.d14c_data, t=cf.time_data, return_var=True)\n",
    "mu, variance = gp.predict(cf.d14c_data, t=cf.time_grid_fine, return_var=True)\n",
    "sigma = np.sqrt(variance)\n",
    "plt.plot(cf.time_grid_fine, mu, \".\", label=\"prediction\")\n",
    "plt.errorbar(cf.time_data, cf.d14c_data, yerr=cf.d14c_data_error, fmt=\".k\", capsize=0, label=\"truth\")\n",
    "plt.legend()\n",
    "# plt.fill_between(true_t, mu - sigma, mu + sigma, color=\"C0\", alpha=0.2)"
   ]
  },
  {
   "cell_type": "code",
   "execution_count": null,
   "id": "3a040f08",
   "metadata": {},
   "outputs": [],
   "source": [
    "from jax import random\n",
    "import jax.numpy as jnp\n",
    "\n",
    "import numpyro\n",
    "import numpyro.distributions as dist\n",
    "from numpyro.infer import MCMC, NUTS\n",
    "\n",
    "import celerite2.jax\n",
    "from celerite2.jax import terms as jax_terms\n",
    "\n",
    "\n",
    "def numpyro_model(tval, y):\n",
    "    prior_sigma = 0.01\n",
    "    rng_key = random.PRNGKey(34923)\n",
    "    mean = numpyro.sample(\"mean\", dist.Normal(0.0, prior_sigma), rng_key=rng_key)\n",
    "\n",
    "    log_sigma1 = numpyro.sample(\"log_sigma1\", dist.Normal(0.0, prior_sigma), rng_key=rng_key)\n",
    "    log_rho1 = numpyro.sample(\"log_rho1\", dist.Normal(0.0, prior_sigma), rng_key=rng_key)\n",
    "    term1 = jax_terms.Matern32Term(\n",
    "        sigma=jnp.exp(log_sigma1), rho=jnp.exp(log_rho1))\n",
    "    \n",
    "    kernel = term1\n",
    "    gp = celerite2.jax.GaussianProcess(kernel, mean=mean)\n",
    "    gp.compute(cf.control_points_time)\n",
    "    return gp"
   ]
  },
  {
   "cell_type": "code",
   "execution_count": null,
   "id": "35439d2e",
   "metadata": {},
   "outputs": [],
   "source": [
    "def numpyro_model(t, yerr, y=None):\n",
    "    prior_sigma = 1\n",
    "    mean = 1\n",
    "    log_jitter = 1\n",
    "    log_sigma1 = 1\n",
    "    log_rho1 = 1\n",
    "    log_tau = 1\n",
    "    term1 = jax_terms.UnderdampedSHOTerm(\n",
    "        sigma=jnp.exp(log_sigma1), rho=jnp.exp(log_rho1), tau=jnp.exp(log_tau)\n",
    "    )\n",
    "\n",
    "    kernel = term1\n",
    "    gp = celerite2.jax.GaussianProcess(kernel, mean=mean)\n",
    "    gp.compute(t, diag=yerr ** 2 + jnp.exp(log_jitter), check_sorted=False)\n",
    "    print(type(gp))"
   ]
  },
  {
   "cell_type": "code",
   "execution_count": null,
   "id": "a22e8276",
   "metadata": {},
   "outputs": [],
   "source": [
    "numpyro_model(jnp.ones((1,)), jnp.ones((1,)))"
   ]
  },
  {
   "cell_type": "code",
   "execution_count": null,
   "id": "b7ed11f1",
   "metadata": {},
   "outputs": [],
   "source": [
    "cps = np.array([1.89363959, 1.77072593, 1.75264088, 1.56139717, 1.91315407,\n",
    "       2.18186108, 2.12273598, 2.15139975, 1.8747374 , 1.9919975 ,\n",
    "       2.26624611, 2.32133033, 2.21331508, 2.00514102, 1.95528112,\n",
    "       2.08758559, 2.40094881, 2.2423129 , 2.35118368, 2.01433349,\n",
    "       2.17496925, 2.39776699, 1.84525825, 2.23184444, 2.06272956,\n",
    "       2.06850577, 2.00214273, 1.77290152])"
   ]
  },
  {
   "cell_type": "code",
   "execution_count": null,
   "id": "a9a65a18",
   "metadata": {},
   "outputs": [],
   "source": [
    "numpyro_model(cf.annual, cps)"
   ]
  },
  {
   "cell_type": "code",
   "execution_count": null,
   "id": "d93bf14e",
   "metadata": {},
   "outputs": [],
   "source": [
    "mean = numpyro.sample(\"mean\", dist.Normal(0, 1), rng_key=random.PRNGKey(34923))"
   ]
  },
  {
   "cell_type": "code",
   "execution_count": null,
   "id": "e4e2c1ca",
   "metadata": {},
   "outputs": [],
   "source": [
    "mean"
   ]
  },
  {
   "cell_type": "code",
   "execution_count": null,
   "id": "cb64f92a",
   "metadata": {},
   "outputs": [],
   "source": [
    "help(numpyro.sample)"
   ]
  },
  {
   "cell_type": "code",
   "execution_count": null,
   "id": "93d8fc41",
   "metadata": {},
   "outputs": [],
   "source": []
  }
 ],
 "metadata": {
  "kernelspec": {
   "display_name": "Python 3 (ipykernel)",
   "language": "python",
   "name": "python3"
  },
  "language_info": {
   "codemirror_mode": {
    "name": "ipython",
    "version": 3
   },
   "file_extension": ".py",
   "mimetype": "text/x-python",
   "name": "python",
   "nbconvert_exporter": "python",
   "pygments_lexer": "ipython3",
   "version": "3.8.10"
  }
 },
 "nbformat": 4,
 "nbformat_minor": 5
}
