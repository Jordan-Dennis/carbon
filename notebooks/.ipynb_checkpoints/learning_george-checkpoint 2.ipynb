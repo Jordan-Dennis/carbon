{
 "cells": [
  {
   "cell_type": "code",
   "execution_count": 1,
   "id": "90c5f276",
   "metadata": {},
   "outputs": [],
   "source": [
    "import numpy as np\n",
    "import matplotlib.pyplot as plt\n",
    "from matplotlib.pyplot import rcParams\n",
    "import warnings\n",
    "warnings.filterwarnings('ignore')\n",
    "\n",
    "import re\n",
    "import jax.numpy as jnp\n",
    "from jax import grad, jit, partial\n",
    "import ticktack\n",
    "from ticktack import fitting\n",
    "from tqdm import tqdm\n",
    "import scipy\n",
    "\n",
    "rcParams['figure.figsize'] = (10.0, 5.0)"
   ]
  },
  {
   "cell_type": "code",
   "execution_count": 2,
   "id": "9f49163c",
   "metadata": {},
   "outputs": [],
   "source": [
    "import george\n",
    "from george import kernels"
   ]
  },
  {
   "cell_type": "code",
   "execution_count": 3,
   "id": "2f34b24c",
   "metadata": {},
   "outputs": [
    {
     "name": "stderr",
     "output_type": "stream",
     "text": [
      "WARNING:absl:No GPU/TPU found, falling back to CPU. (Set TF_CPP_MIN_LOG_LEVEL=0 and rerun for more info.)\n"
     ]
    }
   ],
   "source": [
    "cbm = ticktack.load_presaved_model('Guttler14', production_rate_units = 'atoms/cm^2/s')\n",
    "cf = fitting.CarbonFitter(cbm)\n",
    "cf.load_data('400_BCE_Data_processed.csv', time_oversample=50)\n",
    "cf.prepare_function(use_control_points=True, interp='gp')"
   ]
  },
  {
   "cell_type": "code",
   "execution_count": 4,
   "id": "350c2b89",
   "metadata": {},
   "outputs": [
    {
     "data": {
      "text/plain": [
       "DeviceArray([-427., -426., -418., -413., -409., -405., -401., -397.,\n",
       "             -393., -386., -375., -370., -365., -360., -356., -352.,\n",
       "             -348., -344., -340., -336., -332., -328.], dtype=float64)"
      ]
     },
     "execution_count": 4,
     "metadata": {},
     "output_type": "execute_result"
    }
   ],
   "source": [
    "cf.control_points_time"
   ]
  },
  {
   "cell_type": "code",
   "execution_count": 5,
   "id": "b7ed11f1",
   "metadata": {},
   "outputs": [],
   "source": [
    "steady_state = cf.steady_state_production * jnp.ones((len(cf.control_points_time)+1,))\n",
    "params = steady_state\n",
    "bounds = tuple([(0, None)] * len(steady_state))"
   ]
  },
  {
   "cell_type": "code",
   "execution_count": 6,
   "id": "5af21f66",
   "metadata": {},
   "outputs": [
    {
     "name": "stdout",
     "output_type": "stream",
     "text": [
      "Initial log likelihood: -39.542583530466985\n"
     ]
    }
   ],
   "source": [
    "import george\n",
    "from george import kernels as george_kernels\n",
    "kernel = george_kernels.ExpSquaredKernel(10.)\n",
    "gp = george.GP(kernel, mean=0.)\n",
    "gp.compute(cf.control_points_time)\n",
    "\n",
    "# pred, pred_var = gp.predict(cps, cf.annual, return_var=True)\n",
    "\n",
    "print(\"Initial log likelihood: {0}\".format(gp.log_likelihood(params[:-1])))"
   ]
  },
  {
   "cell_type": "code",
   "execution_count": null,
   "id": "93d8fc41",
   "metadata": {},
   "outputs": [],
   "source": []
  }
 ],
 "metadata": {
  "kernelspec": {
   "display_name": "Python 3 (ipykernel)",
   "language": "python",
   "name": "python3"
  },
  "language_info": {
   "codemirror_mode": {
    "name": "ipython",
    "version": 3
   },
   "file_extension": ".py",
   "mimetype": "text/x-python",
   "name": "python",
   "nbconvert_exporter": "python",
   "pygments_lexer": "ipython3",
   "version": "3.8.10"
  }
 },
 "nbformat": 4,
 "nbformat_minor": 5
}
