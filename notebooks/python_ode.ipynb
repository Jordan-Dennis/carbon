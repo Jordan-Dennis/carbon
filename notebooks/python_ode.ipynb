{
 "cells": [
  {
   "cell_type": "code",
   "execution_count": 29,
   "metadata": {},
   "outputs": [],
   "source": [
    "import ticktack # For the compilation of the model\n",
    "import ode      # As a method of solving the odes\n",
    "\n",
    "from jax import jacfwd, jacrev, jit     # Forward and reverse mode the autodiff\n",
    "from jax import numpy as np             # Importing the jax numpy \n",
    "import jax.experimental.ode as jax_ode  # Jax odeint \n",
    "from jax.lax import scan\n",
    "\n",
    "import pandas as pd             # Becuase I want to \n",
    "from time import process_time   # For timing the different ode implementations\n",
    "from os import getcwd\n",
    "from functools import partial\n",
    "from plotnine import *"
   ]
  },
  {
   "cell_type": "markdown",
   "metadata": {},
   "source": [
    "I need to move this analysis into the `kitkat` environment and supercharge it"
   ]
  },
  {
   "cell_type": "code",
   "execution_count": 30,
   "metadata": {},
   "outputs": [],
   "source": [
    "class odeint_linear(object):\n",
    "    @classmethod\n",
    "    def odeint(derivative, y0, timesteps, *args, **kwargs):\n",
    "        step_size = timesteps[1] - timesteps[0]\n",
    "\n",
    "        def step(y, time_value, step_size=None, derivative=None):\n",
    "            next_time_value = y + derivative(y, time_value) * step_size\n",
    "            return next_time_value, next_time_value\n",
    "\n",
    "        step = partial(step, derivative=derivative, step_size=step_size)\n",
    "        step = jit(step)\n",
    "\n",
    "        _, y_values = scan(f=step, init=y0, xs=timesteps) \n",
    "        return y_values"
   ]
  },
  {
   "cell_type": "code",
   "execution_count": 31,
   "metadata": {},
   "outputs": [],
   "source": [
    "#! Fix scope name shadowing \n",
    "parameters = np.array([ # Empty array to hold the parameters of the prodcution function \n",
    "    7.044873503263437,  # Mean of the sinusoidal production \n",
    "    0.18,               # Amplitude of the sinusoidal production \n",
    "    11.0,               # Period of the sinusoidal production \n",
    "    1.25,               # Phase of the sinusoidal production \n",
    "    120.05769867244142, # Height of the super-gaussian \n",
    "    12.0                # Width of the super-gaussian \n",
    "], dtype=np.float64)"
   ]
  },
  {
   "cell_type": "code",
   "execution_count": 32,
   "metadata": {},
   "outputs": [],
   "source": [
    "projection = np.array([ # An array to hold the projection of the production function \n",
    "    0.7,    # Projection into the stratosphere \n",
    "    0.3,    # Projection into the troposphere \n",
    "    0.0, 0.0, 0.0, 0.0, 0.0, 0.0, 0.0, 0.0, 0.0 \n",
    "], dtype=np.float64)   "
   ]
  },
  {
   "cell_type": "code",
   "execution_count": 33,
   "metadata": {},
   "outputs": [],
   "source": [
    "#! Type hints\n",
    "def production(t, parameters):    \n",
    "    \"\"\"\n",
    "    The production function defined as the sum of sinusoidal and super-gaussian terms \n",
    "    \"\"\"\n",
    "    return parameters[0] * (1 + parameters[1] * \\\n",
    "        np.sin(2 * np.pi / parameters[2] * t + parameters[3])) + \\\n",
    "        parameters[4] * np.exp(- (parameters[5] * (t - 775)) ** 16)"
   ]
  },
  {
   "cell_type": "code",
   "execution_count": 34,
   "metadata": {},
   "outputs": [],
   "source": [
    "cbm = ticktack.load_presaved_model(\"Guttler14\", production_rate_units=\"atoms/cm^2/s\")\n",
    "cbm.compile()   # Constructing the transfer operator "
   ]
  },
  {
   "cell_type": "code",
   "execution_count": 35,
   "metadata": {},
   "outputs": [],
   "source": [
    "u0 = np.array([   # Housing the initial C14 concentr    ations \n",
    "    135.76261605786132, # Initial stratosphere concentration\n",
    "    709.7591911307035,  # Initial troposphere concentration\n",
    "    1191.489526709938,  # Initial surface ocean concentration\n",
    "    3.97158546945107,   # Initial surface biota concentration \n",
    "    45158.65854589925,  # Initial deep ocean concentration\n",
    "    155.54703228960028, # Initial short-lived biota concentration\n",
    "    634.290736403387,   # Initial long-lived biota concentration\n",
    "    423.5954241095565,  # Initial litter concentration\n",
    "    1808.3343542055652, # Initial soil concentration \n",
    "    665.933052175064,   # Initial peat concentration\n",
    "    7348.751626918585   # Initial sedimentary sink concentration \n",
    "], dtype=np.float64)"
   ]
  },
  {
   "cell_type": "code",
   "execution_count": 36,
   "metadata": {},
   "outputs": [],
   "source": [
    "#! Need to improve the doc strings here\n",
    "#? Look into jit compilation \n",
    "def dydx(y, t, p):\n",
    "    \"\"\"\n",
    "    The gradient of the carbon box model.\n",
    "    \"\"\"\n",
    "    return cbm._matrix @ y + production(t, p) * projection"
   ]
  },
  {
   "cell_type": "code",
   "execution_count": 37,
   "metadata": {},
   "outputs": [],
   "source": [
    "def loss_function(odeint, dataset, dydx, u0, params=()):\n",
    "    \"\"\"\n",
    "    The bayesian error of the loss function. \n",
    "    \"\"\"\n",
    "    d14c = np.array([*dataset[\"d14c\"]], dtype=np.float64)   # JAX array for manipulation\n",
    "    year = np.array([*dataset[\"year\"]], dtype=np.float64)   # JAX array for the year\n",
    "    sig_d14c = np.array([*dataset[\"sig_d14c\"]], dtype=np.float64)# JAx array for manipulation \n",
    "\n",
    "    simulation = odeint(dydx, u0, year, params)[:, 2]   # Running the simulation \n",
    "    simulation = 1000 * (simulation - u0[2]) / u0[2]    # Deviations from initial \n",
    "    simulation += np.mean(d14c[1:4])    # Adding the offset \n",
    "\n",
    "    return - 0.5 * np.sum(((d14c - simulation) / sig_d14c) ** 2)   # Log likelhood as chi-squared "
   ]
  },
  {
   "cell_type": "code",
   "execution_count": 38,
   "metadata": {},
   "outputs": [],
   "source": [
    "def profile(func, args=[]) -> tuple:\n",
    "    \"\"\"\n",
    "    Profiles the function, func, with the arguments, args, returning the speed and the variance of the speed.\n",
    "    \"\"\"\n",
    "    time_sample = np.zeros(10)  # Storing the trials\n",
    "    \n",
    "    for i in range(10):\n",
    "        timer = process_time()                          # starting a timer \n",
    "        func(*args).block_until_ready()                                     # Running the model \n",
    "        time_sample = time_sample.at[i].set(process_time() - timer)   # Stopping the timer and storing \n",
    "\n",
    "    return np.mean(time_sample), np.var(time_sample)"
   ]
  },
  {
   "cell_type": "markdown",
   "metadata": {},
   "source": [
    "So the problem is that the `*args` list is does not have the correct time_series information in it. I also need to majorly look at the binning"
   ]
  },
  {
   "cell_type": "code",
   "execution_count": 39,
   "metadata": {},
   "outputs": [
    {
     "ename": "TypeError",
     "evalue": "Value <function dydx at 0x7f1a705770d0> with type <class 'function'> is not a valid JAX type",
     "output_type": "error",
     "traceback": [
      "\u001b[0;31m---------------------------------------------------------------------------\u001b[0m",
      "\u001b[0;31mTypeError\u001b[0m                                 Traceback (most recent call last)",
      "\u001b[0;32m/tmp/ipykernel_4895/1958338643.py\u001b[0m in \u001b[0;36m<module>\u001b[0;34m\u001b[0m\n\u001b[1;32m     10\u001b[0m \u001b[0;34m\u001b[0m\u001b[0m\n\u001b[1;32m     11\u001b[0m \u001b[0;32mfor\u001b[0m \u001b[0mnamespace\u001b[0m \u001b[0;32min\u001b[0m \u001b[0mnamespaces\u001b[0m\u001b[0;34m:\u001b[0m\u001b[0;31m# Iterating through the namespaces of odeint function\u001b[0m\u001b[0;34m\u001b[0m\u001b[0;34m\u001b[0m\u001b[0m\n\u001b[0;32m---> 12\u001b[0;31m     mean, variance = profile(\n\u001b[0m\u001b[1;32m     13\u001b[0m         \u001b[0mnamespace\u001b[0m\u001b[0;34m.\u001b[0m\u001b[0modeint\u001b[0m\u001b[0;34m,\u001b[0m\u001b[0;34m\u001b[0m\u001b[0;34m\u001b[0m\u001b[0m\n\u001b[1;32m     14\u001b[0m         \u001b[0;34m[\u001b[0m\u001b[0mdydx\u001b[0m\u001b[0;34m,\u001b[0m \u001b[0mu0\u001b[0m\u001b[0;34m,\u001b[0m \u001b[0mnp\u001b[0m\u001b[0;34m.\u001b[0m\u001b[0marange\u001b[0m\u001b[0;34m(\u001b[0m\u001b[0;36m750.0\u001b[0m\u001b[0;34m,\u001b[0m \u001b[0;36m820.0\u001b[0m\u001b[0;34m,\u001b[0m \u001b[0;36m1\u001b[0m\u001b[0;34m/\u001b[0m\u001b[0;36m12\u001b[0m\u001b[0;34m)\u001b[0m\u001b[0;34m,\u001b[0m \u001b[0mparameters\u001b[0m\u001b[0;34m]\u001b[0m\u001b[0;34m\u001b[0m\u001b[0;34m\u001b[0m\u001b[0m\n",
      "\u001b[0;32m/tmp/ipykernel_4895/1753545990.py\u001b[0m in \u001b[0;36mprofile\u001b[0;34m(func, args)\u001b[0m\n\u001b[1;32m      7\u001b[0m     \u001b[0;32mfor\u001b[0m \u001b[0mi\u001b[0m \u001b[0;32min\u001b[0m \u001b[0mrange\u001b[0m\u001b[0;34m(\u001b[0m\u001b[0;36m10\u001b[0m\u001b[0;34m)\u001b[0m\u001b[0;34m:\u001b[0m\u001b[0;34m\u001b[0m\u001b[0;34m\u001b[0m\u001b[0m\n\u001b[1;32m      8\u001b[0m         \u001b[0mtimer\u001b[0m \u001b[0;34m=\u001b[0m \u001b[0mprocess_time\u001b[0m\u001b[0;34m(\u001b[0m\u001b[0;34m)\u001b[0m                          \u001b[0;31m# starting a timer\u001b[0m\u001b[0;34m\u001b[0m\u001b[0;34m\u001b[0m\u001b[0m\n\u001b[0;32m----> 9\u001b[0;31m         \u001b[0mfunc\u001b[0m\u001b[0;34m(\u001b[0m\u001b[0;34m*\u001b[0m\u001b[0margs\u001b[0m\u001b[0;34m)\u001b[0m\u001b[0;34m.\u001b[0m\u001b[0mblock_until_ready\u001b[0m\u001b[0;34m(\u001b[0m\u001b[0;34m)\u001b[0m                                     \u001b[0;31m# Running the model\u001b[0m\u001b[0;34m\u001b[0m\u001b[0;34m\u001b[0m\u001b[0m\n\u001b[0m\u001b[1;32m     10\u001b[0m         \u001b[0mtime_sample\u001b[0m \u001b[0;34m=\u001b[0m \u001b[0mtime_sample\u001b[0m\u001b[0;34m.\u001b[0m\u001b[0mat\u001b[0m\u001b[0;34m[\u001b[0m\u001b[0mi\u001b[0m\u001b[0;34m]\u001b[0m\u001b[0;34m.\u001b[0m\u001b[0mset\u001b[0m\u001b[0;34m(\u001b[0m\u001b[0mprocess_time\u001b[0m\u001b[0;34m(\u001b[0m\u001b[0;34m)\u001b[0m \u001b[0;34m-\u001b[0m \u001b[0mtimer\u001b[0m\u001b[0;34m)\u001b[0m   \u001b[0;31m# Stopping the timer and storing\u001b[0m\u001b[0;34m\u001b[0m\u001b[0;34m\u001b[0m\u001b[0m\n\u001b[1;32m     11\u001b[0m \u001b[0;34m\u001b[0m\u001b[0m\n",
      "\u001b[0;32m/tmp/ipykernel_4895/3701705682.py\u001b[0m in \u001b[0;36modeint\u001b[0;34m(derivative, y0, timesteps, *args, **kwargs)\u001b[0m\n\u001b[1;32m     11\u001b[0m         \u001b[0mstep\u001b[0m \u001b[0;34m=\u001b[0m \u001b[0mjit\u001b[0m\u001b[0;34m(\u001b[0m\u001b[0mstep\u001b[0m\u001b[0;34m)\u001b[0m\u001b[0;34m\u001b[0m\u001b[0;34m\u001b[0m\u001b[0m\n\u001b[1;32m     12\u001b[0m \u001b[0;34m\u001b[0m\u001b[0m\n\u001b[0;32m---> 13\u001b[0;31m         \u001b[0m_\u001b[0m\u001b[0;34m,\u001b[0m \u001b[0my_values\u001b[0m \u001b[0;34m=\u001b[0m \u001b[0mscan\u001b[0m\u001b[0;34m(\u001b[0m\u001b[0mf\u001b[0m\u001b[0;34m=\u001b[0m\u001b[0mstep\u001b[0m\u001b[0;34m,\u001b[0m \u001b[0minit\u001b[0m\u001b[0;34m=\u001b[0m\u001b[0my0\u001b[0m\u001b[0;34m,\u001b[0m \u001b[0mxs\u001b[0m\u001b[0;34m=\u001b[0m\u001b[0mtimesteps\u001b[0m\u001b[0;34m)\u001b[0m\u001b[0;34m\u001b[0m\u001b[0;34m\u001b[0m\u001b[0m\n\u001b[0m\u001b[1;32m     14\u001b[0m         \u001b[0;32mreturn\u001b[0m \u001b[0my_values\u001b[0m\u001b[0;34m\u001b[0m\u001b[0;34m\u001b[0m\u001b[0m\n",
      "    \u001b[0;31m[... skipping hidden 6 frame]\u001b[0m\n",
      "\u001b[0;32m~/.local/lib/python3.8/site-packages/jax/core.py\u001b[0m in \u001b[0;36mconcrete_aval\u001b[0;34m(x)\u001b[0m\n\u001b[1;32m    960\u001b[0m   \u001b[0;32mif\u001b[0m \u001b[0mhasattr\u001b[0m\u001b[0;34m(\u001b[0m\u001b[0mx\u001b[0m\u001b[0;34m,\u001b[0m \u001b[0;34m'__jax_array__'\u001b[0m\u001b[0;34m)\u001b[0m\u001b[0;34m:\u001b[0m\u001b[0;34m\u001b[0m\u001b[0;34m\u001b[0m\u001b[0m\n\u001b[1;32m    961\u001b[0m     \u001b[0;32mreturn\u001b[0m \u001b[0mconcrete_aval\u001b[0m\u001b[0;34m(\u001b[0m\u001b[0mx\u001b[0m\u001b[0;34m.\u001b[0m\u001b[0m__jax_array__\u001b[0m\u001b[0;34m(\u001b[0m\u001b[0;34m)\u001b[0m\u001b[0;34m)\u001b[0m\u001b[0;34m\u001b[0m\u001b[0;34m\u001b[0m\u001b[0m\n\u001b[0;32m--> 962\u001b[0;31m   raise TypeError(f\"Value {repr(x)} with type {type(x)} is not a valid JAX \"\n\u001b[0m\u001b[1;32m    963\u001b[0m                    \"type\")\n\u001b[1;32m    964\u001b[0m \u001b[0;34m\u001b[0m\u001b[0m\n",
      "\u001b[0;31mTypeError\u001b[0m: Value <function dydx at 0x7f1a705770d0> with type <class 'function'> is not a valid JAX type"
     ]
    }
   ],
   "source": [
    "results = {\n",
    "    \"module\": [],\n",
    "    \"time\": [],\n",
    "    \"type\": []\n",
    "}\n",
    "\n",
    "namespaces = {ode : \"ode\", jax_ode : \"jax\", odeint_linear: \"linear\"} # For translation from string to module \n",
    "\n",
    "dataset = pd.read_csv(f\"{getcwd()}/datasets/775AD/NH/Miyake12_Cedar.csv\") # Importing the miyake data\n",
    "\n",
    "for namespace in namespaces:# Iterating through the namespaces of odeint function \n",
    "    mean, variance = profile(\n",
    "        namespace.odeint, \n",
    "        [dydx, u0, np.arange(750.0, 820.0, 1/12), parameters]\n",
    "    )   # Profiling the speed\n",
    "    results[\"module\"].append(namespaces[namespace])\n",
    "    results[\"time\"].append(float(mean) * 1000)\n",
    "    results[\"type\"].append(\"odeint\")\n",
    "\n",
    "    # Single variable function \n",
    "    loss = partial(loss_function, namespace.odeint, dataset, dydx, u0)\n",
    "\n",
    "    # The gradients exist below \n",
    "    def gradient(p): \n",
    "        if namespaces[namespace] == \"ode\":\n",
    "            return jacfwd(loss)(p)         # Calculating the gradient \n",
    "        else:\n",
    "            return jacrev(loss)(p)\n",
    "\n",
    "    mean, variance = profile(gradient, [parameters])\n",
    "\n",
    "    results[\"module\"].append(namespaces[namespace])\n",
    "    results[\"time\"].append(float(mean) * 1000)\n",
    "    results[\"type\"].append(\"gradient\")\n",
    "\n",
    "    def hessians(p): \n",
    "        if namespaces[namespace] == \"ode\":\n",
    "            return jacfwd(jacfwd(loss))(p) # Calculating the hessian \n",
    "        else:\n",
    "            return jacrev(jacrev(loss))(p)\n",
    "\n",
    "    mean, variance = profile(hessians, [parameters])\n",
    "\n",
    "    results[\"module\"].append(namespaces[namespace])\n",
    "    results[\"time\"].append(float(mean) * 1000)\n",
    "    results[\"type\"].append(\"hessian\")"
   ]
  },
  {
   "cell_type": "code",
   "execution_count": null,
   "metadata": {},
   "outputs": [
    {
     "data": {
      "image/png": "[encoded data removed]",
      "text/plain": [
       "<Figure size 640x480 with 1 Axes>"
      ]
     },
     "metadata": {},
     "output_type": "display_data"
    },
    {
     "data": {
      "text/plain": [
       "<ggplot: (8743019377800)>"
      ]
     },
     "execution_count": 60,
     "metadata": {},
     "output_type": "execute_result"
    }
   ],
   "source": [
    "results = pd.DataFrame(results)  # Switching to a pandas data frame\n",
    "(ggplot(results, aes(x=\"module\", y=\"time\", fill=\"type\"))\n",
    "    + geom_col(position=\"dodge\")\n",
    "    + geom_label(aes(label=\"round(time)\"), position=position_dodge(width=0.9))\n",
    "    + scale_y_log10()\n",
    "    + theme_bw())"
   ]
  }
 ],
 "metadata": {
  "interpreter": {
   "hash": "0c4d728f571dc14aecd61e9c5a335d0795680d56501238c7b0344daa2ef0c43f"
  },
  "kernelspec": {
   "display_name": "Python 3.8.12 64-bit ('ticktack': conda)",
   "language": "python",
   "name": "python3"
  },
  "language_info": {
   "codemirror_mode": {
    "name": "ipython",
    "version": 3
   },
   "file_extension": ".py",
   "mimetype": "text/x-python",
   "name": "python",
   "nbconvert_exporter": "python",
   "pygments_lexer": "ipython3",
   "version": "3.8.12"
  },
  "orig_nbformat": 4
 },
 "nbformat": 4,
 "nbformat_minor": 2
}
