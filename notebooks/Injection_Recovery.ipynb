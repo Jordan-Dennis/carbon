{
 "cells": [
  {
   "cell_type": "code",
   "execution_count": 1,
   "metadata": {},
   "outputs": [],
   "source": [
    "import jax \n",
    "import ticktack\n",
    "import matplotlib.pyplot as pyplot\n",
    "# import jupyterthemes\n",
    "import functools\n",
    "\n",
    "# jupyterthemes.jtplot.style()"
   ]
  },
  {
   "cell_type": "code",
   "execution_count": 3,
   "metadata": {},
   "outputs": [],
   "source": [
    "model = ticktack.load_presaved_model(\"Guttler15\", production_rate_units=\"atoms/cm^2/s\")\n",
    "model.compile()\n",
    "\n",
    "MATRIX = model._matrix\n",
    "PROJECTION = model._production_coefficients\n",
    "\n",
    "del model"
   ]
  },
  {
   "cell_type": "code",
   "execution_count": 4,
   "metadata": {},
   "outputs": [],
   "source": [
    "def load(filename: str, /, sep: str=\",\"):\n",
    "    \"\"\"\n",
    "    A custom `JAX` file loading protocol designed to be very quick and return a value that is `JAX` transformable. \n",
    "    \n",
    "    Parameters:\n",
    "        filename: String -> The file address of the data\n",
    "    Returns:\n",
    "        DeviceArray -> The data in column major order\n",
    "    \"\"\"\n",
    "    with open(filename) as data:    # Opening the data file\n",
    "        _ = next(data)              # Header row for the data \n",
    "\n",
    "        data = jax.numpy.array(\n",
    "            [row.strip().split(sep) for row in data], \n",
    "            dtype=jax.numpy.float64\n",
    "        )\n",
    "        \n",
    "        return data.T"
   ]
  },
  {
   "cell_type": "code",
   "execution_count": 5,
   "metadata": {},
   "outputs": [],
   "source": [
    "time_out = jax.numpy.linspace(0, 10, 100)"
   ]
  },
  {
   "cell_type": "code",
   "execution_count": 6,
   "metadata": {},
   "outputs": [],
   "source": [
    "multiply = jax.jit(jax.vmap(jax.numpy.multiply, in_axes=(None, 0)))\n",
    "matrix_multiply = jax.jit(jax.vmap(jax.numpy.matmul, in_axes=(0, None)))"
   ]
  },
  {
   "cell_type": "code",
   "execution_count": 7,
   "metadata": {},
   "outputs": [],
   "source": [
    "eigenvals, eigenvecs = jax.numpy.linalg.eig(MATRIX)\n",
    "eigenvecs, eigenvals = eigenvecs.real, eigenvals.real\n",
    "inverse = jax.numpy.linalg.inv(eigenvecs)\n",
    "initial_position = 1.0 / jax.numpy.linalg.norm(PROJECTION) * PROJECTION"
   ]
  },
  {
   "cell_type": "code",
   "execution_count": 8,
   "metadata": {},
   "outputs": [],
   "source": [
    "@jax.jit\n",
    "def fundamental_matrix(time_out, /, eigenvecs=eigenvecs, eigenvals=eigenvals, inverse=inverse):\n",
    "    \"\"\"\n",
    "    This constructs the right hand side of the fundamental solution matrix. It is vectorised and so returns a three dimensional array with the third dimension spanning the time series implied by `time_out`.\n",
    "\n",
    "    Parameters:\n",
    "    -----------\n",
    "    : time_out :  The time series over which the fundamental matrix is to be calculated\n",
    "    : eigenvecs : The eigenvectors of the transfer matrix\n",
    "    : eigenvals : The eigenvalues of the transfer matrix\n",
    "    : inverse : The inverse of the eigenvectors of the transfer matrix. This could be calculated internally but since the evaluation is only required once it is passed as an argument.\n",
    "\n",
    "    Returns:\n",
    "    --------\n",
    "    : DeviceArray : The fundamental solution matrix evaluated over the time series implied by `time_out`\n",
    "    \"\"\"\n",
    "    # So I need to implement the translation of the time series back onto 0\n",
    "    exponents = jax.numpy.exp(multiply(eigenvals, time_out))\n",
    "    transition_matrix = multiply(eigenvecs, exponents)\n",
    "    transition_matrix = matrix_multiply(transition_matrix, inverse)\n",
    "    return transition_matrix"
   ]
  },
  {
   "cell_type": "code",
   "execution_count": 9,
   "metadata": {},
   "outputs": [],
   "source": [
    "@jax.jit\n",
    "def analytic_template(time_out, /, initial_poisition=initial_position):\n",
    "    \"\"\"\n",
    "    Determines the analytic solution of an impulse response function over the time series provided by `time_out`.\n",
    "\n",
    "    Parameters:\n",
    "    -----------\n",
    "    : time_out : The time series at which the analytic solution is to be evaluated\n",
    "    : inverse : The inverse of the eigenvectors of the transfer matrix\n",
    "    \n",
    "    \"\"\"\n",
    "    transition_matrix = fundamental_matrix(time_out - time_out.min())\n",
    "    return matrix_multiply(transition_matrix, initial_poisition)"
   ]
  },
  {
   "cell_type": "code",
   "execution_count": 10,
   "metadata": {},
   "outputs": [],
   "source": [
    "intcal = load(\"/home/jordan/Documents/ticktack/src/data/datasets/IntCal20/Intcal20.csv\")"
   ]
  },
  {
   "cell_type": "code",
   "execution_count": 11,
   "metadata": {},
   "outputs": [],
   "source": [
    "@jax.jit\n",
    "def design_matrix(time_series):\n",
    "    \"\"\"\n",
    "    Constructs the design matrix of the linear regression. \n",
    "    \n",
    "    Parameters:\n",
    "    -----------\n",
    "    : time_series : The time over which to evaluate the design matrix.\n",
    "    \n",
    "    Returns:\n",
    "    --------\n",
    "    : DeviceArray : A 3 by n matrix where n is the length of `time_series`.\n",
    "    \"\"\"\n",
    "    constant = jax.numpy.ones((time_series.shape), dtype=jax.numpy.float64)\n",
    "    # So I think that the prescence of the zero values is going to cause problems\n",
    "    # I need to look into the `jax.lax.dynamic_slice_update()` to fix this.\n",
    "    temporal = (time_series - time_series.min()) / time_series.ptp()\n",
    "    analytic = analytic_template(time_series)[:, 1]\n",
    "    return jax.numpy.stack([constant, temporal, analytic])"
   ]
  },
  {
   "cell_type": "code",
   "execution_count": 12,
   "metadata": {},
   "outputs": [],
   "source": [
    "# These are all utility functions for the bad boy \n",
    "# The in_window function is causing headaches because it cannot be passed the data\n",
    "@jax.jit\n",
    "def in_window(start, data, size):\n",
    "    @jax.vmap\n",
    "    def comp_util(start):\n",
    "        return (data[0] >= start) & (data[0] < start + size)\n",
    "    return comp_util(start)\n",
    "\n",
    "vec_mat = jax.jit(jax.vmap(design_matrix)) # Vectorising the deisgn matrix command\n",
    "vec_reg = jax.jit(jax.vmap(jax.numpy.linalg.lstsq)) # Vectorising the lstq function \n",
    "vec_matmul = jax.jit(jax.vmap(jax.numpy.matmul))"
   ]
  },
  {
   "cell_type": "code",
   "execution_count": 13,
   "metadata": {},
   "outputs": [],
   "source": [
    "@jax.jit\n",
    "def vec_regression(data, /, size: int=10):\n",
    "    start = data[0, :-size] # Storing as a variable for the usefulness \n",
    "    mask = in_window(start, data=data, size=size)      # Creates a boolean mask of out of date\n",
    "    lead_dim = data[0].size      # A useful size parameter for the mapping \n",
    "\n",
    "    indices = jax.numpy.arange(start.size) # Inex entry points to get a fill value\n",
    "    fill_values = jax.numpy.take(data, indices, axis=1) # Data sliced along dimension\n",
    "    fill_values = fill_values.repeat(lead_dim) # Element wise repetition\n",
    "    fill_values = fill_values.reshape(3, -1, lead_dim)\n",
    "\n",
    "    data = data.tile(start.size) # Replicating the data \n",
    "    data = data.reshape(3, -1, lead_dim) # Shaping for a push through where\n",
    "\n",
    "    # The error is here. Where is not pulling the correct data out\n",
    "    masked_data = jax.numpy.where(mask, data, fill_values)\n",
    "    masked_matrix = vec_mat(masked_data[0]) # Building the design matrixes\n",
    "\n",
    "    input_arr = jax.numpy.transpose(masked_matrix, axes=(0, 2, 1)) # Gettinf the sahpe compatible with the leading dimesnion of the data\n",
    "    lst_square = vec_reg(input_arr, masked_data[1])[0] # Performing regression \n",
    "    \n",
    "    models = vec_matmul(lst_square, masked_matrix) # Running the models\n",
    "    chi_squared = jax.numpy.sum((masked_data[1] - models) ** 2 / masked_data[2] ** 2, axis=1)\n",
    "    return jax.numpy.hstack([lst_square, chi_squared.reshape(-1, 1)])"
   ]
  },
  {
   "cell_type": "code",
   "execution_count": 14,
   "metadata": {},
   "outputs": [],
   "source": [
    "batched_dim = intcal.shape[1] # Chosing the largest dimension to batch along\n",
    "num_batches = 8 # Number of batches (must be multiple)\n",
    "leading_dim = batched_dim // num_batches # Length of the new leading dim\n",
    "batched_data = intcal.reshape(3, leading_dim, num_batches) # Conforming array to batches\n",
    "batched_data = jax.numpy.transpose(batched_data, axes=(2, 0, 1)) # Placing the map axis in front"
   ]
  },
  {
   "cell_type": "code",
   "execution_count": 15,
   "metadata": {},
   "outputs": [],
   "source": [
    "# Here is where we run the injection recovery\n",
    "coefficients = jax.numpy.vstack([vec_regression(data) for data in batched_data])"
   ]
  },
  {
   "cell_type": "code",
   "execution_count": null,
   "metadata": {},
   "outputs": [],
   "source": [
    "# So this will be the mask/index getter function. \n",
    "def mask(condition, data):\n",
    "    # Note I will need to work out how to pass the leading dimesnion \n",
    "    indices = jax.numpy.arange(data[0].size) # Row indexes of nans\n",
    "    indices = (indices * (1 - condition)).nonzero()[0] # only nan indexes\n",
    "    return jax.numpy.take(data, nan_index, axis=0) # cleaned data "
   ]
  },
  {
   "cell_type": "code",
   "execution_count": 16,
   "metadata": {},
   "outputs": [],
   "source": [
    "nan_mask = jax.numpy.isnan(coefficients[:, 0]) # Boolean nan mask\n",
    "indices = jax.numpy.arange(coefficients[:, 0].size) # Row indexes of nans\n",
    "nan_index = indices * (1 - nan_mask) # array of indexes that have nans 0 else where\n",
    "nan_index = nan_index.nonzero()[0] # only nan indexes\n",
    "non_nan = jax.numpy.take(coefficients, nan_index, axis=0) # cleaned data \n",
    "non_nan_time = jax.numpy.take(intcal[0], nan_index)"
   ]
  },
  {
   "cell_type": "markdown",
   "metadata": {},
   "source": [
    "I could also just multiply by the mask and then use nonzero. Note it might be beneficial to have a masking function that is jit compiled. I say this because the logic is pretty widely used even elsewhere in the code."
   ]
  },
  {
   "cell_type": "code",
   "execution_count": 17,
   "metadata": {},
   "outputs": [
    {
     "ename": "TypeError",
     "evalue": "mul got incompatible shapes for broadcasting: (7296,), (5425,).",
     "output_type": "error",
     "traceback": [
      "\u001b[0;31m---------------------------------------------------------------------------\u001b[0m",
      "\u001b[0;31mTypeError\u001b[0m                                 Traceback (most recent call last)",
      "\u001b[0;32m/tmp/ipykernel_5433/552349396.py\u001b[0m in \u001b[0;36m<module>\u001b[0;34m\u001b[0m\n\u001b[1;32m      2\u001b[0m \u001b[0manalytic_std\u001b[0m \u001b[0;34m=\u001b[0m \u001b[0mjax\u001b[0m\u001b[0;34m.\u001b[0m\u001b[0mnumpy\u001b[0m\u001b[0;34m.\u001b[0m\u001b[0mstd\u001b[0m\u001b[0;34m(\u001b[0m\u001b[0mnon_nan\u001b[0m\u001b[0;34m[\u001b[0m\u001b[0;34m:\u001b[0m\u001b[0;34m,\u001b[0m \u001b[0;36m2\u001b[0m\u001b[0;34m]\u001b[0m\u001b[0;34m)\u001b[0m \u001b[0;31m# Standard deviation of analytic solution coefficients\u001b[0m\u001b[0;34m\u001b[0m\u001b[0;34m\u001b[0m\u001b[0m\n\u001b[1;32m      3\u001b[0m \u001b[0mthreshold_mask\u001b[0m \u001b[0;34m=\u001b[0m \u001b[0mnon_nan\u001b[0m\u001b[0;34m[\u001b[0m\u001b[0;34m:\u001b[0m\u001b[0;34m,\u001b[0m \u001b[0;36m2\u001b[0m\u001b[0;34m]\u001b[0m \u001b[0;34m>\u001b[0m \u001b[0;34m(\u001b[0m\u001b[0manalytic_mean\u001b[0m \u001b[0;34m+\u001b[0m \u001b[0;36m2\u001b[0m \u001b[0;34m*\u001b[0m \u001b[0manalytic_std\u001b[0m\u001b[0;34m)\u001b[0m \u001b[0;31m# A mask for cutoff at 2sd\u001b[0m\u001b[0;34m\u001b[0m\u001b[0;34m\u001b[0m\u001b[0m\n\u001b[0;32m----> 4\u001b[0;31m \u001b[0mthreshold_index\u001b[0m \u001b[0;34m=\u001b[0m \u001b[0mindices\u001b[0m \u001b[0;34m*\u001b[0m \u001b[0;34m(\u001b[0m\u001b[0;36m1\u001b[0m \u001b[0;34m-\u001b[0m \u001b[0mthreshold_mask\u001b[0m\u001b[0;34m)\u001b[0m \u001b[0;31m# Getting the indexes of the data\u001b[0m\u001b[0;34m\u001b[0m\u001b[0;34m\u001b[0m\u001b[0m\n\u001b[0m\u001b[1;32m      5\u001b[0m \u001b[0mthreshold_index\u001b[0m \u001b[0;34m=\u001b[0m \u001b[0mthreshold_index\u001b[0m\u001b[0;34m.\u001b[0m\u001b[0mnonzero\u001b[0m\u001b[0;34m(\u001b[0m\u001b[0;34m)\u001b[0m\u001b[0;34m\u001b[0m\u001b[0;34m\u001b[0m\u001b[0m\n",
      "\u001b[0;32m~/anaconda3/envs/kitkat/lib/python3.9/site-packages/jax/_src/numpy/lax_numpy.py\u001b[0m in \u001b[0;36mdeferring_binary_op\u001b[0;34m(self, other)\u001b[0m\n\u001b[1;32m   6745\u001b[0m     \u001b[0;32mif\u001b[0m \u001b[0;32mnot\u001b[0m \u001b[0misinstance\u001b[0m\u001b[0;34m(\u001b[0m\u001b[0mother\u001b[0m\u001b[0;34m,\u001b[0m \u001b[0m_accepted_binop_types\u001b[0m\u001b[0;34m)\u001b[0m\u001b[0;34m:\u001b[0m\u001b[0;34m\u001b[0m\u001b[0;34m\u001b[0m\u001b[0m\n\u001b[1;32m   6746\u001b[0m       \u001b[0;32mreturn\u001b[0m \u001b[0mNotImplemented\u001b[0m\u001b[0;34m\u001b[0m\u001b[0;34m\u001b[0m\u001b[0m\n\u001b[0;32m-> 6747\u001b[0;31m     \u001b[0;32mreturn\u001b[0m \u001b[0mbinary_op\u001b[0m\u001b[0;34m(\u001b[0m\u001b[0mself\u001b[0m\u001b[0;34m,\u001b[0m \u001b[0mother\u001b[0m\u001b[0;34m)\u001b[0m\u001b[0;34m\u001b[0m\u001b[0;34m\u001b[0m\u001b[0m\n\u001b[0m\u001b[1;32m   6748\u001b[0m   \u001b[0;32mreturn\u001b[0m \u001b[0mdeferring_binary_op\u001b[0m\u001b[0;34m\u001b[0m\u001b[0;34m\u001b[0m\u001b[0m\n\u001b[1;32m   6749\u001b[0m \u001b[0;34m\u001b[0m\u001b[0m\n",
      "    \u001b[0;31m[... skipping hidden 14 frame]\u001b[0m\n",
      "\u001b[0;32m~/anaconda3/envs/kitkat/lib/python3.9/site-packages/jax/_src/numpy/lax_numpy.py\u001b[0m in \u001b[0;36mfn\u001b[0;34m(x1, x2)\u001b[0m\n\u001b[1;32m    707\u001b[0m   \u001b[0;32mdef\u001b[0m \u001b[0mfn\u001b[0m\u001b[0;34m(\u001b[0m\u001b[0mx1\u001b[0m\u001b[0;34m,\u001b[0m \u001b[0mx2\u001b[0m\u001b[0;34m)\u001b[0m\u001b[0;34m:\u001b[0m\u001b[0;34m\u001b[0m\u001b[0;34m\u001b[0m\u001b[0m\n\u001b[1;32m    708\u001b[0m     \u001b[0mx1\u001b[0m\u001b[0;34m,\u001b[0m \u001b[0mx2\u001b[0m \u001b[0;34m=\u001b[0m \u001b[0m_promote_args\u001b[0m\u001b[0;34m(\u001b[0m\u001b[0mnumpy_fn\u001b[0m\u001b[0;34m.\u001b[0m\u001b[0m__name__\u001b[0m\u001b[0;34m,\u001b[0m \u001b[0mx1\u001b[0m\u001b[0;34m,\u001b[0m \u001b[0mx2\u001b[0m\u001b[0;34m)\u001b[0m\u001b[0;34m\u001b[0m\u001b[0;34m\u001b[0m\u001b[0m\n\u001b[0;32m--> 709\u001b[0;31m     \u001b[0;32mreturn\u001b[0m \u001b[0mlax_fn\u001b[0m\u001b[0;34m(\u001b[0m\u001b[0mx1\u001b[0m\u001b[0;34m,\u001b[0m \u001b[0mx2\u001b[0m\u001b[0;34m)\u001b[0m \u001b[0;32mif\u001b[0m \u001b[0mx1\u001b[0m\u001b[0;34m.\u001b[0m\u001b[0mdtype\u001b[0m \u001b[0;34m!=\u001b[0m \u001b[0mbool_\u001b[0m \u001b[0;32melse\u001b[0m \u001b[0mbool_lax_fn\u001b[0m\u001b[0;34m(\u001b[0m\u001b[0mx1\u001b[0m\u001b[0;34m,\u001b[0m \u001b[0mx2\u001b[0m\u001b[0;34m)\u001b[0m\u001b[0;34m\u001b[0m\u001b[0;34m\u001b[0m\u001b[0m\n\u001b[0m\u001b[1;32m    710\u001b[0m   \u001b[0mfn\u001b[0m \u001b[0;34m=\u001b[0m \u001b[0mjit\u001b[0m\u001b[0;34m(\u001b[0m\u001b[0mfn\u001b[0m\u001b[0;34m,\u001b[0m \u001b[0minline\u001b[0m\u001b[0;34m=\u001b[0m\u001b[0;32mTrue\u001b[0m\u001b[0;34m)\u001b[0m\u001b[0;34m\u001b[0m\u001b[0;34m\u001b[0m\u001b[0m\n\u001b[1;32m    711\u001b[0m   \u001b[0;32mif\u001b[0m \u001b[0mlax_doc\u001b[0m\u001b[0;34m:\u001b[0m\u001b[0;34m\u001b[0m\u001b[0;34m\u001b[0m\u001b[0m\n",
      "    \u001b[0;31m[... skipping hidden 6 frame]\u001b[0m\n",
      "\u001b[0;32m~/anaconda3/envs/kitkat/lib/python3.9/site-packages/jax/_src/lax/lax.py\u001b[0m in \u001b[0;36m_broadcasting_shape_rule\u001b[0;34m(name, *avals)\u001b[0m\n\u001b[1;32m   1420\u001b[0m       \u001b[0mnon_1s\u001b[0m \u001b[0;34m=\u001b[0m \u001b[0;34m{\u001b[0m\u001b[0md\u001b[0m \u001b[0;32mfor\u001b[0m \u001b[0md\u001b[0m \u001b[0;32min\u001b[0m \u001b[0mds\u001b[0m \u001b[0;32mif\u001b[0m \u001b[0;32mnot\u001b[0m \u001b[0mcore\u001b[0m\u001b[0;34m.\u001b[0m\u001b[0msymbolic_equal_dim\u001b[0m\u001b[0;34m(\u001b[0m\u001b[0md\u001b[0m\u001b[0;34m,\u001b[0m \u001b[0;36m1\u001b[0m\u001b[0;34m)\u001b[0m\u001b[0;34m}\u001b[0m\u001b[0;34m\u001b[0m\u001b[0;34m\u001b[0m\u001b[0m\n\u001b[1;32m   1421\u001b[0m       \u001b[0;32mif\u001b[0m \u001b[0mlen\u001b[0m\u001b[0;34m(\u001b[0m\u001b[0mnon_1s\u001b[0m\u001b[0;34m)\u001b[0m \u001b[0;34m>\u001b[0m \u001b[0;36m1\u001b[0m\u001b[0;34m:\u001b[0m\u001b[0;34m\u001b[0m\u001b[0;34m\u001b[0m\u001b[0m\n\u001b[0;32m-> 1422\u001b[0;31m         raise TypeError(f'{name} got incompatible shapes for broadcasting: '\n\u001b[0m\u001b[1;32m   1423\u001b[0m                         f'{\", \".join(map(str, map(tuple, shapes)))}.')\n\u001b[1;32m   1424\u001b[0m       \u001b[0mresult_shape\u001b[0m\u001b[0;34m.\u001b[0m\u001b[0mappend\u001b[0m\u001b[0;34m(\u001b[0m\u001b[0mnon_1s\u001b[0m\u001b[0;34m.\u001b[0m\u001b[0mpop\u001b[0m\u001b[0;34m(\u001b[0m\u001b[0;34m)\u001b[0m \u001b[0;32mif\u001b[0m \u001b[0mnon_1s\u001b[0m \u001b[0;32melse\u001b[0m \u001b[0;36m1\u001b[0m\u001b[0;34m)\u001b[0m\u001b[0;34m\u001b[0m\u001b[0;34m\u001b[0m\u001b[0m\n",
      "\u001b[0;31mTypeError\u001b[0m: mul got incompatible shapes for broadcasting: (7296,), (5425,)."
     ]
    }
   ],
   "source": [
    "analytic_mean = jax.numpy.mean(non_nan[:, 2]) # Mean of analytic solution coefficients\n",
    "analytic_std = jax.numpy.std(non_nan[:, 2]) # Standard deviation of analytic solution coefficients\n",
    "threshold_mask = non_nan[:, 2] > (analytic_mean + 2 * analytic_std) # A mask for cutoff at 2sd\n",
    "threshold_index = indices * (1 - threshold_mask) # Getting the indexes of the data \n",
    "threshold_index = threshold_index.nonzero()\n"
   ]
  },
  {
   "cell_type": "code",
   "execution_count": null,
   "metadata": {},
   "outputs": [],
   "source": [
    "import seaborn"
   ]
  },
  {
   "cell_type": "code",
   "execution_count": 64,
   "metadata": {
    "scrolled": true
   },
   "outputs": [
    {
     "data": {
      "text/plain": [
       "<AxesSubplot:ylabel='Count'>"
      ]
     },
     "execution_count": 64,
     "metadata": {},
     "output_type": "execute_result"
    },
    {
     "data": {
      "image/png": "[encoded data removed]",
      "text/plain": [
       "<Figure size 432x288 with 1 Axes>"
      ]
     },
     "metadata": {
      "needs_background": "light"
     },
     "output_type": "display_data"
    }
   ],
   "source": [
    "seaborn.histplot(non_nan[:, 2])"
   ]
  },
  {
   "cell_type": "code",
   "execution_count": 71,
   "metadata": {},
   "outputs": [
    {
     "data": {
      "text/plain": [
       "<AxesSubplot:>"
      ]
     },
     "execution_count": 71,
     "metadata": {},
     "output_type": "execute_result"
    },
    {
     "data": {
      "image/png": "[encoded data removed]",
      "text/plain": [
       "<Figure size 432x288 with 1 Axes>"
      ]
     },
     "metadata": {
      "needs_background": "light"
     },
     "output_type": "display_data"
    }
   ],
   "source": [
    "seaborn.lineplot(x=non_nan_time[:1000], y=non_nan[:1000, 2])"
   ]
  },
  {
   "cell_type": "code",
   "execution_count": null,
   "metadata": {},
   "outputs": [],
   "source": []
  }
 ],
 "metadata": {
  "interpreter": {
   "hash": "ab79d763119790aea00e8eaeb5d3be48434571919ae202ec38e1b7aefb77c6d3"
  },
  "kernelspec": {
   "display_name": "Python 3 (ipykernel)",
   "language": "python",
   "name": "python3"
  },
  "language_info": {
   "codemirror_mode": {
    "name": "ipython",
    "version": 3
   },
   "file_extension": ".py",
   "mimetype": "text/x-python",
   "name": "python",
   "nbconvert_exporter": "python",
   "pygments_lexer": "ipython3",
   "version": "3.9.7"
  }
 },
 "nbformat": 4,
 "nbformat_minor": 2
}
