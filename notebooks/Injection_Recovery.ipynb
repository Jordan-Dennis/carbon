{
 "cells": [
  {
   "cell_type": "code",
   "execution_count": 88,
   "metadata": {},
   "outputs": [],
   "source": [
    "import jax \n",
    "import ticktack\n",
    "import matplotlib.pyplot as pyplot\n",
    "# import jupyterthemes\n",
    "import functools\n",
    "\n",
    "# jupyterthemes.jtplot.style()"
   ]
  },
  {
   "cell_type": "code",
   "execution_count": 25,
   "metadata": {},
   "outputs": [],
   "source": [
    "model = ticktack.load_presaved_model(\"Guttler15\", production_rate_units=\"atoms/cm^2/s\")\n",
    "model.compile()\n",
    "\n",
    "MATRIX = model._matrix\n",
    "PROJECTION = model._production_coefficients\n",
    "\n",
    "del model"
   ]
  },
  {
   "cell_type": "code",
   "execution_count": 26,
   "metadata": {},
   "outputs": [],
   "source": [
    "def load(filename: str, /, sep: str=\",\"):\n",
    "    \"\"\"\n",
    "    A custom `JAX` file loading protocol designed to be very quick and return a value that is `JAX` transformable. \n",
    "    \n",
    "    Parameters:\n",
    "        filename: String -> The file address of the data\n",
    "    Returns:\n",
    "        DeviceArray -> The data in column major order\n",
    "    \"\"\"\n",
    "    with open(filename) as data:    # Opening the data file\n",
    "        _ = next(data)              # Header row for the data \n",
    "\n",
    "        data = jax.numpy.array(\n",
    "            [row.strip().split(sep) for row in data], \n",
    "            dtype=jax.numpy.float64\n",
    "        )\n",
    "        \n",
    "        return data.T"
   ]
  },
  {
   "cell_type": "code",
   "execution_count": 27,
   "metadata": {},
   "outputs": [],
   "source": [
    "time_out = jax.numpy.linspace(0, 10, 100)"
   ]
  },
  {
   "cell_type": "code",
   "execution_count": 28,
   "metadata": {},
   "outputs": [],
   "source": [
    "multiply = jax.jit(jax.vmap(jax.numpy.multiply, in_axes=(None, 0)))\n",
    "matrix_multiply = jax.jit(jax.vmap(jax.numpy.matmul, in_axes=(0, None)))"
   ]
  },
  {
   "cell_type": "code",
   "execution_count": 29,
   "metadata": {},
   "outputs": [],
   "source": [
    "eigenvals, eigenvecs = jax.numpy.linalg.eig(MATRIX)\n",
    "eigenvecs, eigenvals = eigenvecs.real, eigenvals.real\n",
    "inverse = jax.numpy.linalg.inv(eigenvecs)\n",
    "initial_position = 1.0 / jax.numpy.linalg.norm(PROJECTION) * PROJECTION"
   ]
  },
  {
   "cell_type": "code",
   "execution_count": 30,
   "metadata": {},
   "outputs": [],
   "source": [
    "@jax.jit\n",
    "def fundamental_matrix(time_out, /, eigenvecs=eigenvecs, eigenvals=eigenvals, inverse=inverse):\n",
    "    \"\"\"\n",
    "    This constructs the right hand side of the fundamental solution matrix. It is vectorised and so returns a three dimensional array with the third dimension spanning the time series implied by `time_out`.\n",
    "\n",
    "    Parameters:\n",
    "    -----------\n",
    "    : time_out :  The time series over which the fundamental matrix is to be calculated\n",
    "    : eigenvecs : The eigenvectors of the transfer matrix\n",
    "    : eigenvals : The eigenvalues of the transfer matrix\n",
    "    : inverse : The inverse of the eigenvectors of the transfer matrix. This could be calculated internally but since the evaluation is only required once it is passed as an argument.\n",
    "\n",
    "    Returns:\n",
    "    --------\n",
    "    : DeviceArray : The fundamental solution matrix evaluated over the time series implied by `time_out`\n",
    "    \"\"\"\n",
    "    # So I need to implement the translation of the time series back onto 0\n",
    "    exponents = jax.numpy.exp(multiply(eigenvals, time_out))\n",
    "    transition_matrix = multiply(eigenvecs, exponents)\n",
    "    transition_matrix = matrix_multiply(transition_matrix, inverse)\n",
    "    return transition_matrix"
   ]
  },
  {
   "cell_type": "code",
   "execution_count": 31,
   "metadata": {},
   "outputs": [],
   "source": [
    "@jax.jit\n",
    "def analytic_template(time_out, /, initial_poisition=initial_position):\n",
    "    \"\"\"\n",
    "    Determines the analytic solution of an impulse response function over the time series provided by `time_out`.\n",
    "\n",
    "    Parameters:\n",
    "    -----------\n",
    "    : time_out : The time series at which the analytic solution is to be evaluated\n",
    "    : inverse : The inverse of the eigenvectors of the transfer matrix\n",
    "    \n",
    "    \"\"\"\n",
    "    transition_matrix = fundamental_matrix(time_out - time_out.min())\n",
    "    return matrix_multiply(transition_matrix, initial_poisition)"
   ]
  },
  {
   "cell_type": "code",
   "execution_count": 32,
   "metadata": {},
   "outputs": [],
   "source": [
    "intcal = load(\"/home/jordan/Documents/ticktack/src/data/datasets/IntCal20/Intcal20.csv\")"
   ]
  },
  {
   "cell_type": "code",
   "execution_count": 33,
   "metadata": {},
   "outputs": [],
   "source": [
    "@jax.jit\n",
    "def design_matrix(time_series):\n",
    "    \"\"\"\n",
    "    Constructs the design matrix of the linear regression. \n",
    "    \n",
    "    Parameters:\n",
    "    -----------\n",
    "    : time_series : The time over which to evaluate the design matrix.\n",
    "    \n",
    "    Returns:\n",
    "    --------\n",
    "    : DeviceArray : A 3 by n matrix where n is the length of `time_series`.\n",
    "    \"\"\"\n",
    "    constant = jax.numpy.ones((time_series.shape), dtype=jax.numpy.float64)\n",
    "    # So I think that the prescence of the zero values is going to cause problems\n",
    "    # I need to look into the `jax.lax.dynamic_slice_update()` to fix this.\n",
    "    temporal = (time_series - time_series.min()) / time_series.ptp()\n",
    "    analytic = analytic_template(time_series)[:, 1]\n",
    "    return jax.numpy.stack([constant, temporal, analytic])"
   ]
  },
  {
   "cell_type": "code",
   "execution_count": 50,
   "metadata": {},
   "outputs": [],
   "source": [
    "# These are all utility functions for the bad boy \n",
    "# The in_window function is causing headaches because it cannot be passed the data\n",
    "@jax.jit\n",
    "def in_window(start, data, size):\n",
    "    @jax.vmap\n",
    "    def comp_util(start):\n",
    "        return (data[0] >= start) & (data[0] < start + size)\n",
    "    return comp_util(start)\n",
    "\n",
    "vec_mat = jax.jit(jax.vmap(design_matrix)) # Vectorising the deisgn matrix command\n",
    "vec_reg = jax.jit(jax.vmap(jax.numpy.linalg.lstsq)) # Vectorising the lstq function \n",
    "vec_matmul = jax.jit(jax.vmap(jax.numpy.matmul))"
   ]
  },
  {
   "cell_type": "code",
   "execution_count": 35,
   "metadata": {},
   "outputs": [],
   "source": [
    "@jax.jit\n",
    "def vec_regression(data, /, size: int=10):\n",
    "    start = data[0, :-size] # Storing as a variable for the usefulness \n",
    "    mask = in_window(start, data=data, size=size)      # Creates a boolean mask of out of date\n",
    "    lead_dim = data[0].size      # A useful size parameter for the mapping \n",
    "\n",
    "    indices = jax.numpy.arange(start.size) # Inex entry points to get a fill value\n",
    "    fill_values = jax.numpy.take(data, indices, axis=1) # Data sliced along dimension\n",
    "    fill_values = fill_values.repeat(lead_dim) # Element wise repetition\n",
    "    fill_values = fill_values.reshape(3, -1, lead_dim)\n",
    "\n",
    "    data = data.tile(start.size) # Replicating the data \n",
    "    data = data.reshape(3, -1, lead_dim) # Shaping for a push through where\n",
    "\n",
    "    # The error is here. Where is not pulling the correct data out\n",
    "    masked_data = jax.numpy.where(mask, data, fill_values)\n",
    "    masked_matrix = vec_mat(masked_data[0]) # Building the design matrixes\n",
    "\n",
    "    input_arr = jax.numpy.transpose(masked_matrix, axes=(0, 2, 1)) # Gettinf the sahpe compatible with the leading dimesnion of the data\n",
    "    lst_square = vec_reg(input_arr, masked_data[1])[0] # Performing regression \n",
    "    \n",
    "    models = vec_matmul(lst_square, masked_matrix) # Running the models\n",
    "    chi_squared = jax.numpy.sum((masked_data[1] - models) ** 2 / masked_data[2] ** 2, axis=1)\n",
    "    return jax.numpy.hstack([lst_square, chi_squared.reshape(-1, 1)])"
   ]
  },
  {
   "cell_type": "code",
   "execution_count": 140,
   "metadata": {},
   "outputs": [],
   "source": [
    "batched_vec_reg =jax.vmap(vec_regression)\n",
    "\n",
    "# The idea is to run the injection recovery in batches. I don't remeber getting the nans as \n",
    "# outputs with the slower function. That said I don't remember looking too closely at the \n",
    "# output. I think they might be legit but I don't know"
   ]
  },
  {
   "cell_type": "code",
   "execution_count": 138,
   "metadata": {},
   "outputs": [],
   "source": [
    "batched_dim = intcal.shape[1] # Chosing the largest dimension to batch along\n",
    "num_batches = 8 # Number of batches (must be multiple)\n",
    "leading_dim = batched_dim // num_batches # Length of the new leading dim\n",
    "batched_data = intcal.reshape(3, leading_dim, num_batches) # Conforming array to batches\n",
    "batched_data = jax.numpy.transpose(batched_data, axes=(2, 0, 1)) # Placing the map axis in front"
   ]
  },
  {
   "cell_type": "code",
   "execution_count": null,
   "metadata": {},
   "outputs": [],
   "source": [
    "batched_vec_reg(batched_data)"
   ]
  },
  {
   "cell_type": "code",
   "execution_count": 95,
   "metadata": {},
   "outputs": [],
   "source": [
    "group_one = vec_regression(intcal[:, :1000])"
   ]
  },
  {
   "cell_type": "code",
   "execution_count": 101,
   "metadata": {},
   "outputs": [],
   "source": [
    "coefficients = group_one[:, 2]\n",
    "nan_mask = jax.numpy.isnan(coefficients)\n",
    "indices = jax.numpy.arange(coefficients.size)\n",
    "nan_index = indices * nan_mask\n",
    "# coefficients = jax.numpy.delete(coefficients, nan_index)"
   ]
  },
  {
   "cell_type": "code",
   "execution_count": 102,
   "metadata": {
    "collapsed": true
   },
   "outputs": [
    {
     "data": {
      "text/plain": [
       "DeviceArray([  0,   0,   0,   0,   0,   0,   0,   0,   0,   0,   0,   0,\n",
       "               0,   0,   0,   0,   0,   0,   0,   0,   0,   0,   0,   0,\n",
       "               0,   0,   0,   0,   0,   0,   0,   0,   0,   0,   0,   0,\n",
       "               0,   0,   0,   0,   0,   0,   0,   0,  44,   0,   0,   0,\n",
       "               0,   0,   0,   0,   0,   0,   0,   0,   0,   0,   0,   0,\n",
       "               0,   0,   0,   0,   0,   0,   0,   0,   0,   0,   0,   0,\n",
       "               0,   0,   0,   0,   0,   0,   0,   0,   0,   0,   0,   0,\n",
       "               0,   0,   0,   0,   0,   0,   0,   0,   0,   0,   0,   0,\n",
       "               0,   0,   0,   0,   0,   0,   0,   0,   0,   0,   0,   0,\n",
       "               0,   0,   0,   0,   0,   0,   0,   0,   0,   0,   0,   0,\n",
       "               0,   0,   0,   0,   0,   0,   0,   0,   0,   0,   0,   0,\n",
       "               0,   0,   0,   0,   0,   0,   0,   0,   0,   0,   0,   0,\n",
       "               0,   0,   0,   0,   0,   0,   0,   0,   0,   0,   0,   0,\n",
       "               0,   0,   0,   0,   0,   0,   0,   0,   0,   0,   0,   0,\n",
       "               0,   0,   0,   0,   0,   0,   0,   0,   0,   0,   0,   0,\n",
       "               0,   0,   0,   0,   0,   0,   0,   0,   0,   0,   0,   0,\n",
       "               0,   0,   0,   0,   0,   0,   0,   0,   0,   0,   0,   0,\n",
       "               0,   0,   0,   0,   0,   0,   0,   0,   0,   0,   0,   0,\n",
       "               0,   0,   0,   0,   0,   0,   0,   0,   0,   0,   0,   0,\n",
       "               0,   0,   0,   0,   0,   0,   0,   0,   0,   0,   0,   0,\n",
       "               0,   0,   0,   0,   0,   0,   0,   0,   0,   0,   0,   0,\n",
       "               0,   0,   0,   0,   0,   0,   0,   0,   0,   0,   0,   0,\n",
       "               0,   0,   0,   0,   0,   0,   0,   0,   0,   0,   0,   0,\n",
       "               0,   0,   0,   0,   0,   0,   0,   0,   0,   0,   0,   0,\n",
       "               0,   0,   0,   0,   0,   0,   0,   0,   0,   0,   0,   0,\n",
       "               0,   0,   0,   0,   0,   0,   0,   0,   0,   0,   0,   0,\n",
       "               0,   0,   0,   0,   0,   0,   0,   0,   0,   0,   0,   0,\n",
       "               0,   0,   0,   0,   0,   0,   0,   0,   0,   0,   0,   0,\n",
       "               0,   0,   0,   0,   0,   0,   0,   0,   0,   0,   0,   0,\n",
       "               0,   0,   0,   0,   0,   0,   0,   0,   0,   0,   0,   0,\n",
       "               0,   0,   0,   0,   0,   0,   0,   0,   0,   0,   0,   0,\n",
       "               0,   0,   0,   0,   0,   0,   0,   0,   0,   0,   0,   0,\n",
       "               0,   0,   0,   0,   0,   0,   0,   0,   0,   0,   0,   0,\n",
       "               0,   0, 398,   0, 400,   0, 402,   0, 404,   0, 406, 407,\n",
       "               0, 409,   0, 411,   0, 413, 414, 415,   0, 417, 418, 419,\n",
       "             420, 421, 422, 423, 424, 425, 426, 427, 428, 429, 430, 431,\n",
       "             432, 433, 434, 435, 436, 437, 438, 439, 440, 441, 442, 443,\n",
       "             444, 445, 446, 447, 448, 449, 450, 451, 452, 453, 454, 455,\n",
       "             456, 457, 458, 459, 460, 461, 462, 463, 464, 465, 466, 467,\n",
       "             468, 469, 470, 471, 472, 473, 474, 475, 476, 477, 478, 479,\n",
       "             480, 481, 482, 483, 484, 485, 486, 487, 488, 489, 490, 491,\n",
       "             492, 493, 494, 495, 496, 497, 498, 499, 500, 501, 502, 503,\n",
       "             504, 505, 506, 507, 508, 509, 510, 511, 512, 513,   0,   0,\n",
       "               0,   0,   0,   0,   0,   0,   0,   0,   0,   0,   0,   0,\n",
       "               0,   0,   0,   0,   0,   0,   0,   0, 536,   0,   0, 539,\n",
       "             540, 541, 542, 543, 544, 545, 546, 547, 548, 549, 550, 551,\n",
       "             552, 553, 554, 555, 556, 557,   0, 559,   0,   0,   0,   0,\n",
       "               0,   0,   0,   0,   0,   0, 570, 571, 572, 573, 574, 575,\n",
       "             576, 577, 578,   0,   0,   0,   0,   0,   0,   0,   0,   0,\n",
       "               0, 589, 590, 591, 592, 593,   0,   0, 596, 597, 598, 599,\n",
       "             600, 601, 602, 603, 604, 605, 606, 607, 608, 609, 610, 611,\n",
       "             612, 613, 614, 615, 616, 617, 618, 619, 620, 621, 622, 623,\n",
       "               0, 625, 626, 627, 628, 629, 630, 631, 632, 633, 634, 635,\n",
       "             636,   0,   0,   0, 640,   0,   0, 643, 644, 645, 646, 647,\n",
       "             648, 649, 650, 651, 652, 653, 654, 655, 656, 657, 658,   0,\n",
       "             660,   0, 662, 663,   0,   0,   0, 667, 668, 669, 670, 671,\n",
       "             672,   0, 674,   0, 676, 677,   0, 679,   0,   0, 682, 683,\n",
       "             684, 685, 686,   0, 688, 689, 690, 691, 692, 693, 694, 695,\n",
       "             696, 697, 698, 699, 700, 701, 702, 703, 704,   0,   0,   0,\n",
       "               0,   0,   0,   0,   0,   0,   0,   0,   0,   0,   0,   0,\n",
       "               0,   0,   0, 723, 724, 725, 726, 727, 728, 729, 730, 731,\n",
       "             732, 733, 734, 735, 736, 737, 738, 739, 740, 741, 742, 743,\n",
       "             744, 745, 746, 747, 748, 749, 750, 751, 752, 753, 754, 755,\n",
       "             756, 757, 758, 759, 760, 761, 762, 763, 764, 765, 766, 767,\n",
       "             768, 769, 770, 771, 772, 773, 774, 775, 776,   0,   0,   0,\n",
       "               0,   0,   0, 783, 784, 785, 786, 787, 788, 789, 790, 791,\n",
       "             792, 793, 794, 795, 796, 797, 798, 799, 800, 801, 802, 803,\n",
       "             804, 805, 806, 807, 808, 809, 810, 811, 812, 813, 814, 815,\n",
       "             816, 817, 818, 819, 820, 821, 822, 823, 824, 825, 826, 827,\n",
       "             828, 829, 830, 831, 832, 833, 834, 835, 836, 837, 838, 839,\n",
       "             840, 841, 842, 843, 844, 845, 846, 847, 848, 849, 850, 851,\n",
       "             852, 853, 854, 855, 856, 857, 858, 859, 860, 861, 862, 863,\n",
       "             864, 865, 866, 867, 868, 869, 870, 871, 872, 873, 874, 875,\n",
       "             876, 877, 878, 879, 880, 881, 882, 883, 884, 885, 886, 887,\n",
       "             888, 889, 890, 891, 892, 893, 894, 895, 896, 897, 898, 899,\n",
       "             900, 901, 902, 903, 904, 905, 906, 907, 908, 909, 910, 911,\n",
       "             912, 913, 914, 915, 916, 917, 918, 919, 920, 921, 922, 923,\n",
       "             924, 925, 926, 927, 928, 929, 930, 931, 932, 933, 934, 935,\n",
       "             936, 937, 938, 939, 940, 941, 942, 943, 944, 945, 946, 947,\n",
       "             948, 949, 950, 951, 952, 953, 954, 955, 956, 957, 958, 959,\n",
       "             960, 961, 962, 963, 964, 965, 966, 967, 968, 969, 970, 971,\n",
       "             972, 973, 974, 975, 976, 977, 978, 979, 980, 981, 982, 983,\n",
       "             984, 985, 986, 987, 988, 989], dtype=int64)"
      ]
     },
     "execution_count": 102,
     "metadata": {},
     "output_type": "execute_result"
    }
   ],
   "source": [
    "nan_index"
   ]
  },
  {
   "cell_type": "code",
   "execution_count": 103,
   "metadata": {},
   "outputs": [],
   "source": [
    "hist_vals = list(map(float, coefficients))"
   ]
  },
  {
   "cell_type": "code",
   "execution_count": 107,
   "metadata": {
    "scrolled": true
   },
   "outputs": [
    {
     "data": {
      "image/png": "[encoded data removed]",
      "text/plain": [
       "<Figure size 460.8x403.2 with 1 Axes>"
      ]
     },
     "metadata": {},
     "output_type": "display_data"
    }
   ],
   "source": [
    "pyplot.figure(0)\n",
    "pyplot.hist(hist_vals, bins=30)\n",
    "pyplot.show()"
   ]
  },
  {
   "cell_type": "code",
   "execution_count": null,
   "metadata": {},
   "outputs": [],
   "source": []
  }
 ],
 "metadata": {
  "interpreter": {
   "hash": "ab79d763119790aea00e8eaeb5d3be48434571919ae202ec38e1b7aefb77c6d3"
  },
  "kernelspec": {
   "display_name": "Python 3 (ipykernel)",
   "language": "python",
   "name": "python3"
  },
  "language_info": {
   "codemirror_mode": {
    "name": "ipython",
    "version": 3
   },
   "file_extension": ".py",
   "mimetype": "text/x-python",
   "name": "python",
   "nbconvert_exporter": "python",
   "pygments_lexer": "ipython3",
   "version": "3.9.7"
  }
 },
 "nbformat": 4,
 "nbformat_minor": 2
}
