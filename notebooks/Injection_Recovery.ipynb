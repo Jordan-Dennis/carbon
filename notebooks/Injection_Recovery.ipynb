{
 "cells": [
  {
   "cell_type": "code",
   "execution_count": 1,
   "metadata": {},
   "outputs": [],
   "source": [
    "import jax \n",
    "import ticktack\n",
    "import matplotlib.pyplot as pyplot"
   ]
  },
  {
   "cell_type": "code",
   "execution_count": 2,
   "metadata": {},
   "outputs": [
    {
     "name": "stderr",
     "output_type": "stream",
     "text": [
      "WARNING:absl:No GPU/TPU found, falling back to CPU. (Set TF_CPP_MIN_LOG_LEVEL=0 and rerun for more info.)\n"
     ]
    }
   ],
   "source": [
    "model = ticktack.load_presaved_model(\"Guttler15\", production_rate_units=\"atoms/cm^2/s\")\n",
    "model.compile()\n",
    "\n",
    "MATRIX = model._matrix\n",
    "PROJECTION = model._production_coefficients\n",
    "\n",
    "del model"
   ]
  },
  {
   "cell_type": "code",
   "execution_count": 3,
   "metadata": {},
   "outputs": [],
   "source": [
    "def load(filename: str):\n",
    "    \"\"\"\n",
    "    A custom `JAX` file loading protocol designed to be very quick and return a value that is `JAX` transformable. \n",
    "    \n",
    "    Parameters:\n",
    "        filename: String -> The file address of the data\n",
    "    Returns:\n",
    "        DeviceArray -> The data in column major order\n",
    "    \"\"\"\n",
    "    with open(filename) as data:    # Opening the data file\n",
    "        _ = next(data)              # Header row for the data \n",
    "\n",
    "        data = jax.numpy.array(\n",
    "            [row.strip().split(\",\") for row in data], \n",
    "            dtype=jax.numpy.float64\n",
    "        )\n",
    "        \n",
    "        return data.T"
   ]
  },
  {
   "cell_type": "code",
   "execution_count": 4,
   "metadata": {},
   "outputs": [],
   "source": [
    "time_out = jax.numpy.linspace(0, 10, 100)"
   ]
  },
  {
   "cell_type": "code",
   "execution_count": 5,
   "metadata": {},
   "outputs": [],
   "source": [
    "multiply = jax.jit(jax.vmap(jax.numpy.multiply, in_axes=(None, 0)))\n",
    "matrix_multiply = jax.jit(jax.vmap(jax.numpy.matmul, in_axes=(0, None)))"
   ]
  },
  {
   "cell_type": "code",
   "execution_count": 6,
   "metadata": {},
   "outputs": [],
   "source": [
    "eigenvals, eigenvecs = jax.numpy.linalg.eig(MATRIX)\n",
    "eigenvecs, eigenvals = eigenvecs.real, eigenvals.real\n",
    "inverse = jax.numpy.linalg.inv(eigenvecs)\n",
    "initial_position = 1.0 / jax.numpy.linalg.norm(PROJECTION) * PROJECTION"
   ]
  },
  {
   "cell_type": "code",
   "execution_count": 7,
   "metadata": {},
   "outputs": [],
   "source": [
    "@jax.jit\n",
    "def fundamental_matrix(time_out, /, eigenvecs=eigenvecs, eigenvals=eigenvals, inverse=inverse):\n",
    "    \"\"\"\n",
    "    This constructs the right hand side of the fundamental solution matrix. It is vectorised and so returns a three dimensional array with the third dimension spanning the time series implied by `time_out`.\n",
    "\n",
    "    Parameters:\n",
    "    -----------\n",
    "    : time_out :  The time series over which the fundamental matrix is to be calculated\n",
    "    : eigenvecs : The eigenvectors of the transfer matrix\n",
    "    : eigenvals : The eigenvalues of the transfer matrix\n",
    "    : inverse : The inverse of the eigenvectors of the transfer matrix. This could be calculated internally but since the evaluation is only required once it is passed as an argument.\n",
    "\n",
    "    Returns:\n",
    "    --------\n",
    "    : DeviceArray : The fundamental solution matrix evaluated over the time series implied by `time_out`\n",
    "    \"\"\"\n",
    "    # So I need to implement the translation of the time series back onto 0\n",
    "    exponents = jax.numpy.exp(multiply(eigenvals, time_out))\n",
    "    transition_matrix = multiply(eigenvecs, exponents)\n",
    "    transition_matrix = matrix_multiply(transition_matrix, inverse)\n",
    "    return transition_matrix"
   ]
  },
  {
   "cell_type": "code",
   "execution_count": 8,
   "metadata": {},
   "outputs": [],
   "source": [
    "@jax.jit\n",
    "def analytic_template(time_out, /, initial_poisition=initial_position):\n",
    "    \"\"\"\n",
    "    Determines the analytic solution of an impulse response function over the time series provided by `time_out`.\n",
    "\n",
    "    Parameters:\n",
    "    -----------\n",
    "    : time_out : The time series at which the analytic solution is to be evaluated\n",
    "    : inverse : The inverse of the eigenvectors of the transfer matrix\n",
    "    \n",
    "    \"\"\"\n",
    "    transition_matrix = fundamental_matrix(time_out - time_out.min())\n",
    "    return matrix_multiply(transition_matrix, initial_poisition)"
   ]
  },
  {
   "cell_type": "code",
   "execution_count": 9,
   "metadata": {},
   "outputs": [],
   "source": [
    "intcal = load(\"/home/jordan/Documents/ticktack/src/data/datasets/IntCal20/Intcal20.csv\")"
   ]
  },
  {
   "cell_type": "code",
   "execution_count": 10,
   "metadata": {},
   "outputs": [],
   "source": [
    "@jax.jit\n",
    "def design_matrix(time_series):\n",
    "    constant = jax.numpy.ones((time_series.shape), dtype=jax.numpy.float64)\n",
    "    analytic = analytic_template(time_series)[:, 1]\n",
    "    return jax.numpy.stack([constant, time_series, analytic])"
   ]
  },
  {
   "cell_type": "code",
   "execution_count": 75,
   "metadata": {},
   "outputs": [],
   "source": [
    "@jax.jit\n",
    "def regression(window_start):\n",
    "    in_window = (intcal[0] > window_start) & (intcal[0] < window_start + 50)\n",
    "    data_in_window = in_window * intcal\n",
    "    masked_matrix = design_matrix(data_in_window[0])\n",
    "    masked_inverse = jax.numpy.linalg.pinv(masked_matrix.T)\n",
    "    return masked_inverse @ intcal[1]"
   ]
  },
  {
   "cell_type": "code",
   "execution_count": 82,
   "metadata": {},
   "outputs": [],
   "source": [
    "time_series = jax.numpy.sort(intcal[0])"
   ]
  },
  {
   "cell_type": "code",
   "execution_count": 79,
   "metadata": {},
   "outputs": [],
   "source": [
    "parameters = jax.numpy.array([\n",
    "    regression(start) for start in time_series\n",
    "])"
   ]
  },
  {
   "cell_type": "code",
   "execution_count": 91,
   "metadata": {},
   "outputs": [
    {
     "data": {
      "text/plain": [
       "[<matplotlib.lines.Line2D at 0x7f0f46429f10>]"
      ]
     },
     "execution_count": 91,
     "metadata": {},
     "output_type": "execute_result"
    },
    {
     "data": {
      "image/png": "[encoded data removed]",
      "text/plain": [
       "<Figure size 432x288 with 1 Axes>"
      ]
     },
     "metadata": {},
     "output_type": "display_data"
    }
   ],
   "source": [
    "pyplot.plot(time_series[:500], parameters[:500, 2])"
   ]
  },
  {
   "cell_type": "code",
   "execution_count": null,
   "metadata": {},
   "outputs": [],
   "source": []
  }
 ],
 "metadata": {
  "interpreter": {
   "hash": "ab79d763119790aea00e8eaeb5d3be48434571919ae202ec38e1b7aefb77c6d3"
  },
  "kernelspec": {
   "display_name": "Python 3.9.0 ('kitkat')",
   "language": "python",
   "name": "python3"
  },
  "language_info": {
   "codemirror_mode": {
    "name": "ipython",
    "version": 3
   },
   "file_extension": ".py",
   "mimetype": "text/x-python",
   "name": "python",
   "nbconvert_exporter": "python",
   "pygments_lexer": "ipython3",
   "version": "3.9.7"
  },
  "orig_nbformat": 4
 },
 "nbformat": 4,
 "nbformat_minor": 2
}
