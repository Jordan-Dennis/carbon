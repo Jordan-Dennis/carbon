{
 "cells": [
  {
   "cell_type": "code",
   "execution_count": 1,
   "metadata": {},
   "outputs": [],
   "source": [
    "import jax \n",
    "import ticktack\n",
    "import matplotlib.pyplot as pyplot\n",
    "# import jupyterthemes\n",
    "import functools\n",
    "\n",
    "# jupyterthemes.jtplot.style()"
   ]
  },
  {
   "cell_type": "code",
   "execution_count": 3,
   "metadata": {},
   "outputs": [],
   "source": [
    "model = ticktack.load_presaved_model(\"Guttler15\", production_rate_units=\"atoms/cm^2/s\")\n",
    "model.compile()\n",
    "\n",
    "MATRIX = model._matrix\n",
    "PROJECTION = model._production_coefficients\n",
    "\n",
    "del model"
   ]
  },
  {
   "cell_type": "code",
   "execution_count": 4,
   "metadata": {},
   "outputs": [],
   "source": [
    "def load(filename: str, /, sep: str=\",\"):\n",
    "    \"\"\"\n",
    "    A custom `JAX` file loading protocol designed to be very quick and return a value that is `JAX` transformable. \n",
    "    \n",
    "    Parameters:\n",
    "        filename: String -> The file address of the data\n",
    "    Returns:\n",
    "        DeviceArray -> The data in column major order\n",
    "    \"\"\"\n",
    "    with open(filename) as data:    # Opening the data file\n",
    "        _ = next(data)              # Header row for the data \n",
    "\n",
    "        data = jax.numpy.array(\n",
    "            [row.strip().split(sep) for row in data], \n",
    "            dtype=jax.numpy.float64\n",
    "        )\n",
    "        \n",
    "        return data.T"
   ]
  },
  {
   "cell_type": "code",
   "execution_count": 5,
   "metadata": {},
   "outputs": [],
   "source": [
    "time_out = jax.numpy.linspace(0, 10, 100)"
   ]
  },
  {
   "cell_type": "code",
   "execution_count": 6,
   "metadata": {},
   "outputs": [],
   "source": [
    "multiply = jax.jit(jax.vmap(jax.numpy.multiply, in_axes=(None, 0)))\n",
    "matrix_multiply = jax.jit(jax.vmap(jax.numpy.matmul, in_axes=(0, None)))"
   ]
  },
  {
   "cell_type": "code",
   "execution_count": 7,
   "metadata": {},
   "outputs": [],
   "source": [
    "eigenvals, eigenvecs = jax.numpy.linalg.eig(MATRIX)\n",
    "eigenvecs, eigenvals = eigenvecs.real, eigenvals.real\n",
    "inverse = jax.numpy.linalg.inv(eigenvecs)\n",
    "initial_position = 1.0 / jax.numpy.linalg.norm(PROJECTION) * PROJECTION"
   ]
  },
  {
   "cell_type": "code",
   "execution_count": 8,
   "metadata": {},
   "outputs": [],
   "source": [
    "@jax.jit\n",
    "def fundamental_matrix(time_out, /, eigenvecs=eigenvecs, eigenvals=eigenvals, inverse=inverse):\n",
    "    \"\"\"\n",
    "    This constructs the right hand side of the fundamental solution matrix. It is vectorised and so returns a three dimensional array with the third dimension spanning the time series implied by `time_out`.\n",
    "\n",
    "    Parameters:\n",
    "    -----------\n",
    "    : time_out :  The time series over which the fundamental matrix is to be calculated\n",
    "    : eigenvecs : The eigenvectors of the transfer matrix\n",
    "    : eigenvals : The eigenvalues of the transfer matrix\n",
    "    : inverse : The inverse of the eigenvectors of the transfer matrix. This could be calculated internally but since the evaluation is only required once it is passed as an argument.\n",
    "\n",
    "    Returns:\n",
    "    --------\n",
    "    : DeviceArray : The fundamental solution matrix evaluated over the time series implied by `time_out`\n",
    "    \"\"\"\n",
    "    # So I need to implement the translation of the time series back onto 0\n",
    "    exponents = jax.numpy.exp(multiply(eigenvals, time_out))\n",
    "    transition_matrix = multiply(eigenvecs, exponents)\n",
    "    transition_matrix = matrix_multiply(transition_matrix, inverse)\n",
    "    return transition_matrix"
   ]
  },
  {
   "cell_type": "code",
   "execution_count": 9,
   "metadata": {},
   "outputs": [],
   "source": [
    "@jax.jit\n",
    "def analytic_template(time_out, /, initial_poisition=initial_position):\n",
    "    \"\"\"\n",
    "    Determines the analytic solution of an impulse response function over the time series provided by `time_out`.\n",
    "\n",
    "    Parameters:\n",
    "    -----------\n",
    "    : time_out : The time series at which the analytic solution is to be evaluated\n",
    "    : inverse : The inverse of the eigenvectors of the transfer matrix\n",
    "    \n",
    "    \"\"\"\n",
    "    transition_matrix = fundamental_matrix(time_out - time_out.min())\n",
    "    return matrix_multiply(transition_matrix, initial_poisition)"
   ]
  },
  {
   "cell_type": "code",
   "execution_count": 10,
   "metadata": {},
   "outputs": [],
   "source": [
    "intcal = load(\"/home/jordan/Documents/ticktack/src/data/datasets/IntCal20/Intcal20.csv\")"
   ]
  },
  {
   "cell_type": "code",
   "execution_count": 11,
   "metadata": {},
   "outputs": [],
   "source": [
    "@jax.jit\n",
    "def design_matrix(time_series):\n",
    "    \"\"\"\n",
    "    Constructs the design matrix of the linear regression. \n",
    "    \n",
    "    Parameters:\n",
    "    -----------\n",
    "    : time_series : The time over which to evaluate the design matrix.\n",
    "    \n",
    "    Returns:\n",
    "    --------\n",
    "    : DeviceArray : A 3 by n matrix where n is the length of `time_series`.\n",
    "    \"\"\"\n",
    "    constant = jax.numpy.ones((time_series.shape), dtype=jax.numpy.float64)\n",
    "    # So I think that the prescence of the zero values is going to cause problems\n",
    "    # I need to look into the `jax.lax.dynamic_slice_update()` to fix this.\n",
    "    temporal = (time_series - time_series.min()) / time_series.ptp()\n",
    "    analytic = analytic_template(time_series)[:, 1]\n",
    "    return jax.numpy.stack([constant, temporal, analytic])"
   ]
  },
  {
   "cell_type": "code",
   "execution_count": 12,
   "metadata": {},
   "outputs": [],
   "source": [
    "# These are all utility functions for the bad boy \n",
    "# The in_window function is causing headaches because it cannot be passed the data\n",
    "@jax.jit\n",
    "def in_window(start, data, size):\n",
    "    @jax.vmap\n",
    "    def comp_util(start):\n",
    "        return (data[0] >= start) & (data[0] < start + size)\n",
    "    return comp_util(start)\n",
    "\n",
    "vec_mat = jax.jit(jax.vmap(design_matrix)) # Vectorising the deisgn matrix command\n",
    "vec_reg = jax.jit(jax.vmap(jax.numpy.linalg.lstsq)) # Vectorising the lstq function \n",
    "vec_matmul = jax.jit(jax.vmap(jax.numpy.matmul))"
   ]
  },
  {
   "cell_type": "code",
   "execution_count": 76,
   "metadata": {},
   "outputs": [],
   "source": [
    "@jax.jit\n",
    "def vec_regression(data, /, size: int=10):\n",
    "    start = data[0, :-size] # Storing as a variable for the usefulness \n",
    "    mask = in_window(start, data=data, size=size)      # Creates a boolean mask of out of date\n",
    "    lead_dim = data[0].size      # A useful size parameter for the mapping \n",
    "\n",
    "    indices = jax.numpy.arange(start.size) # Inex entry points to get a fill value\n",
    "    fill_values = jax.numpy.take(data, indices, axis=1) # Data sliced along dimension\n",
    "    fill_values = fill_values.repeat(lead_dim) # Element wise repetition\n",
    "    fill_values = fill_values.reshape(3, -1, lead_dim)\n",
    "\n",
    "    data = data.tile(start.size) # Replicating the data \n",
    "    data = data.reshape(3, -1, lead_dim) # Shaping for a push through where\n",
    "\n",
    "    # The error is here. Where is not pulling the correct data out\n",
    "    masked_data = jax.numpy.where(mask, data, fill_values)\n",
    "    masked_matrix = vec_mat(masked_data[0]) # Building the design matrixes\n",
    "\n",
    "    input_arr = jax.numpy.transpose(masked_matrix, axes=(0, 2, 1)) # Gettinf the sahpe compatible with the leading dimesnion of the data\n",
    "    lst_square = vec_reg(input_arr, masked_data[1])[0] # Performing regression \n",
    "    \n",
    "    models = vec_matmul(lst_square, masked_matrix) # Running the models\n",
    "    chi_squared = jax.numpy.sum((masked_data[1] - models) ** 2 / masked_data[2] ** 2, axis=1)\n",
    "    return jax.numpy.hstack([start.reshape(-1, 1), lst_square, chi_squared.reshape(-1, 1)])"
   ]
  },
  {
   "cell_type": "code",
   "execution_count": 74,
   "metadata": {},
   "outputs": [],
   "source": [
    "batched_dim = intcal.shape[1] # Chosing the largest dimension to batch along\n",
    "num_batches = 8 # Number of batches (must be multiple)\n",
    "leading_dim = batched_dim // num_batches # Length of the new leading dim\n",
    "batched_data = intcal.reshape(3, leading_dim, num_batches) # Conforming array to batches\n",
    "batched_data = jax.numpy.transpose(batched_data, axes=(2, 0, 1)) # Placing the map axis in front"
   ]
  },
  {
   "cell_type": "code",
   "execution_count": 77,
   "metadata": {},
   "outputs": [],
   "source": [
    "# Here is where we run the injection recovery\n",
    "coefficients = jax.numpy.vstack([vec_regression(data) for data in batched_data])"
   ]
  },
  {
   "cell_type": "code",
   "execution_count": 78,
   "metadata": {},
   "outputs": [],
   "source": [
    "# So this will be the mask/index getter function. \n",
    "def mask(condition, data):\n",
    "    \"\"\"\n",
    "    The data needs to be passed such that the leading dimension is along \n",
    "    the zero axis. This function returns the data where the condition is \n",
    "    true.\n",
    "    \n",
    "    parameters:\n",
    "    -----------\n",
    "    : condition : A boolean array true where the data is to be returned \n",
    "    : data : A data array passed so that the leading dimension is on axis 0\n",
    "    \n",
    "    returns:\n",
    "    : Array : The data where condition was true and nothing otherwise\n",
    "    \"\"\"\n",
    "    # Note I will need to work out how to pass the leading dimesnion \n",
    "    indices = jax.numpy.arange(data[0].size) # Row indexes of nans\n",
    "    indices = (indices * condition).nonzero()[0] # only nan indexes\n",
    "    return jax.numpy.take(data.T, indices, axis=0) # cleaned data "
   ]
  },
  {
   "cell_type": "markdown",
   "metadata": {},
   "source": [
    "So I just worked out a bug. The times are currently not actively returned at any point within the injection recovery causing problems. Additionally there are blind patches in the data. "
   ]
  },
  {
   "cell_type": "code",
   "execution_count": 93,
   "metadata": {},
   "outputs": [],
   "source": [
    "nan_mask = 1 - jax.numpy.isnan(coefficients[:, 3]) # Boolean nan mask\n",
    "non_nan_coef = mask(nan_mask, coefficients.T) # Masking with leading dimension switched\n",
    "\n",
    "analytic_mean = jax.numpy.mean(non_nan[:, 3]) # Mean of analytic solution coefficients\n",
    "analytic_std = jax.numpy.std(non_nan[:, 3]) # Standard deviation of analytic solution coefficients\n",
    "\n",
    "threshold_mask = non_nan_coef[:, 3] > (analytic_mean + 2 * analytic_std) # A mask for cutoff at 2sd\n",
    "threshold_vals = mask(threshold_mask, non_nan_coef.T) # Masked data"
   ]
  },
  {
   "cell_type": "code",
   "execution_count": 128,
   "metadata": {},
   "outputs": [],
   "source": [
    "%matplotlib inline"
   ]
  },
  {
   "cell_type": "code",
   "execution_count": 126,
   "metadata": {},
   "outputs": [],
   "source": [
    "import seaborn\n",
    "seaborn.set(style=\"ticks\", context=\"talk\")\n",
    "pyplot.style.use(\"dark_background\")"
   ]
  },
  {
   "cell_type": "code",
   "execution_count": 144,
   "metadata": {},
   "outputs": [],
   "source": [
    "threshold = threshold_vals[:, 3].min()"
   ]
  },
  {
   "cell_type": "code",
   "execution_count": 143,
   "metadata": {},
   "outputs": [
    {
     "data": {
      "image/png": "[encoded data removed]",
      "text/plain": [
       "<Figure size 720x360 with 1 Axes>"
      ]
     },
     "metadata": {
      "needs_background": "dark"
     },
     "output_type": "display_data"
    }
   ],
   "source": [
    "histogram = seaborn.displot(non_nan[:, 2], bins=50, height=5, aspect=2)\n",
    "histogram.refline(x=threshold, color=\"red\")"
   ]
  },
  {
   "cell_type": "code",
   "execution_count": 141,
   "metadata": {},
   "outputs": [
    {
     "data": {
      "text/plain": [
       "[]"
      ]
     },
     "execution_count": 141,
     "metadata": {},
     "output_type": "execute_result"
    }
   ],
   "source": []
  },
  {
   "cell_type": "code",
   "execution_count": 71,
   "metadata": {},
   "outputs": [
    {
     "data": {
      "text/plain": [
       "<AxesSubplot:>"
      ]
     },
     "execution_count": 71,
     "metadata": {},
     "output_type": "execute_result"
    },
    {
     "data": {
      "image/png": "[encoded data removed]",
      "text/plain": [
       "<Figure size 432x288 with 1 Axes>"
      ]
     },
     "metadata": {
      "needs_background": "light"
     },
     "output_type": "display_data"
    }
   ],
   "source": [
    "seaborn.lineplot(x=non_nan_time[:1000], y=non_nan[:1000, 2])"
   ]
  },
  {
   "cell_type": "code",
   "execution_count": null,
   "metadata": {},
   "outputs": [],
   "source": []
  }
 ],
 "metadata": {
  "interpreter": {
   "hash": "ab79d763119790aea00e8eaeb5d3be48434571919ae202ec38e1b7aefb77c6d3"
  },
  "kernelspec": {
   "display_name": "Python 3 (ipykernel)",
   "language": "python",
   "name": "python3"
  },
  "language_info": {
   "codemirror_mode": {
    "name": "ipython",
    "version": 3
   },
   "file_extension": ".py",
   "mimetype": "text/x-python",
   "name": "python",
   "nbconvert_exporter": "python",
   "pygments_lexer": "ipython3",
   "version": "3.9.7"
  }
 },
 "nbformat": 4,
 "nbformat_minor": 2
}
