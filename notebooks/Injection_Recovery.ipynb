{
 "cells": [
  {
   "cell_type": "code",
   "execution_count": 3,
   "metadata": {},
   "outputs": [],
   "source": [
    "import jax \n",
    "import ticktack\n",
    "import matplotlib.pyplot as pyplot"
   ]
  },
  {
   "cell_type": "code",
   "execution_count": 4,
   "metadata": {},
   "outputs": [
    {
     "name": "stderr",
     "output_type": "stream",
     "text": [
      "WARNING:absl:No GPU/TPU found, falling back to CPU. (Set TF_CPP_MIN_LOG_LEVEL=0 and rerun for more info.)\n"
     ]
    }
   ],
   "source": [
    "model = ticktack.load_presaved_model(\"Guttler15\", production_rate_units=\"atoms/cm^2/s\")\n",
    "model.compile()\n",
    "\n",
    "MATRIX = model._matrix\n",
    "PROJECTION = model._production_coefficients\n",
    "\n",
    "del model"
   ]
  },
  {
   "cell_type": "code",
   "execution_count": 5,
   "metadata": {},
   "outputs": [],
   "source": [
    "def load(filename: str):\n",
    "    \"\"\"\n",
    "    A custom `JAX` file loading protocol designed to be very quick and return a value that is `JAX` transformable. \n",
    "    \n",
    "    Parameters:\n",
    "        filename: String -> The file address of the data\n",
    "    Returns:\n",
    "        DeviceArray -> The data in column major order\n",
    "    \"\"\"\n",
    "    with open(filename) as data:    # Opening the data file\n",
    "        _ = next(data)              # Header row for the data \n",
    "\n",
    "        data = jax.numpy.array(\n",
    "            [row.strip().split(\" \") for row in data], \n",
    "            dtype=jax.numpy.float64\n",
    "        )\n",
    "        \n",
    "        return data.T"
   ]
  },
  {
   "cell_type": "markdown",
   "metadata": {},
   "source": [
    "So basically I want to have my matrix exponential and then multiply it by $e^{t}$ which will give me the time series for the model"
   ]
  },
  {
   "cell_type": "code",
   "execution_count": 6,
   "metadata": {},
   "outputs": [],
   "source": [
    "time_out = jax.numpy.linspace(0, 10, 100)"
   ]
  },
  {
   "cell_type": "code",
   "execution_count": 57,
   "metadata": {},
   "outputs": [],
   "source": [
    "multiply = jax.jit(jax.vmap(jax.numpy.multiply, in_axes=(None, 0)))\n",
    "matrix_multiply = jax.jit(jax.vmap(jax.numpy.matmul, in_axes=(0, None)))"
   ]
  },
  {
   "cell_type": "markdown",
   "metadata": {},
   "source": [
    "So above I have the first method of computation. Now where do I go from here? I need to do the eigendecomposition and then construct the fundamental matrix of the system from scratch using it."
   ]
  },
  {
   "cell_type": "code",
   "execution_count": 42,
   "metadata": {},
   "outputs": [],
   "source": [
    "def construct_analytic_template(matrix=MATRIX, projection=PROJECTION):\n",
    "    eigenvals, eigenvecs = jax.numpy.linalg.eig(matrix)\n",
    "    eigenvecs, eigenvals = eigenvecs.real, eigenvals.real\n",
    "    inverse = jax.numpy.linalg.inv(eigenvecs) \n",
    "\n",
    "    @jax.jit\n",
    "    @jax.vmap\n",
    "    def fundamental_matrix(time_out, /, eigenvecs=eigenvecs, eigenvals=eigenvals):\n",
    "        return multiply(eigenvecs, jax.numpy.exp(eigenvals * time_out))\n",
    "\n",
    "    @jax.tree_util.Partial\n",
    "    @jax.jit\n",
    "    def analytic_template(time_out, /, inverse=inverse, projection=projection):\n",
    "\n",
    "        state_trans_mat = fundamental_matrix(time_out)\n",
    "        state_trans_mat = matrix_multiply(state_trans_mat, inverse)\n",
    "        return matrix_multiply(state_trans_mat, projection)\n",
    "    \n",
    "    return analytic_template\n"
   ]
  },
  {
   "cell_type": "code",
   "execution_count": 61,
   "metadata": {},
   "outputs": [],
   "source": [
    "eigenvals, eigenvecs = jax.numpy.linalg.eig(MATRIX)\n",
    "eigenvecs, eigenvals = eigenvecs.real, eigenvals.real\n",
    "inverse = jax.numpy.linalg.inv(eigenvecs) \n",
    "\n",
    "@jax.tree_util.Partial\n",
    "@jax.jit\n",
    "def fundamental_matrix(time_out, /, eigenvecs=eigenvecs, eigenvals=eigenvals):\n",
    "    return multiply(eigenvecs, jax.numpy.exp(multiply(eigenvals, time_out)))\n",
    "\n",
    "@jax.tree_util.Partial\n",
    "@jax.jit\n",
    "def analytic_template(time_out, /, inverse=inverse, projection=PROJECTION):\n",
    "\n",
    "    state_trans_mat = fundamental_matrix(time_out)\n",
    "    state_trans_mat = matrix_multiply(state_trans_mat, inverse)\n",
    "    return matrix_multiply(state_trans_mat, projection)"
   ]
  },
  {
   "cell_type": "markdown",
   "metadata": {},
   "source": [
    "So I have now discovered the state transition matrix. The problem is I do not know how to compute this numerically. Ironically, this is what we were already doing, but I want to go faster. I have since discovered the fundamental matrix of the system which we can identify using the eigenfunctions of the system. I will have to compare these two methods based on the speed of the calculation after `jit` compilation"
   ]
  },
  {
   "cell_type": "code",
   "execution_count": null,
   "metadata": {},
   "outputs": [],
   "source": [
    "@jax.jit\n",
    "def analytic_solution(time_out, /, matrix=MATRIX, projection=PROJECTION):\n",
    "    \"\"\"\n",
    "    This is the analytic solution itself.\n",
    "    Parameters: \n",
    "        \n",
    "    Returns:\n",
    "    \"\"\"\n",
    "    initial_position = 1.0 / jax.numpy.norm(projection) * projection\n",
    "\n",
    "\n",
    "\n",
    "    impulse_solution = vmap_util(time_out)\n",
    "    steady_solution = np.zeros((impulse_solution.shape))\n",
    "    condition = (time_out > 774.86).reshape(-1, 1)\n",
    "    \n",
    "    return np.where(condition, impulse_solution, steady_solution)"
   ]
  }
 ],
 "metadata": {
  "interpreter": {
   "hash": "ab79d763119790aea00e8eaeb5d3be48434571919ae202ec38e1b7aefb77c6d3"
  },
  "kernelspec": {
   "display_name": "Python 3.9.0 ('kitkat')",
   "language": "python",
   "name": "python3"
  },
  "language_info": {
   "codemirror_mode": {
    "name": "ipython",
    "version": 3
   },
   "file_extension": ".py",
   "mimetype": "text/x-python",
   "name": "python",
   "nbconvert_exporter": "python",
   "pygments_lexer": "ipython3",
   "version": "3.9.0"
  },
  "orig_nbformat": 4
 },
 "nbformat": 4,
 "nbformat_minor": 2
}
