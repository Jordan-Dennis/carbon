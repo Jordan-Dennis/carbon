{
 "cells": [
  {
   "cell_type": "code",
   "execution_count": 12,
   "metadata": {},
   "outputs": [],
   "source": [
    "import jax.experimental.ode as ode\n",
    "import jax\n",
    "import ticktack\n",
    "import time"
   ]
  },
  {
   "cell_type": "code",
   "execution_count": 13,
   "metadata": {},
   "outputs": [],
   "source": [
    "parameters = (774.86, 0.25, 0.8, 6.44)\n",
    "model = ticktack.load_presaved_model(\"Guttler15\", production_rate_units=\"atoms/cm^2/s\")\n",
    "model.compile()\n",
    "\n",
    "STEADY_PROD = model.equilibrate(target_C_14=707.)\n",
    "STEADY_STATE = model.equilibrate(production_rate=STEADY_PROD)\n",
    "PROD_COEFFS = model._production_coefficients\n",
    "MATRIX = model._matrix\n",
    "GROWTH = model\n",
    "\n",
    "del model"
   ]
  },
  {
   "cell_type": "code",
   "execution_count": 14,
   "metadata": {},
   "outputs": [],
   "source": [
    "def profile(func, *args, **kwargs) -> tuple:\n",
    "    time_sample = jax.numpy.zeros(10)  # Storing the trials\n",
    "    \n",
    "    for i in range(10):\n",
    "        timer = time.process_time()             # Starting a timer \n",
    "        solution = func(*args, **kwargs)    # Running the model \n",
    "        timer = time.process_time() - timer     # Stopping the timer\n",
    "\n",
    "        time_sample = time_sample.at[i].set(timer)  # Storing the timer \n",
    "\n",
    "    return {\n",
    "        \"average\": float(jax.numpy.mean(time_sample.at[1:].get())), \n",
    "        \"solution\": solution\n",
    "        }"
   ]
  },
  {
   "cell_type": "code",
   "execution_count": 15,
   "metadata": {},
   "outputs": [],
   "source": [
    "@jax.tree_util.Partial\n",
    "@jax.jit\n",
    "def production(t, args):\n",
    "    start_time, duration, phase, area = jax.numpy.array(args)\n",
    "    middle = start_time + duration / 2.\n",
    "    height = area / duration\n",
    "\n",
    "    gauss = height * jax.numpy.exp(- ((t - middle) / (1. / 1.93516 * duration)) ** 16.)\n",
    "    sine = 1.8803862513018528 + 0.18 * 1.8803862513018528 *\\\n",
    "        jax.numpy.sin(2 * jax.numpy.pi / 11 * t + phase * 2 * jax.numpy.pi / 11) \n",
    "        \n",
    "    return (sine + gauss) * 3.747273140033743"
   ]
  },
  {
   "cell_type": "code",
   "execution_count": 16,
   "metadata": {},
   "outputs": [],
   "source": [
    "@jax.tree_util.Partial\n",
    "@jax.jit\n",
    "def derivative(y, t, args, /, matrix=MATRIX, production=production, prod_coeffs=PROD_COEFFS): \n",
    "    \n",
    "    ans = jax.numpy.matmul(matrix, y) \n",
    "    production_rate_constant = production(t, args)\n",
    "    production_term = prod_coeffs * production_rate_constant \n",
    "    return ans + production_term "
   ]
  },
  {
   "cell_type": "code",
   "execution_count": 17,
   "metadata": {},
   "outputs": [],
   "source": [
    "@jax.tree_util.Partial\n",
    "@jax.jit\n",
    "def solve(y_initial, time, args, /, dydx=derivative):\n",
    "    states = ode.odeint(dydx, y_initial, time, args)\n",
    "    return states[:, 1]"
   ]
  },
  {
   "cell_type": "code",
   "execution_count": 18,
   "metadata": {},
   "outputs": [],
   "source": [
    "with open(\"miyake12.csv\") as data:\n",
    "    _ = next(data)  # String titles \n",
    "    data = jax.numpy.array([row.strip().split(\" \") for row in data],\\\n",
    "        dtype=jax.numpy.float64)\n",
    "    data = data.T"
   ]
  },
  {
   "cell_type": "code",
   "execution_count": 19,
   "metadata": {},
   "outputs": [],
   "source": [
    "@jax.tree_util.Partial\n",
    "@jax.jit\n",
    "def bin_data(data, time_out, growth, kernel):    \n",
    "    # These top two return the index of the first one and the first zero\n",
    "    first1 = jax.numpy.where(growth == 1, size=1)[0][0]\n",
    "    first0 = jax.numpy.where(growth == 0, size=1)[0][0]\n",
    "\n",
    "    # Here we zone onto the start of wrapped seasons\n",
    "    all1s = jax.numpy.where(growth == 1, size=12)[0]\n",
    "    after1 = jax.numpy.where(all1s > first0, all1s, 0)\n",
    "    after1 = after1.at[jax.numpy.nonzero(after1, size=1)].get()[0]\n",
    "\n",
    "    # difference between the wrapped and non-wrapped \n",
    "    num = jax.lax.sub(first1, after1)\n",
    "\n",
    "    # if the season is not wrapped then return the index of the season start.\n",
    "    # if the seasoon is wrapped return the start and the difference\n",
    "    val = jax.lax.cond(num == 0, lambda: first1, lambda: after1)\n",
    "    # Make sure that the tree doesn't grow all year around \n",
    "    shifted_index = jax.lax.cond(jax.numpy.all(growth == 1), lambda: 0, lambda: val)\n",
    "\n",
    "    oversample = kernel.shape[0]\n",
    "\n",
    "    @jax.jit\n",
    "    def fun(i, val, /, oversample=oversample, data=data, kernel=kernel, shifted_index=shifted_index):\n",
    "        # So val is the array that is getting updated here\n",
    "        translated_index = i * oversample + shifted_index * oversample // 12\n",
    "        year_from_index = jax.lax.dynamic_slice(data, (translated_index,), (oversample,))\n",
    "        selected_data = jax.numpy.multiply(year_from_index, kernel)\n",
    "        year_mean = jax.numpy.array([jax.numpy.sum(selected_data) / (jax.numpy.sum(kernel))])\n",
    "\n",
    "        # So this will update val \n",
    "        solution = jax.lax.dynamic_update_slice(val, year_mean, (i,))\n",
    "        return solution \n",
    "\n",
    "    binned_data = jax.numpy.zeros((len(time_out),))\n",
    "    binned_data = jax.lax.fori_loop(0, len(time_out), fun, binned_data)\n",
    "\n",
    "    return binned_data"
   ]
  },
  {
   "cell_type": "code",
   "execution_count": 20,
   "metadata": {},
   "outputs": [],
   "source": [
    "growth = jax.numpy.array([0, 0, 0, 1, 1, 1, 1, 1, 1, 0, 0, 0], dtype=jax.numpy.float64)"
   ]
  },
  {
   "cell_type": "code",
   "execution_count": 56,
   "metadata": {},
   "outputs": [],
   "source": [
    "fast = jax.numpy.diag(growth) @ jax.numpy.ones((12, 4), dtype=jax.numpy.float64)"
   ]
  },
  {
   "cell_type": "code",
   "execution_count": 55,
   "metadata": {},
   "outputs": [],
   "source": [
    "kernel = fast.flatten()"
   ]
  },
  {
   "cell_type": "code",
   "execution_count": 21,
   "metadata": {},
   "outputs": [],
   "source": [
    "def get_growth_kernel(oversample, /, growth=growth):\n",
    "    masked = jax.numpy.linspace(0, 1, oversample)\n",
    "    # So the kernel represents the fraction of decimals between 0 and 1 that are less than the length of the growth season normalised\n",
    "    kernel = (masked < jax.numpy.count_nonzero(growth)/12)\n",
    "    return kernel"
   ]
  },
  {
   "cell_type": "code",
   "execution_count": 22,
   "metadata": {},
   "outputs": [],
   "source": [
    "@jax.tree_util.Partial\n",
    "@jax.jit\n",
    "def log_likelihood(args, /, data=data, func=solve, bin=bin_data, y0=STEADY_STATE,\\\n",
    "    growth=growth, time_out=None, kernel=None):\n",
    "\n",
    "    solution = func(y0, time_out, args)\n",
    "    solution = bin(solution, data[0], growth, kernel)\n",
    "    solution = (solution - STEADY_STATE[1]) / STEADY_STATE[1]\n",
    "    solution += jax.numpy.mean(data[1][:4])\n",
    "    chi_squared = (solution - data[1]) ** 2 / data[2] ** 2\n",
    "    return - 0.5 * jax.numpy.sum(chi_squared)"
   ]
  },
  {
   "cell_type": "code",
   "execution_count": 23,
   "metadata": {},
   "outputs": [],
   "source": [
    "jac_binned = jax.jit(jax.grad(log_likelihood))\n",
    "hes_binned = jax.jit(jax.jacobian(jac_binned))"
   ]
  },
  {
   "cell_type": "code",
   "execution_count": 41,
   "metadata": {},
   "outputs": [],
   "source": [
    "oversample = 1008\n",
    "time_out = jax.numpy.linspace(data[0].min(), data[0].max() + 2, (data[0].size + 1) * oversample)\n",
    "kernel = get_growth_kernel(oversample)"
   ]
  },
  {
   "cell_type": "code",
   "execution_count": 42,
   "metadata": {},
   "outputs": [
    {
     "name": "stdout",
     "output_type": "stream",
     "text": [
      "2.69 ms ± 344 µs per loop (mean ± std. dev. of 7 runs, 100 loops each)\n"
     ]
    }
   ],
   "source": [
    "%%timeit\n",
    "large_oversample = solve(STEADY_STATE, time_out, parameters)\n",
    "large_oversample = bin_data(large_oversample, data[0], growth, kernel)"
   ]
  },
  {
   "cell_type": "code",
   "execution_count": 43,
   "metadata": {},
   "outputs": [
    {
     "name": "stdout",
     "output_type": "stream",
     "text": [
      "1.03 ms ± 111 µs per loop (mean ± std. dev. of 7 runs, 1000 loops each)\n"
     ]
    }
   ],
   "source": [
    "%%timeit\n",
    "log_likelihood(parameters, kernel=kernel, time_out=time_out)"
   ]
  },
  {
   "cell_type": "code",
   "execution_count": 44,
   "metadata": {},
   "outputs": [
    {
     "name": "stdout",
     "output_type": "stream",
     "text": [
      "79.3 ms ± 2.62 ms per loop (mean ± std. dev. of 7 runs, 10 loops each)\n"
     ]
    }
   ],
   "source": [
    "%%timeit\n",
    "jac_binned(parameters, kernel=kernel, time_out=time_out)"
   ]
  },
  {
   "cell_type": "code",
   "execution_count": 45,
   "metadata": {},
   "outputs": [
    {
     "data": {
      "text/plain": [
       "((DeviceArray(-0.03971318, dtype=float64, weak_type=True),\n",
       "  DeviceArray(-0.02065916, dtype=float64, weak_type=True),\n",
       "  DeviceArray(-5.92484744e-07, dtype=float64, weak_type=True),\n",
       "  DeviceArray(0.00181184, dtype=float64, weak_type=True)),\n",
       " (DeviceArray(-0.02065235, dtype=float64, weak_type=True),\n",
       "  DeviceArray(-0.0140939, dtype=float64, weak_type=True),\n",
       "  DeviceArray(-3.5490963e-07, dtype=float64, weak_type=True),\n",
       "  DeviceArray(0.00077544, dtype=float64, weak_type=True)),\n",
       " (DeviceArray(-5.80614417e-07, dtype=float64, weak_type=True),\n",
       "  DeviceArray(-2.67835566e-07, dtype=float64, weak_type=True),\n",
       "  DeviceArray(-0.00769865, dtype=float64, weak_type=True),\n",
       "  DeviceArray(4.64836262e-06, dtype=float64, weak_type=True)),\n",
       " (DeviceArray(0.00181252, dtype=float64, weak_type=True),\n",
       "  DeviceArray(0.00077669, dtype=float64, weak_type=True),\n",
       "  DeviceArray(4.64832516e-06, dtype=float64, weak_type=True),\n",
       "  DeviceArray(-1.93684977e-05, dtype=float64, weak_type=True)))"
      ]
     },
     "execution_count": 45,
     "metadata": {},
     "output_type": "execute_result"
    }
   ],
   "source": [
    "hes_binned(parameters, kernel=kernel, time_out=time_out)"
   ]
  },
  {
   "cell_type": "code",
   "execution_count": 29,
   "metadata": {},
   "outputs": [],
   "source": [
    "oversample = 48\n",
    "time_out = jax.numpy.linspace(data[0].min(), data[0].max() + 2, (data[0].size + 1) * oversample)\n",
    "kernel = get_growth_kernel(oversample)"
   ]
  },
  {
   "cell_type": "code",
   "execution_count": 30,
   "metadata": {},
   "outputs": [
    {
     "name": "stdout",
     "output_type": "stream",
     "text": [
      "The slowest run took 4.01 times longer than the fastest. This could mean that an intermediate result is being cached.\n",
      "1.2 ms ± 792 µs per loop (mean ± std. dev. of 7 runs, 1 loop each)\n"
     ]
    }
   ],
   "source": [
    "%%timeit\n",
    "small_oversample = solve(STEADY_STATE, time_out, parameters)\n",
    "small_oversample = bin_data(small_oversample, data[0], growth, kernel)"
   ]
  },
  {
   "cell_type": "code",
   "execution_count": 31,
   "metadata": {},
   "outputs": [
    {
     "name": "stdout",
     "output_type": "stream",
     "text": [
      "325 µs ± 171 µs per loop (mean ± std. dev. of 7 runs, 1 loop each)\n"
     ]
    }
   ],
   "source": [
    "%%timeit\n",
    "log_likelihood(parameters, kernel=kernel, time_out=time_out)"
   ]
  },
  {
   "cell_type": "code",
   "execution_count": 32,
   "metadata": {},
   "outputs": [
    {
     "name": "stdout",
     "output_type": "stream",
     "text": [
      "4.68 ms ± 470 µs per loop (mean ± std. dev. of 7 runs, 1 loop each)\n"
     ]
    }
   ],
   "source": [
    "%%timeit\n",
    "jac_binned(parameters, kernel=kernel, time_out=time_out)"
   ]
  },
  {
   "cell_type": "code",
   "execution_count": 37,
   "metadata": {},
   "outputs": [
    {
     "name": "stdout",
     "output_type": "stream",
     "text": [
      "379 ms ± 5.56 ms per loop (mean ± std. dev. of 7 runs, 1 loop each)\n"
     ]
    }
   ],
   "source": [
    "%%timeit\n",
    "hes_binned(parameters, kernel=kernel, time_out=time_out)"
   ]
  }
 ],
 "metadata": {
  "interpreter": {
   "hash": "ab79d763119790aea00e8eaeb5d3be48434571919ae202ec38e1b7aefb77c6d3"
  },
  "kernelspec": {
   "display_name": "Python 3.9.0 ('kitkat')",
   "language": "python",
   "name": "python3"
  },
  "language_info": {
   "codemirror_mode": {
    "name": "ipython",
    "version": 3
   },
   "file_extension": ".py",
   "mimetype": "text/x-python",
   "name": "python",
   "nbconvert_exporter": "python",
   "pygments_lexer": "ipython3",
   "version": "3.9.0"
  },
  "orig_nbformat": 4
 },
 "nbformat": 4,
 "nbformat_minor": 2
}
