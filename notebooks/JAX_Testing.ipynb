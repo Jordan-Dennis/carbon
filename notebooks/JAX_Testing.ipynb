{
 "cells": [
  {
   "cell_type": "code",
   "execution_count": 3,
   "metadata": {},
   "outputs": [],
   "source": [
    "import jax.experimental.ode as ode\n",
    "import jax\n",
    "import ticktack\n",
    "import time"
   ]
  },
  {
   "cell_type": "code",
   "execution_count": 4,
   "metadata": {},
   "outputs": [
    {
     "name": "stderr",
     "output_type": "stream",
     "text": [
      "WARNING:absl:No GPU/TPU found, falling back to CPU. (Set TF_CPP_MIN_LOG_LEVEL=0 and rerun for more info.)\n"
     ]
    }
   ],
   "source": [
    "parameters = (774.86, 0.25, 0.8, 6.44)\n",
    "model = ticktack.load_presaved_model(\"Guttler15\", production_rate_units=\"atoms/cm^2/s\")\n",
    "model.compile()\n",
    "\n",
    "STEADY_PROD = model.equilibrate(target_C_14=707.)\n",
    "STEADY_STATE = model.equilibrate(production_rate=STEADY_PROD)\n",
    "PROD_COEFFS = model._production_coefficients\n",
    "MATRIX = model._matrix\n",
    "GROWTH = model\n",
    "\n",
    "del model"
   ]
  },
  {
   "cell_type": "code",
   "execution_count": 5,
   "metadata": {},
   "outputs": [],
   "source": [
    "def profile(func, *args, **kwargs) -> tuple:\n",
    "    time_sample = jax.numpy.zeros(10)  # Storing the trials\n",
    "    \n",
    "    for i in range(10):\n",
    "        timer = time.process_time()             # Starting a timer \n",
    "        solution = func(*args, **kwargs)    # Running the model \n",
    "        timer = time.process_time() - timer     # Stopping the timer\n",
    "\n",
    "        time_sample = time_sample.at[i].set(timer)  # Storing the timer \n",
    "\n",
    "    return {\n",
    "        \"average\": float(jax.numpy.mean(time_sample.at[1:].get())), \n",
    "        \"solution\": solution\n",
    "        }"
   ]
  },
  {
   "cell_type": "code",
   "execution_count": 6,
   "metadata": {},
   "outputs": [],
   "source": [
    "@jax.tree_util.Partial\n",
    "@jax.jit\n",
    "def production(t, args):\n",
    "    start_time, duration, phase, area = jax.numpy.array(args)\n",
    "    middle = start_time + duration / 2.\n",
    "    height = area / duration\n",
    "\n",
    "    gauss = height * jax.numpy.exp(- ((t - middle) / (1. / 1.93516 * duration)) ** 16.)\n",
    "    sine = 1.8803862513018528 + 0.18 * 1.8803862513018528 *\\\n",
    "        jax.numpy.sin(2 * jax.numpy.pi / 11 * t + phase * 2 * jax.numpy.pi / 11) \n",
    "        \n",
    "    return (sine + gauss) * 3.747273140033743"
   ]
  },
  {
   "cell_type": "code",
   "execution_count": 7,
   "metadata": {},
   "outputs": [],
   "source": [
    "@jax.tree_util.Partial\n",
    "@jax.jit\n",
    "def derivative(y, t, args, /, matrix=MATRIX, production=production, prod_coeffs=PROD_COEFFS): \n",
    "    \n",
    "    ans = jax.numpy.matmul(matrix, y) \n",
    "    production_rate_constant = production(t, args)\n",
    "    production_term = prod_coeffs * production_rate_constant \n",
    "    return ans + production_term "
   ]
  },
  {
   "cell_type": "code",
   "execution_count": 8,
   "metadata": {},
   "outputs": [],
   "source": [
    "@jax.tree_util.Partial\n",
    "@jax.jit\n",
    "def solve(y_initial, time, args, /, dydx=derivative):\n",
    "    states = ode.odeint(dydx, y_initial, time, args)\n",
    "    return states[:, 1]"
   ]
  },
  {
   "cell_type": "code",
   "execution_count": 9,
   "metadata": {},
   "outputs": [],
   "source": [
    "with open(\"miyake12.csv\") as data:\n",
    "    _ = next(data)  # String titles \n",
    "    data = jax.numpy.array([row.strip().split(\" \") for row in data],\\\n",
    "        dtype=jax.numpy.float64)\n",
    "    data = data.T"
   ]
  },
  {
   "cell_type": "code",
   "execution_count": 10,
   "metadata": {},
   "outputs": [],
   "source": [
    "@jax.tree_util.Partial\n",
    "@jax.jit\n",
    "def bin_data(data, time_out, growth, kernel):    \n",
    "    # These top two return the index of the first one and the first zero\n",
    "    first1 = jax.numpy.where(growth == 1, size=1)[0][0]\n",
    "    first0 = jax.numpy.where(growth == 0, size=1)[0][0]\n",
    "\n",
    "    # Here we zone onto the start of wrapped seasons\n",
    "    all1s = jax.numpy.where(growth == 1, size=12)[0]\n",
    "    after1 = jax.numpy.where(all1s > first0, all1s, 0)\n",
    "    after1 = after1.at[jax.numpy.nonzero(after1, size=1)].get()[0]\n",
    "\n",
    "    # difference between the wrapped and non-wrapped \n",
    "    num = jax.lax.sub(first1, after1)\n",
    "\n",
    "    # if the season is not wrapped then return the index of the season start.\n",
    "    # if the seasoon is wrapped return the start and the difference\n",
    "    val = jax.lax.cond(num == 0, lambda: first1, lambda: after1)\n",
    "    # Make sure that the tree doesn't grow all year around \n",
    "    shifted_index = jax.lax.cond(jax.numpy.all(growth == 1), lambda: 0, lambda: val)\n",
    "\n",
    "    oversample = kernel.shape[0]\n",
    "\n",
    "    @jax.jit\n",
    "    def fun(i, val, /, oversample=oversample, data=data, kernel=kernel, shifted_index=shifted_index):\n",
    "        # So val is the array that is getting updated here\n",
    "        translated_index = i * oversample + shifted_index * oversample // 12\n",
    "        year_from_index = jax.lax.dynamic_slice(data, (translated_index,), (oversample,))\n",
    "        selected_data = jax.numpy.multiply(year_from_index, kernel)\n",
    "        year_mean = jax.numpy.array([jax.numpy.sum(selected_data) / (jax.numpy.sum(kernel))])\n",
    "\n",
    "        # So this will update val \n",
    "        solution = jax.lax.dynamic_update_slice(val, year_mean, (i,))\n",
    "        return solution \n",
    "\n",
    "    binned_data = jax.numpy.zeros((len(time_out),))\n",
    "    binned_data = jax.lax.fori_loop(0, len(time_out), fun, binned_data)\n",
    "\n",
    "    return binned_data"
   ]
  },
  {
   "cell_type": "code",
   "execution_count": 11,
   "metadata": {},
   "outputs": [],
   "source": [
    "oversample = 1008\n",
    "growth = jax.numpy.array([0, 0, 0, 1, 1, 1, 1, 1, 1, 0, 0, 0], dtype=jax.numpy.float64)\n",
    "time_out = jax.numpy.linspace(data[0].min(), data[0].max() + 2, (data[0].size + 1) * oversample)"
   ]
  },
  {
   "cell_type": "markdown",
   "metadata": {},
   "source": [
    "So what are the assumptions that we are making with thhe binning? \n",
    " - We are assuming that the values start at the beggining of a year\n",
    " - We are assuming that the growth seasons are continuous\n",
    " - We are _not_ assuming that oversample fits as `array.reshape`.\n",
    " - We are _not_ assuming that the growth season has a particular length \n",
    "I want my binnig function to take an arbitrary growth season and extend it to be the kernel. So each value in the growth will be extended to `oversample // 12` long. In non `jax` psuedo-code this looks something like:\n",
    "```py\n"
   ]
  },
  {
   "cell_type": "code",
   "execution_count": 12,
   "metadata": {},
   "outputs": [],
   "source": [
    "def get_growth_kernel(oversample, /, growth=growth):\n",
    "    masked = jax.numpy.linspace(0, 1, oversample)\n",
    "    # So the kernel represents the fraction of decimals between 0 and 1 that are less than the length of the growth season normalised\n",
    "    kernel = (masked < jax.numpy.count_nonzero(growth)/12)\n",
    "    return kernel"
   ]
  },
  {
   "cell_type": "code",
   "execution_count": 13,
   "metadata": {},
   "outputs": [],
   "source": [
    "@jax.tree_util.Partial\n",
    "@jax.jit\n",
    "def log_likelihood_binned(args, /, data=data, func=solve, bin=bin_data, y0=STEADY_STATE,\\\n",
    "    growth=growth, time_out=time_out, kernel=None):\n",
    "\n",
    "    solution = func(y0, time_out, args)\n",
    "    solution = bin(solution, data[0], growth, kernel)\n",
    "    solution = (solution - STEADY_STATE[1]) / STEADY_STATE[1]\n",
    "    solution += jax.numpy.mean(data[1][:4])\n",
    "    chi_squared = (solution - data[1]) ** 2 / data[2] ** 2\n",
    "    return - 0.5 * jax.numpy.sum(chi_squared)"
   ]
  },
  {
   "cell_type": "code",
   "execution_count": 15,
   "metadata": {},
   "outputs": [],
   "source": [
    "jac_binned = jax.jit(jax.grad(log_likelihood_binned))\n",
    "hes_binned = jax.jit(jax.jacobian(jac_binned))"
   ]
  }
 ],
 "metadata": {
  "interpreter": {
   "hash": "ab79d763119790aea00e8eaeb5d3be48434571919ae202ec38e1b7aefb77c6d3"
  },
  "kernelspec": {
   "display_name": "Python 3.9.0 ('kitkat')",
   "language": "python",
   "name": "python3"
  },
  "language_info": {
   "codemirror_mode": {
    "name": "ipython",
    "version": 3
   },
   "file_extension": ".py",
   "mimetype": "text/x-python",
   "name": "python",
   "nbconvert_exporter": "python",
   "pygments_lexer": "ipython3",
   "version": "3.9.0"
  },
  "orig_nbformat": 4
 },
 "nbformat": 4,
 "nbformat_minor": 2
}
