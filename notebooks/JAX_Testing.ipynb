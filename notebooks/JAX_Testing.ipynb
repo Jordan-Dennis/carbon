{
 "cells": [
  {
   "cell_type": "code",
   "execution_count": 1,
   "metadata": {},
   "outputs": [],
   "source": [
    "import jax.experimental.ode as ode\n",
    "import jax\n",
    "import diffrax\n",
    "import ticktack\n"
   ]
  },
  {
   "cell_type": "code",
   "execution_count": 2,
   "metadata": {},
   "outputs": [
    {
     "name": "stderr",
     "output_type": "stream",
     "text": [
      "WARNING:absl:No GPU/TPU found, falling back to CPU. (Set TF_CPP_MIN_LOG_LEVEL=0 and rerun for more info.)\n"
     ]
    }
   ],
   "source": [
    "parameters = (774.86, 0.25, 0.8, 6.44)\n",
    "model = ticktack.load_presaved_model(\n",
    "    \"Guttler15\", production_rate_units=\"atoms/cm^2/s\")\n",
    "model.compile()\n",
    "\n",
    "STEADY_PROD = model.equilibrate(target_C_14=707.)\n",
    "STEADY_STATE = model.equilibrate(production_rate=STEADY_PROD)\n",
    "PROD_COEFFS = model._production_coefficients\n",
    "MATRIX = model._matrix\n",
    "GROWTH = model\n",
    "\n",
    "del model\n"
   ]
  },
  {
   "cell_type": "code",
   "execution_count": 3,
   "metadata": {},
   "outputs": [],
   "source": [
    "@jax.tree_util.Partial\n",
    "@jax.jit\n",
    "def production(t, args):\n",
    "    \"\"\"\n",
    "    This is the production term of the carbon box model. This production function contains a sinusoidal solar term and a super-gaussian event. \n",
    "\n",
    "    Parameters:\n",
    "    -----------\n",
    "    : t : The time dependence of the production \n",
    "    : args : The parameters of the solar amplitude function and the event\n",
    "\n",
    "    Returns:\n",
    "    --------\n",
    "    : DeviceArray : The production at the time t \n",
    "    \"\"\"\n",
    "    start_time, duration, phase, area = jax.numpy.array(args)\n",
    "    middle = start_time + duration / 2.\n",
    "    height = area / duration\n",
    "\n",
    "    gauss = height * \\\n",
    "        jax.numpy.exp(- ((t - middle) / (1. / 1.93516 * duration)) ** 16.)\n",
    "    sine = 1.8803862513018528 + 0.18 * 1.8803862513018528 *\\\n",
    "        jax.numpy.sin(2 * jax.numpy.pi / 11 * t +\n",
    "                      phase * 2 * jax.numpy.pi / 11)\n",
    "\n",
    "    return (sine + gauss) * 3.747273140033743\n"
   ]
  },
  {
   "cell_type": "code",
   "execution_count": 4,
   "metadata": {},
   "outputs": [],
   "source": [
    "@jax.tree_util.Partial\n",
    "@jax.jit\n",
    "def jax_derivative(y, t, args, /, matrix=MATRIX, production=production, prod_coeffs=PROD_COEFFS):\n",
    "    \"\"\"\n",
    "    The deriviative of the box's content with respect to time. This particular derivative function is designed to be compatible with the `jax.experimental.ode.odeint`, which requires that the argunments take this order.\n",
    "\n",
    "    Parameters:\n",
    "    -----------\n",
    "    : y : The position of the system\n",
    "    : t : The time of the system\n",
    "    : args : The parameters of the production function\n",
    "\n",
    "    Returns:\n",
    "    --------\n",
    "    : DeviceArray : The gradient of the system at the time and position given by y and t\n",
    "    \"\"\"\n",
    "    ans = jax.numpy.matmul(matrix, y)\n",
    "    production_rate_constant = production(t, args)\n",
    "    production_term = prod_coeffs * production_rate_constant\n",
    "    return ans + production_term\n"
   ]
  },
  {
   "cell_type": "code",
   "execution_count": 5,
   "metadata": {},
   "outputs": [],
   "source": [
    "@jax.tree_util.Partial\n",
    "@jax.jit\n",
    "def diffrax_derivative(t, y, args, /, matrix=MATRIX, production=production,\n",
    "                       prod_coeffs=PROD_COEFFS):\n",
    "    \"\"\"\n",
    "    The derivative of the system with respect to time. This particular function is designed to be compatible with the `diffrax.diffeqsolve` architecture, which implies that the `t` anf `y` paramrters occur in that order. \n",
    "\n",
    "    Parameters:\n",
    "    -----------\n",
    "    : t : The time of the system \n",
    "    : y : The position of the system\n",
    "    : args : The arguments to the production function of the system\n",
    "\n",
    "    Returns:\n",
    "    : DeviceArray : The derivative of the system at time `t` and position `y`\n",
    "    \"\"\"\n",
    "\n",
    "    ans = jax.numpy.matmul(matrix, y)\n",
    "    production_rate_constant = production(t, args)\n",
    "    production_term = prod_coeffs * production_rate_constant\n",
    "    return ans + production_term\n"
   ]
  },
  {
   "cell_type": "code",
   "execution_count": 6,
   "metadata": {},
   "outputs": [],
   "source": [
    "@jax.tree_util.Partial\n",
    "@jax.jit\n",
    "def jax_solve(y_initial, time, args, /, dydx=jax_derivative):\n",
    "    \"\"\"\n",
    "    A `jit` wrapper to `jax.experimental.ode.odeint` that also only returns the troposphere content.\n",
    "\n",
    "    Parameters:\n",
    "    -----------\n",
    "    : y_initial : The initial position of the system\n",
    "    : time : The values at which you want the position of the system saved\n",
    "    : args : The arguments to the production function\n",
    "\n",
    "    Returns:\n",
    "    --------\n",
    "    : DeviceArray :  The troposphere contents at the times sepcified in `time`\n",
    "    \"\"\"\n",
    "    states = ode.odeint(dydx, y_initial, time, args)\n",
    "    return states[:, 1]\n"
   ]
  },
  {
   "cell_type": "code",
   "execution_count": 7,
   "metadata": {},
   "outputs": [],
   "source": [
    "@jax.tree_util.Partial\n",
    "@jax.jit\n",
    "def diffrax_solve(y_initial, time, args, /, solver=diffrax.Bosh3(), dydx=diffrax_derivative):\n",
    "    \"\"\"\n",
    "    A compiled wrapper to a `diffrax` solver.\n",
    "\n",
    "    Parameters:\n",
    "    -----------\n",
    "    : y_initial : The initial position of the system\n",
    "    : time : The values at which you want the position of the system saved\n",
    "    : args : The arguments to the production function\n",
    "\n",
    "    Returns:\n",
    "    --------\n",
    "    : DeviceArray :  The troposphere contents at the times sepcified in `time`\n",
    "    \"\"\"\n",
    "    t0 = time.min()\n",
    "    t1 = time.max()\n",
    "    dt0 = 0.001\n",
    "\n",
    "    sol = diffrax.diffeqsolve(args=args, terms=diffrax.ODETerm(dydx), solver=solver,\n",
    "                              t0=t0, t1=t1, dt0=dt0, y0=y_initial, saveat=diffrax.SaveAt(\n",
    "                                  ts=time),\n",
    "                              stepsize_controller=diffrax.PIDController(rtol=1e-5, atol=1e-5))\n",
    "\n",
    "    return sol.ys[:, 1]\n"
   ]
  },
  {
   "cell_type": "code",
   "execution_count": 8,
   "metadata": {},
   "outputs": [],
   "source": [
    "with open(\"miyake12.csv\") as data:\n",
    "    _ = next(data)  # String titles\n",
    "    data = jax.numpy.array([row.strip().split(\" \") for row in data],\n",
    "                           dtype=jax.numpy.float64)\n",
    "    data = data.T\n"
   ]
  },
  {
   "cell_type": "code",
   "execution_count": 9,
   "metadata": {},
   "outputs": [],
   "source": [
    "@jax.tree_util.Partial\n",
    "@jax.jit\n",
    "def bin_data(data, kernel):\n",
    "    \"\"\"\n",
    "    Calculate the average carbon content over the growth season for all of the seasons present in data.\n",
    "\n",
    "    Parameters:\n",
    "    -----------\n",
    "    : data : A time series of carbon 14 data evaluated at `jax.numpy.linspace(start, end, range * oversample), where oversample is the number of carbon samples to be harvested from every year. \n",
    "    : kernel : The growth season expanded over as an array over the entire sample year\n",
    "\n",
    "    Returns:\n",
    "    --------\n",
    "    : DeviceArray : The data binned into year groups\n",
    "    \"\"\"\n",
    "    data = data.reshape(-1, kernel.shape[0])\n",
    "    data *= kernel\n",
    "    data = jax.numpy.sum(data, axis=1) / jax.numpy.sum(kernel)\n",
    "    return data\n"
   ]
  },
  {
   "cell_type": "code",
   "execution_count": 10,
   "metadata": {},
   "outputs": [],
   "source": [
    "growth = jax.numpy.array(\n",
    "    [0, 0, 0, 1, 1, 1, 1, 1, 1, 0, 0, 0], dtype=jax.numpy.float64)\n"
   ]
  },
  {
   "cell_type": "code",
   "execution_count": 11,
   "metadata": {},
   "outputs": [],
   "source": [
    "def get_growth_kernel(oversample, /, growth=growth):\n",
    "    \"\"\"\n",
    "    Generates a growth kernel by expanding the growth season over the entire year as sampled by oversample. To work correctly this requires that oversample be divisible by twelve. \n",
    "\n",
    "    Parameters:\n",
    "    -----------\n",
    "    : oversample : The number of samples that are to be taken each year. Must be divisible by 12\n",
    "    : growth : A vector detailing which months contain growth. \n",
    "\n",
    "    Returns:\n",
    "    --------\n",
    "    : DeviceArray : The growth eason kernel to be applied to `bin_data`\n",
    "    \"\"\"\n",
    "    kernel = jax.numpy.diag(\n",
    "        growth) @ jax.numpy.ones((12, oversample // 12), dtype=jax.numpy.float64)\n",
    "    # each row in kernel represents a month of the year.\n",
    "    kernel = kernel.flatten()\n",
    "    return kernel\n"
   ]
  },
  {
   "cell_type": "code",
   "execution_count": 12,
   "metadata": {},
   "outputs": [],
   "source": [
    "@jax.tree_util.Partial\n",
    "@jax.jit\n",
    "def log_likelihood(args, /, data=data, func=None, bin=bin_data, y0=STEADY_STATE, time_out=None, kernel=None):\n",
    "    \"\"\"\n",
    "    Calculates the log likelihood of the model given the data. This is done using the $\\chi^{2}$ statistic.\n",
    "\n",
    "    Parameters:\n",
    "    -----------\n",
    "    : args : The parameters to the production function\n",
    "    : data : The data collected in the field\n",
    "    : func : The numerical or analytic solver that is to be used\n",
    "    : bin : The binning function that is to be used\n",
    "    : y0 : The initial state of the system\n",
    "    : time_out : The grid that `func` is to sample on\n",
    "    : kernel : The growth kernel associated with `time_out`\n",
    "\n",
    "    Returns:\n",
    "    --------\n",
    "    : DeviceArray : The log likelihood as determined using the chis squared statistic \n",
    "    \"\"\"\n",
    "    solution = func(y0, time_out, args)\n",
    "    solution = bin(solution, kernel)\n",
    "    solution = (solution - STEADY_STATE[1]) / STEADY_STATE[1]\n",
    "    solution += jax.numpy.mean(data[1][:4])\n",
    "    chi_squared = (solution - data[1]) ** 2 / data[2] ** 2\n",
    "    return - 0.5 * jax.numpy.sum(chi_squared)\n"
   ]
  },
  {
   "cell_type": "code",
   "execution_count": 13,
   "metadata": {},
   "outputs": [],
   "source": [
    "jac_binned = jax.jit(jax.grad(log_likelihood))\n",
    "hes_binned = jax.jit(jax.jacobian(jac_binned))\n"
   ]
  },
  {
   "cell_type": "code",
   "execution_count": 14,
   "metadata": {},
   "outputs": [],
   "source": [
    "oversample = 48\n",
    "time_out = jax.numpy.linspace(data[0].min(), data[0].max() + 2, (data[0].size) * oversample)\n",
    "kernel = get_growth_kernel(oversample)\n"
   ]
  },
  {
   "cell_type": "code",
   "execution_count": 15,
   "metadata": {},
   "outputs": [
    {
     "name": "stdout",
     "output_type": "stream",
     "text": [
      "446 µs ± 117 µs per loop (mean ± std. dev. of 7 runs, 1 loop each)\n"
     ]
    }
   ],
   "source": [
    "% % timeit\n",
    "log_likelihood(parameters, func=jax_solve, kernel=kernel, time_out=time_out)\n"
   ]
  },
  {
   "cell_type": "code",
   "execution_count": 16,
   "metadata": {},
   "outputs": [
    {
     "name": "stdout",
     "output_type": "stream",
     "text": [
      "5.52 ms ± 725 µs per loop (mean ± std. dev. of 7 runs, 1 loop each)\n"
     ]
    }
   ],
   "source": [
    "% % timeit\n",
    "jac_binned(parameters, func=jax_solve, kernel=kernel, time_out=time_out)\n"
   ]
  },
  {
   "cell_type": "code",
   "execution_count": 17,
   "metadata": {},
   "outputs": [
    {
     "name": "stdout",
     "output_type": "stream",
     "text": [
      "463 ms ± 28.2 ms per loop (mean ± std. dev. of 7 runs, 1 loop each)\n"
     ]
    }
   ],
   "source": [
    "% % timeit\n",
    "hes_binned(parameters, func=jax_solve, kernel=kernel, time_out=time_out)\n"
   ]
  },
  {
   "cell_type": "code",
   "execution_count": 18,
   "metadata": {},
   "outputs": [],
   "source": [
    "import numpyro"
   ]
  },
  {
   "cell_type": "code",
   "execution_count": 22,
   "metadata": {},
   "outputs": [],
   "source": [
    "@jax.tree_util.Partial\n",
    "@jax.jit\n",
    "def potential_function(args, /, data=data, func=jax_solve, bin=bin_data, y0=STEADY_STATE, time_out=time_out, kernel=kernel):\n",
    "    \"\"\"\n",
    "    Calculates the log likelihood of the model given the data. This is done using the $\\chi^{2}$ statistic.\n",
    "\n",
    "    Parameters:\n",
    "    -----------\n",
    "    : args : The parameters to the production function\n",
    "    : data : The data collected in the field\n",
    "    : func : The numerical or analytic solver that is to be used\n",
    "    : bin : The binning function that is to be used\n",
    "    : y0 : The initial state of the system\n",
    "    : time_out : The grid that `func` is to sample on\n",
    "    : kernel : The growth kernel associated with `time_out`\n",
    "\n",
    "    Returns:\n",
    "    --------\n",
    "    : DeviceArray : The log likelihood as determined using the chis squared statistic \n",
    "    \"\"\"\n",
    "    solution = func(y0, time_out, args)\n",
    "    solution = bin(solution, kernel)\n",
    "    solution = (solution - STEADY_STATE[1]) / STEADY_STATE[1]\n",
    "    solution += jax.numpy.mean(data[1][:4])\n",
    "    chi_squared = (solution - data[1]) ** 2 / data[2] ** 2\n",
    "    return 0.5 * jax.numpy.sum(chi_squared)"
   ]
  },
  {
   "cell_type": "code",
   "execution_count": 23,
   "metadata": {},
   "outputs": [
    {
     "name": "stderr",
     "output_type": "stream",
     "text": [
      "warmup:   0%|          | 1/600 [00:06<1:08:14,  6.84s/it, 31 steps of size 1.08e+01. acc. prob=0.84]"
     ]
    }
   ],
   "source": [
    "# Running the No U Turn sampling\n",
    "nuts_kernel = numpyro.infer.NUTS(potential_fn=potential_function)\n",
    "mcmc = numpyro.infer.MCMC(nuts_kernel, num_warmup=100, num_samples=500, progress_bar=True)\n",
    "mcmc.run(jax.random.PRNGKey(11), init_params=parameters)"
   ]
  },
  {
   "cell_type": "code",
   "execution_count": null,
   "metadata": {},
   "outputs": [],
   "source": []
  }
 ],
 "metadata": {
  "interpreter": {
   "hash": "ab79d763119790aea00e8eaeb5d3be48434571919ae202ec38e1b7aefb77c6d3"
  },
  "kernelspec": {
   "display_name": "Python 3.9.0 ('kitkat')",
   "language": "python",
   "name": "python3"
  },
  "language_info": {
   "codemirror_mode": {
    "name": "ipython",
    "version": 3
   },
   "file_extension": ".py",
   "mimetype": "text/x-python",
   "name": "python",
   "nbconvert_exporter": "python",
   "pygments_lexer": "ipython3",
   "version": "3.9.7"
  },
  "orig_nbformat": 4
 },
 "nbformat": 4,
 "nbformat_minor": 2
}
