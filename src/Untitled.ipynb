{
 "cells": [
  {
   "cell_type": "code",
   "execution_count": 12,
   "id": "c18100af",
   "metadata": {},
   "outputs": [],
   "source": [
    "import h5py\n",
    "import os\n",
    "import jax"
   ]
  },
  {
   "cell_type": "code",
   "execution_count": 7,
   "id": "3a4604c5",
   "metadata": {},
   "outputs": [],
   "source": [
    "model = h5py.File(f\"{os.getcwd()}/data/Guttler15.hd5\")"
   ]
  },
  {
   "cell_type": "code",
   "execution_count": 18,
   "id": "6edef09b",
   "metadata": {},
   "outputs": [],
   "source": [
    "test = jax.numpy.array([1] * 4)"
   ]
  },
  {
   "cell_type": "code",
   "execution_count": 21,
   "id": "fac9de5d",
   "metadata": {},
   "outputs": [
    {
     "data": {
      "text/plain": [
       "(4,)"
      ]
     },
     "execution_count": 21,
     "metadata": {},
     "output_type": "execute_result"
    }
   ],
   "source": [
    "jax.numpy.transpose(test).shape"
   ]
  },
  {
   "cell_type": "code",
   "execution_count": null,
   "id": "6dba1ada",
   "metadata": {},
   "outputs": [],
   "source": []
  }
 ],
 "metadata": {
  "kernelspec": {
   "display_name": "Python 3.9.0 64-bit ('kitkat': conda)",
   "language": "python",
   "name": "python390jvsc74a57bd0ab79d763119790aea00e8eaeb5d3be48434571919ae202ec38e1b7aefb77c6d3"
  },
  "language_info": {
   "codemirror_mode": {
    "name": "ipython",
    "version": 3
   },
   "file_extension": ".py",
   "mimetype": "text/x-python",
   "name": "python",
   "nbconvert_exporter": "python",
   "pygments_lexer": "ipython3",
   "version": "3.9.7"
  }
 },
 "nbformat": 4,
 "nbformat_minor": 5
}
