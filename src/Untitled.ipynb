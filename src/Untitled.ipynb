{
 "cells": [
  {
   "cell_type": "code",
   "execution_count": 1,
   "id": "84b90728",
   "metadata": {},
   "outputs": [],
   "source": [
    "import os\n",
    "import jax"
   ]
  },
  {
   "cell_type": "code",
   "execution_count": 3,
   "id": "b36b5637",
   "metadata": {},
   "outputs": [],
   "source": [
    "import quicktack\n",
    "import ticktack"
   ]
  },
  {
   "cell_type": "code",
   "execution_count": 4,
   "id": "409c2f71",
   "metadata": {},
   "outputs": [],
   "source": [
    "@jax.jit\n",
    "def production(t, *args):\n",
    "    \"\"\"\n",
    "    This is the production term of the carbon box model. This production function contains a sinusoidal solar term and a super-gaussian event. \n",
    "\n",
    "    Parameters:\n",
    "    -----------\n",
    "    : t : The time dependence of the production \n",
    "    : args : The parameters of the solar amplitude function and the event\n",
    "\n",
    "    Returns:\n",
    "    --------\n",
    "    : DeviceArray : The production at the time t \n",
    "    \"\"\"\n",
    "    start_time, duration, phase, area = jax.numpy.array(args)\n",
    "    middle = start_time + duration / 2.\n",
    "    height = area / duration\n",
    "\n",
    "    gauss = height * \\\n",
    "        jax.numpy.exp(- ((t - middle) / (1. / 1.93516 * duration)) ** 16.)\n",
    "    sine = 1.8803862513018528 + 0.18 * 1.8803862513018528 *\\\n",
    "        jax.numpy.sin(2 * jax.numpy.pi / 11 * t +\n",
    "                      phase * 2 * jax.numpy.pi / 11)\n",
    "\n",
    "    return (sine + gauss) * 3.747273140033743"
   ]
  },
  {
   "cell_type": "code",
   "execution_count": 5,
   "id": "968b6f03",
   "metadata": {},
   "outputs": [],
   "source": [
    "time = jax.numpy.linspace(0, 100, 100)\n",
    "args = (774.86, 0.25, 0.8, 6.44)"
   ]
  },
  {
   "cell_type": "code",
   "execution_count": 6,
   "id": "36e905d3",
   "metadata": {},
   "outputs": [],
   "source": [
    "test = quicktack.load(f\"{os.getcwd()}/data/Guttler15.hd5\")"
   ]
  },
  {
   "cell_type": "code",
   "execution_count": 7,
   "id": "2a202d72",
   "metadata": {},
   "outputs": [],
   "source": [
    "test.equilibrate()"
   ]
  },
  {
   "cell_type": "code",
   "execution_count": 10,
   "id": "6926a763",
   "metadata": {},
   "outputs": [
    {
     "name": "stdout",
     "output_type": "stream",
     "text": [
      "6.1 ms ± 444 µs per loop (mean ± std. dev. of 7 runs, 100 loops each)\n"
     ]
    }
   ],
   "source": [
    "%%timeit\n",
    "test.run(production, time, test._equilibrium, args)"
   ]
  },
  {
   "cell_type": "code",
   "execution_count": 30,
   "id": "faf3f2e5",
   "metadata": {},
   "outputs": [],
   "source": [
    "model = ticktack.load_presaved_model(\"Guttler15\", production_rate_units=\"atoms/cm^2/s\")\n",
    "model.compile()"
   ]
  },
  {
   "cell_type": "code",
   "execution_count": 31,
   "id": "2afa27bb",
   "metadata": {},
   "outputs": [],
   "source": [
    "equilibrium = model.equilibrate(production_rate=1.88)"
   ]
  },
  {
   "cell_type": "code",
   "execution_count": 35,
   "id": "a0108a75",
   "metadata": {},
   "outputs": [
    {
     "name": "stdout",
     "output_type": "stream",
     "text": [
      "6.53 ms ± 402 µs per loop (mean ± std. dev. of 7 runs, 100 loops each)\n"
     ]
    }
   ],
   "source": [
    "%%timeit\n",
    "model.run(time, production, equilibrium, args, steady_state_production=1.88)"
   ]
  },
  {
   "cell_type": "code",
   "execution_count": null,
   "id": "7af5ee43",
   "metadata": {},
   "outputs": [],
   "source": []
  }
 ],
 "metadata": {
  "kernelspec": {
   "display_name": "Python 3.9.0 64-bit ('kitkat': conda)",
   "language": "python",
   "name": "python390jvsc74a57bd0ab79d763119790aea00e8eaeb5d3be48434571919ae202ec38e1b7aefb77c6d3"
  },
  "language_info": {
   "codemirror_mode": {
    "name": "ipython",
    "version": 3
   },
   "file_extension": ".py",
   "mimetype": "text/x-python",
   "name": "python",
   "nbconvert_exporter": "python",
   "pygments_lexer": "ipython3",
   "version": "3.9.7"
  }
 },
 "nbformat": 4,
 "nbformat_minor": 5
}
