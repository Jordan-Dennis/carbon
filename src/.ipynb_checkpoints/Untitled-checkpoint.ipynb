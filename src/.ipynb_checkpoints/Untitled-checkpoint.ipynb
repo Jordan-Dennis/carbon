{
 "cells": [
  {
   "cell_type": "code",
   "execution_count": 16,
   "id": "84b90728",
   "metadata": {},
   "outputs": [],
   "source": [
    "import os\n",
    "import jax"
   ]
  },
  {
   "cell_type": "code",
   "execution_count": 17,
   "id": "b36b5637",
   "metadata": {},
   "outputs": [],
   "source": [
    "import quicktack\n",
    "import ticktack\n",
    "import quickquack"
   ]
  },
  {
   "cell_type": "code",
   "execution_count": 18,
   "id": "409c2f71",
   "metadata": {},
   "outputs": [],
   "source": [
    "@jax.jit\n",
    "def production(t, *args):\n",
    "    \"\"\"\n",
    "    This is the production term of the carbon box model. This production function contains a sinusoidal solar term and a super-gaussian event. \n",
    "\n",
    "    Parameters:\n",
    "    -----------\n",
    "    : t : The time dependence of the production \n",
    "    : args : The parameters of the solar amplitude function and the event\n",
    "\n",
    "    Returns:\n",
    "    --------\n",
    "    : DeviceArray : The production at the time t \n",
    "    \"\"\"\n",
    "    start_time, duration, phase, area = jax.numpy.array(args)\n",
    "    middle = start_time + duration / 2.\n",
    "    height = area / duration\n",
    "\n",
    "    gauss = height * \\\n",
    "        jax.numpy.exp(- ((t - middle) / (1. / 1.93516 * duration)) ** 16.)\n",
    "    sine = 1.8803862513018528 + 0.18 * 1.8803862513018528 *\\\n",
    "        jax.numpy.sin(2 * jax.numpy.pi / 11 * t +\n",
    "                      phase * 2 * jax.numpy.pi / 11)\n",
    "\n",
    "    return (sine + gauss) * 3.747273140033743"
   ]
  },
  {
   "cell_type": "code",
   "execution_count": 19,
   "id": "968b6f03",
   "metadata": {},
   "outputs": [],
   "source": [
    "time = jax.numpy.linspace(0, 100, 1000)\n",
    "args = (774.86, 0.25, 0.8, 6.44)"
   ]
  },
  {
   "cell_type": "markdown",
   "id": "c8f70337",
   "metadata": {},
   "source": [
    "The next few are based on the new structure"
   ]
  },
  {
   "cell_type": "code",
   "execution_count": 20,
   "id": "15902895",
   "metadata": {},
   "outputs": [],
   "source": [
    "test = quicktack.load(f\"{os.getcwd()}/data/Guttler15.hd5\")\n",
    "test.equilibrate()"
   ]
  },
  {
   "cell_type": "code",
   "execution_count": 26,
   "id": "36e905d3",
   "metadata": {},
   "outputs": [
    {
     "name": "stdout",
     "output_type": "stream",
     "text": [
      "6.1 ms ± 364 µs per loop (mean ± std. dev. of 7 runs, 100 loops each)\n"
     ]
    }
   ],
   "source": [
    "%%timeit\n",
    "result = test.run(production, time, test._equilibrium, args)"
   ]
  },
  {
   "cell_type": "markdown",
   "id": "82d81c94",
   "metadata": {},
   "source": [
    "The next is vanilla ticktack"
   ]
  },
  {
   "cell_type": "code",
   "execution_count": 23,
   "id": "f0298ff2",
   "metadata": {},
   "outputs": [],
   "source": [
    "model = ticktack.load_presaved_model(\"Guttler15\", production_rate_units=\"atoms/cm^2/s\")\n",
    "model.compile()\n",
    "equilibrium = model.equilibrate(production_rate=1.88)"
   ]
  },
  {
   "cell_type": "code",
   "execution_count": 25,
   "id": "5f0f565b",
   "metadata": {},
   "outputs": [
    {
     "name": "stdout",
     "output_type": "stream",
     "text": [
      "6.31 ms ± 356 µs per loop (mean ± std. dev. of 7 runs, 100 loops each)\n"
     ]
    }
   ],
   "source": [
    "%%timeit\n",
    "other = model.run(time, production, equilibrium, args, steady_state_production=1.88)"
   ]
  },
  {
   "cell_type": "markdown",
   "id": "94d65263",
   "metadata": {},
   "source": [
    "The final is modified ticktack"
   ]
  },
  {
   "cell_type": "code",
   "execution_count": null,
   "id": "088e52b4",
   "metadata": {},
   "outputs": [],
   "source": [
    "model = quickquack.load_presaved_model(\"Guttler15\", production_rate_units=\"atoms/cm^2/s\")\n",
    "model.compile()\n",
    "equilibrium = model.equilibrate(production_rate=1.88)"
   ]
  },
  {
   "cell_type": "code",
   "execution_count": 27,
   "id": "b1a14417",
   "metadata": {},
   "outputs": [
    {
     "name": "stdout",
     "output_type": "stream",
     "text": [
      "6.2 ms ± 355 µs per loop (mean ± std. dev. of 7 runs, 100 loops each)\n"
     ]
    }
   ],
   "source": [
    "%%timeit\n",
    "other = model.run(time, production, equilibrium, args, steady_state_production=1.88)"
   ]
  },
  {
   "cell_type": "code",
   "execution_count": null,
   "id": "1ba03e5b",
   "metadata": {},
   "outputs": [],
   "source": []
  }
 ],
 "metadata": {
  "kernelspec": {
   "display_name": "Python 3.9.0 64-bit ('kitkat': conda)",
   "language": "python",
   "name": "python390jvsc74a57bd0ab79d763119790aea00e8eaeb5d3be48434571919ae202ec38e1b7aefb77c6d3"
  },
  "language_info": {
   "codemirror_mode": {
    "name": "ipython",
    "version": 3
   },
   "file_extension": ".py",
   "mimetype": "text/x-python",
   "name": "python",
   "nbconvert_exporter": "python",
   "pygments_lexer": "ipython3",
   "version": "3.9.7"
  }
 },
 "nbformat": 4,
 "nbformat_minor": 5
}
